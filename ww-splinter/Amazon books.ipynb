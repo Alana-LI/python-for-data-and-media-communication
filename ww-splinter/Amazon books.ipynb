{
 "cells": [
  {
   "cell_type": "markdown",
   "metadata": {},
   "source": [
    "https://www.amazon.cn/gp/bestsellers/books"
   ]
  },
  {
   "cell_type": "code",
   "execution_count": 1,
   "metadata": {},
   "outputs": [
    {
     "data": {
      "text/html": [
       "\n",
       "<iframe src=\"amazonbook.html\" width=100% height=500px>\n"
      ],
      "text/plain": [
       "<IPython.core.display.HTML object>"
      ]
     },
     "execution_count": 1,
     "metadata": {},
     "output_type": "execute_result"
    }
   ],
   "source": [
    "from IPython.display import HTML\n",
    "import requests\n",
    "r = requests.get('https://www.amazon.cn/gp/bestsellers/books')\n",
    "open('amazonbook.html', 'w').write(r.text)\n",
    "HTML('''\n",
    "<iframe src=\"amazonbook.html\" width=100% height=500px>\n",
    "''')"
   ]
  },
  {
   "cell_type": "markdown",
   "metadata": {},
   "source": [
    "This is a static page (frontpage). However, it uses \"URI fragment\" for pagination. i.e. the content after `#`. This piece of string is not sent to server or parsed by the server. It is analysed by browser so some javascript will trigger loading of more data. This is a typical case where you need to handle dynamic crawling.\n",
    "\n",
    "Page 4 URL looks like this: https://www.amazon.cn/gp/bestsellers/books#4"
   ]
  },
  {
   "cell_type": "code",
   "execution_count": 2,
   "metadata": {},
   "outputs": [
    {
     "data": {
      "text/html": [
       "\n",
       "<iframe src=\"amazonbook.html\" width=100% height=500px>\n"
      ],
      "text/plain": [
       "<IPython.core.display.HTML object>"
      ]
     },
     "execution_count": 2,
     "metadata": {},
     "output_type": "execute_result"
    }
   ],
   "source": [
    "r = requests.get('https://www.amazon.cn/gp/bestsellers/books#4')\n",
    "open('amazonbook.html', 'w').write(r.text)\n",
    "HTML('''\n",
    "<iframe src=\"amazonbook.html\" width=100% height=500px>\n",
    "''')"
   ]
  },
  {
   "cell_type": "markdown",
   "metadata": {},
   "source": [
    "You always see the first page because `requests.get` just ignore the parameter after `#`"
   ]
  },
  {
   "cell_type": "code",
   "execution_count": 3,
   "metadata": {},
   "outputs": [],
   "source": [
    "import splinter"
   ]
  },
  {
   "cell_type": "code",
   "execution_count": null,
   "metadata": {},
   "outputs": [],
   "source": [
    "from splinter import Browser\n",
    "import time\n",
    "\n",
    "browser = Browser()\n",
    "# Visit URL\n",
    "url = \"https://www.amazon.cn/gp/bestsellers/books#4\"\n",
    "browser.visit(url)\n",
    "# You need to wait for some time for the page to be fully loaded\n",
    "time.sleep(2)"
   ]
  },
  {
   "cell_type": "code",
   "execution_count": null,
   "metadata": {},
   "outputs": [],
   "source": [
    "#browser.html"
   ]
  },
  {
   "cell_type": "code",
   "execution_count": null,
   "metadata": {},
   "outputs": [],
   "source": [
    "#open('amazonbook.html', 'w').write(browser.html)\n",
    "#HTML('''\n",
    "#<iframe src=\"amazonbook.html\" width=100% height=500px>\n",
    "#''')"
   ]
  },
  {
   "cell_type": "code",
   "execution_count": null,
   "metadata": {},
   "outputs": [],
   "source": [
    "from bs4 import BeautifulSoup\n",
    "import pandas as pd"
   ]
  },
  {
   "cell_type": "code",
   "execution_count": null,
   "metadata": {},
   "outputs": [],
   "source": [
    "mypage = BeautifulSoup(browser.html)"
   ]
  },
  {
   "cell_type": "code",
   "execution_count": null,
   "metadata": {},
   "outputs": [],
   "source": [
    "items = []\n",
    "for row in mypage.find_all('div', attrs={'class': 'zg_itemRow'}):\n",
    "    item = {}\n",
    "    item['No.'] = row.find('span', attrs={'class': 'zg_rankNumber'}).text.strip()\n",
    "    item['title'] = row.find('div', attrs={'class': 'p13n-sc-truncated'}).text.strip()\n",
    "    item['author'] = row.find('div', attrs={'class': 'a-row'}).text.strip()\n",
    "    items.append(item)\n",
    "df = pd.DataFrame(items)\n",
    "df"
   ]
  },
  {
   "cell_type": "code",
   "execution_count": null,
   "metadata": {},
   "outputs": [],
   "source": [
    "# Call the following line to quit browser.\n",
    "# If you use the \"with\" statement, the browser will be automatically closed when leaving that scope\n",
    "browser.quit()"
   ]
  },
  {
   "cell_type": "code",
   "execution_count": null,
   "metadata": {},
   "outputs": [],
   "source": [
    "def scrape_one_page(url):\n",
    "    items = []\n",
    "    with Browser() as browser:\n",
    "        # Visit URL\n",
    "        #url = \"https://www.amazon.cn/gp/bestsellers/books#4\"\n",
    "        browser.visit(url)\n",
    "        # You need to wait for some time for the page to be fully loaded\n",
    "        time.sleep(2)\n",
    "        \n",
    "        for row in mypage.find_all('div', attrs={'class': 'zg_itemRow'}):\n",
    "            item = {}\n",
    "            item['No.'] = row.find('span', attrs={'class': 'zg_rankNumber'}).text.strip()\n",
    "            item['title'] = row.find('div', attrs={'class': 'p13n-sc-truncated'}).text.strip()\n",
    "            item['author'] = row.find('div', attrs={'class': 'a-row'}).text.strip()\n",
    "            items.append(item)\n",
    "    return items\n"
   ]
  },
  {
   "cell_type": "code",
   "execution_count": null,
   "metadata": {},
   "outputs": [],
   "source": [
    "all_page_items = []\n",
    "for i in range(5):\n",
    "    new_items = scrape_one_page('https://www.amazon.cn/gp/bestsellers/books#%s' % i)\n",
    "    all_page_items.extend(new_items)"
   ]
  },
  {
   "cell_type": "markdown",
   "metadata": {},
   "source": [
    "When you execute the above code, you will see your browser pop up 5 times!"
   ]
  },
  {
   "cell_type": "code",
   "execution_count": null,
   "metadata": {},
   "outputs": [],
   "source": [
    "df = pd.DataFrame(all_page_items)\n",
    "df"
   ]
  },
  {
   "cell_type": "code",
   "execution_count": null,
   "metadata": {},
   "outputs": [],
   "source": [
    "len(df)"
   ]
  },
  {
   "cell_type": "code",
   "execution_count": null,
   "metadata": {},
   "outputs": [],
   "source": []
  }
 ],
 "metadata": {
  "kernelspec": {
   "display_name": "Python 3",
   "language": "python",
   "name": "python3"
  },
  "language_info": {
   "codemirror_mode": {
    "name": "ipython",
    "version": 3
   },
   "file_extension": ".py",
   "mimetype": "text/x-python",
   "name": "python",
   "nbconvert_exporter": "python",
   "pygments_lexer": "ipython3",
   "version": "3.6.4"
  }
 },
 "nbformat": 4,
 "nbformat_minor": 2
}
