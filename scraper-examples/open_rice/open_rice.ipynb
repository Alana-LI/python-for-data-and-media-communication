{
 "cells": [
  {
   "cell_type": "code",
   "execution_count": null,
   "metadata": {},
   "outputs": [],
   "source": [
    "# coding: utf-8\n",
    "\n",
    "import requests\n",
    "import csv\n",
    "from bs4 import BeautifulSoup\n",
    "\n",
    "\n",
    "def get_the_page(url):\n",
    "    \n",
    "    r = requests.get(url,headers={'User-Agent': 'Mozilla/5.0 (Macintosh; Intel Mac OS X 10_10_5) AppleWebKit/537.36 (KHTML, like Gecko) Chrome/65.0.3325.181 Safari/537.36'})\n",
    "    html_str = r.text\n",
    "    mypage = BeautifulSoup(html_str,\"html.parser\")\n",
    "    \n",
    "    myitems = mypage.find_all('li',attrs={'class':'sr1-listing-content-cell pois-restaurant-list-cell '})\n",
    "    \n",
    "    titles = []\n",
    "    likes = []\n",
    "    locations = []\n",
    "    prices = []\n",
    "    countries=[]\n",
    "    styles=[]\n",
    "    for myitem in myitems:\n",
    "        \n",
    "        titles.append(myitem.find('h2').text.strip())\n",
    "             \n",
    "        like=myitem.find('span',attrs={'class':'score score-big highlight'})\n",
    "        if like is not None:       #some item doesn't have like or other features\n",
    "            likes.append(like.text)\n",
    "        else:\n",
    "            like = '0'\n",
    "            likes.append(like)\n",
    "    \n",
    "        locations.append(myitem.find('div',attrs={'class':'icon-info address'}).find('span').text.strip())\n",
    "    \n",
    "        prices.append(myitem.find('div',attrs={'class': 'icon-info icon-info-food-price'}).find('span').text)\n",
    "\n",
    "    countries_materials=mypage.find_all(\"ul\",attrs={'class':'pois-categoryui-list'})\n",
    "    country_material=[]\n",
    "    for material in countries_materials:\n",
    "        country_material.append(material.find_all('li'))\n",
    "\n",
    "    for li in country_material:\n",
    "        countries.append(li[0].text.strip())\n",
    "        if len(li)>1:\n",
    "            styles.append(li[1].text.strip())\n",
    "        else:\n",
    "            styles.append(li[0].text.strip())\n",
    "\n",
    "    page_content=[]\n",
    "    for i in range(0,len(titles)):\n",
    "        page_content.append([titles[i],locations[i],prices[i],countries[i],styles[i],likes[i]])\n",
    " \n",
    "    return page_content\n",
    "    "
   ]
  },
  {
   "cell_type": "code",
   "execution_count": null,
   "metadata": {},
   "outputs": [],
   "source": [
    "url_page1='https://www.openrice.com/zh/hongkong/restaurants?Seat=2&BookingDate=2018-09-21&BookingPeriod=Dinner'\n",
    "\n",
    "page1 = get_the_page(url_page1)\n",
    "\n",
    "page_next=[]\n",
    "for q in range(1,20):\n",
    "    page_number=str(q+1)\n",
    "    url_next=url_page1 + \"&page=\" + page_number\n",
    "    page_next.extend(get_the_page(url_next))\n",
    "    \n",
    "page_all=page1+page_next\n",
    "#page_all"
   ]
  },
  {
   "cell_type": "code",
   "execution_count": 96,
   "metadata": {},
   "outputs": [],
   "source": [
    "with open('oepn_rice.csv','w') as f:\n",
    "    writer = csv.writer(f)\n",
    "    header = ['Name','Location','Price','Region','Style','Likes']\n",
    "    writer.writerow(header)\n",
    "    writer.writerows(page_all)"
   ]
  }
 ],
 "metadata": {
  "kernelspec": {
   "display_name": "Python 3",
   "language": "python",
   "name": "python3"
  },
  "language_info": {
   "codemirror_mode": {
    "name": "ipython",
    "version": 3
   },
   "file_extension": ".py",
   "mimetype": "text/x-python",
   "name": "python",
   "nbconvert_exporter": "python",
   "pygments_lexer": "ipython3",
   "version": "3.6.3"
  }
 },
 "nbformat": 4,
 "nbformat_minor": 2
}
