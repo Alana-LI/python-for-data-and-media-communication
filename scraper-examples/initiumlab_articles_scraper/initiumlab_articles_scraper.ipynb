{
 "cells": [
  {
   "cell_type": "code",
   "execution_count": 1,
   "metadata": {},
   "outputs": [],
   "source": [
    "import requests #week o4 request module\n",
    "import time\n",
    "from bs4 import BeautifulSoup #pay attention to its syntax\n",
    "import csv"
   ]
  },
  {
   "cell_type": "code",
   "execution_count": 2,
   "metadata": {},
   "outputs": [],
   "source": [
    "def scrape_one_article(article_url):  #scrape one articles features\n",
    "    r = requests.get(article_url).text\n",
    "    data = BeautifulSoup(r,\"html.parser\")\n",
    "    my_title = data.find('h1').text.strip()\n",
    "    my_date = data.find('time').text.strip()\n",
    "    my_authors = data.find('tr',attrs={'class':'post__authors'}).text.strip().replace('\\n',',')\n",
    "    my_tags = data.find('tr',attrs={'class':'post__tags'}).text.strip().replace(' ','').replace('\\n\\n\\n\\n\\n','|')\n",
    "    my_url = article_url\n",
    "    return my_title,my_authors,my_date,my_tags,my_url"
   ]
  },
  {
   "cell_type": "code",
   "execution_count": 3,
   "metadata": {},
   "outputs": [],
   "source": [
    "def scrape_articles_urls_of_one_page(article_page_url): #scrape_articles_urls_of_one_page\n",
    "    \n",
    "    article_urls = []\n",
    "    r = requests.get(article_page_url).text\n",
    "    data = BeautifulSoup(r,\"html.parser\")\n",
    "    my_urls = data.find_all('a',attrs={'class':'post__title-link js-read-more'}) #quiz try find ('a',attrs={'class':'post__title-link})\n",
    "    for my_url in my_urls:\n",
    "        url ='{0}blog{1}'.format('http://initiumlab.com/',my_url['href'].split('/blog')[-1]) #format urls. \n",
    "        # Fail try 1 : use slice to cut off ../../..\n",
    "        # Fail try 2 : use blog instead of /blog to split. There are blog in the headline\n",
    "        #print(url)\n",
    "        article_urls.append(url)\n",
    "        time.sleep(0.5)  # Max retrieve error\n",
    "    return article_urls"
   ]
  },
  {
   "cell_type": "code",
   "execution_count": 4,
   "metadata": {},
   "outputs": [],
   "source": [
    "articles = []\n",
    "article_urls = scrape_articles_urls_of_one_page('http://initiumlab.com/blog/') #scrape_articles_urls_of_page1\n",
    "for article_url in article_urls:\n",
    "    articles.append(scrape_one_article(article_url))\n",
    "\n",
    "with open('articles.csv','w',newline='') as f:\n",
    "    writer = csv.writer(f)\n",
    "    header = ['Titles','Authors','Dates','Tags','Url']\n",
    "    writer.writerow(header)\n",
    "    writer.writerows(articles)"
   ]
  },
  {
   "cell_type": "markdown",
   "metadata": {},
   "source": [
    "#### [O] scrapes all articles features of all pages"
   ]
  },
  {
   "cell_type": "code",
   "execution_count": 5,
   "metadata": {},
   "outputs": [],
   "source": [
    "def scrape_all_pages(url):            \n",
    "    articles=[]\n",
    "    for i in range(1,8):  #format all pages urls\n",
    "        if i == 1:\n",
    "            page_url = url\n",
    "        else:\n",
    "            page_url = '{url_initial}page/{number}/'.format(url_initial = url,number=i)\n",
    "            #print(page_url)\n",
    "            \n",
    "        article_urls = scrape_articles_urls_of_one_page(page_url)\n",
    "        for article_url in article_urls:\n",
    "            articles.append(scrape_one_article(article_url))\n",
    "\n",
    "    return(articles)"
   ]
  },
  {
   "cell_type": "code",
   "execution_count": 6,
   "metadata": {},
   "outputs": [],
   "source": [
    "with open('initiumlab_articles.csv','w',newline='') as f:\n",
    "    all_articles = scrape_all_pages('http://initiumlab.com/blog/')\n",
    "    writer = csv.writer(f)\n",
    "    header = ['Titles','Authors','Dates','Tags','Url']\n",
    "    writer.writerow(header)\n",
    "    writer.writerows(all_articles)"
   ]
  },
  {
   "cell_type": "code",
   "execution_count": null,
   "metadata": {},
   "outputs": [],
   "source": []
  }
 ],
 "metadata": {
  "kernelspec": {
   "display_name": "Python 3",
   "language": "python",
   "name": "python3"
  },
  "language_info": {
   "codemirror_mode": {
    "name": "ipython",
    "version": 3
   },
   "file_extension": ".py",
   "mimetype": "text/x-python",
   "name": "python",
   "nbconvert_exporter": "python",
   "pygments_lexer": "ipython3",
   "version": "3.6.3"
  }
 },
 "nbformat": 4,
 "nbformat_minor": 2
}
