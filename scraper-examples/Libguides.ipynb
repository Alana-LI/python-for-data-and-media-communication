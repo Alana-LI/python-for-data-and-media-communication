{
 "cells": [
  {
   "cell_type": "markdown",
   "metadata": {},
   "source": [
    "Key points:\n",
    "\n",
    "* Demo an exploratory workflow when doing web scraping\n",
    "* Use `selenium` with `chromedriver` to crawl the pages\n",
    "* Export the data to CSV using `pandas.DataFrame.to_csv()`\n",
    "* Use double loop to handle utexas page, one loop for category, one loop for subject\n",
    "\n",
    "\n",
    "# Libguides crawler"
   ]
  },
  {
   "cell_type": "markdown",
   "metadata": {},
   "source": [
    "Libguide is one standard type of documents curated and maintained by librarians regarding a certain topic. The topics can range from how to use library resource to structure of a specific academic subject. You can find databases, text books, exercises and projects from libguides. It is a good starting point when you enter a new area."
   ]
  },
  {
   "cell_type": "markdown",
   "metadata": {},
   "source": [
    "### Final result\n",
    "\n",
    "* [libguides/columbia.csv](libguides/columbia.csv) -- `(subject, link)`\n",
    "* [libguides/utexas.csv](libguides/utexas.csv) -- `(category, subject, link)`"
   ]
  },
  {
   "cell_type": "code",
   "execution_count": 70,
   "metadata": {},
   "outputs": [],
   "source": [
    "import pandas as pd"
   ]
  },
  {
   "cell_type": "markdown",
   "metadata": {},
   "source": [
    "## First try: columbia"
   ]
  },
  {
   "cell_type": "code",
   "execution_count": 47,
   "metadata": {},
   "outputs": [],
   "source": [
    "import requests\n",
    "from bs4 import BeautifulSoup\n",
    "from IPython.core.display import HTML"
   ]
  },
  {
   "cell_type": "code",
   "execution_count": 27,
   "metadata": {},
   "outputs": [],
   "source": [
    "content = requests.get('https://library.columbia.edu/subject-guides.html').text\n",
    "html = BeautifulSoup(content, 'lxml')"
   ]
  },
  {
   "cell_type": "code",
   "execution_count": 36,
   "metadata": {},
   "outputs": [],
   "source": [
    "#[a.text for a in html.find_all('a')]"
   ]
  },
  {
   "cell_type": "code",
   "execution_count": 34,
   "metadata": {},
   "outputs": [
    {
     "data": {
      "text/plain": [
       "''"
      ]
     },
     "execution_count": 34,
     "metadata": {},
     "output_type": "execute_result"
    }
   ],
   "source": [
    "#a.text"
   ]
  },
  {
   "cell_type": "code",
   "execution_count": 38,
   "metadata": {},
   "outputs": [
    {
     "data": {
      "text/plain": [
       "26523"
      ]
     },
     "execution_count": 38,
     "metadata": {},
     "output_type": "execute_result"
    }
   ],
   "source": [
    "open('libguides/columbia.html', 'w').write(content)"
   ]
  },
  {
   "cell_type": "code",
   "execution_count": 39,
   "metadata": {},
   "outputs": [
    {
     "data": {
      "text/html": [
       "\n",
       "<iframe width=100% src=\"libguides/columbia.html\"></iframe>\n"
      ],
      "text/plain": [
       "<IPython.core.display.HTML object>"
      ]
     },
     "execution_count": 39,
     "metadata": {},
     "output_type": "execute_result"
    }
   ],
   "source": [
    "HTML('''\n",
    "<iframe width=100% src=\"libguides/columbia.html\"></iframe>\n",
    "'''\n",
    ")"
   ]
  },
  {
   "cell_type": "markdown",
   "metadata": {},
   "source": [
    "## First try: utexas"
   ]
  },
  {
   "cell_type": "code",
   "execution_count": 40,
   "metadata": {},
   "outputs": [],
   "source": [
    "import requests\n",
    "from bs4 import BeautifulSoup"
   ]
  },
  {
   "cell_type": "code",
   "execution_count": 41,
   "metadata": {},
   "outputs": [],
   "source": [
    "content = requests.get('https://guides.lib.utexas.edu/?b=s').text"
   ]
  },
  {
   "cell_type": "code",
   "execution_count": 42,
   "metadata": {},
   "outputs": [],
   "source": [
    "html = BeautifulSoup(content, 'lxml')"
   ]
  },
  {
   "cell_type": "code",
   "execution_count": 43,
   "metadata": {},
   "outputs": [],
   "source": [
    "#html.find_all('a')"
   ]
  },
  {
   "cell_type": "code",
   "execution_count": 44,
   "metadata": {},
   "outputs": [
    {
     "data": {
      "text/plain": [
       "36605"
      ]
     },
     "execution_count": 44,
     "metadata": {},
     "output_type": "execute_result"
    }
   ],
   "source": [
    "open('libguides/utexas.html', 'w').write(content)"
   ]
  },
  {
   "cell_type": "code",
   "execution_count": 46,
   "metadata": {},
   "outputs": [
    {
     "data": {
      "text/html": [
       "\n",
       "<iframe width=100% src=\"libguides/utexas.html\"></iframe>\n"
      ],
      "text/plain": [
       "<IPython.core.display.HTML object>"
      ]
     },
     "execution_count": 46,
     "metadata": {},
     "output_type": "execute_result"
    }
   ],
   "source": [
    "HTML('''\n",
    "<iframe width=100% src=\"libguides/utexas.html\"></iframe>\n",
    "'''\n",
    ")"
   ]
  },
  {
   "cell_type": "markdown",
   "metadata": {},
   "source": [
    "## Observation"
   ]
  },
  {
   "cell_type": "markdown",
   "metadata": {},
   "source": [
    "Both sites use dynamic loading. So `requests` alone is not enough to retrieve the content. We need to use browser emulation."
   ]
  },
  {
   "cell_type": "markdown",
   "metadata": {},
   "source": [
    "## Use Selenium: columbia"
   ]
  },
  {
   "cell_type": "code",
   "execution_count": 50,
   "metadata": {},
   "outputs": [],
   "source": [
    "from selenium import webdriver  \n",
    "from selenium.common.exceptions import NoSuchElementException  \n",
    "import time  \n",
    "import re "
   ]
  },
  {
   "cell_type": "code",
   "execution_count": 51,
   "metadata": {},
   "outputs": [],
   "source": [
    "browser = webdriver.Chrome()"
   ]
  },
  {
   "cell_type": "code",
   "execution_count": 52,
   "metadata": {},
   "outputs": [],
   "source": [
    "browser.get('https://library.columbia.edu/subject-guides.html')"
   ]
  },
  {
   "cell_type": "code",
   "execution_count": 54,
   "metadata": {},
   "outputs": [],
   "source": [
    "el_subjects = browser.find_elements_by_css_selector('div#s-lg-widget-1497288984288 ul li a')"
   ]
  },
  {
   "cell_type": "code",
   "execution_count": 56,
   "metadata": {},
   "outputs": [],
   "source": [
    "e = el_subjects[0]"
   ]
  },
  {
   "cell_type": "code",
   "execution_count": 61,
   "metadata": {},
   "outputs": [
    {
     "data": {
      "text/plain": [
       "('Active Audience: Course guide',\n",
       " 'https://guides.library.columbia.edu/activeaudience')"
      ]
     },
     "execution_count": 61,
     "metadata": {},
     "output_type": "execute_result"
    }
   ],
   "source": [
    "e.text, e.get_attribute('href')"
   ]
  },
  {
   "cell_type": "code",
   "execution_count": 63,
   "metadata": {},
   "outputs": [],
   "source": [
    "subjects = [(e.text, e.get_attribute('href')) for e in el_subjects]"
   ]
  },
  {
   "cell_type": "code",
   "execution_count": 66,
   "metadata": {},
   "outputs": [
    {
     "data": {
      "text/plain": [
       "328"
      ]
     },
     "execution_count": 66,
     "metadata": {},
     "output_type": "execute_result"
    }
   ],
   "source": [
    "len(subjects)"
   ]
  },
  {
   "cell_type": "code",
   "execution_count": 67,
   "metadata": {},
   "outputs": [
    {
     "data": {
      "text/plain": [
       "('Active Audience: Course guide',\n",
       " 'https://guides.library.columbia.edu/activeaudience')"
      ]
     },
     "execution_count": 67,
     "metadata": {},
     "output_type": "execute_result"
    }
   ],
   "source": [
    "subjects[0]"
   ]
  },
  {
   "cell_type": "code",
   "execution_count": 68,
   "metadata": {},
   "outputs": [
    {
     "data": {
      "text/plain": [
       "('Zulu Language and Culture Acquisitions at Columbia',\n",
       " 'https://guides.library.columbia.edu/zulu-language')"
      ]
     },
     "execution_count": 68,
     "metadata": {},
     "output_type": "execute_result"
    }
   ],
   "source": [
    "subjects[-1]"
   ]
  },
  {
   "cell_type": "code",
   "execution_count": 69,
   "metadata": {},
   "outputs": [
    {
     "data": {
      "text/plain": [
       "('Decennial Census Information: 2000 Census',\n",
       " 'https://guides.library.columbia.edu/2000')"
      ]
     },
     "execution_count": 69,
     "metadata": {},
     "output_type": "execute_result"
    }
   ],
   "source": [
    "subjects[100]"
   ]
  },
  {
   "cell_type": "code",
   "execution_count": 73,
   "metadata": {},
   "outputs": [],
   "source": [
    "df_columbia = pd.DataFrame(subjects, columns=['Subject', 'Link'])"
   ]
  },
  {
   "cell_type": "code",
   "execution_count": 76,
   "metadata": {},
   "outputs": [
    {
     "data": {
      "text/html": [
       "<div>\n",
       "<style scoped>\n",
       "    .dataframe tbody tr th:only-of-type {\n",
       "        vertical-align: middle;\n",
       "    }\n",
       "\n",
       "    .dataframe tbody tr th {\n",
       "        vertical-align: top;\n",
       "    }\n",
       "\n",
       "    .dataframe thead th {\n",
       "        text-align: right;\n",
       "    }\n",
       "</style>\n",
       "<table border=\"1\" class=\"dataframe\">\n",
       "  <thead>\n",
       "    <tr style=\"text-align: right;\">\n",
       "      <th></th>\n",
       "      <th>Subject</th>\n",
       "      <th>Link</th>\n",
       "    </tr>\n",
       "  </thead>\n",
       "  <tbody>\n",
       "    <tr>\n",
       "      <th>0</th>\n",
       "      <td>Active Audience: Course guide</td>\n",
       "      <td>https://guides.library.columbia.edu/activeaudi...</td>\n",
       "    </tr>\n",
       "    <tr>\n",
       "      <th>1</th>\n",
       "      <td>Adriatic Romanticisms</td>\n",
       "      <td>https://guides.library.columbia.edu/romanticism</td>\n",
       "    </tr>\n",
       "    <tr>\n",
       "      <th>2</th>\n",
       "      <td>Advanced Investment Research: Course guide</td>\n",
       "      <td>https://guides.library.columbia.edu/AIR</td>\n",
       "    </tr>\n",
       "    <tr>\n",
       "      <th>3</th>\n",
       "      <td>Advanced Investment Research: Course guide</td>\n",
       "      <td>https://guides.library.columbia.edu/advinvestment</td>\n",
       "    </tr>\n",
       "    <tr>\n",
       "      <th>4</th>\n",
       "      <td>African Civilization (AFCV C1020)</td>\n",
       "      <td>https://guides.library.columbia.edu/AFCV-C1020...</td>\n",
       "    </tr>\n",
       "  </tbody>\n",
       "</table>\n",
       "</div>"
      ],
      "text/plain": [
       "                                      Subject  \\\n",
       "0               Active Audience: Course guide   \n",
       "1                       Adriatic Romanticisms   \n",
       "2  Advanced Investment Research: Course guide   \n",
       "3  Advanced Investment Research: Course guide   \n",
       "4           African Civilization (AFCV C1020)   \n",
       "\n",
       "                                                Link  \n",
       "0  https://guides.library.columbia.edu/activeaudi...  \n",
       "1    https://guides.library.columbia.edu/romanticism  \n",
       "2            https://guides.library.columbia.edu/AIR  \n",
       "3  https://guides.library.columbia.edu/advinvestment  \n",
       "4  https://guides.library.columbia.edu/AFCV-C1020...  "
      ]
     },
     "execution_count": 76,
     "metadata": {},
     "output_type": "execute_result"
    }
   ],
   "source": [
    "df_columbia.head()"
   ]
  },
  {
   "cell_type": "code",
   "execution_count": 75,
   "metadata": {},
   "outputs": [],
   "source": [
    "df_columbia.to_csv('libguides/columbia.csv')"
   ]
  },
  {
   "cell_type": "markdown",
   "metadata": {},
   "source": [
    "## Use Selenium: utexas"
   ]
  },
  {
   "cell_type": "code",
   "execution_count": 130,
   "metadata": {},
   "outputs": [],
   "source": [
    "browser.get('https://guides.lib.utexas.edu/?b=s')"
   ]
  },
  {
   "cell_type": "code",
   "execution_count": 131,
   "metadata": {},
   "outputs": [],
   "source": [
    "el_category = browser.find_elements_by_css_selector('div.panel.panel-default')[0]"
   ]
  },
  {
   "cell_type": "code",
   "execution_count": 132,
   "metadata": {},
   "outputs": [
    {
     "data": {
      "text/plain": [
       "'Accounting'"
      ]
     },
     "execution_count": 132,
     "metadata": {},
     "output_type": "execute_result"
    }
   ],
   "source": [
    "el_category.find_element_by_css_selector('div.bold').text"
   ]
  },
  {
   "cell_type": "code",
   "execution_count": 133,
   "metadata": {},
   "outputs": [],
   "source": [
    "el_category.click()"
   ]
  },
  {
   "cell_type": "code",
   "execution_count": 134,
   "metadata": {},
   "outputs": [],
   "source": [
    "el_a = el_category.find_elements_by_css_selector('ul.s-lg-guide-list li a')[0]"
   ]
  },
  {
   "cell_type": "code",
   "execution_count": 135,
   "metadata": {},
   "outputs": [
    {
     "data": {
      "text/plain": [
       "('\"Business Research Center\"', 'https://guides.lib.utexas.edu/BRC')"
      ]
     },
     "execution_count": 135,
     "metadata": {},
     "output_type": "execute_result"
    }
   ],
   "source": [
    "el_a.text, el_a.get_attribute('href')"
   ]
  },
  {
   "cell_type": "code",
   "execution_count": 136,
   "metadata": {},
   "outputs": [
    {
     "data": {
      "text/plain": [
       "'\"Business Research Center\"'"
      ]
     },
     "execution_count": 136,
     "metadata": {},
     "output_type": "execute_result"
    }
   ],
   "source": [
    "el_a.text"
   ]
  },
  {
   "cell_type": "code",
   "execution_count": 138,
   "metadata": {},
   "outputs": [],
   "source": [
    "subjects = []\n",
    "\n",
    "el_categories = browser.find_elements_by_css_selector('div.panel.panel-default')\n",
    "for el_category in el_categories:\n",
    "    category = el_category.find_element_by_css_selector('div.bold').text\n",
    "    \n",
    "    el_category.click()\n",
    "    time.sleep(1)\n",
    "    \n",
    "    el_as = el_category.find_elements_by_css_selector('ul.s-lg-guide-list li a')\n",
    "    for el_a in el_as:\n",
    "        subject = el_a.text\n",
    "        link = el_a.get_attribute('href')\n",
    "        subjects.append((category, subject, link))"
   ]
  },
  {
   "cell_type": "code",
   "execution_count": 139,
   "metadata": {},
   "outputs": [],
   "source": [
    "#subjects"
   ]
  },
  {
   "cell_type": "code",
   "execution_count": 140,
   "metadata": {},
   "outputs": [],
   "source": [
    "df_utexas = pd.DataFrame(subjects, columns=['Category', 'Subject', 'Link'])"
   ]
  },
  {
   "cell_type": "code",
   "execution_count": 142,
   "metadata": {},
   "outputs": [
    {
     "data": {
      "text/html": [
       "<div>\n",
       "<style scoped>\n",
       "    .dataframe tbody tr th:only-of-type {\n",
       "        vertical-align: middle;\n",
       "    }\n",
       "\n",
       "    .dataframe tbody tr th {\n",
       "        vertical-align: top;\n",
       "    }\n",
       "\n",
       "    .dataframe thead th {\n",
       "        text-align: right;\n",
       "    }\n",
       "</style>\n",
       "<table border=\"1\" class=\"dataframe\">\n",
       "  <thead>\n",
       "    <tr style=\"text-align: right;\">\n",
       "      <th></th>\n",
       "      <th>Category</th>\n",
       "      <th>Subject</th>\n",
       "      <th>Link</th>\n",
       "    </tr>\n",
       "  </thead>\n",
       "  <tbody>\n",
       "    <tr>\n",
       "      <th>0</th>\n",
       "      <td>Accounting</td>\n",
       "      <td>\"Business Research Center\"</td>\n",
       "      <td>https://guides.lib.utexas.edu/BRC</td>\n",
       "    </tr>\n",
       "    <tr>\n",
       "      <th>1</th>\n",
       "      <td>Accounting</td>\n",
       "      <td>Accounting &amp; Tax Research (ACC)</td>\n",
       "      <td>https://guides.lib.utexas.edu/ACC</td>\n",
       "    </tr>\n",
       "    <tr>\n",
       "      <th>2</th>\n",
       "      <td>Advertising</td>\n",
       "      <td>Advertising and Public Relations</td>\n",
       "      <td>https://guides.lib.utexas.edu/ADVPR</td>\n",
       "    </tr>\n",
       "    <tr>\n",
       "      <th>3</th>\n",
       "      <td>Aerospace Engineering</td>\n",
       "      <td>Aerospace Engineering</td>\n",
       "      <td>https://guides.lib.utexas.edu/aerospace</td>\n",
       "    </tr>\n",
       "    <tr>\n",
       "      <th>4</th>\n",
       "      <td>African American Studies</td>\n",
       "      <td>African and African American Studies</td>\n",
       "      <td>https://guides.lib.utexas.edu/AAAS</td>\n",
       "    </tr>\n",
       "  </tbody>\n",
       "</table>\n",
       "</div>"
      ],
      "text/plain": [
       "                   Category                               Subject  \\\n",
       "0                Accounting            \"Business Research Center\"   \n",
       "1                Accounting       Accounting & Tax Research (ACC)   \n",
       "2               Advertising      Advertising and Public Relations   \n",
       "3     Aerospace Engineering                 Aerospace Engineering   \n",
       "4  African American Studies  African and African American Studies   \n",
       "\n",
       "                                      Link  \n",
       "0        https://guides.lib.utexas.edu/BRC  \n",
       "1        https://guides.lib.utexas.edu/ACC  \n",
       "2      https://guides.lib.utexas.edu/ADVPR  \n",
       "3  https://guides.lib.utexas.edu/aerospace  \n",
       "4       https://guides.lib.utexas.edu/AAAS  "
      ]
     },
     "execution_count": 142,
     "metadata": {},
     "output_type": "execute_result"
    }
   ],
   "source": [
    "df_utexas.head()"
   ]
  },
  {
   "cell_type": "code",
   "execution_count": 143,
   "metadata": {},
   "outputs": [
    {
     "data": {
      "text/html": [
       "<div>\n",
       "<style scoped>\n",
       "    .dataframe tbody tr th:only-of-type {\n",
       "        vertical-align: middle;\n",
       "    }\n",
       "\n",
       "    .dataframe tbody tr th {\n",
       "        vertical-align: top;\n",
       "    }\n",
       "\n",
       "    .dataframe thead th {\n",
       "        text-align: right;\n",
       "    }\n",
       "</style>\n",
       "<table border=\"1\" class=\"dataframe\">\n",
       "  <thead>\n",
       "    <tr style=\"text-align: right;\">\n",
       "      <th></th>\n",
       "      <th>Category</th>\n",
       "      <th>Subject</th>\n",
       "      <th>Link</th>\n",
       "    </tr>\n",
       "  </thead>\n",
       "  <tbody>\n",
       "    <tr>\n",
       "      <th>495</th>\n",
       "      <td>Women's and Gender Studies</td>\n",
       "      <td>Disability Studies</td>\n",
       "      <td>https://guides.lib.utexas.edu/disabilitystudies</td>\n",
       "    </tr>\n",
       "    <tr>\n",
       "      <th>496</th>\n",
       "      <td>Women's and Gender Studies</td>\n",
       "      <td>LGBTQA+ Studies</td>\n",
       "      <td>https://guides.lib.utexas.edu/lgbtq</td>\n",
       "    </tr>\n",
       "    <tr>\n",
       "      <th>497</th>\n",
       "      <td>Women's and Gender Studies</td>\n",
       "      <td>Women's &amp; Gender Studies</td>\n",
       "      <td>https://guides.lib.utexas.edu/wgs</td>\n",
       "    </tr>\n",
       "    <tr>\n",
       "      <th>498</th>\n",
       "      <td>Yiddish</td>\n",
       "      <td>Hebrew / Jewish / Israel Studies</td>\n",
       "      <td>https://guides.lib.utexas.edu/hebrew-jewish-is...</td>\n",
       "    </tr>\n",
       "    <tr>\n",
       "      <th>499</th>\n",
       "      <td>Youth Literature</td>\n",
       "      <td>Youth Literature</td>\n",
       "      <td>https://guides.lib.utexas.edu/youthlit</td>\n",
       "    </tr>\n",
       "  </tbody>\n",
       "</table>\n",
       "</div>"
      ],
      "text/plain": [
       "                       Category                           Subject  \\\n",
       "495  Women's and Gender Studies                Disability Studies   \n",
       "496  Women's and Gender Studies                   LGBTQA+ Studies   \n",
       "497  Women's and Gender Studies          Women's & Gender Studies   \n",
       "498                     Yiddish  Hebrew / Jewish / Israel Studies   \n",
       "499            Youth Literature                  Youth Literature   \n",
       "\n",
       "                                                  Link  \n",
       "495    https://guides.lib.utexas.edu/disabilitystudies  \n",
       "496                https://guides.lib.utexas.edu/lgbtq  \n",
       "497                  https://guides.lib.utexas.edu/wgs  \n",
       "498  https://guides.lib.utexas.edu/hebrew-jewish-is...  \n",
       "499             https://guides.lib.utexas.edu/youthlit  "
      ]
     },
     "execution_count": 143,
     "metadata": {},
     "output_type": "execute_result"
    }
   ],
   "source": [
    "df_utexas.tail()"
   ]
  },
  {
   "cell_type": "code",
   "execution_count": 144,
   "metadata": {},
   "outputs": [],
   "source": [
    "df_utexas.to_csv('libguides/utexas.csv')"
   ]
  },
  {
   "cell_type": "markdown",
   "metadata": {},
   "source": [
    "### Notes on the utexas case\n",
    "\n",
    "There are two key points when crawling utexas libguides.\n",
    "\n",
    "First is to note that they have \"category\" as the first level of navigation. One needs to click on the category name in order to expand the secondary menu, which contains the `(subject, link)` tuple we are looking for. For utexas, we have a richer tuple `(category, subject, link)`.\n",
    "\n",
    "The next thing to watch out is the following block.\n",
    "\n",
    "```\n",
    "    el_category.click()\n",
    "    time.sleep(1)\n",
    "```\n",
    "\n",
    "You can try to execute without the two lines. If we don't \"click\" on the category link. The secondary menu will not be expanded. Then, when we query `.text` of the anchor element, we get empty string. This is an unusual case. Usually, even hidden elements should give you inner text. Do to time constraint, I'm not digging into the root cause today and this is left to interested readers as an exercise."
   ]
  },
  {
   "cell_type": "markdown",
   "metadata": {},
   "source": [
    "## Conclusion\n",
    "\n",
    "Although those universities use the same libguides system as backend, the frontend could be very different. In order to collect all the catelogue, we need to mannual craft suitable logics -- mainly CSS selectors. Next steps:\n",
    "\n",
    "1. Create a list of libguides root pages (of different universities)\n",
    "2. Further check if some CSS selectors can be re-used"
   ]
  },
  {
   "cell_type": "code",
   "execution_count": null,
   "metadata": {},
   "outputs": [],
   "source": []
  }
 ],
 "metadata": {
  "kernelspec": {
   "display_name": "Python 3",
   "language": "python",
   "name": "python3"
  },
  "language_info": {
   "codemirror_mode": {
    "name": "ipython",
    "version": 3
   },
   "file_extension": ".py",
   "mimetype": "text/x-python",
   "name": "python",
   "nbconvert_exporter": "python",
   "pygments_lexer": "ipython3",
   "version": "3.6.4"
  }
 },
 "nbformat": 4,
 "nbformat_minor": 2
}
