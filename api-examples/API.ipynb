{
 "cells": [
  {
   "cell_type": "markdown",
   "metadata": {},
   "source": [
    "# API\n",
    "\n",
    "Application Programming Interface can be thought of as a \"function on the web\". You give input arguments by sending HTTP request to the server and get the output by parsing the HTTP response. API is useful because it returns structured data and can handle (sometimes heavy duty) calculations during the process."
   ]
  },
  {
   "cell_type": "markdown",
   "metadata": {},
   "source": [
    "First need to understand how normal API work. Following API retrieves the number of earthquakes that happened between 2008-05-12 and 2008-05-13 with a maxmagnitude of 1."
   ]
  },
  {
   "cell_type": "code",
   "execution_count": 1,
   "metadata": {},
   "outputs": [],
   "source": [
    "url = 'https://earthquake.usgs.gov/fdsnws/event/1/count?format=geojson&starttime=2008-05-12&endtime=2008-05-13&maxmagnitude=1'"
   ]
  },
  {
   "cell_type": "code",
   "execution_count": 2,
   "metadata": {},
   "outputs": [],
   "source": [
    "import requests"
   ]
  },
  {
   "cell_type": "code",
   "execution_count": 3,
   "metadata": {},
   "outputs": [
    {
     "data": {
      "text/plain": [
       "{'count': 86, 'maxAllowed': 20000}"
      ]
     },
     "execution_count": 3,
     "metadata": {},
     "output_type": "execute_result"
    }
   ],
   "source": [
    "r = requests.get(url).json()\n",
    "r"
   ]
  },
  {
   "cell_type": "code",
   "execution_count": 4,
   "metadata": {},
   "outputs": [
    {
     "name": "stdout",
     "output_type": "stream",
     "text": [
      "86\n"
     ]
    }
   ],
   "source": [
    "print(r['count'])"
   ]
  },
  {
   "cell_type": "markdown",
   "metadata": {},
   "source": [
    "You can change `starttime=2008-05-12&endtime=2008-05-13&maxmagnitude=1` to retrieve other information. String concatentation is a basic method but too verbose to write when there are many URL parameters. Let's show you how to achieve that using \"format string\" of Python. Please note the placeholder `%s`"
   ]
  },
  {
   "cell_type": "code",
   "execution_count": 5,
   "metadata": {},
   "outputs": [],
   "source": [
    "url_template = 'https://earthquake.usgs.gov/fdsnws/event/1/count?format=geojson&starttime=2008-05-%s&endtime=2008-05-%s&maxmagnitude=1'"
   ]
  },
  {
   "cell_type": "code",
   "execution_count": 6,
   "metadata": {},
   "outputs": [
    {
     "name": "stdout",
     "output_type": "stream",
     "text": [
      "https://earthquake.usgs.gov/fdsnws/event/1/count?format=geojson&starttime=2008-05-14&endtime=2008-05-15&maxmagnitude=1\n"
     ]
    }
   ],
   "source": [
    "i = 14\n",
    "url = url_template % (i, i+1)\n",
    "print(url)"
   ]
  },
  {
   "cell_type": "markdown",
   "metadata": {},
   "source": [
    "Using format string, you can generate a lot URL easily."
   ]
  },
  {
   "cell_type": "code",
   "execution_count": 7,
   "metadata": {},
   "outputs": [
    {
     "name": "stdout",
     "output_type": "stream",
     "text": [
      "# of earthquakes during (2018-05-05, 2018-05-06): 96\n",
      "# of earthquakes during (2018-05-06, 2018-05-07): 361\n",
      "# of earthquakes during (2018-05-07, 2018-05-08): 546\n",
      "# of earthquakes during (2018-05-08, 2018-05-09): 42\n",
      "# of earthquakes during (2018-05-09, 2018-05-10): 217\n",
      "# of earthquakes during (2018-05-10, 2018-05-11): 90\n",
      "# of earthquakes during (2018-05-11, 2018-05-12): 101\n"
     ]
    }
   ],
   "source": [
    "for i in range(5, 12):\n",
    "    url = url_template % (i, i+1)\n",
    "    c = requests.get(url).json()['count']\n",
    "    print('# of earthquakes during (2018-05-%02d, 2018-05-%02d): %s' % (i, i+1, c))"
   ]
  },
  {
   "cell_type": "markdown",
   "metadata": {},
   "source": [
    "The BCP way of handling URL parameter is not string operation (either concatenation or formating). Using the parameters from `requests.get` is a preferred way:"
   ]
  },
  {
   "cell_type": "code",
   "execution_count": 8,
   "metadata": {},
   "outputs": [
    {
     "name": "stdout",
     "output_type": "stream",
     "text": [
      "# of earthquakes during (2018-05-05, 2018-05-06): 81\n",
      "# of earthquakes during (2018-05-06, 2018-05-07): 81\n",
      "# of earthquakes during (2018-05-07, 2018-05-08): 81\n",
      "# of earthquakes during (2018-05-08, 2018-05-09): 81\n",
      "# of earthquakes during (2018-05-09, 2018-05-10): 81\n",
      "# of earthquakes during (2018-05-10, 2018-05-11): 81\n",
      "# of earthquakes during (2018-05-11, 2018-05-12): 81\n"
     ]
    }
   ],
   "source": [
    "for i in range(5, 12):\n",
    "    c = requests.get('https://earthquake.usgs.gov/fdsnws/event/1/count?format=geojson', {\n",
    "        'starttime': '2008-05-14',\n",
    "        'endtime': '2008-05-15',\n",
    "        'maxmagnitude': '1'\n",
    "    }).json()['count']\n",
    "    print('# of earthquakes during (2018-05-%02d, 2018-05-%02d): %s' % (i, i+1, c))"
   ]
  },
  {
   "cell_type": "code",
   "execution_count": null,
   "metadata": {},
   "outputs": [],
   "source": []
  }
 ],
 "metadata": {
  "kernelspec": {
   "display_name": "Python 3",
   "language": "python",
   "name": "python3"
  },
  "language_info": {
   "codemirror_mode": {
    "name": "ipython",
    "version": 3
   },
   "file_extension": ".py",
   "mimetype": "text/x-python",
   "name": "python",
   "nbconvert_exporter": "python",
   "pygments_lexer": "ipython3",
   "version": "3.6.3"
  }
 },
 "nbformat": 4,
 "nbformat_minor": 2
}
