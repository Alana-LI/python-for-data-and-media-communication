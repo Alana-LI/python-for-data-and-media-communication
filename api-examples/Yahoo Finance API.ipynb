{
 "cells": [
  {
   "cell_type": "markdown",
   "metadata": {},
   "source": [
    "# Yahoo Finance and Stock Beta\n",
    "\n",
    "- This is the \"public\" but \"not publicized\" API from Yahoo.\n",
    "   - Use for study and research purpose only.\n",
    "   - That also means the API is not stable. It may change at any time.\n",
    "- One can get this API by analysing network trace.\n",
    "   - It involves some reverse engineering and guess work.\n",
    "   - Many people online have done related analysis, e.g. [node-yahoo-finance#43](https://github.com/pilwon/node-yahoo-finance/issues/43)\n"
   ]
  },
  {
   "cell_type": "code",
   "execution_count": 1,
   "metadata": {},
   "outputs": [
    {
     "name": "stdout",
     "output_type": "stream",
     "text": [
      "Last update: 2018-09-30 20:09:52.824952\n"
     ]
    }
   ],
   "source": [
    "import datetime\n",
    "print('Last update:', datetime.datetime.now())"
   ]
  },
  {
   "cell_type": "code",
   "execution_count": 2,
   "metadata": {},
   "outputs": [],
   "source": [
    "%matplotlib inline\n",
    "\n",
    "import pandas\n",
    "import seaborn as sns\n",
    "import requests\n",
    "import json"
   ]
  },
  {
   "cell_type": "markdown",
   "metadata": {},
   "source": [
    "## One raw query and navigate on the returned structure"
   ]
  },
  {
   "cell_type": "code",
   "execution_count": 3,
   "metadata": {},
   "outputs": [],
   "source": [
    "r = requests.get('https://query1.finance.yahoo.com/v10/finance/quoteSummary/AAPL?formatted=true&lang=en-US&region=US&modules=summaryProfile%2CfinancialData%2CrecommendationTrend%2CupgradeDowngradeHistory%2Cearnings%2CdefaultKeyStatistics%2CcalendarEvents&corsDomain=finance.yahoo.com')"
   ]
  },
  {
   "cell_type": "code",
   "execution_count": 4,
   "metadata": {},
   "outputs": [
    {
     "data": {
      "text/plain": [
       "21822"
      ]
     },
     "execution_count": 4,
     "metadata": {},
     "output_type": "execute_result"
    }
   ],
   "source": [
    "len(r.text)"
   ]
  },
  {
   "cell_type": "markdown",
   "metadata": {},
   "source": [
    "Returned value is a very big JSON string."
   ]
  },
  {
   "cell_type": "code",
   "execution_count": 5,
   "metadata": {},
   "outputs": [],
   "source": [
    "j = r.json()"
   ]
  },
  {
   "cell_type": "code",
   "execution_count": 6,
   "metadata": {},
   "outputs": [],
   "source": [
    "# Try this yourself. Notebook spit out a lot output.\n",
    "# j"
   ]
  },
  {
   "cell_type": "code",
   "execution_count": 7,
   "metadata": {},
   "outputs": [
    {
     "data": {
      "text/plain": [
       "dict"
      ]
     },
     "execution_count": 7,
     "metadata": {},
     "output_type": "execute_result"
    }
   ],
   "source": [
    "type(j)"
   ]
  },
  {
   "cell_type": "code",
   "execution_count": 8,
   "metadata": {},
   "outputs": [
    {
     "data": {
      "text/plain": [
       "dict_keys(['quoteSummary'])"
      ]
     },
     "execution_count": 8,
     "metadata": {},
     "output_type": "execute_result"
    }
   ],
   "source": [
    "j.keys()"
   ]
  },
  {
   "cell_type": "code",
   "execution_count": 9,
   "metadata": {},
   "outputs": [
    {
     "data": {
      "text/plain": [
       "dict_keys(['result', 'error'])"
      ]
     },
     "execution_count": 9,
     "metadata": {},
     "output_type": "execute_result"
    }
   ],
   "source": [
    "j['quoteSummary'].keys()"
   ]
  },
  {
   "cell_type": "code",
   "execution_count": 10,
   "metadata": {},
   "outputs": [],
   "source": [
    "j['quoteSummary']['error']"
   ]
  },
  {
   "cell_type": "code",
   "execution_count": 11,
   "metadata": {},
   "outputs": [
    {
     "data": {
      "text/plain": [
       "list"
      ]
     },
     "execution_count": 11,
     "metadata": {},
     "output_type": "execute_result"
    }
   ],
   "source": [
    "type(j['quoteSummary']['result'])"
   ]
  },
  {
   "cell_type": "code",
   "execution_count": 12,
   "metadata": {},
   "outputs": [
    {
     "data": {
      "text/plain": [
       "1"
      ]
     },
     "execution_count": 12,
     "metadata": {},
     "output_type": "execute_result"
    }
   ],
   "source": [
    "len(j['quoteSummary']['result'])"
   ]
  },
  {
   "cell_type": "code",
   "execution_count": 13,
   "metadata": {},
   "outputs": [
    {
     "data": {
      "text/plain": [
       "dict"
      ]
     },
     "execution_count": 13,
     "metadata": {},
     "output_type": "execute_result"
    }
   ],
   "source": [
    "type(j['quoteSummary']['result'][0])"
   ]
  },
  {
   "cell_type": "code",
   "execution_count": 14,
   "metadata": {},
   "outputs": [
    {
     "data": {
      "text/plain": [
       "dict_keys(['recommendationTrend', 'earnings', 'calendarEvents', 'upgradeDowngradeHistory', 'defaultKeyStatistics', 'summaryProfile', 'financialData'])"
      ]
     },
     "execution_count": 14,
     "metadata": {},
     "output_type": "execute_result"
    }
   ],
   "source": [
    "j['quoteSummary']['result'][0].keys()"
   ]
  },
  {
   "cell_type": "code",
   "execution_count": 15,
   "metadata": {},
   "outputs": [
    {
     "data": {
      "text/plain": [
       "{'currentPrice': {'fmt': '225.74', 'raw': 225.74},\n",
       " 'currentRatio': {'fmt': '1.31', 'raw': 1.307},\n",
       " 'debtToEquity': {'fmt': '99.70', 'raw': 99.696},\n",
       " 'earningsGrowth': {'fmt': '40.10%', 'raw': 0.401},\n",
       " 'ebitda': {'fmt': '78.53B', 'longFmt': '78,533,001,216', 'raw': 78533001216},\n",
       " 'ebitdaMargins': {'fmt': '30.76%', 'raw': 0.30764},\n",
       " 'financialCurrency': 'USD',\n",
       " 'freeCashflow': {'fmt': '41.44B',\n",
       "  'longFmt': '41,444,749,312',\n",
       "  'raw': 41444749312},\n",
       " 'grossMargins': {'fmt': '38.27%', 'raw': 0.38267},\n",
       " 'grossProfits': {'fmt': '88.19B',\n",
       "  'longFmt': '88,186,000,000',\n",
       "  'raw': 88186000000},\n",
       " 'maxAge': 86400,\n",
       " 'numberOfAnalystOpinions': {'fmt': '36', 'longFmt': '36', 'raw': 36},\n",
       " 'operatingCashflow': {'fmt': '73.03B',\n",
       "  'longFmt': '73,032,998,912',\n",
       "  'raw': 73032998912},\n",
       " 'operatingMargins': {'fmt': '26.60%', 'raw': 0.26599002},\n",
       " 'profitMargins': {'fmt': '21.98%', 'raw': 0.21983999},\n",
       " 'quickRatio': {'fmt': '1.10', 'raw': 1.099},\n",
       " 'recommendationKey': 'buy',\n",
       " 'recommendationMean': {'fmt': '2.00', 'raw': 2.0},\n",
       " 'returnOnAssets': {'fmt': '12.22%', 'raw': 0.12222999},\n",
       " 'returnOnEquity': {'fmt': '45.37%', 'raw': 0.45373002},\n",
       " 'revenueGrowth': {'fmt': '17.30%', 'raw': 0.173},\n",
       " 'revenuePerShare': {'fmt': '50.63', 'raw': 50.626},\n",
       " 'targetHighPrice': {'fmt': '300.00', 'raw': 300.0},\n",
       " 'targetLowPrice': {'fmt': '175.00', 'raw': 175.0},\n",
       " 'targetMeanPrice': {'fmt': '234.63', 'raw': 234.63},\n",
       " 'targetMedianPrice': {'fmt': '237.50', 'raw': 237.5},\n",
       " 'totalCash': {'fmt': '70.97B',\n",
       "  'longFmt': '70,969,999,360',\n",
       "  'raw': 70969999360},\n",
       " 'totalCashPerShare': {'fmt': '14.69', 'raw': 14.694},\n",
       " 'totalDebt': {'fmt': '114.6B',\n",
       "  'longFmt': '114,600,001,536',\n",
       "  'raw': 114600001536},\n",
       " 'totalRevenue': {'fmt': '255.27B',\n",
       "  'longFmt': '255,273,992,192',\n",
       "  'raw': 255273992192}}"
      ]
     },
     "execution_count": 15,
     "metadata": {},
     "output_type": "execute_result"
    }
   ],
   "source": [
    "j['quoteSummary']['result'][0]['financialData']"
   ]
  },
  {
   "cell_type": "code",
   "execution_count": 16,
   "metadata": {},
   "outputs": [
    {
     "data": {
      "text/plain": [
       "{'52WeekChange': {'fmt': '46.25%', 'raw': 0.4625187},\n",
       " 'SandP52WeekChange': {'fmt': '15.22%', 'raw': 0.15217936},\n",
       " 'annualHoldingsTurnover': {},\n",
       " 'annualReportExpenseRatio': {},\n",
       " 'beta': {'fmt': '1.26', 'raw': 1.256531},\n",
       " 'beta3Year': {},\n",
       " 'bookValue': {'fmt': '23.74', 'raw': 23.735},\n",
       " 'category': None,\n",
       " 'dateShortInterest': {'fmt': '2018-09-14', 'raw': 1536883200},\n",
       " 'earningsQuarterlyGrowth': {'fmt': '32.10%', 'raw': 0.321},\n",
       " 'enterpriseToEbitda': {'fmt': '14.11', 'raw': 14.112},\n",
       " 'enterpriseToRevenue': {'fmt': '4.34', 'raw': 4.341},\n",
       " 'enterpriseValue': {'fmt': '1.11T',\n",
       "  'longFmt': '1,108,242,333,696',\n",
       "  'raw': 1108242333696},\n",
       " 'fiveYearAverageReturn': {},\n",
       " 'floatShares': {'fmt': '4.57B',\n",
       "  'longFmt': '4,574,761,009',\n",
       "  'raw': 4574761009},\n",
       " 'forwardEps': {'fmt': '13.71', 'raw': 13.71},\n",
       " 'forwardPE': {'fmt': '16.47', 'raw': 16.465355},\n",
       " 'fundFamily': None,\n",
       " 'fundInceptionDate': {},\n",
       " 'heldPercentInsiders': {'fmt': '0.07%', 'raw': 0.00068000006},\n",
       " 'heldPercentInstitutions': {'fmt': '61.33%', 'raw': 0.61332},\n",
       " 'lastCapGain': {},\n",
       " 'lastDividendValue': {},\n",
       " 'lastFiscalYearEnd': {'fmt': '2017-09-30', 'raw': 1506729600},\n",
       " 'lastSplitDate': {'fmt': '2014-06-09', 'raw': 1402272000},\n",
       " 'lastSplitFactor': '7/1',\n",
       " 'legalType': None,\n",
       " 'maxAge': 1,\n",
       " 'morningStarOverallRating': {},\n",
       " 'morningStarRiskRating': {},\n",
       " 'mostRecentQuarter': {'fmt': '2018-06-30', 'raw': 1530316800},\n",
       " 'netIncomeToCommon': {'fmt': '56.12B',\n",
       "  'longFmt': '56,120,000,512',\n",
       "  'raw': 56120000512},\n",
       " 'nextFiscalYearEnd': {'fmt': '2019-09-30', 'raw': 1569801600},\n",
       " 'pegRatio': {'fmt': '1.74', 'raw': 1.74},\n",
       " 'priceHint': {'fmt': '2', 'longFmt': '2', 'raw': 2},\n",
       " 'priceToBook': {'fmt': '9.51', 'raw': 9.510849},\n",
       " 'priceToSalesTrailing12Months': {},\n",
       " 'profitMargins': {'fmt': '21.98%', 'raw': 0.21983999},\n",
       " 'revenueQuarterlyGrowth': {},\n",
       " 'sharesOutstanding': {'fmt': '4.83B',\n",
       "  'longFmt': '4,829,929,984',\n",
       "  'raw': 4829929984},\n",
       " 'sharesPercentSharesOut': {'fmt': '0.97%', 'raw': 0.0097},\n",
       " 'sharesShort': {'fmt': '46.82M', 'longFmt': '46,818,683', 'raw': 46818683},\n",
       " 'sharesShortPreviousMonthDate': {'fmt': '2018-08-15', 'raw': 1534291200},\n",
       " 'sharesShortPriorMonth': {'fmt': '42.16M',\n",
       "  'longFmt': '42,160,518',\n",
       "  'raw': 42160518},\n",
       " 'shortPercentOfFloat': {'fmt': '0.92%', 'raw': 0.0092},\n",
       " 'shortRatio': {'fmt': '1.5', 'raw': 1.5},\n",
       " 'threeYearAverageReturn': {},\n",
       " 'totalAssets': {},\n",
       " 'trailingEps': {'fmt': '11.04', 'raw': 11.038},\n",
       " 'yield': {},\n",
       " 'ytdReturn': {}}"
      ]
     },
     "execution_count": 16,
     "metadata": {},
     "output_type": "execute_result"
    }
   ],
   "source": [
    "j['quoteSummary']['result'][0]['defaultKeyStatistics']"
   ]
  },
  {
   "cell_type": "code",
   "execution_count": 17,
   "metadata": {},
   "outputs": [
    {
     "data": {
      "text/plain": [
       "{'fmt': '1.26', 'raw': 1.256531}"
      ]
     },
     "execution_count": 17,
     "metadata": {},
     "output_type": "execute_result"
    }
   ],
   "source": [
    "j['quoteSummary']['result'][0]['defaultKeyStatistics']['beta']"
   ]
  },
  {
   "cell_type": "code",
   "execution_count": 18,
   "metadata": {},
   "outputs": [
    {
     "data": {
      "text/plain": [
       "{'fmt': '9.51', 'raw': 9.510849}"
      ]
     },
     "execution_count": 18,
     "metadata": {},
     "output_type": "execute_result"
    }
   ],
   "source": [
    "j['quoteSummary']['result'][0]['defaultKeyStatistics']['priceToBook']"
   ]
  },
  {
   "cell_type": "code",
   "execution_count": 19,
   "metadata": {},
   "outputs": [
    {
     "data": {
      "text/plain": [
       "{'fmt': '13.71', 'raw': 13.71}"
      ]
     },
     "execution_count": 19,
     "metadata": {},
     "output_type": "execute_result"
    }
   ],
   "source": [
    "j['quoteSummary']['result'][0]['defaultKeyStatistics']['forwardEps']"
   ]
  },
  {
   "cell_type": "markdown",
   "metadata": {},
   "source": [
    "### QUIZ\n",
    "\n",
    "Can you calculate P/E (price to earning) based on information in the `j` variable?"
   ]
  },
  {
   "cell_type": "markdown",
   "metadata": {},
   "source": [
    "## Study the beta values of several interested stocks"
   ]
  },
  {
   "cell_type": "code",
   "execution_count": 20,
   "metadata": {},
   "outputs": [],
   "source": [
    "def get_beta(symbol):\n",
    "    r = requests.get('https://query1.finance.yahoo.com/v10/finance/quoteSummary/{symbol}?formatted=true&lang=en-US&region=US&modules=summaryProfile%2CfinancialData%2CrecommendationTrend%2CupgradeDowngradeHistory%2Cearnings%2CdefaultKeyStatistics%2CcalendarEvents&corsDomain=finance.yahoo.com'.format(symbol=symbol))\n",
    "    return json.loads(r.text)['quoteSummary']['result'][0]['defaultKeyStatistics']['beta']['raw']"
   ]
  },
  {
   "cell_type": "code",
   "execution_count": 21,
   "metadata": {},
   "outputs": [
    {
     "data": {
      "text/plain": [
       "1.256531"
      ]
     },
     "execution_count": 21,
     "metadata": {},
     "output_type": "execute_result"
    }
   ],
   "source": [
    "get_beta('AAPL')"
   ]
  },
  {
   "cell_type": "code",
   "execution_count": 22,
   "metadata": {},
   "outputs": [
    {
     "data": {
      "text/html": [
       "<div>\n",
       "<style scoped>\n",
       "    .dataframe tbody tr th:only-of-type {\n",
       "        vertical-align: middle;\n",
       "    }\n",
       "\n",
       "    .dataframe tbody tr th {\n",
       "        vertical-align: top;\n",
       "    }\n",
       "\n",
       "    .dataframe thead th {\n",
       "        text-align: right;\n",
       "    }\n",
       "</style>\n",
       "<table border=\"1\" class=\"dataframe\">\n",
       "  <thead>\n",
       "    <tr style=\"text-align: right;\">\n",
       "      <th></th>\n",
       "      <th>Symbol</th>\n",
       "      <th>beta</th>\n",
       "    </tr>\n",
       "  </thead>\n",
       "  <tbody>\n",
       "    <tr>\n",
       "      <th>8</th>\n",
       "      <td>NXPI</td>\n",
       "      <td>0.391721</td>\n",
       "    </tr>\n",
       "    <tr>\n",
       "      <th>6</th>\n",
       "      <td>XLNX</td>\n",
       "      <td>0.925845</td>\n",
       "    </tr>\n",
       "    <tr>\n",
       "      <th>4</th>\n",
       "      <td>INTC</td>\n",
       "      <td>0.950961</td>\n",
       "    </tr>\n",
       "    <tr>\n",
       "      <th>2</th>\n",
       "      <td>STM</td>\n",
       "      <td>0.969292</td>\n",
       "    </tr>\n",
       "    <tr>\n",
       "      <th>3</th>\n",
       "      <td>MU</td>\n",
       "      <td>1.007110</td>\n",
       "    </tr>\n",
       "    <tr>\n",
       "      <th>5</th>\n",
       "      <td>TXN</td>\n",
       "      <td>1.156691</td>\n",
       "    </tr>\n",
       "    <tr>\n",
       "      <th>7</th>\n",
       "      <td>QCOM</td>\n",
       "      <td>1.598581</td>\n",
       "    </tr>\n",
       "    <tr>\n",
       "      <th>1</th>\n",
       "      <td>NVDA</td>\n",
       "      <td>1.893517</td>\n",
       "    </tr>\n",
       "    <tr>\n",
       "      <th>0</th>\n",
       "      <td>AMD</td>\n",
       "      <td>4.093247</td>\n",
       "    </tr>\n",
       "  </tbody>\n",
       "</table>\n",
       "</div>"
      ],
      "text/plain": [
       "  Symbol      beta\n",
       "8   NXPI  0.391721\n",
       "6   XLNX  0.925845\n",
       "4   INTC  0.950961\n",
       "2    STM  0.969292\n",
       "3     MU  1.007110\n",
       "5    TXN  1.156691\n",
       "7   QCOM  1.598581\n",
       "1   NVDA  1.893517\n",
       "0    AMD  4.093247"
      ]
     },
     "execution_count": 22,
     "metadata": {},
     "output_type": "execute_result"
    }
   ],
   "source": [
    "mystocks = ['AMD', 'NVDA', 'STM', 'MU', 'INTC', 'TXN', 'XLNX', 'QCOM', 'NXPI']\n",
    "df_stocks = pandas.DataFrame(mystocks, columns=['Symbol'])\n",
    "df_stocks['beta'] = df_stocks['Symbol'].apply(get_beta)\n",
    "df_stocks.sort_values(by='beta')"
   ]
  },
  {
   "cell_type": "code",
   "execution_count": 23,
   "metadata": {},
   "outputs": [
    {
     "data": {
      "text/html": [
       "<div>\n",
       "<style scoped>\n",
       "    .dataframe tbody tr th:only-of-type {\n",
       "        vertical-align: middle;\n",
       "    }\n",
       "\n",
       "    .dataframe tbody tr th {\n",
       "        vertical-align: top;\n",
       "    }\n",
       "\n",
       "    .dataframe thead th {\n",
       "        text-align: right;\n",
       "    }\n",
       "</style>\n",
       "<table border=\"1\" class=\"dataframe\">\n",
       "  <thead>\n",
       "    <tr style=\"text-align: right;\">\n",
       "      <th></th>\n",
       "      <th>Symbol</th>\n",
       "      <th>beta</th>\n",
       "    </tr>\n",
       "  </thead>\n",
       "  <tbody>\n",
       "    <tr>\n",
       "      <th>1</th>\n",
       "      <td>JPM</td>\n",
       "      <td>1.169394</td>\n",
       "    </tr>\n",
       "    <tr>\n",
       "      <th>0</th>\n",
       "      <td>GS</td>\n",
       "      <td>1.355016</td>\n",
       "    </tr>\n",
       "    <tr>\n",
       "      <th>2</th>\n",
       "      <td>BAC</td>\n",
       "      <td>1.672808</td>\n",
       "    </tr>\n",
       "  </tbody>\n",
       "</table>\n",
       "</div>"
      ],
      "text/plain": [
       "  Symbol      beta\n",
       "1    JPM  1.169394\n",
       "0     GS  1.355016\n",
       "2    BAC  1.672808"
      ]
     },
     "execution_count": 23,
     "metadata": {},
     "output_type": "execute_result"
    }
   ],
   "source": [
    "mystocks = ['GS', 'JPM', 'BAC']\n",
    "df_stocks = pandas.DataFrame(mystocks, columns=['Symbol'])\n",
    "df_stocks['beta'] = df_stocks['Symbol'].apply(get_beta)\n",
    "df_stocks.sort_values(by='beta')"
   ]
  },
  {
   "cell_type": "code",
   "execution_count": 24,
   "metadata": {},
   "outputs": [
    {
     "data": {
      "text/html": [
       "<div>\n",
       "<style scoped>\n",
       "    .dataframe tbody tr th:only-of-type {\n",
       "        vertical-align: middle;\n",
       "    }\n",
       "\n",
       "    .dataframe tbody tr th {\n",
       "        vertical-align: top;\n",
       "    }\n",
       "\n",
       "    .dataframe thead th {\n",
       "        text-align: right;\n",
       "    }\n",
       "</style>\n",
       "<table border=\"1\" class=\"dataframe\">\n",
       "  <thead>\n",
       "    <tr style=\"text-align: right;\">\n",
       "      <th></th>\n",
       "      <th>Symbol</th>\n",
       "      <th>beta</th>\n",
       "    </tr>\n",
       "  </thead>\n",
       "  <tbody>\n",
       "    <tr>\n",
       "      <th>4</th>\n",
       "      <td>FB</td>\n",
       "      <td>0.660705</td>\n",
       "    </tr>\n",
       "    <tr>\n",
       "      <th>1</th>\n",
       "      <td>ADBE</td>\n",
       "      <td>0.745876</td>\n",
       "    </tr>\n",
       "    <tr>\n",
       "      <th>2</th>\n",
       "      <td>VZ</td>\n",
       "      <td>0.772380</td>\n",
       "    </tr>\n",
       "    <tr>\n",
       "      <th>3</th>\n",
       "      <td>AAPL</td>\n",
       "      <td>1.256531</td>\n",
       "    </tr>\n",
       "    <tr>\n",
       "      <th>0</th>\n",
       "      <td>GOOG</td>\n",
       "      <td>1.400612</td>\n",
       "    </tr>\n",
       "  </tbody>\n",
       "</table>\n",
       "</div>"
      ],
      "text/plain": [
       "  Symbol      beta\n",
       "4     FB  0.660705\n",
       "1   ADBE  0.745876\n",
       "2     VZ  0.772380\n",
       "3   AAPL  1.256531\n",
       "0   GOOG  1.400612"
      ]
     },
     "execution_count": 24,
     "metadata": {},
     "output_type": "execute_result"
    }
   ],
   "source": [
    "mystocks = ['GOOG', 'ADBE', 'VZ', 'AAPL', 'FB']\n",
    "df_stocks = pandas.DataFrame(mystocks, columns=['Symbol'])\n",
    "df_stocks['beta'] = df_stocks['Symbol'].apply(get_beta)\n",
    "df_stocks.sort_values(by='beta')"
   ]
  },
  {
   "cell_type": "markdown",
   "metadata": {},
   "source": [
    "## Variation of the API"
   ]
  },
  {
   "cell_type": "code",
   "execution_count": 25,
   "metadata": {},
   "outputs": [],
   "source": [
    "url_template = '''\n",
    "https://query1.finance.yahoo.com/v10/finance/quoteSummary/{symbol}?formatted=true&lang=en-US&region=US&modules=summaryProfile%2CfinancialData%2CrecommendationTrend%2CupgradeDowngradeHistory%2Cearnings%2CdefaultKeyStatistics%2CcalendarEvents&corsDomain=finance.yahoo.com\n",
    "'''\n",
    "\n",
    "r = requests.get(url_template.format(\n",
    "    symbol='AAPL'\n",
    ").strip())"
   ]
  },
  {
   "cell_type": "code",
   "execution_count": 26,
   "metadata": {},
   "outputs": [
    {
     "data": {
      "text/plain": [
       "'http://www.apple.com'"
      ]
     },
     "execution_count": 26,
     "metadata": {},
     "output_type": "execute_result"
    }
   ],
   "source": [
    "r.json()['quoteSummary']['result'][0]['summaryProfile']['website']"
   ]
  },
  {
   "cell_type": "code",
   "execution_count": 27,
   "metadata": {},
   "outputs": [],
   "source": [
    "url_template = 'https://query2.finance.yahoo.com/v7/finance/quote?symbols={symbols}'\n",
    "\n",
    "r = requests.get(url_template.format(\n",
    "    symbols=','.join(['NVDA', 'PLUG', 'AMD'])\n",
    ").strip())"
   ]
  },
  {
   "cell_type": "code",
   "execution_count": 28,
   "metadata": {},
   "outputs": [
    {
     "data": {
      "text/plain": [
       "281.75"
      ]
     },
     "execution_count": 28,
     "metadata": {},
     "output_type": "execute_result"
    }
   ],
   "source": [
    "r.json()['quoteResponse']['result'][0]['ask']"
   ]
  },
  {
   "cell_type": "code",
   "execution_count": 29,
   "metadata": {},
   "outputs": [
    {
     "data": {
      "text/plain": [
       "'NVDA'"
      ]
     },
     "execution_count": 29,
     "metadata": {},
     "output_type": "execute_result"
    }
   ],
   "source": [
    "r.json()['quoteResponse']['result'][0]['symbol']"
   ]
  },
  {
   "cell_type": "code",
   "execution_count": 30,
   "metadata": {},
   "outputs": [
    {
     "name": "stdout",
     "output_type": "stream",
     "text": [
      "Symbol NVDA is asked for 281.75\n",
      "Symbol PLUG is asked for 1.94\n",
      "Symbol AMD is asked for 30.89\n"
     ]
    }
   ],
   "source": [
    "for stock in r.json()['quoteResponse']['result']:\n",
    "    print('Symbol {symbol} is asked for {ask}'.format(**stock))"
   ]
  },
  {
   "cell_type": "code",
   "execution_count": 31,
   "metadata": {},
   "outputs": [],
   "source": [
    "url_template = 'https://query1.finance.yahoo.com/v7/finance/spark?symbols={symbols}&range={range}&interval={interval}&formated=true&includeTimestamps=true'\n",
    "r = requests.get(url_template.format(\n",
    "    symbols=','.join(['INTC', 'STM', 'AMD']),\n",
    "    range='1y',\n",
    "    interval='1d'\n",
    ").strip())\n",
    "\n",
    "#https://query1.finance.yahoo.com/v7/finance/spark?symbols=%5EDJI&range=1d&interval=5m&indicators=close&&includePrePost=false"
   ]
  },
  {
   "cell_type": "code",
   "execution_count": 37,
   "metadata": {},
   "outputs": [],
   "source": [
    "q = r.json()['spark']['result'][0]['response'][0]['indicators']['quote'][0]['close']\n",
    "#q"
   ]
  },
  {
   "cell_type": "code",
   "execution_count": 38,
   "metadata": {},
   "outputs": [],
   "source": [
    "ts = r.json()['spark']['result'][0]['response'][0]['timestamp']\n",
    "#ts"
   ]
  },
  {
   "cell_type": "code",
   "execution_count": 39,
   "metadata": {},
   "outputs": [],
   "source": [
    "import datetime\n",
    "import pandas as pd"
   ]
  },
  {
   "cell_type": "code",
   "execution_count": 40,
   "metadata": {},
   "outputs": [
    {
     "data": {
      "text/plain": [
       "<matplotlib.axes._subplots.AxesSubplot at 0x1135885c0>"
      ]
     },
     "execution_count": 40,
     "metadata": {},
     "output_type": "execute_result"
    },
    {
     "data": {
      "image/png": "[encoded data removed]",
      "text/plain": [
       "<Figure size 432x288 with 1 Axes>"
      ]
     },
     "metadata": {},
     "output_type": "display_data"
    }
   ],
   "source": [
    "data = {\n",
    "    'datetime': [datetime.datetime.fromtimestamp(t) for t in ts],\n",
    "    'quote': q\n",
    "}\n",
    "pd.DataFrame(data).set_index('datetime').plot()"
   ]
  },
  {
   "cell_type": "code",
   "execution_count": 41,
   "metadata": {},
   "outputs": [
    {
     "data": {
      "text/plain": [
       "<matplotlib.axes._subplots.AxesSubplot at 0x114881438>"
      ]
     },
     "execution_count": 41,
     "metadata": {},
     "output_type": "execute_result"
    },
    {
     "data": {
      "image/png": "[encoded data removed]",
      "text/plain": [
       "<Figure size 432x288 with 1 Axes>"
      ]
     },
     "metadata": {},
     "output_type": "display_data"
    }
   ],
   "source": [
    "data = {\n",
    "    'datetime': [datetime.datetime.fromtimestamp(t) for t in ts],\n",
    "    'q1': r.json()['spark']['result'][0]['response'][0]['indicators']['quote'][0]['close'],\n",
    "    'q2': r.json()['spark']['result'][1]['response'][0]['indicators']['quote'][0]['close'],\n",
    "    'q3': r.json()['spark']['result'][2]['response'][0]['indicators']['quote'][0]['close']\n",
    "}\n",
    "pd.DataFrame(data).set_index('datetime').plot()"
   ]
  }
 ],
 "metadata": {
  "kernelspec": {
   "display_name": "Python 3",
   "language": "python",
   "name": "python3"
  },
  "language_info": {
   "codemirror_mode": {
    "name": "ipython",
    "version": 3
   },
   "file_extension": ".py",
   "mimetype": "text/x-python",
   "name": "python",
   "nbconvert_exporter": "python",
   "pygments_lexer": "ipython3",
   "version": "3.6.4"
  }
 },
 "nbformat": 4,
 "nbformat_minor": 2
}
