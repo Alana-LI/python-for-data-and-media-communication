{
 "cells": [
  {
   "cell_type": "markdown",
   "metadata": {},
   "source": [
    "deleted Twitter russian troll data:\n",
    "\n",
    "https://www.nbcnews.com/tech/social-media/now-available-more-200-000-deleted-russian-troll-tweets-n844731"
   ]
  },
  {
   "cell_type": "code",
   "execution_count": 1,
   "metadata": {},
   "outputs": [],
   "source": [
    "import pandas as pd"
   ]
  },
  {
   "cell_type": "code",
   "execution_count": 3,
   "metadata": {},
   "outputs": [],
   "source": [
    "df = pd.read_csv('regular_reader_tweets.csv')"
   ]
  },
  {
   "cell_type": "code",
   "execution_count": 4,
   "metadata": {},
   "outputs": [
    {
     "data": {
      "text/plain": [
       "203482"
      ]
     },
     "execution_count": 4,
     "metadata": {},
     "output_type": "execute_result"
    }
   ],
   "source": [
    "len(df)"
   ]
  },
  {
   "cell_type": "code",
   "execution_count": 6,
   "metadata": {},
   "outputs": [
    {
     "data": {
      "text/html": [
       "<div>\n",
       "<style scoped>\n",
       "    .dataframe tbody tr th:only-of-type {\n",
       "        vertical-align: middle;\n",
       "    }\n",
       "\n",
       "    .dataframe tbody tr th {\n",
       "        vertical-align: top;\n",
       "    }\n",
       "\n",
       "    .dataframe thead th {\n",
       "        text-align: right;\n",
       "    }\n",
       "</style>\n",
       "<table border=\"1\" class=\"dataframe\">\n",
       "  <thead>\n",
       "    <tr style=\"text-align: right;\">\n",
       "      <th></th>\n",
       "      <th>user_key</th>\n",
       "      <th>created_str</th>\n",
       "      <th>text</th>\n",
       "    </tr>\n",
       "  </thead>\n",
       "  <tbody>\n",
       "    <tr>\n",
       "      <th>0</th>\n",
       "      <td>ryanmaxwell_1</td>\n",
       "      <td>3/22/2016 18:31</td>\n",
       "      <td>#IslamKills Are you trying to say that there w...</td>\n",
       "    </tr>\n",
       "    <tr>\n",
       "      <th>1</th>\n",
       "      <td>detroitdailynew</td>\n",
       "      <td>10/10/2016 20:57</td>\n",
       "      <td>Clinton: Trump should’ve apologized more, atta...</td>\n",
       "    </tr>\n",
       "    <tr>\n",
       "      <th>2</th>\n",
       "      <td>cookncooks</td>\n",
       "      <td>2/22/2017 12:43</td>\n",
       "      <td>RT @ltapoll: Who was/is the best president of ...</td>\n",
       "    </tr>\n",
       "    <tr>\n",
       "      <th>3</th>\n",
       "      <td>queenofthewo</td>\n",
       "      <td>12/26/2016 15:06</td>\n",
       "      <td>RT @jww372: I don't have to guess your religio...</td>\n",
       "    </tr>\n",
       "    <tr>\n",
       "      <th>4</th>\n",
       "      <td>mrclydepratt</td>\n",
       "      <td>8/6/2017 2:36</td>\n",
       "      <td>RT @Shareblue: Pence and his lawyers decided w...</td>\n",
       "    </tr>\n",
       "  </tbody>\n",
       "</table>\n",
       "</div>"
      ],
      "text/plain": [
       "          user_key       created_str  \\\n",
       "0    ryanmaxwell_1   3/22/2016 18:31   \n",
       "1  detroitdailynew  10/10/2016 20:57   \n",
       "2       cookncooks   2/22/2017 12:43   \n",
       "3     queenofthewo  12/26/2016 15:06   \n",
       "4     mrclydepratt     8/6/2017 2:36   \n",
       "\n",
       "                                                text  \n",
       "0  #IslamKills Are you trying to say that there w...  \n",
       "1  Clinton: Trump should’ve apologized more, atta...  \n",
       "2  RT @ltapoll: Who was/is the best president of ...  \n",
       "3  RT @jww372: I don't have to guess your religio...  \n",
       "4  RT @Shareblue: Pence and his lawyers decided w...  "
      ]
     },
     "execution_count": 6,
     "metadata": {},
     "output_type": "execute_result"
    }
   ],
   "source": [
    "df.head()"
   ]
  },
  {
   "cell_type": "code",
   "execution_count": 7,
   "metadata": {},
   "outputs": [
    {
     "data": {
      "text/plain": [
       "0         #IslamKills Are you trying to say that there w...\n",
       "1         Clinton: Trump should’ve apologized more, atta...\n",
       "2         RT @ltapoll: Who was/is the best president of ...\n",
       "3         RT @jww372: I don't have to guess your religio...\n",
       "4         RT @Shareblue: Pence and his lawyers decided w...\n",
       "5                                    @ModicaGiunta me, too!\n",
       "6         RT @MDBlanchfield: You’ll never guess who twee...\n",
       "7         RT @100PercFEDUP: New post: WATCH: DIAMOND AND...\n",
       "8         RT @AriaWilsonGOP: 3 Women Face Charges After ...\n",
       "9         One of the ways to remind that #BlackLivesMatt...\n",
       "10        RT @ElPenguinito: #myfarewellwordswouldbe I've...\n",
       "11        RT @America_1st_: CW: \"The thing that impresse...\n",
       "12        RT @AIIAmericanGirI: 🇺🇸\\r\\nObama to add 450 Ir...\n",
       "13        Dave Chappelle: \"Black Lives Matter\" is the wo...\n",
       "14        RT @RadioACR: Chuck Todd vs Kellyanne Conway.....\n",
       "15        #My2017BiggestHope to reach this level of pett...\n",
       "16        The war is here! \\nThis gentleman made more se...\n",
       "17        RT @HipHopDX: .@Migos Scores FIRST #1 Hot 100 ...\n",
       "18        RT @LibertyBritt: He's the brilliant guy who s...\n",
       "19        RT @K1erry: The Marco Rubio knockdown of Eliza...\n",
       "20        Obama on Trump winning: 'Anything's possible' ...\n",
       "21        RT @bgg2wl: Walmart, Michelle Obama and The Ha...\n",
       "22                             it’s impossible! #TexasJihad\n",
       "23        RT @LibsNoFun: Who will wave the flag? #DayWit...\n",
       "24        Bewaffnete attackieren Bus mit koptischen Chri...\n",
       "25        The bright example of our failing education ht...\n",
       "26        @sendavidperdue How are they gonna protect us ...\n",
       "27        FC Barcelonas youth academy! La Masia doin wor...\n",
       "28        When I remember it's #Friyay https://t.co/yjBT...\n",
       "29        RT @Ladydiann2: Remove these Anti Americans fr...\n",
       "                                ...                        \n",
       "203452    Highlights from Bill Clinton's past DNC speech...\n",
       "203453    \"I wish Obama would be as nasty with enemies a...\n",
       "203454    RT @JoyAnnReid: IOW, during the primaries Kell...\n",
       "203455    So many stupid mistakes!.. Anyone but NOT Hill...\n",
       "203456    #TopNews Senate overwhelmingly rejects Obama v...\n",
       "203457      RT @nine_oh: #Twittergoons rule 10: don't hate.\n",
       "203458    RT @nonewnypd: #FreedomCities #FreedomCities\\r...\n",
       "203459    RT @nine_oh: Can Dak take his game to a new le...\n",
       "203460    Obama bombs Assad to help ISIS. MVP confirmed....\n",
       "203461    RT @daryljwalters: #GoodMorning One prayer awa...\n",
       "203462    Deutsche Rollstuhlbasketballer gewinnen EM-Bro...\n",
       "203463    RT @paul_lander: Donald Trump Mistakenly Tweet...\n",
       "203464    Trump transition tests outsider's governing ab...\n",
       "203465    If Islam is peaceful...\\nWhy are woman forced ...\n",
       "203466    Ich fand das bis zur Merkel-Diktatur in Deutsc...\n",
       "203467    RT @cut_50: Dear @potus, Eric and other nonvio...\n",
       "203468    RT @Goodluckbeer: Fentanyl filled Trump suppor...\n",
       "203469    Even a mistake can lead to a happy ending. Don...\n",
       "203470    ELECTION GUIDE: Federal and State elections ht...\n",
       "203471    RT @AHafeezMuhammad: This is Exactly why BLACK...\n",
       "203472    Obama's plan is to destroy the United States b...\n",
       "203473    RT @HistoryHeroes: Theresa A. Dear's \"Let's Ge...\n",
       "203474    RT @BuzzFeed: This 22-year-old got out of an a...\n",
       "203475    RT @littlebytesnews: #tcot #news #variety New ...\n",
       "203476                               Hubby back from Heaven\n",
       "203477    RT @AndreaChalupa: In intel circles, the story...\n",
       "203478    RT @KansasCityDNews: Tonganoxie police: Middle...\n",
       "203479    RT @signsinyork: Getting the right #company lo...\n",
       "203480    The Latest: Obama affirms continuity of ties w...\n",
       "203481    RT @futureguru100: U cant just Upload a CD onl...\n",
       "Name: text, Length: 203482, dtype: object"
      ]
     },
     "execution_count": 7,
     "metadata": {},
     "output_type": "execute_result"
    }
   ],
   "source": [
    "df['text']"
   ]
  },
  {
   "cell_type": "code",
   "execution_count": 8,
   "metadata": {},
   "outputs": [],
   "source": [
    "import nltk"
   ]
  },
  {
   "cell_type": "code",
   "execution_count": 9,
   "metadata": {},
   "outputs": [
    {
     "name": "stdout",
     "output_type": "stream",
     "text": [
      "showing info https://raw.githubusercontent.com/nltk/nltk_data/gh-pages/index.xml\n"
     ]
    },
    {
     "data": {
      "text/plain": [
       "True"
      ]
     },
     "execution_count": 9,
     "metadata": {},
     "output_type": "execute_result"
    }
   ],
   "source": [
    "nltk.download()"
   ]
  },
  {
   "cell_type": "code",
   "execution_count": 11,
   "metadata": {},
   "outputs": [],
   "source": [
    "from nltk.probability import FreqDist"
   ]
  },
  {
   "cell_type": "code",
   "execution_count": 15,
   "metadata": {},
   "outputs": [],
   "source": [
    "from nltk import tokenize"
   ]
  },
  {
   "cell_type": "code",
   "execution_count": 18,
   "metadata": {},
   "outputs": [
    {
     "data": {
      "text/plain": [
       "FreqDist({'#': 1,\n",
       "          '?': 1,\n",
       "          'Are': 1,\n",
       "          'Europe': 1,\n",
       "          'IslamKills': 1,\n",
       "          'attacks': 1,\n",
       "          'before': 1,\n",
       "          'in': 2,\n",
       "          'let': 1,\n",
       "          'no': 1,\n",
       "          'refugees': 1,\n",
       "          'say': 1,\n",
       "          'terrorist': 1,\n",
       "          'that': 1,\n",
       "          'there': 1,\n",
       "          'to': 1,\n",
       "          'trying': 1,\n",
       "          'were': 2,\n",
       "          'you': 1})"
      ]
     },
     "execution_count": 18,
     "metadata": {},
     "output_type": "execute_result"
    }
   ],
   "source": [
    "FreqDist(tokenize.word_tokenize(df.ix[0]['text']))"
   ]
  },
  {
   "cell_type": "code",
   "execution_count": 19,
   "metadata": {},
   "outputs": [
    {
     "data": {
      "text/plain": [
       "FreqDist({'#IslamKills': 1,\n",
       "          'Are': 1,\n",
       "          'Europe': 1,\n",
       "          'attacks': 1,\n",
       "          'before': 1,\n",
       "          'in': 1,\n",
       "          'in?': 1,\n",
       "          'let': 1,\n",
       "          'no': 1,\n",
       "          'refugees': 1,\n",
       "          'say': 1,\n",
       "          'terrorist': 1,\n",
       "          'that': 1,\n",
       "          'there': 1,\n",
       "          'to': 1,\n",
       "          'trying': 1,\n",
       "          'were': 2,\n",
       "          'you': 1})"
      ]
     },
     "execution_count": 19,
     "metadata": {},
     "output_type": "execute_result"
    }
   ],
   "source": [
    "FreqDist((df.ix[0]['text']).split())"
   ]
  },
  {
   "cell_type": "code",
   "execution_count": 29,
   "metadata": {},
   "outputs": [
    {
     "name": "stdout",
     "output_type": "stream",
     "text": [
      "15386\n",
      "nan\n",
      "expected string or bytes-like object\n",
      "61098\n",
      "nan\n",
      "expected string or bytes-like object\n",
      "64910\n",
      "nan\n",
      "expected string or bytes-like object\n",
      "70979\n",
      "nan\n",
      "expected string or bytes-like object\n",
      "72499\n",
      "nan\n",
      "expected string or bytes-like object\n",
      "76067\n",
      "nan\n",
      "expected string or bytes-like object\n",
      "76780\n",
      "nan\n",
      "expected string or bytes-like object\n",
      "83491\n",
      "nan\n",
      "expected string or bytes-like object\n",
      "113973\n",
      "nan\n",
      "expected string or bytes-like object\n",
      "117214\n",
      "nan\n",
      "expected string or bytes-like object\n",
      "131982\n",
      "nan\n",
      "expected string or bytes-like object\n",
      "135453\n",
      "nan\n",
      "expected string or bytes-like object\n",
      "139096\n",
      "nan\n",
      "expected string or bytes-like object\n",
      "143441\n",
      "nan\n",
      "expected string or bytes-like object\n",
      "155693\n",
      "nan\n",
      "expected string or bytes-like object\n",
      "156892\n",
      "nan\n",
      "expected string or bytes-like object\n",
      "165212\n",
      "nan\n",
      "expected string or bytes-like object\n",
      "184497\n",
      "nan\n",
      "expected string or bytes-like object\n",
      "188311\n",
      "nan\n",
      "expected string or bytes-like object\n",
      "188882\n",
      "nan\n",
      "expected string or bytes-like object\n",
      "194601\n",
      "nan\n",
      "expected string or bytes-like object\n",
      "203461\n"
     ]
    }
   ],
   "source": [
    "all_tokens = []\n",
    "total = 0\n",
    "for text in df['text'].values:\n",
    "    #print(text)\n",
    "    try:\n",
    "        all_tokens.extend(tokenize.word_tokenize(text))\n",
    "        total += 1\n",
    "    except Exception as e:\n",
    "        print(total)\n",
    "        print(text)\n",
    "        print(e)\n",
    "print(total)"
   ]
  },
  {
   "cell_type": "code",
   "execution_count": 30,
   "metadata": {},
   "outputs": [
    {
     "data": {
      "text/plain": [
       "4106480"
      ]
     },
     "execution_count": 30,
     "metadata": {},
     "output_type": "execute_result"
    }
   ],
   "source": [
    "len(all_tokens)"
   ]
  },
  {
   "cell_type": "code",
   "execution_count": 27,
   "metadata": {},
   "outputs": [
    {
     "data": {
      "text/html": [
       "<div>\n",
       "<style scoped>\n",
       "    .dataframe tbody tr th:only-of-type {\n",
       "        vertical-align: middle;\n",
       "    }\n",
       "\n",
       "    .dataframe tbody tr th {\n",
       "        vertical-align: top;\n",
       "    }\n",
       "\n",
       "    .dataframe thead th {\n",
       "        text-align: right;\n",
       "    }\n",
       "</style>\n",
       "<table border=\"1\" class=\"dataframe\">\n",
       "  <thead>\n",
       "    <tr style=\"text-align: right;\">\n",
       "      <th></th>\n",
       "      <th>user_key</th>\n",
       "      <th>created_str</th>\n",
       "      <th>text</th>\n",
       "    </tr>\n",
       "  </thead>\n",
       "  <tbody>\n",
       "    <tr>\n",
       "      <th>1955</th>\n",
       "      <td>hyddrox</td>\n",
       "      <td>2/5/2017 11:27</td>\n",
       "      <td>RT @LadyLiberTea: .@TRobinsonNewEra @Rebellion...</td>\n",
       "    </tr>\n",
       "    <tr>\n",
       "      <th>71697</th>\n",
       "      <td>curtisbigman</td>\n",
       "      <td>9/21/2016 8:00</td>\n",
       "      <td>RT @NetAdvisor: #ThingsHillaryGoogles\\nWho els...</td>\n",
       "    </tr>\n",
       "    <tr>\n",
       "      <th>133711</th>\n",
       "      <td>micparrish</td>\n",
       "      <td>12/18/2015 11:50</td>\n",
       "      <td>RT @gerfingerpoken: .@Greta van Susteren Comes...</td>\n",
       "    </tr>\n",
       "    <tr>\n",
       "      <th>177380</th>\n",
       "      <td>jeffreykahunas</td>\n",
       "      <td>12/6/2016 16:35</td>\n",
       "      <td>RT @AbnInfVet: Stand for the Bill of Rights &amp;a...</td>\n",
       "    </tr>\n",
       "    <tr>\n",
       "      <th>33785</th>\n",
       "      <td>johnbranchh</td>\n",
       "      <td>12/3/2016 20:43</td>\n",
       "      <td>RT @obaa_boni: I'm so angry. Because American ...</td>\n",
       "    </tr>\n",
       "    <tr>\n",
       "      <th>87479</th>\n",
       "      <td>jasper_fly</td>\n",
       "      <td>12/6/2016 7:53</td>\n",
       "      <td>RT @8JSmith8: Goodness Gracious Spaceballs of ...</td>\n",
       "    </tr>\n",
       "    <tr>\n",
       "      <th>202286</th>\n",
       "      <td>kateritterrrr</td>\n",
       "      <td>11/16/2016 0:54</td>\n",
       "      <td>RT @TolFuinArcher: @KurtSchlichter #ButtHurt l...</td>\n",
       "    </tr>\n",
       "    <tr>\n",
       "      <th>163843</th>\n",
       "      <td>jadonhutchinson</td>\n",
       "      <td>10/29/2016 9:46</td>\n",
       "      <td>RT @TrapBernie: Bernie Sanders wrote a letter ...</td>\n",
       "    </tr>\n",
       "    <tr>\n",
       "      <th>163736</th>\n",
       "      <td>heyits_toby</td>\n",
       "      <td>3/19/2015 12:48</td>\n",
       "      <td>I am really tired of having feelings.</td>\n",
       "    </tr>\n",
       "    <tr>\n",
       "      <th>167146</th>\n",
       "      <td>ameliebaldwin</td>\n",
       "      <td>1/15/2017 23:02</td>\n",
       "      <td>RT @EntheosShines: FLASHBACK: 20 Years Ago Oba...</td>\n",
       "    </tr>\n",
       "  </tbody>\n",
       "</table>\n",
       "</div>"
      ],
      "text/plain": [
       "               user_key       created_str  \\\n",
       "1955            hyddrox    2/5/2017 11:27   \n",
       "71697      curtisbigman    9/21/2016 8:00   \n",
       "133711       micparrish  12/18/2015 11:50   \n",
       "177380   jeffreykahunas   12/6/2016 16:35   \n",
       "33785       johnbranchh   12/3/2016 20:43   \n",
       "87479        jasper_fly    12/6/2016 7:53   \n",
       "202286    kateritterrrr   11/16/2016 0:54   \n",
       "163843  jadonhutchinson   10/29/2016 9:46   \n",
       "163736      heyits_toby   3/19/2015 12:48   \n",
       "167146    ameliebaldwin   1/15/2017 23:02   \n",
       "\n",
       "                                                     text  \n",
       "1955    RT @LadyLiberTea: .@TRobinsonNewEra @Rebellion...  \n",
       "71697   RT @NetAdvisor: #ThingsHillaryGoogles\\nWho els...  \n",
       "133711  RT @gerfingerpoken: .@Greta van Susteren Comes...  \n",
       "177380  RT @AbnInfVet: Stand for the Bill of Rights &a...  \n",
       "33785   RT @obaa_boni: I'm so angry. Because American ...  \n",
       "87479   RT @8JSmith8: Goodness Gracious Spaceballs of ...  \n",
       "202286  RT @TolFuinArcher: @KurtSchlichter #ButtHurt l...  \n",
       "163843  RT @TrapBernie: Bernie Sanders wrote a letter ...  \n",
       "163736              I am really tired of having feelings.  \n",
       "167146  RT @EntheosShines: FLASHBACK: 20 Years Ago Oba...  "
      ]
     },
     "execution_count": 27,
     "metadata": {},
     "output_type": "execute_result"
    }
   ],
   "source": [
    "df.sample(10)"
   ]
  },
  {
   "cell_type": "code",
   "execution_count": 31,
   "metadata": {},
   "outputs": [],
   "source": [
    "fd = FreqDist(all_tokens)"
   ]
  },
  {
   "cell_type": "code",
   "execution_count": 34,
   "metadata": {},
   "outputs": [
    {
     "data": {
      "text/plain": [
       "[(':', 311001),\n",
       " ('@', 220043),\n",
       " ('#', 164229),\n",
       " ('RT', 149729),\n",
       " ('https', 121703),\n",
       " ('.', 78634),\n",
       " (',', 55028),\n",
       " ('the', 54718),\n",
       " ('to', 51093),\n",
       " ('!', 40332),\n",
       " ('a', 32725),\n",
       " ('of', 31701),\n",
       " ('in', 28786),\n",
       " ('Trump', 27593),\n",
       " ('is', 27305),\n",
       " (\"'s\", 24894),\n",
       " ('I', 24801),\n",
       " ('and', 23883),\n",
       " ('for', 22177),\n",
       " ('you', 19915),\n",
       " ('?', 18898),\n",
       " ('on', 16422),\n",
       " ('``', 15955),\n",
       " (\"''\", 15341),\n",
       " (\"n't\", 13684),\n",
       " ('The', 13528),\n",
       " (';', 13122),\n",
       " ('it', 12796),\n",
       " ('that', 12413),\n",
       " ('Clinton', 12093)]"
      ]
     },
     "execution_count": 34,
     "metadata": {},
     "output_type": "execute_result"
    }
   ],
   "source": [
    "fd.most_common(30)"
   ]
  },
  {
   "cell_type": "code",
   "execution_count": 35,
   "metadata": {},
   "outputs": [
    {
     "name": "stdout",
     "output_type": "stream",
     "text": [
      "Collecting wordcloud\n",
      "  Downloading wordcloud-1.4.tar.gz (172kB)\n",
      "\u001b[K    100% |████████████████████████████████| 174kB 4.3MB/s ta 0:00:01\n",
      "\u001b[?25hRequirement already satisfied: matplotlib in /Users/hupili/Desktop/COMM7780-JOUR7280/python-for-data-and-media-communication/venv/lib/python3.6/site-packages (from wordcloud)\n",
      "Requirement already satisfied: numpy>=1.6.1 in /Users/hupili/Desktop/COMM7780-JOUR7280/python-for-data-and-media-communication/venv/lib/python3.6/site-packages (from wordcloud)\n",
      "Requirement already satisfied: pillow in /Users/hupili/Desktop/COMM7780-JOUR7280/python-for-data-and-media-communication/venv/lib/python3.6/site-packages (from wordcloud)\n",
      "Requirement already satisfied: python-dateutil>=2.1 in /Users/hupili/Desktop/COMM7780-JOUR7280/python-for-data-and-media-communication/venv/lib/python3.6/site-packages (from matplotlib->wordcloud)\n",
      "Requirement already satisfied: cycler>=0.10 in /Users/hupili/Desktop/COMM7780-JOUR7280/python-for-data-and-media-communication/venv/lib/python3.6/site-packages (from matplotlib->wordcloud)\n",
      "Requirement already satisfied: pytz in /Users/hupili/Desktop/COMM7780-JOUR7280/python-for-data-and-media-communication/venv/lib/python3.6/site-packages (from matplotlib->wordcloud)\n",
      "Requirement already satisfied: six>=1.10 in /Users/hupili/Desktop/COMM7780-JOUR7280/python-for-data-and-media-communication/venv/lib/python3.6/site-packages (from matplotlib->wordcloud)\n",
      "Requirement already satisfied: pyparsing!=2.0.4,!=2.1.2,!=2.1.6,>=2.0.1 in /Users/hupili/Desktop/COMM7780-JOUR7280/python-for-data-and-media-communication/venv/lib/python3.6/site-packages (from matplotlib->wordcloud)\n",
      "Installing collected packages: wordcloud\n",
      "  Running setup.py install for wordcloud ... \u001b[?25ldone\n",
      "\u001b[?25hSuccessfully installed wordcloud-1.4\n"
     ]
    }
   ],
   "source": [
    "!pip install wordcloud"
   ]
  },
  {
   "cell_type": "code",
   "execution_count": 48,
   "metadata": {},
   "outputs": [],
   "source": [
    "from wordcloud import WordCloud\n",
    "wc = WordCloud()"
   ]
  },
  {
   "cell_type": "code",
   "execution_count": 49,
   "metadata": {},
   "outputs": [
    {
     "data": {
      "text/plain": [
       "<wordcloud.wordcloud.WordCloud at 0x11e535710>"
      ]
     },
     "execution_count": 49,
     "metadata": {},
     "output_type": "execute_result"
    }
   ],
   "source": [
    "wc.generate_from_frequencies(dict(fd.most_common(30)))"
   ]
  },
  {
   "cell_type": "code",
   "execution_count": 50,
   "metadata": {},
   "outputs": [],
   "source": [
    "from IPython.display import Image"
   ]
  },
  {
   "cell_type": "code",
   "execution_count": 51,
   "metadata": {},
   "outputs": [],
   "source": [
    "w = wc.generate_from_frequencies(dict(fd.most_common(30)))"
   ]
  },
  {
   "cell_type": "code",
   "execution_count": 52,
   "metadata": {},
   "outputs": [
    {
     "data": {
      "text/plain": [
       "(-0.5, 399.5, 199.5, -0.5)"
      ]
     },
     "execution_count": 52,
     "metadata": {},
     "output_type": "execute_result"
    },
    {
     "data": {
      "image/png": "[encoded data removed]",
      "text/plain": [
       "<matplotlib.figure.Figure at 0x11e5894a8>"
      ]
     },
     "metadata": {},
     "output_type": "display_data"
    }
   ],
   "source": [
    "import matplotlib.pyplot as plt\n",
    "plt.imshow(w)\n",
    "plt.axis('off')"
   ]
  },
  {
   "cell_type": "code",
   "execution_count": 53,
   "metadata": {},
   "outputs": [],
   "source": [
    "from nltk.corpus import stopwords"
   ]
  },
  {
   "cell_type": "code",
   "execution_count": 58,
   "metadata": {},
   "outputs": [
    {
     "data": {
      "text/plain": [
       "['i', 'me', 'my', 'myself', 'we', 'our', 'ours', 'ourselves', 'you', \"you're\"]"
      ]
     },
     "execution_count": 58,
     "metadata": {},
     "output_type": "execute_result"
    }
   ],
   "source": [
    "stopwords.words('english')[:10]"
   ]
  },
  {
   "cell_type": "code",
   "execution_count": 64,
   "metadata": {},
   "outputs": [
    {
     "data": {
      "text/plain": [
       "(-0.5, 399.5, 199.5, -0.5)"
      ]
     },
     "execution_count": 64,
     "metadata": {},
     "output_type": "execute_result"
    },
    {
     "data": {
      "image/png": "[encoded data removed]",
      "text/plain": [
       "<matplotlib.figure.Figure at 0x11e67ac88>"
      ]
     },
     "metadata": {},
     "output_type": "display_data"
    }
   ],
   "source": [
    "myfd_wo_sw = {}\n",
    "stop = set(stopwords.words('english'))\n",
    "stop |= {'@', '#', 'https', '?'}\n",
    "for (k, v) in fd.most_common(100):\n",
    "    if k not in stop:\n",
    "        myfd_wo_sw[k] = v\n",
    "w = wc.generate_from_frequencies(myfd_wo_sw)\n",
    "plt.imshow(w, interpolation='bilinear')\n",
    "plt.axis('off')"
   ]
  },
  {
   "cell_type": "code",
   "execution_count": 65,
   "metadata": {},
   "outputs": [],
   "source": [
    "import string"
   ]
  },
  {
   "cell_type": "code",
   "execution_count": 66,
   "metadata": {},
   "outputs": [
    {
     "data": {
      "text/plain": [
       "'!\"#$%&\\'()*+,-./:;<=>?@[\\\\]^_`{|}~'"
      ]
     },
     "execution_count": 66,
     "metadata": {},
     "output_type": "execute_result"
    }
   ],
   "source": [
    "string.punctuation"
   ]
  },
  {
   "cell_type": "code",
   "execution_count": 67,
   "metadata": {},
   "outputs": [
    {
     "data": {
      "text/plain": [
       "(-0.5, 399.5, 199.5, -0.5)"
      ]
     },
     "execution_count": 67,
     "metadata": {},
     "output_type": "execute_result"
    },
    {
     "data": {
      "image/png": "[encoded data removed]",
      "text/plain": [
       "<matplotlib.figure.Figure at 0x11eaf5be0>"
      ]
     },
     "metadata": {},
     "output_type": "display_data"
    }
   ],
   "source": [
    "myfd_wo_sw = {}\n",
    "stop = set(stopwords.words('english'))\n",
    "stop |= {'@', '#', 'https', '?'}\n",
    "stop |= set(p for p in string.punctuation)\n",
    "for (k, v) in fd.most_common(100):\n",
    "    if k not in stop:\n",
    "        myfd_wo_sw[k] = v\n",
    "w = wc.generate_from_frequencies(myfd_wo_sw)\n",
    "plt.imshow(w, interpolation='bilinear')\n",
    "plt.axis('off')"
   ]
  },
  {
   "cell_type": "code",
   "execution_count": 69,
   "metadata": {},
   "outputs": [
    {
     "data": {
      "text/plain": [
       "(-0.5, 399.5, 199.5, -0.5)"
      ]
     },
     "execution_count": 69,
     "metadata": {},
     "output_type": "execute_result"
    },
    {
     "data": {
      "image/png": "[encoded data removed]",
      "text/plain": [
       "<matplotlib.figure.Figure at 0x11ebf8748>"
      ]
     },
     "metadata": {},
     "output_type": "display_data"
    }
   ],
   "source": [
    "myfd_wo_sw = {}\n",
    "stop = set(stopwords.words('english'))\n",
    "stop |= {'@', '#', 'https', '?', '...', \"'\"}\n",
    "stop |= set(p for p in string.punctuation)\n",
    "for (k, v) in fd.most_common(100):\n",
    "    if k not in stop:\n",
    "        myfd_wo_sw[k] = v\n",
    "w = wc.generate_from_frequencies(myfd_wo_sw)\n",
    "plt.imshow(w, interpolation='bilinear')\n",
    "plt.axis('off')"
   ]
  },
  {
   "cell_type": "code",
   "execution_count": 71,
   "metadata": {},
   "outputs": [
    {
     "name": "stdout",
     "output_type": "stream",
     "text": [
      "Collecting textblob\n",
      "  Downloading textblob-0.15.1-py2.py3-none-any.whl (631kB)\n",
      "\u001b[K    100% |████████████████████████████████| 634kB 2.5MB/s eta 0:00:01\n",
      "\u001b[?25hRequirement already satisfied: nltk>=3.1 in /Users/hupili/Desktop/COMM7780-JOUR7280/python-for-data-and-media-communication/venv/lib/python3.6/site-packages (from textblob)\n",
      "Requirement already satisfied: six in /Users/hupili/Desktop/COMM7780-JOUR7280/python-for-data-and-media-communication/venv/lib/python3.6/site-packages (from nltk>=3.1->textblob)\n",
      "Installing collected packages: textblob\n",
      "Successfully installed textblob-0.15.1\n"
     ]
    }
   ],
   "source": [
    "!pip install textblob"
   ]
  },
  {
   "cell_type": "code",
   "execution_count": 72,
   "metadata": {},
   "outputs": [],
   "source": [
    "from textblob import TextBlob"
   ]
  },
  {
   "cell_type": "code",
   "execution_count": 76,
   "metadata": {},
   "outputs": [
    {
     "data": {
      "text/plain": [
       "0.16666666666666669"
      ]
     },
     "execution_count": 76,
     "metadata": {},
     "output_type": "execute_result"
    }
   ],
   "source": [
    "TextBlob(df.ix[1]['text']).sentiment.polarity"
   ]
  },
  {
   "cell_type": "code",
   "execution_count": 78,
   "metadata": {},
   "outputs": [],
   "source": [
    "def get_sentiment(x):\n",
    "    return TextBlob(x).sentiment.polarity\n",
    "# .fillna convert the NaN values into string format\n",
    "df['sentiment-polarity'] = df['text'].fillna('').apply(get_sentiment)"
   ]
  },
  {
   "cell_type": "code",
   "execution_count": 84,
   "metadata": {},
   "outputs": [
    {
     "data": {
      "text/plain": [
       "<matplotlib.axes._subplots.AxesSubplot at 0x11e2c2278>"
      ]
     },
     "execution_count": 84,
     "metadata": {},
     "output_type": "execute_result"
    },
    {
     "data": {
      "image/png": "[encoded data removed]",
      "text/plain": [
       "<matplotlib.figure.Figure at 0x11eb05940>"
      ]
     },
     "metadata": {},
     "output_type": "display_data"
    }
   ],
   "source": [
    "df['sentiment-polarity'].hist(bins=20)"
   ]
  },
  {
   "cell_type": "code",
   "execution_count": 87,
   "metadata": {},
   "outputs": [
    {
     "data": {
      "text/plain": [
       "<matplotlib.axes._subplots.AxesSubplot at 0x11ea9c278>"
      ]
     },
     "execution_count": 87,
     "metadata": {},
     "output_type": "execute_result"
    },
    {
     "data": {
      "image/png": "[encoded data removed]",
      "text/plain": [
       "<matplotlib.figure.Figure at 0x11e70d080>"
      ]
     },
     "metadata": {},
     "output_type": "display_data"
    }
   ],
   "source": [
    "def select_trump(x):\n",
    "    return 'trump' in x.lower()\n",
    "df[df['text'].fillna('').apply(select_trump)]['sentiment-polarity'].hist(bins=20)"
   ]
  },
  {
   "cell_type": "code",
   "execution_count": 90,
   "metadata": {},
   "outputs": [
    {
     "data": {
      "text/plain": [
       "40002"
      ]
     },
     "execution_count": 90,
     "metadata": {},
     "output_type": "execute_result"
    }
   ],
   "source": [
    "len(df[df['text'].fillna('').apply(select_trump)])"
   ]
  },
  {
   "cell_type": "code",
   "execution_count": 88,
   "metadata": {},
   "outputs": [
    {
     "data": {
      "text/plain": [
       "<matplotlib.axes._subplots.AxesSubplot at 0x11ec0bcc0>"
      ]
     },
     "execution_count": 88,
     "metadata": {},
     "output_type": "execute_result"
    },
    {
     "data": {
      "image/png": "[encoded data removed]",
      "text/plain": [
       "<matplotlib.figure.Figure at 0x10689b128>"
      ]
     },
     "metadata": {},
     "output_type": "display_data"
    }
   ],
   "source": [
    "def select_hillary(x):\n",
    "    return 'hillary' in x.lower()\n",
    "df[df['text'].fillna('').apply(select_hillary)]['sentiment-polarity'].hist(bins=20)"
   ]
  },
  {
   "cell_type": "code",
   "execution_count": 89,
   "metadata": {},
   "outputs": [
    {
     "data": {
      "text/plain": [
       "17755"
      ]
     },
     "execution_count": 89,
     "metadata": {},
     "output_type": "execute_result"
    }
   ],
   "source": [
    "len(df[df['text'].fillna('').apply(select_hillary)])"
   ]
  },
  {
   "cell_type": "code",
   "execution_count": 93,
   "metadata": {},
   "outputs": [
    {
     "data": {
      "text/plain": [
       "{'clinton', 'trump', '’ ve'}"
      ]
     },
     "execution_count": 93,
     "metadata": {},
     "output_type": "execute_result"
    }
   ],
   "source": [
    "set(TextBlob(df.ix[1]['text']).noun_phrases)"
   ]
  },
  {
   "cell_type": "code",
   "execution_count": 94,
   "metadata": {},
   "outputs": [
    {
     "name": "stdout",
     "output_type": "stream",
     "text": [
      "15386\n",
      "nan\n",
      "The `text` argument passed to `__init__(text)` must be a string, not <class 'float'>\n",
      "61098\n",
      "nan\n",
      "The `text` argument passed to `__init__(text)` must be a string, not <class 'float'>\n",
      "64910\n",
      "nan\n",
      "The `text` argument passed to `__init__(text)` must be a string, not <class 'float'>\n",
      "70979\n",
      "nan\n",
      "The `text` argument passed to `__init__(text)` must be a string, not <class 'float'>\n",
      "72499\n",
      "nan\n",
      "The `text` argument passed to `__init__(text)` must be a string, not <class 'float'>\n",
      "76067\n",
      "nan\n",
      "The `text` argument passed to `__init__(text)` must be a string, not <class 'float'>\n",
      "76780\n",
      "nan\n",
      "The `text` argument passed to `__init__(text)` must be a string, not <class 'float'>\n",
      "83491\n",
      "nan\n",
      "The `text` argument passed to `__init__(text)` must be a string, not <class 'float'>\n",
      "113973\n",
      "nan\n",
      "The `text` argument passed to `__init__(text)` must be a string, not <class 'float'>\n",
      "117214\n",
      "nan\n",
      "The `text` argument passed to `__init__(text)` must be a string, not <class 'float'>\n",
      "131982\n",
      "nan\n",
      "The `text` argument passed to `__init__(text)` must be a string, not <class 'float'>\n",
      "135453\n",
      "nan\n",
      "The `text` argument passed to `__init__(text)` must be a string, not <class 'float'>\n",
      "139096\n",
      "nan\n",
      "The `text` argument passed to `__init__(text)` must be a string, not <class 'float'>\n",
      "143441\n",
      "nan\n",
      "The `text` argument passed to `__init__(text)` must be a string, not <class 'float'>\n",
      "155693\n",
      "nan\n",
      "The `text` argument passed to `__init__(text)` must be a string, not <class 'float'>\n",
      "156892\n",
      "nan\n",
      "The `text` argument passed to `__init__(text)` must be a string, not <class 'float'>\n",
      "165212\n",
      "nan\n",
      "The `text` argument passed to `__init__(text)` must be a string, not <class 'float'>\n",
      "184497\n",
      "nan\n",
      "The `text` argument passed to `__init__(text)` must be a string, not <class 'float'>\n",
      "188311\n",
      "nan\n",
      "The `text` argument passed to `__init__(text)` must be a string, not <class 'float'>\n",
      "188882\n",
      "nan\n",
      "The `text` argument passed to `__init__(text)` must be a string, not <class 'float'>\n",
      "194601\n",
      "nan\n",
      "The `text` argument passed to `__init__(text)` must be a string, not <class 'float'>\n",
      "203461\n"
     ]
    }
   ],
   "source": [
    "nouns = set()\n",
    "total = 0\n",
    "for text in df['text'].values:\n",
    "    try:\n",
    "        nouns |= set(TextBlob(text).noun_phrases)\n",
    "        total += 1\n",
    "    except Exception as e:\n",
    "        print(total)\n",
    "        print(text)\n",
    "        print(e)\n",
    "print(total)"
   ]
  },
  {
   "cell_type": "code",
   "execution_count": 97,
   "metadata": {},
   "outputs": [
    {
     "data": {
      "text/plain": [
       "{'financialcrisis',\n",
       " 'runs circles',\n",
       " '@ absurdistwords',\n",
       " 'tejano',\n",
       " 'full freedom',\n",
       " '@ weird4',\n",
       " 'yunger generation need',\n",
       " 'outsourced',\n",
       " 'heysannahosanna',\n",
       " '😙 @',\n",
       " 'new name',\n",
       " 'fo…',\n",
       " 'shaq',\n",
       " 'obama-kerry',\n",
       " 'aurait-il compris que',\n",
       " 'memory rests',\n",
       " '//t.co/xjbg35dk4w @',\n",
       " 'suppress blacks',\n",
       " 'videos # onhere',\n",
       " '@ misstozak @',\n",
       " 'stupid—it',\n",
       " 'dailyplanet',\n",
       " 'gay # itsok2begay',\n",
       " 'maryland sen',\n",
       " '//t.co/duovkjuuho http',\n",
       " 'ccpd male',\n",
       " 'here… https',\n",
       " 'isa__312',\n",
       " '@ diana_west_ @',\n",
       " '//t.co/0pjf5csqhf # p2 #',\n",
       " 'nypd on clinton foundation',\n",
       " 'palme',\n",
       " 'red road #',\n",
       " 'every1 free all nite',\n",
       " 'wish they would try to take out the piece of shit obama',\n",
       " '# mparkertng',\n",
       " 'singer stays sexy',\n",
       " \"'s brand https\",\n",
       " '🐶🇺🇸 https',\n",
       " 'side eye',\n",
       " 'college snowflakes •',\n",
       " '@ twtarte',\n",
       " 'potus gets over',\n",
       " 'hacking narrative',\n",
       " 'surrounded',\n",
       " 'kathclesage',\n",
       " '@ theabundantgift #',\n",
       " '@ _digoutyoursoul',\n",
       " 'long time.…',\n",
       " 'get-tough talk',\n",
       " 'political ilk',\n",
       " '@ andcoke',\n",
       " 'donlogicc',\n",
       " '@ joycesheperd @ michael_j_bond',\n",
       " 'gangsta rap https',\n",
       " 'livelife🤘🏽🙏🏾',\n",
       " 'foreign policy #',\n",
       " '@ itsbraxtonrayan',\n",
       " 'for… https',\n",
       " 'muss man fördern',\n",
       " '@ aliciakeys',\n",
       " '//t.co/sbbak6vxu0 @',\n",
       " 'obamacare lie',\n",
       " 'work altogether',\n",
       " 'sfba…',\n",
       " 'pussy attack',\n",
       " 'keepitrealtea…',\n",
       " 'ya shirt',\n",
       " 'ein vollständiges',\n",
       " 'sos isis',\n",
       " 'platinumrosel',\n",
       " '//t.co/quwjdqkegq https',\n",
       " 'playoff record',\n",
       " '@ seanhann…',\n",
       " 'flashback=',\n",
       " 'new opport…',\n",
       " 'westerosi',\n",
       " 'prisoners',\n",
       " 'stormhour',\n",
       " 'willamettem',\n",
       " 'big jobs',\n",
       " \"brand 's\",\n",
       " 'dont report',\n",
       " '@ mainmusings',\n",
       " 'sexy song http',\n",
       " 'imold',\n",
       " '@ brittrusert',\n",
       " 'finds russia intentionally influenced',\n",
       " 'baltics does',\n",
       " 'support ice',\n",
       " 'pres poroshenko scrambling',\n",
       " 'dakota access pipeline projects',\n",
       " 'abbiate',\n",
       " 'nuts',\n",
       " 'day64',\n",
       " '# ticket buyers',\n",
       " 'lauschjack',\n",
       " '@ abowersock',\n",
       " 'actbrigitte betsy devos acted',\n",
       " 'terrorists against',\n",
       " 'sean hann',\n",
       " 'stop believin',\n",
       " 'chip2chip2',\n",
       " 'aw…',\n",
       " '//t.co/vjfpv92ttb https',\n",
       " 'needs last-ditch surge https',\n",
       " '//t.co/wlcssp7qps https',\n",
       " '@ realdonaldtrump guy',\n",
       " 'eu-austritt',\n",
       " 'torstensjoberg',\n",
       " '//t.co/xtetgqkmcs #',\n",
       " '//t.co/hvvrt3gaqb @ shim_rational @',\n",
       " 'friends w/a democrat.they cond…',\n",
       " 'leaked dt tape rumored',\n",
       " '//t.co/hisu0hpneu # politics | https',\n",
       " 'compare👇',\n",
       " '# pjnet # tcot # ccot http…',\n",
       " \"'s border wall https\",\n",
       " 'lathaisloor',\n",
       " 'sharonkyle00',\n",
       " 'suck #',\n",
       " 'ryjamesg',\n",
       " '//t.co/1r1uboipgh https',\n",
       " 'nokoolaide',\n",
       " 'lecturing… https',\n",
       " 'makeamericasickagain',\n",
       " 'inspirational stories',\n",
       " 'victims lawsuit bill # politics',\n",
       " '//t.co/sbhantew8e https',\n",
       " 'media @',\n",
       " 'ugly face ’',\n",
       " 'bukanas',\n",
       " 'cair-mi',\n",
       " '//t.co/dorm2neail https',\n",
       " 'they spew lies',\n",
       " 'tonganoxie',\n",
       " 'rebel forces rips',\n",
       " '//t.co/2jfwr8et93 https',\n",
       " 'odpm',\n",
       " '$ 25k',\n",
       " '# nhsen https',\n",
       " '@ lillas8 @ bcwilliams92',\n",
       " '@ ddale8',\n",
       " 'o o o o',\n",
       " 'bad judgment',\n",
       " 'edsheeran',\n",
       " 'sexist',\n",
       " 'thugs attack',\n",
       " '//t.co/euvwqkr5qf https',\n",
       " '@ sodagrrl',\n",
       " 'latest hrrr',\n",
       " 'grundlage',\n",
       " 'racial vendetta',\n",
       " 'tuskegee airmen mutiny',\n",
       " 'mccain-is-a-maverick story w/o',\n",
       " '@ dannyreallife',\n",
       " \"'s initiatives\",\n",
       " \"qu'il revienne\",\n",
       " 'faked',\n",
       " 'chris_mentzer',\n",
       " 'extortion17',\n",
       " '’ s role',\n",
       " 'whole dismemberment thing',\n",
       " 'protesters shut',\n",
       " 'trumppence16 believe',\n",
       " '💗 https',\n",
       " '@ creepingsharia',\n",
       " 'internetofthings',\n",
       " 'mathematical meaning',\n",
       " 'entire tax',\n",
       " 'college ends',\n",
       " 'high profile',\n",
       " 'american steel workers',\n",
       " 'deportation raids',\n",
       " 'trousers http',\n",
       " 'brother does clinton',\n",
       " '//t.co/vrgkthflbw # news',\n",
       " 'reagan years',\n",
       " 'hates',\n",
       " '//t.co/mixlr7upy2 #',\n",
       " 'theemikelang',\n",
       " 'highlights # news',\n",
       " 'matteo renzi',\n",
       " '//t.co/qwmo83xx1v # politics',\n",
       " 'alexanjk',\n",
       " \"beyaz saray'da\",\n",
       " '//t.co/ezwa2qiox6 http',\n",
       " 'us workers don ’ t',\n",
       " 'n. wichita',\n",
       " 'arkivenation',\n",
       " 'apartheid israel',\n",
       " '-djt #',\n",
       " \"history 's\",\n",
       " 'huey p. newton',\n",
       " '@ realdonaldtrump t… https',\n",
       " '@ colear7',\n",
       " '//t.co/dii3ofvujy # politics',\n",
       " 'party candidate.once',\n",
       " 'ok darth priebus',\n",
       " 'by-election result',\n",
       " 'greenfraud',\n",
       " 'accusations # politics',\n",
       " 'circulates flash drives',\n",
       " 'shame rising',\n",
       " 'nowlistening',\n",
       " 'word ... https',\n",
       " '@ jvbt82hhs',\n",
       " 'jocey2003',\n",
       " 'jeremy coller',\n",
       " 'pro life marchers',\n",
       " '’ s nonsense ’ https',\n",
       " 'shopseasoncaps',\n",
       " 'sunny',\n",
       " 'translation',\n",
       " '//t.co/qcqowxbizn # politics',\n",
       " 'dean winchester',\n",
       " 'pretty funny',\n",
       " 'govern',\n",
       " 'dreamer',\n",
       " 'christmasaftermath obama',\n",
       " 'oregon…',\n",
       " 'great character',\n",
       " 'sind auch gerade alle',\n",
       " 'them raping little',\n",
       " 'einer dramatischen',\n",
       " 'prison @',\n",
       " 'politico reporter glenn',\n",
       " 'dan_b899',\n",
       " 'orwell_2012',\n",
       " '⤵ @ foxnews @',\n",
       " '//t.co/qxjoyl9rov via…',\n",
       " 'radinabulsi',\n",
       " 'sparks1sharon',\n",
       " 'luvklp212229',\n",
       " 'sean duffy',\n",
       " 'american debate moderator',\n",
       " 'biggest supporters',\n",
       " '# usa https',\n",
       " 'animal id',\n",
       " 'democrats… https',\n",
       " 'cuban meeseeks crisis',\n",
       " 'baneff5',\n",
       " \"'m turning\",\n",
       " 'pbp radio',\n",
       " 'fashawn',\n",
       " '@ hmaxwellpitts',\n",
       " 'alpha male',\n",
       " '@ rochalorena400',\n",
       " 'terminated',\n",
       " 'pool/card shark',\n",
       " '😅 #',\n",
       " 'thewalkingdead',\n",
       " 'tree hugger',\n",
       " 'mushroom risotto',\n",
       " '@ wkamaubell',\n",
       " 'sick land',\n",
       " 'fees a…',\n",
       " 'hwl53',\n",
       " 'bernard hopkins',\n",
       " 'ceressuicide',\n",
       " '@ troypotter27',\n",
       " 'secretly edits',\n",
       " '– oder',\n",
       " 'public lands https',\n",
       " 'dzhokhar tsarnaev',\n",
       " 'bruh delete',\n",
       " 'quick chat',\n",
       " 'skinny jeans',\n",
       " '# missingdcgirls @',\n",
       " '//t.co/alglj9t8ct https',\n",
       " '😂 -djt…',\n",
       " 'trump kicks pro-amnesty',\n",
       " 'evitate comm…',\n",
       " 'delete voter registrations',\n",
       " 'gleeful mouthpiece',\n",
       " 'alt-right recruitment wet dream',\n",
       " '@ allen_tonya',\n",
       " 'tel ... #',\n",
       " '18-year-old kid',\n",
       " 'upset w/',\n",
       " 'das bundeskanzleramt',\n",
       " 'mask',\n",
       " 'oder wie geduldig sind',\n",
       " 'venue in…',\n",
       " 'hashtagzoo',\n",
       " '@ sarahsophief',\n",
       " '.boom @',\n",
       " 'cast your votes',\n",
       " '//t.co/fs9myrrk1y #',\n",
       " 'animals #',\n",
       " '@ sza sizzle',\n",
       " 'madeleine mccann',\n",
       " 'probabletrumpstweets obama',\n",
       " 'will donald trump',\n",
       " '@ alshipley',\n",
       " 'lynnmarki',\n",
       " '@ ukleave_eu @',\n",
       " \"woman 's basement\",\n",
       " 'cliffwilkin',\n",
       " 'more police terror',\n",
       " 'warmbathwater',\n",
       " 'putindidit',\n",
       " 'abortion industry',\n",
       " '@ lmoffatt2009',\n",
       " 'prejudice #',\n",
       " 'icymi john mccain',\n",
       " 'podernfamil…',\n",
       " 'yorkers',\n",
       " 'pp views',\n",
       " 'tech landscape #',\n",
       " 'tim kaine admits',\n",
       " '@ darrylrouson',\n",
       " 'malaysia_latest',\n",
       " 'president-elect @ realdonaldtrump transition team',\n",
       " '//t.co/e0hmwquvbn #',\n",
       " 'nlgnews',\n",
       " 'thingsdonebymistake answering',\n",
       " '//t.co/rrk2iynmek https',\n",
       " '@ witchykrissy',\n",
       " '@ euronewsit',\n",
       " 'black high-school girl',\n",
       " \"'s trap\",\n",
       " 'were right',\n",
       " 'humoritarian lucky',\n",
       " '//t.co/xui6xbftiu # politics',\n",
       " 'a_zulvica',\n",
       " 'racist.. #',\n",
       " 'new email investigation ht…',\n",
       " 'hashtag…',\n",
       " 'watch them',\n",
       " 'paleontologists determine dinosaurs were killed',\n",
       " 'foundation https',\n",
       " 'early afternoon',\n",
       " 'lbperfectmaine',\n",
       " 'transfer forward',\n",
       " '//t.co/t8qezhnqwh https',\n",
       " 'time for gays hispanics and african americans to leave the democrat plantation proud gay male for donald trump',\n",
       " 'elena07617349 grande elena',\n",
       " 'starts cc',\n",
       " '//t.co/ahnwwaijld # news',\n",
       " 'docto…',\n",
       " '# diagnosis',\n",
       " 'p-hat…',\n",
       " 'island views',\n",
       " '//t.co/jmtmny4nap https',\n",
       " '@ midnight @ netflix',\n",
       " 'hillaryclinton where are you',\n",
       " '//t.co/xhndysnc44 https',\n",
       " 'stopsanctuarycities',\n",
       " 'anjunagarajan',\n",
       " 'constructive criticism',\n",
       " 'ordinary middle class us citizen',\n",
       " 'walmartnewsroom',\n",
       " 'secret society 🙏🏿 https',\n",
       " '//t.co/sfxir85nyi https',\n",
       " '//t.co/dhumpc1boo @',\n",
       " 'snl sketch',\n",
       " '@ cjharrispretzer',\n",
       " '@ realdonaldtrump ☺ #',\n",
       " '‘ out-of-sync ’ https',\n",
       " \"'s artist ...\",\n",
       " 'acceleration ep',\n",
       " \"left 's building\",\n",
       " 'food https',\n",
       " 'ft quadiffi',\n",
       " 'extreme vetting‼️',\n",
       " 'machine gun kelly x camila cabello',\n",
       " '@ pasocash',\n",
       " 'debate # debates #',\n",
       " 'local foods',\n",
       " 'crooked hillary clinton',\n",
       " 'wikileaks conspiracy theory',\n",
       " 'ctrlsec',\n",
       " 'never falling',\n",
       " 'important diversity',\n",
       " 'stable https',\n",
       " 'litter box overflows',\n",
       " '@ queenadalite',\n",
       " 'beinghuman',\n",
       " 'coolest must-have car accessories',\n",
       " 'illegal tax scams https',\n",
       " 'michelleobama',\n",
       " 'wowwwwwwwwwwwww',\n",
       " 'jimmy kimmel hillary clinton',\n",
       " '@ workbench59',\n",
       " 'liberal press',\n",
       " 'specter',\n",
       " 'great music',\n",
       " 'new shitty music #',\n",
       " 'deepen us engagement',\n",
       " 'fake mail-in ballots',\n",
       " 'though👇🏻 https',\n",
       " 'popular election #',\n",
       " 'louie',\n",
       " '@ midmight',\n",
       " '//t.co/m7501uxzep #',\n",
       " 'tariff',\n",
       " 'helping hillary',\n",
       " 'reporter',\n",
       " 'moon…',\n",
       " 'wiener dog races',\n",
       " '$ 2m',\n",
       " \"media 's brainwash\",\n",
       " 'jillnothill berners',\n",
       " 'tout',\n",
       " 'tegel',\n",
       " '//t.co/grquricyez https',\n",
       " 'holidailments christmas',\n",
       " 'stongest',\n",
       " 'evocative https',\n",
       " 'flips off atheists',\n",
       " '//t.co/ubsidpbhcr https',\n",
       " 'nickapappas',\n",
       " 'politicalfire76',\n",
       " 'duty free-',\n",
       " 'receiving death threats',\n",
       " '//t.co/wmmnrphvbe # tcot',\n",
       " 'ynaija',\n",
       " '//t.co/9f5qtofwmh https',\n",
       " 'deplorable speech',\n",
       " 'no pay',\n",
       " 'blind ...',\n",
       " 'loose cannon',\n",
       " 'cell killer',\n",
       " 'sacrifice lamb',\n",
       " 'spotifyplaylist',\n",
       " '# adalet https',\n",
       " '//t.co/oukwxe2k7c # news https',\n",
       " '@ rrz8100pk',\n",
       " 'past couple',\n",
       " 'wer von seiner',\n",
       " '//t.co/4aipezqugz @ thehypemaga…',\n",
       " '@ cyote6',\n",
       " 'non-human entities',\n",
       " '@ incognitorva',\n",
       " 'successfully trolls donald trump',\n",
       " 'baybusiness',\n",
       " '@ youngdems @ youngcons @',\n",
       " 'with wikileaks',\n",
       " 'semperficop',\n",
       " 'ass clown',\n",
       " '//t.co/afouyv6p9m http',\n",
       " 'church members',\n",
       " 'admin https',\n",
       " 'actions against russia may have violated',\n",
       " 'farmville2',\n",
       " '@ tmcsjgw18',\n",
       " 'chrissale',\n",
       " '$ 100/night',\n",
       " 'wesleyrickard',\n",
       " 'chrisgibsonnews',\n",
       " 'informative video',\n",
       " 'menace',\n",
       " 'bringbern…',\n",
       " 'badmoodkermit',\n",
       " '//t.co/rctjxdh9mi · # bitcoin https',\n",
       " 'thier friends',\n",
       " 'senator @',\n",
       " 'michaelvdgalien',\n",
       " '# 4wordgreatideas',\n",
       " 'jim..you',\n",
       " 'big whopper',\n",
       " 'conservative summit',\n",
       " 'nov.',\n",
       " 'deke',\n",
       " 'liberal democrats',\n",
       " 'owner backs #',\n",
       " 'localism',\n",
       " 'dirty dossier',\n",
       " 'subect',\n",
       " 'tyrone s. woods',\n",
       " \"..he 's\",\n",
       " 'putin blasts shameless',\n",
       " 'brandiron',\n",
       " \"'s downfall\",\n",
       " 'west point',\n",
       " '@ mamazgirlz',\n",
       " 'concept',\n",
       " '@ agent_it @ workbench59 @',\n",
       " 'riot gear',\n",
       " 'mz',\n",
       " '//t.co/absor9dz2f #',\n",
       " 'badboybangerz',\n",
       " 'tiki',\n",
       " '@ breakingnews740',\n",
       " 'allisonhawn',\n",
       " '//t.co/hrrb9vck7b https',\n",
       " 'you❤️ https',\n",
       " 'natsec advisor',\n",
       " 'safe spaces 👍🏻 https',\n",
       " '@ dbongino',\n",
       " 'womensanguish',\n",
       " 'rascalflatts',\n",
       " 'midwest america',\n",
       " 'vda_online auf',\n",
       " \"perjured herself'\",\n",
       " '//t.co/nmoabolg6o #',\n",
       " 'fly t…',\n",
       " 'obamalegacyoffailures',\n",
       " 'dropping joint chiefs',\n",
       " '//t.co/0n9h3rddyq #',\n",
       " 'february auto',\n",
       " 'naked bike ride',\n",
       " 'factual argument…',\n",
       " 'kris dunn',\n",
       " 'votetogether',\n",
       " 'questionable characters',\n",
       " 'aurora_313poet',\n",
       " 'herr trittin',\n",
       " '//t.co/ckfejszgg4 #',\n",
       " 'malign #',\n",
       " 'gogottagonow',\n",
       " 'military plan',\n",
       " '//t.co/a01ylfs2i1 #',\n",
       " 'michael moore defiantly protested trump',\n",
       " 'hillaryshealth hillary',\n",
       " 'double homicide.. late-te…',\n",
       " '# reverbnation https',\n",
       " 'clinton or trump',\n",
       " 'super smart people',\n",
       " 'icecoldagent',\n",
       " 'fighters abandon',\n",
       " 'massive military exercises https',\n",
       " 'paullam52712719',\n",
       " 'sept11',\n",
       " 'fbi gave',\n",
       " '//t.co/yhbfrrg67t # politics | https',\n",
       " 'когда заканчивается срок годности америки',\n",
       " 'trishdlamini um..ok',\n",
       " 'versa',\n",
       " 'healthier than mr trump',\n",
       " 'gabriel schoenfeld',\n",
       " 'ouzo haza',\n",
       " 'got ta go',\n",
       " '//t.co/giwswxdvk0 # hero #',\n",
       " '//t.co/a1yrlomsua https',\n",
       " 'unter anderem für',\n",
       " 'dass dort nicht unsere',\n",
       " '//t.co/s4soudko1g @',\n",
       " '@ sneakyvarmint @',\n",
       " 'ibeatdeadhorses',\n",
       " 'sentence —',\n",
       " 'final letter',\n",
       " '//t.co/jj3gstioar # politics',\n",
       " 'cnn orders censorship blackout',\n",
       " 'duz puan https',\n",
       " 'sofiasept',\n",
       " 'epa head scott pruitt',\n",
       " 'kay_angel',\n",
       " 'dolphins #',\n",
       " 'clinton diagnosis',\n",
       " 'andreas gabalier',\n",
       " 'k100_radio',\n",
       " 'antisemitic smear campaign',\n",
       " 'black voters… https',\n",
       " 'albert911emt',\n",
       " '//t.co/vtxxt1uxro https',\n",
       " 'ramdoggp',\n",
       " 'atmidnightin5words',\n",
       " 'trump eco aide wants monetary policy',\n",
       " 'eurosport_de',\n",
       " 'immigration law needs',\n",
       " 'droht dem',\n",
       " 'new anti-trump hashtag',\n",
       " 'irrelevant n…',\n",
       " 'pack government',\n",
       " 'podernfam…',\n",
       " 'water cuz',\n",
       " 'worse.. # prayforbrussels #',\n",
       " 'defending…',\n",
       " 'jayprezi',\n",
       " 'brit hume',\n",
       " \"'s 'muslim\",\n",
       " 'hillarystumped',\n",
       " 'spirit',\n",
       " 'unattractive group',\n",
       " 'unknown facts',\n",
       " 'servants',\n",
       " 'tarukmatuk',\n",
       " 'r e d',\n",
       " 'd_davemuzik',\n",
       " 'allicayaf',\n",
       " 'thede…',\n",
       " 'day weekends ...',\n",
       " 'makeabandapologize top ten list',\n",
       " 'openbordersforisrael enrichment',\n",
       " 'epicfail',\n",
       " 'fairy tales',\n",
       " 'massive show',\n",
       " 'der',\n",
       " 'democratic senator',\n",
       " 'respect…',\n",
       " 'act # 2a #',\n",
       " 'nytfury',\n",
       " 'ex-schalker',\n",
       " 'un-american sentiments',\n",
       " 'hillary clinton freed child rapist',\n",
       " 'hours crime',\n",
       " '@ 1djchoice',\n",
       " 'youre campaign',\n",
       " 'student power',\n",
       " 'babin',\n",
       " 'being pushed by the elites globalist new world order starting world war',\n",
       " '@ philba101',\n",
       " '@ axxiomm',\n",
       " 'open war propaganda',\n",
       " 'cold blood ... @ littleoldme_2 https',\n",
       " 'own house',\n",
       " '@ billg5050',\n",
       " 'hillaryhatesamericans',\n",
       " 'sexual identity issues',\n",
       " 'new book',\n",
       " 'entire sf',\n",
       " '//t.co/m1sbz5vuva # targets # iceisis # opiceisis',\n",
       " 'lil sister',\n",
       " 'mamacuda',\n",
       " '//t.co/mrbo78wrw4 # news | https',\n",
       " '@ imdiamondmarie',\n",
       " 'raided',\n",
       " '@ jamesgeorge',\n",
       " '//t.co/dq9mwx6way http',\n",
       " 'black republican fired',\n",
       " 'auburngirlx',\n",
       " 'meemaw',\n",
       " 'm.s.g.-flavored',\n",
       " '@ theironwillofus',\n",
       " 'democratic house candidates https',\n",
       " 'barr…',\n",
       " 'lkteacher129',\n",
       " 'voters tick',\n",
       " 'richardmarlesmp',\n",
       " 'nodemocracy',\n",
       " 'course @ realdonaldtrump',\n",
       " '❌ ht…',\n",
       " 'crushing',\n",
       " 'man @ wyclef w',\n",
       " 'food app',\n",
       " 'trump/deplorable stickers',\n",
       " 'hardee',\n",
       " 'oppose ben carson',\n",
       " 'tv /',\n",
       " '@ margalith',\n",
       " 'musician',\n",
       " 'kaibutsu',\n",
       " '3/18/17 https',\n",
       " '//t.co/lzmt0e7lir https',\n",
       " 'russian diplomates',\n",
       " 'girl scouts',\n",
       " 'der hamburger babyladen-besitzerin nicoletta',\n",
       " '@ afterburn739',\n",
       " 'hate crimes surge',\n",
       " 'hill ~',\n",
       " 'altstreammedia',\n",
       " '@ eyesnhearts',\n",
       " 'great author',\n",
       " \"'s life hell\",\n",
       " 'don ’ t share',\n",
       " 'scrutiny ...',\n",
       " 'unserer #',\n",
       " '@ duncanrobinson',\n",
       " 'g20-sache',\n",
       " 'american viewers',\n",
       " 'believeinyourself',\n",
       " '*random users',\n",
       " '//t.co/rweu53lsto #',\n",
       " 'shahidah omar',\n",
       " 'girlfriendnotes',\n",
       " '’ s @ oreillyfactor',\n",
       " 'zoo w',\n",
       " 'jimdorman5',\n",
       " '//t.co/f4i1uuvhkk # tcot # ccot http',\n",
       " 'dead celebs',\n",
       " 'stand i…',\n",
       " 'vanilla ice',\n",
       " 'entrepreneurix',\n",
       " 'great precaution 🙈🙉🙊',\n",
       " 'differences between he',\n",
       " '@ michele_norris',\n",
       " 'finalgirlshc',\n",
       " '//t.co/eorzyx8bvd # politics',\n",
       " 'stereotypes',\n",
       " '//t.co/rv2skt61yb https',\n",
       " 'artwednesday creation',\n",
       " 'over.. https',\n",
       " 'boygirlstuff',\n",
       " 'low energy',\n",
       " 'heidi10usa',\n",
       " 'steinwerfen',\n",
       " 'outta control',\n",
       " 'lushinnit',\n",
       " 'comacho',\n",
       " 'markets-developing',\n",
       " '//t.co/pbgbscuejm https',\n",
       " 'kellypn77',\n",
       " 'woman gang',\n",
       " 'beautiful religion',\n",
       " 'flawless enough',\n",
       " 'kamloops',\n",
       " 'francis quarles',\n",
       " 'brandon tate-brown',\n",
       " '//t.co/3lsb7s3bmj # politics',\n",
       " 'thefoundingson researching',\n",
       " 'trumpbookreport hilarious',\n",
       " 'whole bunch',\n",
       " \"'re gon na attack\",\n",
       " 'good guys w/out guns',\n",
       " 'reasons russia didn',\n",
       " 'fix s…',\n",
       " 'health is the disease of dishonesty',\n",
       " 'bunbtrillog',\n",
       " '# 31daysofhalloween # horror https',\n",
       " '@ juliusbuzzard',\n",
       " 'themrcarter87',\n",
       " 'deathpenalty',\n",
       " 'billydec',\n",
       " 'makeahorrorfilmlessscary',\n",
       " 'prend soin',\n",
       " 'video cnn will not want trump',\n",
       " 'electionfraud check vote machine paper copy',\n",
       " '@ jcrummusic',\n",
       " 'father zero chance',\n",
       " 'omarosa',\n",
       " '@ thedailybeast story',\n",
       " 'hillaryclinton youre',\n",
       " 'perfect spokesman',\n",
       " '1. sexy/scary costume 2. vodka shots 3.',\n",
       " 'dncleak list',\n",
       " 'latinoswithtrump rally',\n",
       " 'spongebob squarepants',\n",
       " 'nuclear free # nzpol https',\n",
       " 'trump land',\n",
       " 'get cnn off the air',\n",
       " '$ 916m',\n",
       " 'trobinsonn…',\n",
       " 'tedvrac',\n",
       " 'br…',\n",
       " 'moderators shouldn ’ t fact-check https',\n",
       " 'total lie',\n",
       " 'top junk-food',\n",
       " 'affiliated',\n",
       " '//t.co/piq0q1z2mk https',\n",
       " 'truth soros',\n",
       " '//t.co/zzphx1nl8i # politics',\n",
       " 'blood miracle',\n",
       " 'rosedru63',\n",
       " '@ trumpyugebot',\n",
       " 'threatens attacks',\n",
       " 'jugendlichen',\n",
       " '@ cbhelms1961',\n",
       " 'whipsmartbanky',\n",
       " 'attacks #',\n",
       " 'special prosecutor to investigate',\n",
       " 'nicolekayy_23',\n",
       " 'your blocked',\n",
       " 'native tex…',\n",
       " 'post-convention https',\n",
       " '@ joemuggs @ haydenpanettier',\n",
       " '... ..its',\n",
       " 'chintansinhp',\n",
       " '//t.co/gtkg2gynih # tcot # wiright # wiunion',\n",
       " 'antonio browns rolls up',\n",
       " 'new video tmrw',\n",
       " '//t.co/wsvzhv0uub https',\n",
       " 'anti-marijuana stance aims',\n",
       " 'cbssunday',\n",
       " 'murraynewlands',\n",
       " 'draintheswamp hillary',\n",
       " 'hillaryclinton true',\n",
       " 'black female diversity',\n",
       " 'pretty stinkin',\n",
       " '//t.co/vwos8ktqgk #',\n",
       " 'poor.. https',\n",
       " 'rockefellerrbx',\n",
       " 'nicht mal',\n",
       " 'south lawn',\n",
       " 'martineverrest',\n",
       " 'trumpweiners4',\n",
       " 'curses',\n",
       " 'box spring https',\n",
       " 'bernie maddoff',\n",
       " 'convince immigrants',\n",
       " 'dich von dem #',\n",
       " 'iamchristian',\n",
       " 'generalstrike',\n",
       " 'pounded',\n",
       " 'awkward conversations',\n",
       " 'uncle_jimbo',\n",
       " 'das freut mich aber #',\n",
       " 'elizabethgilbert',\n",
       " 'tashaan',\n",
       " 'over murder rate',\n",
       " 'cows fly',\n",
       " 'cowboyjeffsucks',\n",
       " 'mayorrgiuliani',\n",
       " '@ 888scott @ gilli5 @',\n",
       " 'chloroform',\n",
       " 'surrogate https',\n",
       " 'flight ... https',\n",
       " 'bites #',\n",
       " 'striking deals @',\n",
       " 'stumble https',\n",
       " 'waaradio',\n",
       " 'vocal samples🔥',\n",
       " 'supreme ... #',\n",
       " '# anthonyweiner wife',\n",
       " 'bethanjulie',\n",
       " '//t.co/7dlhk8ls8e https',\n",
       " 'black veteran',\n",
       " 'obama-trump transition',\n",
       " 'loyal to… https',\n",
       " 'membership…',\n",
       " '//t.co/0n3amfzarr # politics',\n",
       " 'eu',\n",
       " 'jeffbezos',\n",
       " \"qua'ran\",\n",
       " '@ realdonaldtrump lawyers',\n",
       " 'plagiarism allegations # news',\n",
       " '44th #',\n",
       " 'provocative idea',\n",
       " 'truth doesn',\n",
       " 'senate/house',\n",
       " 'degree burns',\n",
       " 'pbconnbc',\n",
       " 'jasoninthehouse',\n",
       " 'die g-20-gegner',\n",
       " 'ssgtdurant',\n",
       " 'economic wasteland..',\n",
       " 'ballot requests',\n",
       " '//t.co/tfdou9jmnc #',\n",
       " 'refugee actions',\n",
       " 'lass',\n",
       " 'right ladies',\n",
       " '//t.co/dwwdroygna @',\n",
       " '//t.co/vhc5dptlfi @',\n",
       " 'trump assaulting',\n",
       " 'betsydevos trump',\n",
       " '𝕆𝕄𝔾 @',\n",
       " \"'re offering\",\n",
       " 'lycanthropy',\n",
       " 'ones pockets',\n",
       " 'shaq-foo',\n",
       " '//t.co/8chaj9jwc5 http',\n",
       " 'black obama',\n",
       " '150k pension',\n",
       " 'truthophobe',\n",
       " 'sings backup vocals',\n",
       " 'dawn of the sniper',\n",
       " 'ryan set',\n",
       " '//t.co/jtyug5lzgf # news | https',\n",
       " 'brother @',\n",
       " 'athletes',\n",
       " 'four-year colleges',\n",
       " 'supporters |',\n",
       " '//t.co/akvdp9x35c # tcot https',\n",
       " '@ eali_98 #',\n",
       " 'sind unter',\n",
       " '# millennial',\n",
       " '//t.co/kgnv6pogyb # occupy # teapar…',\n",
       " 'mexico isn',\n",
       " 'pjnet blog showcase',\n",
       " 'longtime paris',\n",
       " \"somebody..that 's\",\n",
       " '@ babushka_tasi',\n",
       " 'whitneyhouston',\n",
       " 'great deeds',\n",
       " 'sagt mehr als',\n",
       " '# scottstots # ziplok https',\n",
       " 'lastminutegifts2016 lafortune oysters™ lafortune clams™',\n",
       " '//t.co/n7cduo46ud htt…',\n",
       " 'my5wordnewyearmotto',\n",
       " 'clapperthetapper',\n",
       " 'feb2',\n",
       " 'breakingthroughpower watch',\n",
       " 'disney legend',\n",
       " '@ jacquotbds @ un @',\n",
       " '@ daeshhun @ lellygal @',\n",
       " '# earlyvote #',\n",
       " \"'ll hand\",\n",
       " 'robo_kushu',\n",
       " 'fioyl',\n",
       " 'lady.🇺🇸',\n",
       " 'good forgivers',\n",
       " 's h o w o f f y o u r g i r l',\n",
       " 'refugee stabs woman',\n",
       " 'onhisdesk',\n",
       " 'hillarysdone',\n",
       " 'daily star',\n",
       " 'pandas https',\n",
       " '@ cliffordtopham',\n",
       " '@ midnight # fishtv',\n",
       " 'jobs will be wiped',\n",
       " '# censorship https',\n",
       " '@ metroedmonton https',\n",
       " 'live…',\n",
       " 'murder getaway vehicle',\n",
       " 'chaos candidate',\n",
       " 'beautiful friends',\n",
       " 'sign non-disclosures‼',\n",
       " 'votetrump16 donald j. trump finalizes list',\n",
       " 'vitoandvitoshow',\n",
       " 'urgentcatstampa',\n",
       " '//t.co/jifvwg3bfq #',\n",
       " 'via',\n",
       " 'michaelrwarren',\n",
       " 'u bel…',\n",
       " 'violate',\n",
       " 'all waaays',\n",
       " '@ slicklunatic',\n",
       " 'smoketown knave',\n",
       " '//t.co/v0chylq78g #',\n",
       " '@ tinyelvisbkwd',\n",
       " 'data lake security',\n",
       " 'realistic condom tattoo',\n",
       " 'clinton machine',\n",
       " '@ iamursupreme @ tedtoake1 @ mark_kelly256 @ ranman09 @ khanknee @',\n",
       " '# orioles',\n",
       " '@ jukkay777',\n",
       " 'model car paint',\n",
       " 'gameofhashtags',\n",
       " '//t.co/g8s3vc3ibj https',\n",
       " 'surrenders leverage',\n",
       " 'watch yo fuckin attitude',\n",
       " 'deplorables ”',\n",
       " 'doubleta…',\n",
       " 'willing',\n",
       " 'louis_allday',\n",
       " '‘ justice',\n",
       " 'gladysmramirezq',\n",
       " '@ pdstriannaeemii',\n",
       " '//t.co/gjxv38uobv #',\n",
       " 'duffer @',\n",
       " 'odsc',\n",
       " '//t.co/0lipdkewag https',\n",
       " '//t.co/bqc1jnctg8 # politics | https',\n",
       " '@ pmbasse',\n",
       " 'film magic',\n",
       " 'leaked audio proves',\n",
       " 'opsec',\n",
       " '**** #',\n",
       " 'massive immigration',\n",
       " 'night court #',\n",
       " 'black_intifada',\n",
       " '# 2a ht…',\n",
       " 'mysterious',\n",
       " 'broad sense',\n",
       " '//t.co/iqkpwybboj | https',\n",
       " 'american1st',\n",
       " 'new pipeline orders',\n",
       " 'ban journalists',\n",
       " 'technocratic liberalism',\n",
       " 'notoislam',\n",
       " 'startup aims',\n",
       " 'mercenaries attack native',\n",
       " 'gaffes https',\n",
       " 'hittades i källaren i',\n",
       " 'secret service https',\n",
       " 'election2012',\n",
       " 'old thing',\n",
       " 'infidelsrevenge',\n",
       " 'backer https',\n",
       " 'benswann_ ben',\n",
       " '//t.co/jrnw00fxsp via…',\n",
       " 'lorenzocastane3',\n",
       " 'declaration https',\n",
       " 'the harder they will get pushed back',\n",
       " 'schmiedin…',\n",
       " 'wird #',\n",
       " 'hawaiian marine sanctuary https',\n",
       " 'baltic',\n",
       " 'deploys carrier',\n",
       " 'so so so good',\n",
       " '//t.co/kzg38zh4hc https',\n",
       " 'ryan-quinn',\n",
       " '//t.co/qvf6rkpzma https',\n",
       " '//t.co/fqv64ogcyj # politics',\n",
       " 'abiding illegal alien',\n",
       " 'acc champs',\n",
       " 'congo',\n",
       " 'yeah rig…',\n",
       " 'shivmangal kumar',\n",
       " 'murderer shot',\n",
       " 'negative reaction',\n",
       " 'white boys https',\n",
       " \"'ll cope.…\",\n",
       " '@ rglucks1',\n",
       " 'conspiracies theories',\n",
       " '11th hour',\n",
       " 'day @',\n",
       " '//t.co/bvsjmwtasm https',\n",
       " 'poorest communities… https',\n",
       " 'showing obama',\n",
       " \"'s holiday weekend http\",\n",
       " 'happynativedaytho',\n",
       " 'u trust',\n",
       " 'hillary clinton snaps',\n",
       " 'oezlemtopcu',\n",
       " 'remy ma diss feature lil wayne',\n",
       " 'reductio',\n",
       " 'so…cute xd http',\n",
       " 'wesleydodds1',\n",
       " ...}"
      ]
     },
     "execution_count": 97,
     "metadata": {},
     "output_type": "execute_result"
    }
   ],
   "source": [
    "nouns"
   ]
  },
  {
   "cell_type": "code",
   "execution_count": 103,
   "metadata": {},
   "outputs": [],
   "source": [
    "from datetime import datetime\n",
    "from dateutil import parser"
   ]
  },
  {
   "cell_type": "code",
   "execution_count": 105,
   "metadata": {},
   "outputs": [
    {
     "data": {
      "text/plain": [
       "'3/22/2016 18:31'"
      ]
     },
     "execution_count": 105,
     "metadata": {},
     "output_type": "execute_result"
    }
   ],
   "source": [
    "df['created_str'][0]"
   ]
  },
  {
   "cell_type": "code",
   "execution_count": 104,
   "metadata": {},
   "outputs": [
    {
     "data": {
      "text/plain": [
       "datetime.datetime(2016, 3, 22, 18, 31)"
      ]
     },
     "execution_count": 104,
     "metadata": {},
     "output_type": "execute_result"
    }
   ],
   "source": [
    "parser.parse(df['created_str'][0])"
   ]
  },
  {
   "cell_type": "code",
   "execution_count": 110,
   "metadata": {},
   "outputs": [],
   "source": [
    "import numpy"
   ]
  },
  {
   "cell_type": "code",
   "execution_count": 112,
   "metadata": {},
   "outputs": [],
   "source": [
    "def parse_datetime(x):\n",
    "    try:\n",
    "        return parser.parse(x)\n",
    "    except:\n",
    "        return numpy.nan\n",
    "df['datetime'] = df['created_str'].apply(parse_datetime)"
   ]
  },
  {
   "cell_type": "code",
   "execution_count": 119,
   "metadata": {},
   "outputs": [
    {
     "data": {
      "text/plain": [
       "<matplotlib.axes._subplots.AxesSubplot at 0x11acd0940>"
      ]
     },
     "execution_count": 119,
     "metadata": {},
     "output_type": "execute_result"
    },
    {
     "data": {
      "image/png": "[encoded data removed]",
      "text/plain": [
       "<matplotlib.figure.Figure at 0x11e52a5f8>"
      ]
     },
     "metadata": {},
     "output_type": "display_data"
    }
   ],
   "source": [
    "df.set_index('datetime').resample('1w').aggregate('count').plot()"
   ]
  },
  {
   "cell_type": "code",
   "execution_count": 121,
   "metadata": {},
   "outputs": [
    {
     "data": {
      "text/plain": [
       "<matplotlib.axes._subplots.AxesSubplot at 0x1172c5e48>"
      ]
     },
     "execution_count": 121,
     "metadata": {},
     "output_type": "execute_result"
    },
    {
     "data": {
      "image/png": "[encoded data removed]",
      "text/plain": [
       "<matplotlib.figure.Figure at 0x11e53a8d0>"
      ]
     },
     "metadata": {},
     "output_type": "display_data"
    }
   ],
   "source": [
    "df.set_index('datetime').resample('1w').aggregate('sum').plot()"
   ]
  },
  {
   "cell_type": "code",
   "execution_count": null,
   "metadata": {},
   "outputs": [],
   "source": []
  }
 ],
 "metadata": {
  "kernelspec": {
   "display_name": "Python 3",
   "language": "python",
   "name": "python3"
  },
  "language_info": {
   "codemirror_mode": {
    "name": "ipython",
    "version": 3
   },
   "file_extension": ".py",
   "mimetype": "text/x-python",
   "name": "python",
   "nbconvert_exporter": "python",
   "pygments_lexer": "ipython3",
   "version": "3.6.3"
  }
 },
 "nbformat": 4,
 "nbformat_minor": 2
}
