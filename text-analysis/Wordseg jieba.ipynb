{
 "cells": [
  {
   "cell_type": "code",
   "execution_count": 1,
   "metadata": {},
   "outputs": [],
   "source": [
    "import jieba"
   ]
  },
  {
   "cell_type": "code",
   "execution_count": 2,
   "metadata": {},
   "outputs": [
    {
     "name": "stderr",
     "output_type": "stream",
     "text": [
      "Building prefix dict from the default dictionary ...\n",
      "Loading model from cache /var/folders/lt/6f4cgfln4k5d4_0x_pyhqxtr0000gn/T/jieba.cache\n",
      "Loading model cost 0.610 seconds.\n",
      "Prefix dict has been built succesfully.\n"
     ]
    },
    {
     "data": {
      "text/plain": [
       "['啤酒', '不如', '果汁', '好喝']"
      ]
     },
     "execution_count": 2,
     "metadata": {},
     "output_type": "execute_result"
    }
   ],
   "source": [
    "list(jieba.cut('啤酒不如果汁好喝'))"
   ]
  },
  {
   "cell_type": "code",
   "execution_count": 3,
   "metadata": {},
   "outputs": [
    {
     "data": {
      "text/plain": [
       "['香港中文大学']"
      ]
     },
     "execution_count": 3,
     "metadata": {},
     "output_type": "execute_result"
    }
   ],
   "source": [
    "list(jieba.cut('香港中文大学'))"
   ]
  },
  {
   "cell_type": "code",
   "execution_count": 4,
   "metadata": {},
   "outputs": [
    {
     "data": {
      "text/plain": [
       "['白天鹅', '在', '水', '中游']"
      ]
     },
     "execution_count": 4,
     "metadata": {},
     "output_type": "execute_result"
    }
   ],
   "source": [
    "list(jieba.cut('白天鹅在水中游'))"
   ]
  },
  {
   "cell_type": "code",
   "execution_count": 5,
   "metadata": {},
   "outputs": [
    {
     "data": {
      "text/plain": [
       "['咬', '死', '了', '猎人', '的', '狗']"
      ]
     },
     "execution_count": 5,
     "metadata": {},
     "output_type": "execute_result"
    }
   ],
   "source": [
    "list(jieba.cut('咬死了猎人的狗'))"
   ]
  },
  {
   "cell_type": "code",
   "execution_count": 6,
   "metadata": {},
   "outputs": [
    {
     "data": {
      "text/plain": [
       "['结婚', '的', '和', '尚未', '结婚', '的']"
      ]
     },
     "execution_count": 6,
     "metadata": {},
     "output_type": "execute_result"
    }
   ],
   "source": [
    "list(jieba.cut('结婚的和尚未结婚的'))"
   ]
  },
  {
   "cell_type": "code",
   "execution_count": 7,
   "metadata": {},
   "outputs": [
    {
     "data": {
      "text/plain": [
       "['结婚', '的', '和', '尚未', '结婚', '的']"
      ]
     },
     "execution_count": 7,
     "metadata": {},
     "output_type": "execute_result"
    }
   ],
   "source": [
    "list(jieba.cut('结婚的和尚未结婚的'))"
   ]
  },
  {
   "cell_type": "code",
   "execution_count": 8,
   "metadata": {},
   "outputs": [
    {
     "data": {
      "text/plain": [
       "['工信处',\n",
       " '女干事',\n",
       " '每月',\n",
       " '经过',\n",
       " '下属',\n",
       " '科室',\n",
       " '都',\n",
       " '要',\n",
       " '亲口',\n",
       " '交代',\n",
       " '24',\n",
       " '口',\n",
       " '交换机',\n",
       " '等',\n",
       " '技术性',\n",
       " '器件',\n",
       " '的',\n",
       " '安装',\n",
       " '工作']"
      ]
     },
     "execution_count": 8,
     "metadata": {},
     "output_type": "execute_result"
    }
   ],
   "source": [
    "# from: https://www.zhihu.com/question/19578687/answer/15607602\n",
    "list(jieba.cut('工信处女干事每月经过下属科室都要亲口交代24口交换机等技术性器件的安装工作'))"
   ]
  },
  {
   "cell_type": "code",
   "execution_count": 9,
   "metadata": {},
   "outputs": [
    {
     "data": {
      "text/plain": [
       "['工信',\n",
       " '處女',\n",
       " '幹事',\n",
       " '每月',\n",
       " '經過',\n",
       " '下屬',\n",
       " '科室',\n",
       " '都',\n",
       " '要',\n",
       " '親口',\n",
       " '交代',\n",
       " '24',\n",
       " '口交',\n",
       " '換機',\n",
       " '等',\n",
       " '技術性',\n",
       " '器件',\n",
       " '的',\n",
       " '安裝',\n",
       " '工作']"
      ]
     },
     "execution_count": 9,
     "metadata": {},
     "output_type": "execute_result"
    }
   ],
   "source": [
    "list(jieba.cut('工信處女幹事每月經過下屬科室都要親口交代24口交換機等技術性器件的安裝工作'))"
   ]
  },
  {
   "cell_type": "code",
   "execution_count": 10,
   "metadata": {},
   "outputs": [
    {
     "data": {
      "text/plain": [
       "['\\n',\n",
       " '随着',\n",
       " '页',\n",
       " '游',\n",
       " '兴起',\n",
       " '到',\n",
       " '现在',\n",
       " '的',\n",
       " '页',\n",
       " '游',\n",
       " '繁盛',\n",
       " '，',\n",
       " '依赖于',\n",
       " '存档',\n",
       " '进行',\n",
       " '逻辑',\n",
       " '判断',\n",
       " '的',\n",
       " '设计',\n",
       " '减少',\n",
       " '了',\n",
       " '，',\n",
       " '但',\n",
       " '这块',\n",
       " '也',\n",
       " '不能',\n",
       " '完全',\n",
       " '忽略',\n",
       " '掉',\n",
       " '。',\n",
       " '总会',\n",
       " '有',\n",
       " '一些',\n",
       " '功能',\n",
       " '是',\n",
       " '需要',\n",
       " '调用',\n",
       " '本地',\n",
       " '存档',\n",
       " '的',\n",
       " '。',\n",
       " '例如',\n",
       " '登录',\n",
       " '模块',\n",
       " '中',\n",
       " '，',\n",
       " '记住',\n",
       " '密码',\n",
       " '功能',\n",
       " '，',\n",
       " '会',\n",
       " '将',\n",
       " '密码',\n",
       " '信息',\n",
       " '存储',\n",
       " '在',\n",
       " '本地',\n",
       " '，',\n",
       " '以',\n",
       " 'IE',\n",
       " '浏览器',\n",
       " '为例',\n",
       " '，',\n",
       " '在',\n",
       " 'C',\n",
       " ':',\n",
       " '\\\\',\n",
       " 'Documents',\n",
       " ' ',\n",
       " 'and',\n",
       " ' ',\n",
       " 'Settings',\n",
       " '\\\\',\n",
       " '（',\n",
       " '你',\n",
       " '的',\n",
       " 'Windows',\n",
       " '用户名',\n",
       " '）',\n",
       " '\\\\',\n",
       " 'Application',\n",
       " ' ',\n",
       " 'Data',\n",
       " '\\\\',\n",
       " 'Macromedia',\n",
       " '&',\n",
       " 'nbsp',\n",
       " ';',\n",
       " '\\\\',\n",
       " 'Flash',\n",
       " ' ',\n",
       " 'Player',\n",
       " '\\\\',\n",
       " '#',\n",
       " 'SharedObjects',\n",
       " '\\\\',\n",
       " '（',\n",
       " '一些',\n",
       " '随机',\n",
       " '数字',\n",
       " '和',\n",
       " '字母',\n",
       " '）',\n",
       " '\\\\',\n",
       " ' ',\n",
       " '文件夹',\n",
       " '下',\n",
       " '就',\n",
       " '可以',\n",
       " '看到',\n",
       " '存储',\n",
       " '密码',\n",
       " '的',\n",
       " 'SOL',\n",
       " '文件',\n",
       " '，',\n",
       " '可以',\n",
       " '使用',\n",
       " 'minerva',\n",
       " '工具',\n",
       " '查看',\n",
       " '，',\n",
       " '如下',\n",
       " '图',\n",
       " '所示',\n",
       " '，',\n",
       " '密码',\n",
       " '明文',\n",
       " '明文',\n",
       " '存储',\n",
       " '的',\n",
       " '，',\n",
       " 'SOL',\n",
       " '文件',\n",
       " '是',\n",
       " '永久性',\n",
       " '保存',\n",
       " '的',\n",
       " '，',\n",
       " '除非',\n",
       " '手动',\n",
       " '清除',\n",
       " '，',\n",
       " '如果',\n",
       " '玩家',\n",
       " '在',\n",
       " '公共',\n",
       " '环境',\n",
       " '下',\n",
       " '登录',\n",
       " '，',\n",
       " '就',\n",
       " '会',\n",
       " '有',\n",
       " '盗号',\n",
       " '威胁',\n",
       " '。',\n",
       " '来自',\n",
       " 'http',\n",
       " ':',\n",
       " '/',\n",
       " '/',\n",
       " 'www',\n",
       " '.',\n",
       " 'baidu',\n",
       " '.',\n",
       " 'com',\n",
       " '/',\n",
       " '及',\n",
       " 'http',\n",
       " '：',\n",
       " '、',\n",
       " 'www',\n",
       " '.',\n",
       " 'baidu',\n",
       " '...',\n",
       " 'com',\n",
       " '\\n']"
      ]
     },
     "execution_count": 10,
     "metadata": {},
     "output_type": "execute_result"
    }
   ],
   "source": [
    "list(jieba.cut('''\n",
    "随着页游兴起到现在的页游繁盛，依赖于存档进行逻辑判断的设计减少了，但这块也不能完全忽略掉。总会有一些功能是需要调用本地存档的。例如登录模块中，记住密码功能，会将密码信息存储在本地，以IE浏览器为例，在C:\\Documents and Settings\\（你的Windows用户名）\\Application Data\\Macromedia&nbsp;\\Flash Player\\#SharedObjects\\（一些随机数字和字母）\\ 文件夹下就可以看到存储密码的SOL文件，可以使用minerva工具查看，如下图所示，密码明文明文存储的，SOL文件是永久性保存的，除非手动清除，如果玩家在公共环境下登录，就会有盗号威胁。来自http://www.baidu.com/及http：、www.baidu...com\n",
    "'''))"
   ]
  },
  {
   "cell_type": "code",
   "execution_count": null,
   "metadata": {},
   "outputs": [],
   "source": []
  }
 ],
 "metadata": {
  "kernelspec": {
   "display_name": "Python 3",
   "language": "python",
   "name": "python3"
  },
  "language_info": {
   "codemirror_mode": {
    "name": "ipython",
    "version": 3
   },
   "file_extension": ".py",
   "mimetype": "text/x-python",
   "name": "python",
   "nbconvert_exporter": "python",
   "pygments_lexer": "ipython3",
   "version": "3.6.3"
  }
 },
 "nbformat": 4,
 "nbformat_minor": 2
}
