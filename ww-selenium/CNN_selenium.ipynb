{
 "cells": [
  {
   "cell_type": "code",
   "execution_count": 7,
   "metadata": {},
   "outputs": [],
   "source": [
    "from selenium import webdriver  \n",
    "from selenium.common.exceptions import NoSuchElementException  \n",
    "import time  \n",
    "import re  "
   ]
  },
  {
   "cell_type": "code",
   "execution_count": 8,
   "metadata": {},
   "outputs": [],
   "source": [
    "browser = webdriver.Chrome()\n",
    "browser.get('http://money.cnn.com/search/index.html?sortBy=date&primaryType=mixed&search=Search&query=trade%20war')\n",
    "time.sleep(10)"
   ]
  },
  {
   "cell_type": "code",
   "execution_count": 9,
   "metadata": {},
   "outputs": [],
   "source": [
    "next_buttons = browser.find_element_by_link_text('Next')"
   ]
  },
  {
   "cell_type": "code",
   "execution_count": 10,
   "metadata": {},
   "outputs": [
    {
     "data": {
      "text/plain": [
       "<selenium.webdriver.remote.webelement.WebElement (session=\"4ea46c4439bf4ebb5ebd51a2d882cb57\", element=\"0.7772364714062068-1\")>"
      ]
     },
     "execution_count": 10,
     "metadata": {},
     "output_type": "execute_result"
    }
   ],
   "source": [
    "next_buttons"
   ]
  },
  {
   "cell_type": "code",
   "execution_count": 11,
   "metadata": {},
   "outputs": [],
   "source": [
    "next_buttons.click()"
   ]
  },
  {
   "cell_type": "code",
   "execution_count": 44,
   "metadata": {},
   "outputs": [],
   "source": [
    "articles = []\n",
    "for block in browser.find_elements_by_css_selector('#summaryList_mixed .summaryBlock'):\n",
    "    article = {}\n",
    "    h = block.find_element_by_css_selector('.cnnHeadline a')\n",
    "    article['headline'] = h.text\n",
    "    article['date'] = block.find_element_by_css_selector('span.cnnDateStamp').text\n",
    "    article['url'] = 0\n",
    "    articles.append(article)"
   ]
  },
  {
   "cell_type": "code",
   "execution_count": 58,
   "metadata": {},
   "outputs": [],
   "source": [
    "url = []\n",
    "for link in browser.find_elements_by_xpath(\"//div[@id='summaryList_mixed']/div[@class='summaryBlock']/div[@class='cnnHeadline']/*[@href]\"):\n",
    "    url.append(link.get_attribute('href'))"
   ]
  },
  {
   "cell_type": "code",
   "execution_count": 59,
   "metadata": {},
   "outputs": [],
   "source": [
    "for i in range(0,10):\n",
    "    articles[i]['url'] = url[i]"
   ]
  },
  {
   "cell_type": "code",
   "execution_count": 60,
   "metadata": {},
   "outputs": [
    {
     "data": {
      "text/html": [
       "<div>\n",
       "<style scoped>\n",
       "    .dataframe tbody tr th:only-of-type {\n",
       "        vertical-align: middle;\n",
       "    }\n",
       "\n",
       "    .dataframe tbody tr th {\n",
       "        vertical-align: top;\n",
       "    }\n",
       "\n",
       "    .dataframe thead th {\n",
       "        text-align: right;\n",
       "    }\n",
       "</style>\n",
       "<table border=\"1\" class=\"dataframe\">\n",
       "  <thead>\n",
       "    <tr style=\"text-align: right;\">\n",
       "      <th></th>\n",
       "      <th>date</th>\n",
       "      <th>headline</th>\n",
       "      <th>url</th>\n",
       "    </tr>\n",
       "  </thead>\n",
       "  <tbody>\n",
       "    <tr>\n",
       "      <th>0</th>\n",
       "      <td>Apr 04, 2018</td>\n",
       "      <td>Trump is hitting Amazon where it hurts</td>\n",
       "      <td>http://money.cnn.com/2018/04/04/news/companies...</td>\n",
       "    </tr>\n",
       "    <tr>\n",
       "      <th>1</th>\n",
       "      <td>Apr 04, 2018</td>\n",
       "      <td>Stocks surge back for big gain after plunging ...</td>\n",
       "      <td>http://money.cnn.com/2018/04/04/investing/us-s...</td>\n",
       "    </tr>\n",
       "    <tr>\n",
       "      <th>2</th>\n",
       "      <td>Apr 04, 2018</td>\n",
       "      <td>China strikes back; Futures drop; Sorrell unde...</td>\n",
       "      <td>http://money.cnn.com/2018/04/04/investing/prem...</td>\n",
       "    </tr>\n",
       "    <tr>\n",
       "      <th>3</th>\n",
       "      <td>Apr 04, 2018</td>\n",
       "      <td>China fires back, announcing tariffs on US pla...</td>\n",
       "      <td>http://money.cnn.com/2018/04/04/news/economy/c...</td>\n",
       "    </tr>\n",
       "    <tr>\n",
       "      <th>4</th>\n",
       "      <td>Apr 04, 2018</td>\n",
       "      <td>US proposes tariffs on 1,300 Chinese goods</td>\n",
       "      <td>http://money.cnn.com/2018/04/03/news/economy/u...</td>\n",
       "    </tr>\n",
       "    <tr>\n",
       "      <th>5</th>\n",
       "      <td>Apr 03, 2018</td>\n",
       "      <td>Spotify valued at nearly $30 billion in unusua...</td>\n",
       "      <td>http://money.cnn.com/2018/04/03/technology/spo...</td>\n",
       "    </tr>\n",
       "    <tr>\n",
       "      <th>6</th>\n",
       "      <td>Apr 03, 2018</td>\n",
       "      <td>Amazon does big business with Trump's government</td>\n",
       "      <td>http://money.cnn.com/2018/04/03/investing/trum...</td>\n",
       "    </tr>\n",
       "    <tr>\n",
       "      <th>7</th>\n",
       "      <td>Apr 03, 2018</td>\n",
       "      <td>New York Fed, a Wall Street watchdog, picks Jo...</td>\n",
       "      <td>http://money.cnn.com/2018/04/03/news/economy/n...</td>\n",
       "    </tr>\n",
       "    <tr>\n",
       "      <th>8</th>\n",
       "      <td>Apr 03, 2018</td>\n",
       "      <td>PACIFIC for April 3: How Amazon sees Trump</td>\n",
       "      <td>http://money.cnn.com/2018/04/03/technology/pac...</td>\n",
       "    </tr>\n",
       "    <tr>\n",
       "      <th>9</th>\n",
       "      <td>Apr 03, 2018</td>\n",
       "      <td>2018: When 400-point stock swings became normal</td>\n",
       "      <td>http://money.cnn.com/2018/04/03/investing/larg...</td>\n",
       "    </tr>\n",
       "  </tbody>\n",
       "</table>\n",
       "</div>"
      ],
      "text/plain": [
       "           date                                           headline  \\\n",
       "0  Apr 04, 2018             Trump is hitting Amazon where it hurts   \n",
       "1  Apr 04, 2018  Stocks surge back for big gain after plunging ...   \n",
       "2  Apr 04, 2018  China strikes back; Futures drop; Sorrell unde...   \n",
       "3  Apr 04, 2018  China fires back, announcing tariffs on US pla...   \n",
       "4  Apr 04, 2018         US proposes tariffs on 1,300 Chinese goods   \n",
       "5  Apr 03, 2018  Spotify valued at nearly $30 billion in unusua...   \n",
       "6  Apr 03, 2018   Amazon does big business with Trump's government   \n",
       "7  Apr 03, 2018  New York Fed, a Wall Street watchdog, picks Jo...   \n",
       "8  Apr 03, 2018         PACIFIC for April 3: How Amazon sees Trump   \n",
       "9  Apr 03, 2018    2018: When 400-point stock swings became normal   \n",
       "\n",
       "                                                 url  \n",
       "0  http://money.cnn.com/2018/04/04/news/companies...  \n",
       "1  http://money.cnn.com/2018/04/04/investing/us-s...  \n",
       "2  http://money.cnn.com/2018/04/04/investing/prem...  \n",
       "3  http://money.cnn.com/2018/04/04/news/economy/c...  \n",
       "4  http://money.cnn.com/2018/04/03/news/economy/u...  \n",
       "5  http://money.cnn.com/2018/04/03/technology/spo...  \n",
       "6  http://money.cnn.com/2018/04/03/investing/trum...  \n",
       "7  http://money.cnn.com/2018/04/03/news/economy/n...  \n",
       "8  http://money.cnn.com/2018/04/03/technology/pac...  \n",
       "9  http://money.cnn.com/2018/04/03/investing/larg...  "
      ]
     },
     "execution_count": 60,
     "metadata": {},
     "output_type": "execute_result"
    }
   ],
   "source": [
    "import pandas as pd\n",
    "pd.DataFrame(articles)"
   ]
  },
  {
   "cell_type": "code",
   "execution_count": 61,
   "metadata": {},
   "outputs": [],
   "source": [
    "browser.close()"
   ]
  },
  {
   "cell_type": "code",
   "execution_count": null,
   "metadata": {},
   "outputs": [],
   "source": []
  },
  {
   "cell_type": "code",
   "execution_count": null,
   "metadata": {},
   "outputs": [],
   "source": []
  },
  {
   "cell_type": "code",
   "execution_count": null,
   "metadata": {},
   "outputs": [],
   "source": []
  },
  {
   "cell_type": "code",
   "execution_count": null,
   "metadata": {},
   "outputs": [],
   "source": []
  }
 ],
 "metadata": {
  "kernelspec": {
   "display_name": "Python 3",
   "language": "python",
   "name": "python3"
  },
  "language_info": {
   "codemirror_mode": {
    "name": "ipython",
    "version": 3
   },
   "file_extension": ".py",
   "mimetype": "text/x-python",
   "name": "python",
   "nbconvert_exporter": "python",
   "pygments_lexer": "ipython3",
   "version": "3.6.4"
  }
 },
 "nbformat": 4,
 "nbformat_minor": 2
}
