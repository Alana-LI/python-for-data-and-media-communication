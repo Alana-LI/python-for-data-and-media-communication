{
 "cells": [
  {
   "cell_type": "code",
   "execution_count": 1,
   "metadata": {},
   "outputs": [
    {
     "name": "stdout",
     "output_type": "stream",
     "text": [
      "Requirement already satisfied: selenium in d:\\program files\\python\\lib\\site-packages\n"
     ]
    },
    {
     "name": "stderr",
     "output_type": "stream",
     "text": [
      "You are using pip version 9.0.1, however version 9.0.3 is available.\n",
      "You should consider upgrading via the 'python -m pip install --upgrade pip' command.\n"
     ]
    }
   ],
   "source": [
    "!pip install selenium"
   ]
  },
  {
   "cell_type": "code",
   "execution_count": 2,
   "metadata": {},
   "outputs": [],
   "source": [
    "from selenium import webdriver  \n",
    "from selenium.common.exceptions import NoSuchElementException  \n",
    "import time  \n",
    "import re  "
   ]
  },
  {
   "cell_type": "code",
   "execution_count": 3,
   "metadata": {},
   "outputs": [],
   "source": [
    "browser = webdriver.Chrome()\n",
    "browser.get('https://www.amazon.cn/gp/bestsellers/books#4')\n",
    "time.sleep(2)"
   ]
  },
  {
   "cell_type": "code",
   "execution_count": 4,
   "metadata": {},
   "outputs": [],
   "source": [
    "from bs4 import BeautifulSoup\n",
    "import pandas as pd"
   ]
  },
  {
   "cell_type": "code",
   "execution_count": 5,
   "metadata": {},
   "outputs": [
    {
     "data": {
      "text/plain": [
       "20"
      ]
     },
     "execution_count": 5,
     "metadata": {},
     "output_type": "execute_result"
    }
   ],
   "source": [
    "board=browser.find_elements_by_class_name('zg_itemRow')  \n",
    "len(board)"
   ]
  },
  {
   "cell_type": "code",
   "execution_count": 6,
   "metadata": {},
   "outputs": [
    {
     "data": {
      "text/html": [
       "<div>\n",
       "<style scoped>\n",
       "    .dataframe tbody tr th:only-of-type {\n",
       "        vertical-align: middle;\n",
       "    }\n",
       "\n",
       "    .dataframe tbody tr th {\n",
       "        vertical-align: top;\n",
       "    }\n",
       "\n",
       "    .dataframe thead th {\n",
       "        text-align: right;\n",
       "    }\n",
       "</style>\n",
       "<table border=\"1\" class=\"dataframe\">\n",
       "  <thead>\n",
       "    <tr style=\"text-align: right;\">\n",
       "      <th></th>\n",
       "      <th>No.</th>\n",
       "      <th>author</th>\n",
       "      <th>title</th>\n",
       "    </tr>\n",
       "  </thead>\n",
       "  <tbody>\n",
       "    <tr>\n",
       "      <th>0</th>\n",
       "      <td>61.</td>\n",
       "      <td>史蒂芬·柯维 (Stephen R.Covey)</td>\n",
       "      <td>高效能人士的七个习惯(25周年纪念版)</td>\n",
       "    </tr>\n",
       "    <tr>\n",
       "      <th>1</th>\n",
       "      <td>62.</td>\n",
       "      <td>埃玛·多德 (Emma Dodd)</td>\n",
       "      <td>小小暖房子·爱的表白书(套装共6册)（给孩子人生初始的温暖与美好）</td>\n",
       "    </tr>\n",
       "    <tr>\n",
       "      <th>2</th>\n",
       "      <td>63.</td>\n",
       "      <td>艾莉森•埃奇森</td>\n",
       "      <td>暖房子绘本•关于爱的故事:亲情篇(套装共6册)</td>\n",
       "    </tr>\n",
       "    <tr>\n",
       "      <th>3</th>\n",
       "      <td>64.</td>\n",
       "      <td>崔玉涛</td>\n",
       "      <td>崔玉涛:宝贝健康公开课</td>\n",
       "    </tr>\n",
       "    <tr>\n",
       "      <th>4</th>\n",
       "      <td>65.</td>\n",
       "      <td>余华</td>\n",
       "      <td>活着(2017版)</td>\n",
       "    </tr>\n",
       "    <tr>\n",
       "      <th>5</th>\n",
       "      <td>66.</td>\n",
       "      <td>尤瓦尔·赫拉利</td>\n",
       "      <td>人类简史+未来简史(新版)(套装共2册)(随机附送思维导图和音频)</td>\n",
       "    </tr>\n",
       "    <tr>\n",
       "      <th>6</th>\n",
       "      <td>67.</td>\n",
       "      <td>彼得·弗兰科潘 (Peter Frankopan)</td>\n",
       "      <td>丝绸之路:一部全新的世界史</td>\n",
       "    </tr>\n",
       "    <tr>\n",
       "      <th>7</th>\n",
       "      <td>68.</td>\n",
       "      <td>科尼利厄斯•瑞恩 (Cornelius Ryan)</td>\n",
       "      <td>最长的一天:1944诺曼底登陆</td>\n",
       "    </tr>\n",
       "    <tr>\n",
       "      <th>8</th>\n",
       "      <td>69.</td>\n",
       "      <td>梁实秋</td>\n",
       "      <td>我把活着欢喜过了</td>\n",
       "    </tr>\n",
       "    <tr>\n",
       "      <th>9</th>\n",
       "      <td>70.</td>\n",
       "      <td>阿图•葛文德(Atul Gawande)</td>\n",
       "      <td>最好的告别:关于衰老与死亡，你必须知道的常识</td>\n",
       "    </tr>\n",
       "    <tr>\n",
       "      <th>10</th>\n",
       "      <td>71.</td>\n",
       "      <td>乔治·约翰逊</td>\n",
       "      <td>小工程师养成绘本:万能工程师麦克(套装共20册)</td>\n",
       "    </tr>\n",
       "    <tr>\n",
       "      <th>11</th>\n",
       "      <td>72.</td>\n",
       "      <td>中国社会科学院语言研究所</td>\n",
       "      <td>新华字典(第11版)(双色本)</td>\n",
       "    </tr>\n",
       "    <tr>\n",
       "      <th>12</th>\n",
       "      <td>73.</td>\n",
       "      <td>[美]斯坦利·麦克格里斯特 等</td>\n",
       "      <td>赋能：打造应对不确定性的敏捷团队</td>\n",
       "    </tr>\n",
       "    <tr>\n",
       "      <th>13</th>\n",
       "      <td>74.</td>\n",
       "      <td>蒋勋</td>\n",
       "      <td>写给大家的西方美术史</td>\n",
       "    </tr>\n",
       "    <tr>\n",
       "      <th>14</th>\n",
       "      <td>75.</td>\n",
       "      <td>古斯塔夫•勒庞 (Gustave Le Bon)</td>\n",
       "      <td>乌合之众:大众心理研究</td>\n",
       "    </tr>\n",
       "    <tr>\n",
       "      <th>15</th>\n",
       "      <td>76.</td>\n",
       "      <td>Mary Wood Cornog</td>\n",
       "      <td>Merriam-Webster's Vocabulary Builder</td>\n",
       "    </tr>\n",
       "    <tr>\n",
       "      <th>16</th>\n",
       "      <td>77.</td>\n",
       "      <td>李敖</td>\n",
       "      <td>李敖自传</td>\n",
       "    </tr>\n",
       "    <tr>\n",
       "      <th>17</th>\n",
       "      <td>78.</td>\n",
       "      <td>加西亚·马尔克斯</td>\n",
       "      <td>马尔克斯：百年孤独(50周年纪念版)</td>\n",
       "    </tr>\n",
       "    <tr>\n",
       "      <th>18</th>\n",
       "      <td>79.</td>\n",
       "      <td>尤瓦尔•赫拉利</td>\n",
       "      <td>未来简史</td>\n",
       "    </tr>\n",
       "    <tr>\n",
       "      <th>19</th>\n",
       "      <td>80.</td>\n",
       "      <td>东野圭吾</td>\n",
       "      <td>东野圭吾作品:嫌疑人X的献身</td>\n",
       "    </tr>\n",
       "  </tbody>\n",
       "</table>\n",
       "</div>"
      ],
      "text/plain": [
       "    No.                     author                                 title\n",
       "0   61.   史蒂芬·柯维 (Stephen R.Covey)                   高效能人士的七个习惯(25周年纪念版)\n",
       "1   62.          埃玛·多德 (Emma Dodd)     小小暖房子·爱的表白书(套装共6册)（给孩子人生初始的温暖与美好）\n",
       "2   63.                    艾莉森•埃奇森               暖房子绘本•关于爱的故事:亲情篇(套装共6册)\n",
       "3   64.                        崔玉涛                           崔玉涛:宝贝健康公开课\n",
       "4   65.                         余华                             活着(2017版)\n",
       "5   66.                    尤瓦尔·赫拉利     人类简史+未来简史(新版)(套装共2册)(随机附送思维导图和音频)\n",
       "6   67.  彼得·弗兰科潘 (Peter Frankopan)                         丝绸之路:一部全新的世界史\n",
       "7   68.  科尼利厄斯•瑞恩 (Cornelius Ryan)                       最长的一天:1944诺曼底登陆\n",
       "8   69.                        梁实秋                              我把活着欢喜过了\n",
       "9   70.       阿图•葛文德(Atul Gawande)                最好的告别:关于衰老与死亡，你必须知道的常识\n",
       "10  71.                     乔治·约翰逊              小工程师养成绘本:万能工程师麦克(套装共20册)\n",
       "11  72.               中国社会科学院语言研究所                       新华字典(第11版)(双色本)\n",
       "12  73.            [美]斯坦利·麦克格里斯特 等                      赋能：打造应对不确定性的敏捷团队\n",
       "13  74.                         蒋勋                            写给大家的西方美术史\n",
       "14  75.   古斯塔夫•勒庞 (Gustave Le Bon)                           乌合之众:大众心理研究\n",
       "15  76.           Mary Wood Cornog  Merriam-Webster's Vocabulary Builder\n",
       "16  77.                         李敖                                  李敖自传\n",
       "17  78.                   加西亚·马尔克斯                    马尔克斯：百年孤独(50周年纪念版)\n",
       "18  79.                    尤瓦尔•赫拉利                                  未来简史\n",
       "19  80.                       东野圭吾                        东野圭吾作品:嫌疑人X的献身"
      ]
     },
     "execution_count": 6,
     "metadata": {},
     "output_type": "execute_result"
    }
   ],
   "source": [
    "items = []\n",
    "for row in board:\n",
    "    item = {}\n",
    "    item['No.'] = row.find_element_by_class_name('zg_rankNumber').text\n",
    "    item['title'] = row.find_element_by_class_name('p13n-sc-truncated').text\n",
    "    item['author'] = row.find_element_by_class_name('a-row').text\n",
    "    items.append(item)\n",
    "df = pd.DataFrame(items)\n",
    "df"
   ]
  },
  {
   "cell_type": "code",
   "execution_count": 7,
   "metadata": {},
   "outputs": [],
   "source": [
    "browser.close()"
   ]
  },
  {
   "cell_type": "code",
   "execution_count": null,
   "metadata": {},
   "outputs": [],
   "source": []
  }
 ],
 "metadata": {
  "kernelspec": {
   "display_name": "Python 3",
   "language": "python",
   "name": "python3"
  },
  "language_info": {
   "codemirror_mode": {
    "name": "ipython",
    "version": 3
   },
   "file_extension": ".py",
   "mimetype": "text/x-python",
   "name": "python",
   "nbconvert_exporter": "python",
   "pygments_lexer": "ipython3",
   "version": "3.6.4"
  }
 },
 "nbformat": 4,
 "nbformat_minor": 2
}
