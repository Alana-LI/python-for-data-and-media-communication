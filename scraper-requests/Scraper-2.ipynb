{
 "cells": [
  {
   "cell_type": "code",
   "execution_count": 1,
   "metadata": {},
   "outputs": [
    {
     "name": "stdout",
     "output_type": "stream",
     "text": [
      "hello\n"
     ]
    }
   ],
   "source": [
    "print('hello')"
   ]
  },
  {
   "cell_type": "code",
   "execution_count": 2,
   "metadata": {},
   "outputs": [
    {
     "data": {
      "text/plain": [
       "23"
      ]
     },
     "execution_count": 2,
     "metadata": {},
     "output_type": "execute_result"
    }
   ],
   "source": [
    "10 * 2 + 3"
   ]
  },
  {
   "cell_type": "code",
   "execution_count": 3,
   "metadata": {},
   "outputs": [
    {
     "name": "stdout",
     "output_type": "stream",
     "text": [
      "18000.0\n"
     ]
    }
   ],
   "source": [
    "number_of_users = 90000\n",
    "if number_of_users < 50000:\n",
    "    cost = 10000\n",
    "else: # number_of_users >= 50000\n",
    "   if number_of_users<100000:\n",
    "       cost=10000+0.1*(number_of_users-10000)\n",
    "   else:\n",
    "       cost = 10000 + 5000+ 0.1 * (number_of_users - 10000)\n",
    "print (cost)\n"
   ]
  },
  {
   "cell_type": "code",
   "execution_count": 5,
   "metadata": {},
   "outputs": [],
   "source": [
    "import requests\n",
    "import bs4\n",
    "import csv"
   ]
  },
  {
   "cell_type": "code",
   "execution_count": 6,
   "metadata": {},
   "outputs": [
    {
     "name": "stdout",
     "output_type": "stream",
     "text": [
      "Help on package requests:\n",
      "\n",
      "NAME\n",
      "    requests\n",
      "\n",
      "DESCRIPTION\n",
      "    Requests HTTP Library\n",
      "    ~~~~~~~~~~~~~~~~~~~~~\n",
      "    \n",
      "    Requests is an HTTP library, written in Python, for human beings. Basic GET\n",
      "    usage:\n",
      "    \n",
      "       >>> import requests\n",
      "       >>> r = requests.get('https://www.python.org')\n",
      "       >>> r.status_code\n",
      "       200\n",
      "       >>> 'Python is a programming language' in r.content\n",
      "       True\n",
      "    \n",
      "    ... or POST:\n",
      "    \n",
      "       >>> payload = dict(key1='value1', key2='value2')\n",
      "       >>> r = requests.post('http://httpbin.org/post', data=payload)\n",
      "       >>> print(r.text)\n",
      "       {\n",
      "         ...\n",
      "         \"form\": {\n",
      "           \"key2\": \"value2\",\n",
      "           \"key1\": \"value1\"\n",
      "         },\n",
      "         ...\n",
      "       }\n",
      "    \n",
      "    The other HTTP methods are supported - see `requests.api`. Full documentation\n",
      "    is at <http://python-requests.org>.\n",
      "    \n",
      "    :copyright: (c) 2017 by Kenneth Reitz.\n",
      "    :license: Apache 2.0, see LICENSE for more details.\n",
      "\n",
      "PACKAGE CONTENTS\n",
      "    __version__\n",
      "    _internal_utils\n",
      "    adapters\n",
      "    api\n",
      "    auth\n",
      "    certs\n",
      "    compat\n",
      "    cookies\n",
      "    exceptions\n",
      "    help\n",
      "    hooks\n",
      "    models\n",
      "    packages\n",
      "    sessions\n",
      "    status_codes\n",
      "    structures\n",
      "    utils\n",
      "\n",
      "FUNCTIONS\n",
      "    check_compatibility(urllib3_version, chardet_version)\n",
      "\n",
      "DATA\n",
      "    __author_email__ = 'me@kennethreitz.org'\n",
      "    __build__ = 137220\n",
      "    __cake__ = '✨ 🍰 ✨'\n",
      "    __copyright__ = 'Copyright 2017 Kenneth Reitz'\n",
      "    __description__ = 'Python HTTP for Humans.'\n",
      "    __license__ = 'Apache 2.0'\n",
      "    __title__ = 'requests'\n",
      "    __url__ = 'http://python-requests.org'\n",
      "    codes = <lookup 'status_codes'>\n",
      "\n",
      "VERSION\n",
      "    2.18.4\n",
      "\n",
      "AUTHOR\n",
      "    Kenneth Reitz\n",
      "\n",
      "FILE\n",
      "    /Users/pili/Desktop/week4-scraper/venv/lib/python3.6/site-packages/requests/__init__.py\n",
      "\n",
      "\n"
     ]
    }
   ],
   "source": [
    "help(requests)"
   ]
  },
  {
   "cell_type": "code",
   "execution_count": 7,
   "metadata": {},
   "outputs": [],
   "source": [
    "r = requests.get('https://www.python.org')"
   ]
  },
  {
   "cell_type": "code",
   "execution_count": 8,
   "metadata": {},
   "outputs": [
    {
     "name": "stdout",
     "output_type": "stream",
     "text": [
      "Help on Response in module requests.models object:\n",
      "\n",
      "class Response(builtins.object)\n",
      " |  The :class:`Response <Response>` object, which contains a\n",
      " |  server's response to an HTTP request.\n",
      " |  \n",
      " |  Methods defined here:\n",
      " |  \n",
      " |  __bool__(self)\n",
      " |      Returns True if :attr:`status_code` is less than 400.\n",
      " |      \n",
      " |      This attribute checks if the status code of the response is between\n",
      " |      400 and 600 to see if there was a client error or a server error. If\n",
      " |      the status code, is between 200 and 400, this will return True. This\n",
      " |      is **not** a check to see if the response code is ``200 OK``.\n",
      " |  \n",
      " |  __enter__(self)\n",
      " |  \n",
      " |  __exit__(self, *args)\n",
      " |  \n",
      " |  __getstate__(self)\n",
      " |  \n",
      " |  __init__(self)\n",
      " |      Initialize self.  See help(type(self)) for accurate signature.\n",
      " |  \n",
      " |  __iter__(self)\n",
      " |      Allows you to use a response as an iterator.\n",
      " |  \n",
      " |  __nonzero__(self)\n",
      " |      Returns True if :attr:`status_code` is less than 400.\n",
      " |      \n",
      " |      This attribute checks if the status code of the response is between\n",
      " |      400 and 600 to see if there was a client error or a server error. If\n",
      " |      the status code, is between 200 and 400, this will return True. This\n",
      " |      is **not** a check to see if the response code is ``200 OK``.\n",
      " |  \n",
      " |  __repr__(self)\n",
      " |      Return repr(self).\n",
      " |  \n",
      " |  __setstate__(self, state)\n",
      " |  \n",
      " |  close(self)\n",
      " |      Releases the connection back to the pool. Once this method has been\n",
      " |      called the underlying ``raw`` object must not be accessed again.\n",
      " |      \n",
      " |      *Note: Should not normally need to be called explicitly.*\n",
      " |  \n",
      " |  iter_content(self, chunk_size=1, decode_unicode=False)\n",
      " |      Iterates over the response data.  When stream=True is set on the\n",
      " |      request, this avoids reading the content at once into memory for\n",
      " |      large responses.  The chunk size is the number of bytes it should\n",
      " |      read into memory.  This is not necessarily the length of each item\n",
      " |      returned as decoding can take place.\n",
      " |      \n",
      " |      chunk_size must be of type int or None. A value of None will\n",
      " |      function differently depending on the value of `stream`.\n",
      " |      stream=True will read data as it arrives in whatever size the\n",
      " |      chunks are received. If stream=False, data is returned as\n",
      " |      a single chunk.\n",
      " |      \n",
      " |      If decode_unicode is True, content will be decoded using the best\n",
      " |      available encoding based on the response.\n",
      " |  \n",
      " |  iter_lines(self, chunk_size=512, decode_unicode=None, delimiter=None)\n",
      " |      Iterates over the response data, one line at a time.  When\n",
      " |      stream=True is set on the request, this avoids reading the\n",
      " |      content at once into memory for large responses.\n",
      " |      \n",
      " |      .. note:: This method is not reentrant safe.\n",
      " |  \n",
      " |  json(self, **kwargs)\n",
      " |      Returns the json-encoded content of a response, if any.\n",
      " |      \n",
      " |      :param \\*\\*kwargs: Optional arguments that ``json.loads`` takes.\n",
      " |      :raises ValueError: If the response body does not contain valid json.\n",
      " |  \n",
      " |  raise_for_status(self)\n",
      " |      Raises stored :class:`HTTPError`, if one occurred.\n",
      " |  \n",
      " |  ----------------------------------------------------------------------\n",
      " |  Data descriptors defined here:\n",
      " |  \n",
      " |  __dict__\n",
      " |      dictionary for instance variables (if defined)\n",
      " |  \n",
      " |  __weakref__\n",
      " |      list of weak references to the object (if defined)\n",
      " |  \n",
      " |  apparent_encoding\n",
      " |      The apparent encoding, provided by the chardet library.\n",
      " |  \n",
      " |  content\n",
      " |      Content of the response, in bytes.\n",
      " |  \n",
      " |  is_permanent_redirect\n",
      " |      True if this Response one of the permanent versions of redirect.\n",
      " |  \n",
      " |  is_redirect\n",
      " |      True if this Response is a well-formed HTTP redirect that could have\n",
      " |      been processed automatically (by :meth:`Session.resolve_redirects`).\n",
      " |  \n",
      " |  links\n",
      " |      Returns the parsed header links of the response, if any.\n",
      " |  \n",
      " |  next\n",
      " |      Returns a PreparedRequest for the next request in a redirect chain, if there is one.\n",
      " |  \n",
      " |  ok\n",
      " |      Returns True if :attr:`status_code` is less than 400.\n",
      " |      \n",
      " |      This attribute checks if the status code of the response is between\n",
      " |      400 and 600 to see if there was a client error or a server error. If\n",
      " |      the status code, is between 200 and 400, this will return True. This\n",
      " |      is **not** a check to see if the response code is ``200 OK``.\n",
      " |  \n",
      " |  text\n",
      " |      Content of the response, in unicode.\n",
      " |      \n",
      " |      If Response.encoding is None, encoding will be guessed using\n",
      " |      ``chardet``.\n",
      " |      \n",
      " |      The encoding of the response content is determined based solely on HTTP\n",
      " |      headers, following RFC 2616 to the letter. If you can take advantage of\n",
      " |      non-HTTP knowledge to make a better guess at the encoding, you should\n",
      " |      set ``r.encoding`` appropriately before accessing this property.\n",
      " |  \n",
      " |  ----------------------------------------------------------------------\n",
      " |  Data and other attributes defined here:\n",
      " |  \n",
      " |  __attrs__ = ['_content', 'status_code', 'headers', 'url', 'history', '...\n",
      "\n"
     ]
    }
   ],
   "source": [
    "help(r)"
   ]
  },
  {
   "cell_type": "code",
   "execution_count": 9,
   "metadata": {},
   "outputs": [
    {
     "data": {
      "text/plain": [
       "'<!doctype html>\\n<!--[if lt IE 7]>   <html class=\"no-js ie6 lt-ie7 lt-ie8 lt-ie9\">   <![endif]-->\\n<!--[if IE 7]>      <html class=\"no-js ie7 lt-ie8 lt-ie9\">          <![endif]-->\\n<!--[if IE 8]>      <html class=\"no-js ie8 lt-ie9\">                 <![endif]-->\\n<!--[if gt IE 8]><!--><html class=\"no-js\" lang=\"en\" dir=\"ltr\">  <!--<![endif]-->\\n\\n<head>\\n    <meta charset=\"utf-8\">\\n    <meta http-equiv=\"X-UA-Compatible\" content=\"IE=edge\">\\n\\n    <link rel=\"prefetch\" href=\"//ajax.googleapis.com/ajax/libs/jquery/1.8.2/jquery.min.js\">\\n\\n    <meta name=\"application-name\" content=\"Python.org\">\\n    <meta name=\"msapplication-tooltip\" content=\"The official home of the Python Programming Language\">\\n    <meta name=\"apple-mobile-web-app-title\" content=\"Python.org\">\\n    <meta name=\"apple-mobile-web-app-capable\" content=\"yes\">\\n    <meta name=\"apple-mobile-web-app-status-bar-style\" content=\"black\">\\n\\n    <meta name=\"viewport\" content=\"width=device-width, initial-scale=1.0\">\\n    <meta name=\"HandheldFriendly\" content=\"True\">\\n    <meta name=\"format-detection\" content=\"telephone=no\">\\n    <meta http-equiv=\"cleartype\" content=\"on\">\\n    <meta http-equiv=\"imagetoolbar\" content=\"false\">\\n\\n    <script src=\"/static/js/libs/modernizr.js\"></script>\\n\\n    <link href=\"/static/stylesheets/style.css\" rel=\"stylesheet\" type=\"text/css\" title=\"default\" />\\n    <link href=\"/static/stylesheets/mq.css\" rel=\"stylesheet\" type=\"text/css\" media=\"not print, braille, embossed, speech, tty\" />\\n    \\n\\n    <!--[if (lte IE 8)&(!IEMobile)]>\\n    <link href=\"/static/stylesheets/no-mq.css\" rel=\"stylesheet\" type=\"text/css\" media=\"screen\" />\\n    \\n    \\n    <![endif]-->\\n\\n    \\n    <link rel=\"icon\" type=\"image/x-icon\" href=\"/static/favicon.ico\">\\n    <link rel=\"apple-touch-icon-precomposed\" sizes=\"144x144\" href=\"/static/apple-touch-icon-144x144-precomposed.png\">\\n    <link rel=\"apple-touch-icon-precomposed\" sizes=\"114x114\" href=\"/static/apple-touch-icon-114x114-precomposed.png\">\\n    <link rel=\"apple-touch-icon-precomposed\" sizes=\"72x72\" href=\"/static/apple-touch-icon-72x72-precomposed.png\">\\n    <link rel=\"apple-touch-icon-precomposed\" href=\"/static/apple-touch-icon-precomposed.png\">\\n    <link rel=\"apple-touch-icon\" href=\"/static/apple-touch-icon-precomposed.png\">\\n\\n    \\n    <meta name=\"msapplication-TileImage\" content=\"/static/metro-icon-144x144-precomposed.png\"><!-- white shape -->\\n    <meta name=\"msapplication-TileColor\" content=\"#3673a5\"><!-- python blue -->\\n    <meta name=\"msapplication-navbutton-color\" content=\"#3673a5\">\\n\\n    <title>Welcome to Python.org</title>\\n\\n    <meta name=\"description\" content=\"The official home of the Python Programming Language\">\\n    <meta name=\"keywords\" content=\"Python programming language object oriented web free open source software license documentation download community\">\\n\\n    \\n    <meta property=\"og:type\" content=\"website\">\\n    <meta property=\"og:site_name\" content=\"Python.org\">\\n    <meta property=\"og:title\" content=\"Welcome to Python.org\">\\n    <meta property=\"og:description\" content=\"The official home of the Python Programming Language\">\\n    \\n    <meta property=\"og:image\" content=\"https://www.python.org/static/opengraph-icon-200x200.png\">\\n    <meta property=\"og:image:secure_url\" content=\"https://www.python.org/static/opengraph-icon-200x200.png\">\\n    \\n    <meta property=\"og:url\" content=\"https://www.python.org/\">\\n\\n    <link rel=\"author\" href=\"/static/humans.txt\">\\n\\n    <link rel=\"alternate\" type=\"application/rss+xml\" title=\"Python Enhancement Proposals\"\\n          href=\"https://www.python.org/dev/peps/peps.rss/\">\\n    <link rel=\"alternate\" type=\"application/rss+xml\" title=\"Python Job Opportunities\"\\n          href=\"https://www.python.org/jobs/feed/rss/\">\\n    <link rel=\"alternate\" type=\"application/rss+xml\" title=\"Python Software Foundation News\"\\n          href=\"https://feeds.feedburner.com/PythonSoftwareFoundationNews\">\\n    <link rel=\"alternate\" type=\"application/rss+xml\" title=\"Python Insider\"\\n          href=\"https://feeds.feedburner.com/PythonInsider\">\\n\\n    \\n\\n    \\n    <script type=\"application/ld+json\">\\n     {\\n       \"@context\": \"http://schema.org\",\\n       \"@type\": \"WebSite\",\\n       \"url\": \"https://www.python.org/\",\\n       \"potentialAction\": {\\n         \"@type\": \"SearchAction\",\\n         \"target\": \"https://www.python.org/search/?q={search_term_string}\",\\n         \"query-input\": \"required name=search_term_string\"\\n       }\\n     }\\n    </script>\\n\\n    \\n    <script type=\"text/javascript\">\\n    var _gaq = _gaq || [];\\n    _gaq.push([\\'_setAccount\\', \\'UA-39055973-1\\']);\\n    _gaq.push([\\'_trackPageview\\']);\\n\\n    (function() {\\n        var ga = document.createElement(\\'script\\'); ga.type = \\'text/javascript\\'; ga.async = true;\\n        ga.src = (\\'https:\\' == document.location.protocol ? \\'https://ssl\\' : \\'http://www\\') + \\'.google-analytics.com/ga.js\\';\\n        var s = document.getElementsByTagName(\\'script\\')[0]; s.parentNode.insertBefore(ga, s);\\n    })();\\n    </script>\\n    \\n</head>\\n\\n<body class=\"python home\" id=\"homepage\">\\n\\n    <div id=\"touchnav-wrapper\">\\n\\n        <div id=\"nojs\" class=\"do-not-print\">\\n            <p><strong>Notice:</strong> While Javascript is not essential for this website, your interaction with the content will be limited. Please turn Javascript on for the full experience. </p>\\n        </div>\\n\\n        <!--[if lt IE 8]>\\n        <div id=\"oldie-warning\" class=\"do-not-print\">\\n            <p><strong>Notice:</strong> Your browser is <em>ancient</em> and <a href=\"http://www.ie6countdown.com/\">Microsoft agrees</a>. <a href=\"http://browsehappy.com/\">Upgrade to a different browser</a> or <a href=\"http://www.google.com/chromeframe/?redirect=true\">install Google Chrome Frame</a> to experience a better web.</p>\\n        </div>\\n        <![endif]-->\\n\\n        <!-- Sister Site Links -->\\n        <div id=\"top\" class=\"top-bar do-not-print\">\\n\\n            <nav class=\"meta-navigation container\" role=\"navigation\">\\n\\n                \\n                <div class=\"skip-link screen-reader-text\">\\n                    <a href=\"#content\" title=\"Skip to content\">Skip to content</a>\\n                </div>\\n\\n                \\n                <a id=\"close-python-network\" class=\"jump-link\" href=\"#python-network\" aria-hidden=\"true\">\\n                    <span aria-hidden=\"true\" class=\"icon-arrow-down\"><span>&#9660;</span></span> Close\\n                </a>\\n\\n                \\n\\n<ul class=\"menu\" role=\"tree\">\\n    \\n    <li class=\"python-meta current_item selectedcurrent_branch selected\">\\n        <a href=\"/\" title=\"The Python Programming Language\" class=\"current_item selectedcurrent_branch selected\">Python</a>\\n    </li>\\n    \\n    <li class=\"psf-meta \">\\n        <a href=\"/psf-landing/\" title=\"The Python Software Foundation\" >PSF</a>\\n    </li>\\n    \\n    <li class=\"docs-meta \">\\n        <a href=\"https://docs.python.org\" title=\"Python Documentation\" >Docs</a>\\n    </li>\\n    \\n    <li class=\"pypi-meta \">\\n        <a href=\"https://pypi.python.org/\" title=\"Python Package Index\" >PyPI</a>\\n    </li>\\n    \\n    <li class=\"jobs-meta \">\\n        <a href=\"/jobs/\" title=\"Python Job Board\" >Jobs</a>\\n    </li>\\n    \\n    <li class=\"shop-meta \">\\n        <a href=\"/community/\" title=\"Python Community\" >Community</a>\\n    </li>\\n    \\n</ul>\\n\\n\\n                <a id=\"python-network\" class=\"jump-link\" href=\"#top\" aria-hidden=\"true\">\\n                    <span aria-hidden=\"true\" class=\"icon-arrow-up\"><span>&#9650;</span></span> The Python Network\\n                </a>\\n\\n            </nav>\\n\\n        </div>\\n\\n        <!-- Header elements -->\\n        <header class=\"main-header\" role=\"banner\">\\n            <div class=\"container\">\\n\\n                <h1 class=\"site-headline\">\\n                    <a href=\"/\"><img class=\"python-logo\" src=\"/static/img/python-logo.png\" alt=\"python&trade;\"></a>\\n                </h1>\\n\\n                <div class=\"options-bar do-not-print\">\\n\\n                    \\n                    <a id=\"site-map-link\" class=\"jump-to-menu\" href=\"#site-map\"><span class=\"menu-icon\">&equiv;</span> Menu</a><form class=\"search-the-site\" action=\"/search/\" method=\"get\">\\n                        <fieldset title=\"Search Python.org\">\\n\\n                            <span aria-hidden=\"true\" class=\"icon-search\"></span>\\n\\n                            <label class=\"screen-reader-text\" for=\"id-search-field\">Search This Site</label>\\n                            <input id=\"id-search-field\" name=\"q\" type=\"search\" role=\"textbox\" class=\"search-field\" placeholder=\"Search\" value=\"\" tabindex=\"1\">\\n\\n                            <button type=\"submit\" name=\"submit\" id=\"submit\" class=\"search-button\" title=\"Submit this Search\" tabindex=\"3\">\\n                                GO\\n                            </button>\\n\\n                            \\n                            <!--[if IE]><input type=\"text\" style=\"display: none;\" disabled=\"disabled\" size=\"1\" tabindex=\"4\"><![endif]-->\\n\\n                        </fieldset>\\n                    </form><span class=\"breaker\"></span><div class=\"adjust-font-size\" aria-hidden=\"true\">\\n                        <ul class=\"navigation menu\" aria-label=\"Adjust Text Size on Page\">\\n                            <li class=\"tier-1 last\" aria-haspopup=\"true\">\\n                                <a href=\"#\" class=\"action-trigger\"><strong><small>A</small> A</strong></a>\\n                                <ul class=\"subnav menu\">\\n                                    <li class=\"tier-2 element-1\" role=\"treeitem\"><a class=\"text-shrink\" title=\"Make Text Smaller\" href=\"javascript:;\">Smaller</a></li>\\n                                    <li class=\"tier-2 element-2\" role=\"treeitem\"><a class=\"text-grow\" title=\"Make Text Larger\" href=\"javascript:;\">Larger</a></li>\\n                                    <li class=\"tier-2 element-3\" role=\"treeitem\"><a class=\"text-reset\" title=\"Reset any font size changes I have made\" href=\"javascript:;\">Reset</a></li>\\n                                </ul>\\n                            </li>\\n                        </ul>\\n                    </div><div class=\"winkwink-nudgenudge\">\\n                        <ul class=\"navigation menu\" aria-label=\"Social Media Navigation\">\\n                            <li class=\"tier-1 last\" aria-haspopup=\"true\">\\n                                <a href=\"#\" class=\"action-trigger\">Socialize</a>\\n                                <ul class=\"subnav menu\">\\n                                    <li class=\"tier-2 element-1\" role=\"treeitem\"><a href=\"http://plus.google.com/+Python\"><span aria-hidden=\"true\" class=\"icon-google-plus\"></span>Google+</a></li>\\n                                    <li class=\"tier-2 element-2\" role=\"treeitem\"><a href=\"http://www.facebook.com/pythonlang?fref=ts\"><span aria-hidden=\"true\" class=\"icon-facebook\"></span>Facebook</a></li>\\n                                    <li class=\"tier-2 element-3\" role=\"treeitem\"><a href=\"http://twitter.com/ThePSF\"><span aria-hidden=\"true\" class=\"icon-twitter\"></span>Twitter</a></li>\\n                                    <li class=\"tier-2 element-4\" role=\"treeitem\"><a href=\"/community/irc/\"><span aria-hidden=\"true\" class=\"icon-freenode\"></span>Chat on IRC</a></li>\\n                                </ul>\\n                            </li>\\n                        </ul>\\n                    </div><div class=\"account-signin\">\\n                        <ul class=\"navigation menu\" aria-label=\"Social Media Navigation\">\\n                            <li class=\"tier-1 last\" aria-haspopup=\"true\">\\n                                \\n                                <a href=\"/accounts/login/\" title=\"Sign Up or Sign In to Python.org\">Sign In</a>\\n                                <ul class=\"subnav menu\">\\n                                    <li class=\"tier-2 element-1\" role=\"treeitem\"><a href=\"/accounts/signup/\">Sign Up / Register</a></li>\\n                                    <li class=\"tier-2 element-2\" role=\"treeitem\"><a href=\"/accounts/login/\">Sign In</a></li>\\n                                </ul>\\n                                \\n                            </li>\\n                        </ul>\\n                    </div>\\n\\n                </div><!-- end options-bar -->\\n\\n                <nav id=\"mainnav\" class=\"python-navigation main-navigation do-not-print\" role=\"navigation\">\\n                    \\n                        \\n<ul class=\"navigation menu\" role=\"menubar\" aria-label=\"Main Navigation\">\\n  \\n    \\n    \\n    <li id=\"about\" class=\"tier-1 element-1  \" aria-haspopup=\"true\">\\n        <a href=\"/about/\" title=\"\" class=\"\">About</a>\\n        \\n            \\n\\n<ul class=\"subnav menu\" role=\"menu\" aria-hidden=\"true\">\\n    \\n        <li class=\"tier-2 element-1\" role=\"treeitem\"><a href=\"/about/apps/\" title=\"\">Applications</a></li>\\n    \\n        <li class=\"tier-2 element-2\" role=\"treeitem\"><a href=\"/about/quotes/\" title=\"\">Quotes</a></li>\\n    \\n        <li class=\"tier-2 element-3\" role=\"treeitem\"><a href=\"/about/gettingstarted/\" title=\"\">Getting Started</a></li>\\n    \\n        <li class=\"tier-2 element-4\" role=\"treeitem\"><a href=\"/about/help/\" title=\"\">Help</a></li>\\n    \\n        <li class=\"tier-2 element-5\" role=\"treeitem\"><a href=\"http://brochure.getpython.info/\" title=\"\">Python Brochure</a></li>\\n    \\n</ul>\\n\\n        \\n    </li>\\n    \\n    \\n    \\n    <li id=\"downloads\" class=\"tier-1 element-2  \" aria-haspopup=\"true\">\\n        <a href=\"/downloads/\" title=\"\" class=\"\">Downloads</a>\\n        \\n            \\n\\n<ul class=\"subnav menu\" role=\"menu\" aria-hidden=\"true\">\\n    \\n        <li class=\"tier-2 element-1\" role=\"treeitem\"><a href=\"/downloads/\" title=\"\">All releases</a></li>\\n    \\n        <li class=\"tier-2 element-2\" role=\"treeitem\"><a href=\"/downloads/source/\" title=\"\">Source code</a></li>\\n    \\n        <li class=\"tier-2 element-3\" role=\"treeitem\"><a href=\"/downloads/windows/\" title=\"\">Windows</a></li>\\n    \\n        <li class=\"tier-2 element-4\" role=\"treeitem\"><a href=\"/downloads/mac-osx/\" title=\"\">Mac OS X</a></li>\\n    \\n        <li class=\"tier-2 element-5\" role=\"treeitem\"><a href=\"/download/other/\" title=\"\">Other Platforms</a></li>\\n    \\n        <li class=\"tier-2 element-6\" role=\"treeitem\"><a href=\"https://docs.python.org/3/license.html\" title=\"\">License</a></li>\\n    \\n        <li class=\"tier-2 element-7\" role=\"treeitem\"><a href=\"/download/alternatives\" title=\"\">Alternative Implementations</a></li>\\n    \\n</ul>\\n\\n        \\n    </li>\\n    \\n    \\n    \\n    <li id=\"documentation\" class=\"tier-1 element-3  \" aria-haspopup=\"true\">\\n        <a href=\"/doc/\" title=\"\" class=\"\">Documentation</a>\\n        \\n            \\n\\n<ul class=\"subnav menu\" role=\"menu\" aria-hidden=\"true\">\\n    \\n        <li class=\"tier-2 element-1\" role=\"treeitem\"><a href=\"/doc/\" title=\"\">Docs</a></li>\\n    \\n        <li class=\"tier-2 element-2\" role=\"treeitem\"><a href=\"/doc/av\" title=\"\">Audio/Visual Talks</a></li>\\n    \\n        <li class=\"tier-2 element-3\" role=\"treeitem\"><a href=\"https://wiki.python.org/moin/BeginnersGuide\" title=\"\">Beginner&#39;s Guide</a></li>\\n    \\n        <li class=\"tier-2 element-4\" role=\"treeitem\"><a href=\"https://devguide.python.org/\" title=\"\">Developer&#39;s Guide</a></li>\\n    \\n        <li class=\"tier-2 element-5\" role=\"treeitem\"><a href=\"https://docs.python.org/faq/\" title=\"\">FAQ</a></li>\\n    \\n        <li class=\"tier-2 element-6\" role=\"treeitem\"><a href=\"http://wiki.python.org/moin/Languages\" title=\"\">Non-English Docs</a></li>\\n    \\n        <li class=\"tier-2 element-7\" role=\"treeitem\"><a href=\"http://python.org/dev/peps/\" title=\"\">PEP Index</a></li>\\n    \\n        <li class=\"tier-2 element-8\" role=\"treeitem\"><a href=\"https://wiki.python.org/moin/PythonBooks\" title=\"\">Python Books</a></li>\\n    \\n        <li class=\"tier-2 element-9\" role=\"treeitem\"><a href=\"/doc/essays/\" title=\"\">Python Essays</a></li>\\n    \\n</ul>\\n\\n        \\n    </li>\\n    \\n    \\n    \\n    <li id=\"community\" class=\"tier-1 element-4  \" aria-haspopup=\"true\">\\n        <a href=\"/community/\" title=\"\" class=\"\">Community</a>\\n        \\n            \\n\\n<ul class=\"subnav menu\" role=\"menu\" aria-hidden=\"true\">\\n    \\n        <li class=\"tier-2 element-1\" role=\"treeitem\"><a href=\"/community/diversity/\" title=\"\">Diversity</a></li>\\n    \\n        <li class=\"tier-2 element-2\" role=\"treeitem\"><a href=\"/community/lists/\" title=\"\">Mailing Lists</a></li>\\n    \\n        <li class=\"tier-2 element-3\" role=\"treeitem\"><a href=\"/community/irc/\" title=\"\">IRC</a></li>\\n    \\n        <li class=\"tier-2 element-4\" role=\"treeitem\"><a href=\"/community/forums/\" title=\"\">Forums</a></li>\\n    \\n        <li class=\"tier-2 element-5\" role=\"treeitem\"><a href=\"/community/workshops/\" title=\"\">Python Conferences</a></li>\\n    \\n        <li class=\"tier-2 element-6\" role=\"treeitem\"><a href=\"/community/sigs/\" title=\"\">Special Interest Groups</a></li>\\n    \\n        <li class=\"tier-2 element-7\" role=\"treeitem\"><a href=\"https://wiki.python.org/moin/\" title=\"\">Python Wiki</a></li>\\n    \\n        <li class=\"tier-2 element-8\" role=\"treeitem\"><a href=\"/community/logos/\" title=\"\">Python Logo</a></li>\\n    \\n        <li class=\"tier-2 element-9\" role=\"treeitem\"><a href=\"/community/merchandise/\" title=\"\">Merchandise</a></li>\\n    \\n        <li class=\"tier-2 element-10\" role=\"treeitem\"><a href=\"/community/awards\" title=\"\">Community Awards</a></li>\\n    \\n        <li class=\"tier-2 element-11\" role=\"treeitem\"><a href=\"https://www.python.org/psf/codeofconduct/\" title=\"\">Code of Conduct</a></li>\\n    \\n</ul>\\n\\n        \\n    </li>\\n    \\n    \\n    \\n    <li id=\"success-stories\" class=\"tier-1 element-5  \" aria-haspopup=\"true\">\\n        <a href=\"/about/success/\" title=\"success-stories\" class=\"\">Success Stories</a>\\n        \\n            \\n\\n<ul class=\"subnav menu\" role=\"menu\" aria-hidden=\"true\">\\n    \\n        <li class=\"tier-2 element-1\" role=\"treeitem\"><a href=\"/about/success/#arts\" title=\"\">Arts</a></li>\\n    \\n        <li class=\"tier-2 element-2\" role=\"treeitem\"><a href=\"/about/success/#business\" title=\"\">Business</a></li>\\n    \\n        <li class=\"tier-2 element-3\" role=\"treeitem\"><a href=\"/about/success/#education\" title=\"\">Education</a></li>\\n    \\n        <li class=\"tier-2 element-4\" role=\"treeitem\"><a href=\"/about/success/#engineering\" title=\"\">Engineering</a></li>\\n    \\n        <li class=\"tier-2 element-5\" role=\"treeitem\"><a href=\"/about/success/#government\" title=\"\">Government</a></li>\\n    \\n        <li class=\"tier-2 element-6\" role=\"treeitem\"><a href=\"/about/success/#scientific\" title=\"\">Scientific</a></li>\\n    \\n        <li class=\"tier-2 element-7\" role=\"treeitem\"><a href=\"/about/success/#software-development\" title=\"\">Software Development</a></li>\\n    \\n</ul>\\n\\n        \\n    </li>\\n    \\n    \\n    \\n    <li id=\"news\" class=\"tier-1 element-6  \" aria-haspopup=\"true\">\\n        <a href=\"/blogs/\" title=\"News from around the Python world\" class=\"\">News</a>\\n        \\n            \\n\\n<ul class=\"subnav menu\" role=\"menu\" aria-hidden=\"true\">\\n    \\n        <li class=\"tier-2 element-1\" role=\"treeitem\"><a href=\"/blogs/\" title=\"Python Insider Blog Posts\">Python News</a></li>\\n    \\n        <li class=\"tier-2 element-2\" role=\"treeitem\"><a href=\"http://planetpython.org/\" title=\"Planet Python\">Community News</a></li>\\n    \\n        <li class=\"tier-2 element-3\" role=\"treeitem\"><a href=\"http://pyfound.blogspot.com/\" title=\"PSF Blog\">PSF News</a></li>\\n    \\n        <li class=\"tier-2 element-4\" role=\"treeitem\"><a href=\"http://pycon.blogspot.com/\" title=\"PyCon Blog\">PyCon News</a></li>\\n    \\n</ul>\\n\\n        \\n    </li>\\n    \\n    \\n    \\n    <li id=\"events\" class=\"tier-1 element-7  \" aria-haspopup=\"true\">\\n        <a href=\"/events/\" title=\"\" class=\"\">Events</a>\\n        \\n            \\n\\n<ul class=\"subnav menu\" role=\"menu\" aria-hidden=\"true\">\\n    \\n        <li class=\"tier-2 element-1\" role=\"treeitem\"><a href=\"/events/python-events\" title=\"\">Python Events</a></li>\\n    \\n        <li class=\"tier-2 element-2\" role=\"treeitem\"><a href=\"/events/python-user-group/\" title=\"\">User Group Events</a></li>\\n    \\n        <li class=\"tier-2 element-3\" role=\"treeitem\"><a href=\"/events/python-events/past/\" title=\"\">Python Events Archive</a></li>\\n    \\n        <li class=\"tier-2 element-4\" role=\"treeitem\"><a href=\"/events/python-user-group/past/\" title=\"\">User Group Events Archive</a></li>\\n    \\n        <li class=\"tier-2 element-5\" role=\"treeitem\"><a href=\"https://wiki.python.org/moin/PythonEventsCalendar#Submitting_an_Event\" title=\"\">Submit an Event</a></li>\\n    \\n</ul>\\n\\n        \\n    </li>\\n    \\n    \\n    \\n    \\n  \\n</ul>\\n\\n                    \\n                </nav>\\n\\n                <div class=\"header-banner \"> <!-- for optional \"do-not-print\" class -->\\n                    \\n        <div id=\"dive-into-python\" class=\"flex-slideshow slideshow\">\\n\\n            <ul class=\"launch-shell menu\" id=\"launch-shell\">\\n                <li>\\n                    <a class=\"button prompt\" id=\"start-shell\" data-shell-container=\"#dive-into-python\" href=\"/shell/\">&gt;_\\n                        <span class=\"message\">Launch Interactive Shell</span>\\n                    </a>\\n                </li>\\n            </ul>\\n\\n            <ul class=\"slides menu\">\\n                \\n                <li>\\n                    <div class=\"slide-code\"><pre><code><span class=\"comment\"># Python 3: Fibonacci series up to n</span>\\r\\n>>> def fib(n):\\r\\n>>>     a, b = 0, 1\\r\\n>>>     while a &lt; n:\\r\\n>>>         print(a, end=\\' \\')\\r\\n>>>         a, b = b, a+b\\r\\n>>>     print()\\r\\n>>> fib(1000)\\r\\n<span class=\"output\">0 1 1 2 3 5 8 13 21 34 55 89 144 233 377 610 987</span></code></pre></div>\\n                    <div class=\"slide-copy\"><h1>Functions Defined</h1>\\r\\n<p>The core of extensible programming is defining functions. Python allows mandatory and optional arguments, keyword arguments, and even arbitrary argument lists. <a href=\"//docs.python.org/3/tutorial/controlflow.html#defining-functions\">More about defining functions in Python&nbsp;3</a></p></div>\\n                </li>\\n                \\n                <li>\\n                    <div class=\"slide-code\"><pre><code><span class=\"comment\"># Python 3: List comprehensions</span>\\r\\n>>> fruits = [\\'Banana\\', \\'Apple\\', \\'Lime\\']\\r\\n>>> loud_fruits = [fruit.upper() for fruit in fruits]\\r\\n>>> print(loud_fruits)\\r\\n<span class=\"output\">[\\'BANANA\\', \\'APPLE\\', \\'LIME\\']</span>\\r\\n\\r\\n<span class=\"comment\"># List and the enumerate function</span>\\r\\n>>> list(enumerate(fruits))\\r\\n<span class=\"output\">[(0, \\'Banana\\'), (1, \\'Apple\\'), (2, \\'Lime\\')]</span></code></pre></div>\\n                    <div class=\"slide-copy\"><h1>Compound Data Types</h1>\\r\\n<p>Lists (known as arrays in other languages) are one of the compound data types that Python understands. Lists can be indexed, sliced and manipulated with other built-in functions. <a href=\"//docs.python.org/3/tutorial/introduction.html#lists\">More about lists in Python&nbsp;3</a></p></div>\\n                </li>\\n                \\n                <li>\\n                    <div class=\"slide-code\"><pre><code><span class=\"comment\"># Python 3: Simple arithmetic</span>\\r\\n>>> 1 / 2\\r\\n<span class=\"output\">0.5</span>\\r\\n>>> 2 ** 3\\r\\n<span class=\"output\">8</span>\\r\\n>>> 17 / 3  <span class=\"comment\"># classic division returns a float</span>\\r\\n<span class=\"output\">5.666666666666667</span>\\r\\n>>> 17 // 3  <span class=\"comment\"># floor division</span>\\r\\n<span class=\"output\">5</span></code></pre></div>\\n                    <div class=\"slide-copy\"><h1>Intuitive Interpretation</h1>\\r\\n<p>Calculations are simple with Python, and expression syntax is straightforward: the operators <code>+</code>, <code>-</code>, <code>*</code> and <code>/</code> work as expected; parentheses <code>()</code> can be used for grouping. <a href=\"http://docs.python.org/3/tutorial/introduction.html#using-python-as-a-calculator\">More about simple math functions in Python&nbsp;3</a>.</p></div>\\n                </li>\\n                \\n                <li>\\n                    <div class=\"slide-code\"><pre><code><span class=\"comment\"># Python 3: Simple output (with Unicode)</span>\\r\\n>>> print(\"Hello, I\\'m Python!\")\\r\\n<span class=\"output\">Hello, I\\'m Python!</span>\\r\\n\\r\\n<span class=\"comment\"># Input, assignment</span>\\r\\n>>> name = input(\\'What is your name?\\\\n\\')\\r\\n>>> print(\\'Hi, %s.\\' % name)\\r\\n<span class=\"output\">What is your name?\\r\\nPython\\r\\nHi, Python.</span></code></pre></div>\\n                    <div class=\"slide-copy\"><h1>Quick &amp; Easy to Learn</h1>\\r\\n<p>Experienced programmers in any other language can pick up Python very quickly, and beginners find the clean syntax and indentation structure easy to learn. <a href=\"//docs.python.org/3/tutorial/\">Whet your appetite</a> with our Python&nbsp;3 overview.</p>\\r\\n                   </div>\\n                </li>\\n                \\n                <li>\\n                    <div class=\"slide-code\"><pre><code><span class=\"comment\"># For loop on a list</span>\\r\\n>>> numbers = [2, 4, 6, 8]\\r\\n>>> product = 1\\r\\n>>> for number in numbers:\\r\\n...    product = product * number\\r\\n... \\r\\n>>> print(\\'The product is:\\', product)\\r\\n<span class=\"output\">The product is: 384</span></code></pre></div>\\n                    <div class=\"slide-copy\"><h1>All the Flow You&rsquo;d Expect</h1>\\r\\n<p>Python knows the usual control flow statements that other languages speak &mdash; <code>if</code>, <code>for</code>, <code>while</code> and <code>range</code> &mdash; with some of its own twists, of course. <a href=\"//docs.python.org/3/tutorial/controlflow.html\">More control flow tools in Python&nbsp;3</a></p></div>\\n                </li>\\n                \\n            </ul>\\n        </div>\\n\\n\\n                </div>\\n\\n                \\n        <div class=\"introduction\">\\n            <p>Python is a programming language that lets you work quickly <span class=\"breaker\"></span>and integrate systems more effectively. <a class=\"readmore\" href=\"/doc/\">Learn More</a></p>\\n        </div>\\n\\n\\n             </div><!-- end .container -->\\n        </header>\\n\\n        <div id=\"content\" class=\"content-wrapper\">\\n            <!-- Main Content Column -->\\n            <div class=\"container\">\\n\\n                <section class=\"main-content \" role=\"main\">\\n\\n                    \\n                    \\n\\n                    \\n\\n                    \\n\\n                <div class=\"row\">\\n\\n                    <div class=\"small-widget get-started-widget\">\\n                        <h2 class=\"widget-title\"><span aria-hidden=\"true\" class=\"icon-get-started\"></span>Get Started</h2>\\r\\n<p>Whether you\\'re new to programming or an experienced developer, it\\'s easy to learn and use Python.</p>\\r\\n<p><a href=\"/about/gettingstarted/\">Start with our Beginner&rsquo;s Guide</a></p>\\n                    </div>\\n\\n                    <div class=\"small-widget download-widget\">\\n                        <h2 class=\"widget-title\"><span aria-hidden=\"true\" class=\"icon-download\"></span>Download</h2>\\n<p>Python source code and installers are available for download for all versions! Not sure which version to use? <a href=\"https://wiki.python.org/moin/Python2orPython3\">Check here</a>.</p>\\n<p>Latest: <a href=\"/downloads/release/python-364/\">Python 3.6.4</a> - <a href=\"/downloads/release/python-2714/\">Python 2.7.14</a></p>\\n                    </div>\\n\\n                    <div class=\"small-widget documentation-widget\">\\n                        <h2 class=\"widget-title\"><span aria-hidden=\"true\" class=\"icon-documentation\"></span>Docs</h2>\\r\\n<p>Documentation for Python\\'s standard library, along with tutorials and guides, are available online.</p>\\r\\n<p><a href=\"https://docs.python.org\">docs.python.org</a></p>\\n                    </div>\\n\\n                    <div class=\"small-widget jobs-widget last\">\\n                        <h2 class=\"widget-title\"><span aria-hidden=\"true\" class=\"icon-jobs\"></span>Jobs</h2>\\r\\n<p>Looking for work or have a Python related position that you\\'re trying to hire for? Our <strong>relaunched community-run job board</strong> is the place to go.</p>\\r\\n<p><a href=\"//jobs.python.org\">jobs.python.org</a></p>\\n                    </div>\\n\\n                </div>\\n\\n                <div class=\"list-widgets row\">\\n\\n                    <div class=\"medium-widget blog-widget\">\\n                        \\n                        <div class=\"shrubbery\">\\n                        \\n                            <h2 class=\"widget-title\"><span aria-hidden=\"true\" class=\"icon-news\"></span>Latest News</h2>\\n                            <p class=\"give-me-more\"><a href=\"http://blog.python.org\" title=\"More News\">More</a></p>\\n                            \\n                            <ul class=\"menu\">\\n                                \\n                                \\n                                <li>\\n<time datetime=\"2018-02-05T00:36:00+00:00\"><span class=\"say-no-more\">2018-</span>02-05</time>\\n <a href=\"http://feedproxy.google.com/~r/PythonInsider/~3/AMoBel8b8Mc/python-3.html\">Python 3.5.5 and Python 3.4.8 are now available. You can&nbsp;download ...</a></li>\\n                                \\n                                <li>\\n<time datetime=\"2018-02-01T01:56:00.000003+00:00\"><span class=\"say-no-more\">2018-</span>02-01</time>\\n <a href=\"http://feedproxy.google.com/~r/PythonInsider/~3/x_c9D0S-4C4/python-370b1-is-now-available-for.html\">Python&nbsp;3.7.0b1&nbsp;is the first of four planned beta previews of Python ...</a></li>\\n                                \\n                                <li>\\n<time datetime=\"2018-01-23T14:52:00.000001+00:00\"><span class=\"say-no-more\">2018-</span>01-23</time>\\n <a href=\"http://feedproxy.google.com/~r/PythonInsider/~3/wh73_1A-N7Q/python-355rc1-and-python-348rc1-are-now.html\">Python 3.5.5rc1 and Python 3.4.8rc1 are now available for testing. ...</a></li>\\n                                \\n                                <li>\\n<time datetime=\"2018-01-09T15:45:00.000001+00:00\"><span class=\"say-no-more\">2018-</span>01-09</time>\\n <a href=\"http://feedproxy.google.com/~r/PythonInsider/~3/kihd2DW98YY/python-370a4-is-available-for-testing.html\">Python&nbsp;3.7.0a4&nbsp;is the last of four planned alpha releases of Python ...</a></li>\\n                                \\n                                <li>\\n<time datetime=\"2017-12-19T08:34:00.000001+00:00\"><span class=\"say-no-more\">2017-</span>12-19</time>\\n <a href=\"http://feedproxy.google.com/~r/PythonInsider/~3/zVC80sq9s00/python-364-is-now-available.html\">Python 3.6.4 is now available. &nbsp;Python 3.6.4 is the fourth ...</a></li>\\n                                \\n                            </ul>\\n                        </div><!-- end .shrubbery -->\\n\\n                    </div>\\n\\n                    <div class=\"medium-widget event-widget last\">\\n                        \\n                        <div class=\"shrubbery\">\\n                        \\n                            <h2 class=\"widget-title\"><span aria-hidden=\"true\" class=\"icon-calendar\"></span>Upcoming Events</h2>\\n                            <p class=\"give-me-more\"><a href=\"/events/calendars/\" title=\"More Events\">More</a></p>\\n                            \\n                            <ul class=\"menu\">\\n                                \\n                                \\n                                \\n                                <li>\\n<time datetime=\"2018-02-10T00:00:00+00:00\"><span class=\"say-no-more\">2018-</span>02-10</time>\\n <a href=\"/events/python-events/626/\">PyTennessee 2018</a></li>\\n                                \\n                                \\n                                \\n                                <li>\\n<time datetime=\"2018-02-14T00:00:00+00:00\"><span class=\"say-no-more\">2018-</span>02-14</time>\\n <a href=\"/events/python-events/625/\">Iran Pycon &quot;IrPycon&quot; 2018</a></li>\\n                                \\n                                \\n                                \\n                                <li>\\n<time datetime=\"2018-02-16T00:00:00+00:00\"><span class=\"say-no-more\">2018-</span>02-16</time>\\n <a href=\"/events/python-events/637/\">Swiss Python Summit 2018</a></li>\\n                                \\n                                \\n                                \\n                                <li>\\n<time datetime=\"2018-02-17T00:00:00+00:00\"><span class=\"say-no-more\">2018-</span>02-17</time>\\n <a href=\"/events/python-events/639/\">PyCaribbean 2018</a></li>\\n                                \\n                                \\n                                \\n                                <li>\\n<time datetime=\"2018-02-22T00:00:00+00:00\"><span class=\"say-no-more\">2018-</span>02-22</time>\\n <a href=\"/events/python-user-group/643/\">Django Girls Ouagadougou</a></li>\\n                                \\n                                \\n                            </ul>\\n                        </div>\\n\\n                    </div>\\n\\n                </div>\\n\\n                <div class=\"row\">\\n\\n                    <div class=\"medium-widget success-stories-widget\">\\n                        \\n\\n\\n\\n                        <div class=\"shrubbery\">\\n                            \\n\\n                            <h2 class=\"widget-title\"><span aria-hidden=\"true\" class=\"icon-success-stories\"></span>Success Stories</h2>\\n                            <p class=\"give-me-more\"><a href=\"/success-stories/\" title=\"More Success Stories\">More</a></p>\\n\\n                            \\n                            <div class=\"success-story-item\" id=\"success-story-2\">\\n\\n                            <blockquote>\\n                                <a href=\"/success-stories/industrial-light-magic-runs-python/\">ILM runs a batch processing environment capable of modeling, rendering and compositing tens of thousands of motion picture frames per day. Thousands of machines running Linux, IRIX, Compaq Tru64, OS X, Solaris, and Windows join together to provide a production pipeline used by ~800 users daily. Speed of development is key, and Python was a faster way to code (and re-code) the programs that control this production pipeline.</a>\\n                            </blockquote>\\n\\n                            <table cellpadding=\"0\" cellspacing=\"0\" border=\"0\" width=\"100%\" class=\"quote-from\">\\n                                <tbody>\\n                                    <tr>\\n                                        \\n                                        <td><p><a href=\"/success-stories/industrial-light-magic-runs-python/\">Industrial Light &amp; Magic Runs on Python</a> <em>by Tim Fortenberry</em></p></td>\\n                                    </tr>\\n                                </tbody>\\n                            </table>\\n                            </div>\\n                            \\n\\n                        </div><!-- end .shrubbery -->\\n\\n                    </div>\\n\\n                    <div class=\"medium-widget applications-widget last\">\\n                        <div class=\"shrubbery\">\\n                            <h2 class=\"widget-title\"><span aria-hidden=\"true\" class=\"icon-python\"></span>Use Python for&hellip;</h2>\\r\\n<p class=\"give-me-more\"><a href=\"/about/apps\" title=\"More Applications\">More</a></p>\\r\\n\\r\\n<ul class=\"menu\">\\r\\n    <li><b>Web Development</b>:\\r\\n        <span class=\"tag-wrapper\"><a class=\"tag\" href=\"http://www.djangoproject.com/\">Django</a>, <a class=\"tag\" href=\"http://www.pylonsproject.org/\">Pyramid</a>, <a class=\"tag\" href=\"http://bottlepy.org\">Bottle</a>, <a class=\"tag\" href=\"http://tornadoweb.org\">Tornado</a>, <a href=\"http://flask.pocoo.org/\" class=\"tag\">Flask</a>, <a class=\"tag\" href=\"http://www.web2py.com/\">web2py</a></span></li>\\r\\n    <li><b>GUI Development</b>:\\r\\n        <span class=\"tag-wrapper\"><a class=\"tag\" href=\"http://wiki.python.org/moin/TkInter\">tkInter</a>, <a class=\"tag\" href=\"https://wiki.gnome.org/Projects/PyGObject\">PyGObject</a>, <a class=\"tag\" href=\"http://www.riverbankcomputing.co.uk/software/pyqt/intro\">PyQt</a>, <a class=\"tag\" href=\"https://wiki.qt.io/PySide\">PySide</a>, <a class=\"tag\" href=\"https://kivy.org/\">Kivy</a>, <a class=\"tag\" href=\"http://www.wxpython.org/\">wxPython</a></span></li>\\r\\n    <li><b>Scientific and Numeric</b>:\\r\\n        <span class=\"tag-wrapper\">\\r\\n<a class=\"tag\" href=\"http://www.scipy.org\">SciPy</a>, <a class=\"tag\" href=\"http://pandas.pydata.org/\">Pandas</a>, <a href=\"http://ipython.org\" class=\"tag\">IPython</a></span></li>\\r\\n    <li><b>Software Development</b>:\\r\\n        <span class=\"tag-wrapper\"><a class=\"tag\" href=\"http://buildbot.net/\">Buildbot</a>, <a class=\"tag\" href=\"http://trac.edgewall.org/\">Trac</a>, <a class=\"tag\" href=\"http://roundup.sourceforge.net/\">Roundup</a></span></li>\\r\\n    <li><b>System Administration</b>:\\r\\n        <span class=\"tag-wrapper\"><a class=\"tag\" href=\"http://www.ansible.com\">Ansible</a>, <a class=\"tag\" href=\"http://www.saltstack.com\">Salt</a>, <a class=\"tag\" href=\"https://www.openstack.org\">OpenStack</a></span></li>\\r\\n</ul>\\r\\n\\n                        </div><!-- end .shrubbery -->\\n                    </div>\\n\\n                </div>\\n\\n                \\n                <div class=\"pep-widget\">\\n\\n                    <h2 class=\"widget-title\">\\n                        <span class=\"prompt\">&gt;&gt;&gt;</span> <a href=\"/dev/peps/\">Python Enhancement Proposals<span class=\"say-no-more\"> (PEPs)</span></a>: The future of Python<span class=\"say-no-more\"> is discussed here.</span>\\n                        <a aria-hidden=\"true\" class=\"rss-link\" href=\"/dev/peps/peps.rss\"><span class=\"icon-feed\"></span> RSS</a>\\n                    </h2>\\n\\n\\n                    \\n                    \\n                </div>\\n\\n                                <div class=\"psf-widget\">\\n\\n                    <div class=\"python-logo\"></div>\\n                    \\n                    <h2 class=\"widget-title\">\\r\\n    <span class=\"prompt\">&gt;&gt;&gt;</span> <a href=\"/psf/\">Python Software Foundation</a>\\r\\n</h2>\\r\\n<p>The mission of the Python Software Foundation is to promote, protect, and advance the Python programming language, and to support and facilitate the growth of a diverse and international community of Python programmers. <a class=\"readmore\" href=\"/psf/\">Learn more</a> </p>\\r\\n<p class=\"click-these\">\\r\\n    <a class=\"button\" href=\"/users/membership/\">Become a Member</a>\\r\\n    <a class=\"button\" href=\"/psf/donations/\">Donate to the PSF</a>\\r\\n</p>\\n                </div>\\n\\n\\n\\n\\n                </section>\\n\\n                \\n                \\n\\n                \\n                \\n\\n\\n            </div><!-- end .container -->\\n        </div><!-- end #content .content-wrapper -->\\n\\n        <!-- Footer and social media list -->\\n        <footer id=\"site-map\" class=\"main-footer\" role=\"contentinfo\">\\n            <div class=\"main-footer-links\">\\n                <div class=\"container\">\\n\\n                    \\n                    <a id=\"back-to-top-1\" class=\"jump-link\" href=\"#python-network\"><span aria-hidden=\"true\" class=\"icon-arrow-up\"><span>&#9650;</span></span> Back to Top</a>\\n\\n                    \\n\\n<ul class=\"sitemap navigation menu do-not-print\" role=\"tree\" id=\"container\">\\n    \\n    <li class=\"tier-1 element-1\">\\n        <a href=\"/about/\" >About</a>\\n        \\n            \\n\\n<ul class=\"subnav menu\">\\n    \\n        <li class=\"tier-2 element-1\" role=\"treeitem\"><a href=\"/about/apps/\" title=\"\">Applications</a></li>\\n    \\n        <li class=\"tier-2 element-2\" role=\"treeitem\"><a href=\"/about/quotes/\" title=\"\">Quotes</a></li>\\n    \\n        <li class=\"tier-2 element-3\" role=\"treeitem\"><a href=\"/about/gettingstarted/\" title=\"\">Getting Started</a></li>\\n    \\n        <li class=\"tier-2 element-4\" role=\"treeitem\"><a href=\"/about/help/\" title=\"\">Help</a></li>\\n    \\n        <li class=\"tier-2 element-5\" role=\"treeitem\"><a href=\"http://brochure.getpython.info/\" title=\"\">Python Brochure</a></li>\\n    \\n</ul>\\n\\n        \\n    </li>\\n    \\n    <li class=\"tier-1 element-2\">\\n        <a href=\"/downloads/\" >Downloads</a>\\n        \\n            \\n\\n<ul class=\"subnav menu\">\\n    \\n        <li class=\"tier-2 element-1\" role=\"treeitem\"><a href=\"/downloads/\" title=\"\">All releases</a></li>\\n    \\n        <li class=\"tier-2 element-2\" role=\"treeitem\"><a href=\"/downloads/source/\" title=\"\">Source code</a></li>\\n    \\n        <li class=\"tier-2 element-3\" role=\"treeitem\"><a href=\"/downloads/windows/\" title=\"\">Windows</a></li>\\n    \\n        <li class=\"tier-2 element-4\" role=\"treeitem\"><a href=\"/downloads/mac-osx/\" title=\"\">Mac OS X</a></li>\\n    \\n        <li class=\"tier-2 element-5\" role=\"treeitem\"><a href=\"/download/other/\" title=\"\">Other Platforms</a></li>\\n    \\n        <li class=\"tier-2 element-6\" role=\"treeitem\"><a href=\"https://docs.python.org/3/license.html\" title=\"\">License</a></li>\\n    \\n        <li class=\"tier-2 element-7\" role=\"treeitem\"><a href=\"/download/alternatives\" title=\"\">Alternative Implementations</a></li>\\n    \\n</ul>\\n\\n        \\n    </li>\\n    \\n    <li class=\"tier-1 element-3\">\\n        <a href=\"/doc/\" >Documentation</a>\\n        \\n            \\n\\n<ul class=\"subnav menu\">\\n    \\n        <li class=\"tier-2 element-1\" role=\"treeitem\"><a href=\"/doc/\" title=\"\">Docs</a></li>\\n    \\n        <li class=\"tier-2 element-2\" role=\"treeitem\"><a href=\"/doc/av\" title=\"\">Audio/Visual Talks</a></li>\\n    \\n        <li class=\"tier-2 element-3\" role=\"treeitem\"><a href=\"https://wiki.python.org/moin/BeginnersGuide\" title=\"\">Beginner&#39;s Guide</a></li>\\n    \\n        <li class=\"tier-2 element-4\" role=\"treeitem\"><a href=\"https://devguide.python.org/\" title=\"\">Developer&#39;s Guide</a></li>\\n    \\n        <li class=\"tier-2 element-5\" role=\"treeitem\"><a href=\"https://docs.python.org/faq/\" title=\"\">FAQ</a></li>\\n    \\n        <li class=\"tier-2 element-6\" role=\"treeitem\"><a href=\"http://wiki.python.org/moin/Languages\" title=\"\">Non-English Docs</a></li>\\n    \\n        <li class=\"tier-2 element-7\" role=\"treeitem\"><a href=\"http://python.org/dev/peps/\" title=\"\">PEP Index</a></li>\\n    \\n        <li class=\"tier-2 element-8\" role=\"treeitem\"><a href=\"https://wiki.python.org/moin/PythonBooks\" title=\"\">Python Books</a></li>\\n    \\n        <li class=\"tier-2 element-9\" role=\"treeitem\"><a href=\"/doc/essays/\" title=\"\">Python Essays</a></li>\\n    \\n</ul>\\n\\n        \\n    </li>\\n    \\n    <li class=\"tier-1 element-4\">\\n        <a href=\"/community/\" >Community</a>\\n        \\n            \\n\\n<ul class=\"subnav menu\">\\n    \\n        <li class=\"tier-2 element-1\" role=\"treeitem\"><a href=\"/community/diversity/\" title=\"\">Diversity</a></li>\\n    \\n        <li class=\"tier-2 element-2\" role=\"treeitem\"><a href=\"/community/lists/\" title=\"\">Mailing Lists</a></li>\\n    \\n        <li class=\"tier-2 element-3\" role=\"treeitem\"><a href=\"/community/irc/\" title=\"\">IRC</a></li>\\n    \\n        <li class=\"tier-2 element-4\" role=\"treeitem\"><a href=\"/community/forums/\" title=\"\">Forums</a></li>\\n    \\n        <li class=\"tier-2 element-5\" role=\"treeitem\"><a href=\"/community/workshops/\" title=\"\">Python Conferences</a></li>\\n    \\n        <li class=\"tier-2 element-6\" role=\"treeitem\"><a href=\"/community/sigs/\" title=\"\">Special Interest Groups</a></li>\\n    \\n        <li class=\"tier-2 element-7\" role=\"treeitem\"><a href=\"https://wiki.python.org/moin/\" title=\"\">Python Wiki</a></li>\\n    \\n        <li class=\"tier-2 element-8\" role=\"treeitem\"><a href=\"/community/logos/\" title=\"\">Python Logo</a></li>\\n    \\n        <li class=\"tier-2 element-9\" role=\"treeitem\"><a href=\"/community/merchandise/\" title=\"\">Merchandise</a></li>\\n    \\n        <li class=\"tier-2 element-10\" role=\"treeitem\"><a href=\"/community/awards\" title=\"\">Community Awards</a></li>\\n    \\n        <li class=\"tier-2 element-11\" role=\"treeitem\"><a href=\"https://www.python.org/psf/codeofconduct/\" title=\"\">Code of Conduct</a></li>\\n    \\n</ul>\\n\\n        \\n    </li>\\n    \\n    <li class=\"tier-1 element-5\">\\n        <a href=\"/about/success/\" title=\"success-stories\">Success Stories</a>\\n        \\n            \\n\\n<ul class=\"subnav menu\">\\n    \\n        <li class=\"tier-2 element-1\" role=\"treeitem\"><a href=\"/about/success/#arts\" title=\"\">Arts</a></li>\\n    \\n        <li class=\"tier-2 element-2\" role=\"treeitem\"><a href=\"/about/success/#business\" title=\"\">Business</a></li>\\n    \\n        <li class=\"tier-2 element-3\" role=\"treeitem\"><a href=\"/about/success/#education\" title=\"\">Education</a></li>\\n    \\n        <li class=\"tier-2 element-4\" role=\"treeitem\"><a href=\"/about/success/#engineering\" title=\"\">Engineering</a></li>\\n    \\n        <li class=\"tier-2 element-5\" role=\"treeitem\"><a href=\"/about/success/#government\" title=\"\">Government</a></li>\\n    \\n        <li class=\"tier-2 element-6\" role=\"treeitem\"><a href=\"/about/success/#scientific\" title=\"\">Scientific</a></li>\\n    \\n        <li class=\"tier-2 element-7\" role=\"treeitem\"><a href=\"/about/success/#software-development\" title=\"\">Software Development</a></li>\\n    \\n</ul>\\n\\n        \\n    </li>\\n    \\n    <li class=\"tier-1 element-6\">\\n        <a href=\"/blogs/\" title=\"News from around the Python world\">News</a>\\n        \\n            \\n\\n<ul class=\"subnav menu\">\\n    \\n        <li class=\"tier-2 element-1\" role=\"treeitem\"><a href=\"/blogs/\" title=\"Python Insider Blog Posts\">Python News</a></li>\\n    \\n        <li class=\"tier-2 element-2\" role=\"treeitem\"><a href=\"http://planetpython.org/\" title=\"Planet Python\">Community News</a></li>\\n    \\n        <li class=\"tier-2 element-3\" role=\"treeitem\"><a href=\"http://pyfound.blogspot.com/\" title=\"PSF Blog\">PSF News</a></li>\\n    \\n        <li class=\"tier-2 element-4\" role=\"treeitem\"><a href=\"http://pycon.blogspot.com/\" title=\"PyCon Blog\">PyCon News</a></li>\\n    \\n</ul>\\n\\n        \\n    </li>\\n    \\n    <li class=\"tier-1 element-7\">\\n        <a href=\"/events/\" >Events</a>\\n        \\n            \\n\\n<ul class=\"subnav menu\">\\n    \\n        <li class=\"tier-2 element-1\" role=\"treeitem\"><a href=\"/events/python-events\" title=\"\">Python Events</a></li>\\n    \\n        <li class=\"tier-2 element-2\" role=\"treeitem\"><a href=\"/events/python-user-group/\" title=\"\">User Group Events</a></li>\\n    \\n        <li class=\"tier-2 element-3\" role=\"treeitem\"><a href=\"/events/python-events/past/\" title=\"\">Python Events Archive</a></li>\\n    \\n        <li class=\"tier-2 element-4\" role=\"treeitem\"><a href=\"/events/python-user-group/past/\" title=\"\">User Group Events Archive</a></li>\\n    \\n        <li class=\"tier-2 element-5\" role=\"treeitem\"><a href=\"https://wiki.python.org/moin/PythonEventsCalendar#Submitting_an_Event\" title=\"\">Submit an Event</a></li>\\n    \\n</ul>\\n\\n        \\n    </li>\\n    \\n    <li class=\"tier-1 element-8\">\\n        <a href=\"/dev/\" >Contributing</a>\\n        \\n            \\n\\n<ul class=\"subnav menu\">\\n    \\n        <li class=\"tier-2 element-1\" role=\"treeitem\"><a href=\"https://devguide.python.org/\" title=\"\">Developer&#39;s Guide</a></li>\\n    \\n        <li class=\"tier-2 element-2\" role=\"treeitem\"><a href=\"https://bugs.python.org/\" title=\"\">Issue Tracker</a></li>\\n    \\n        <li class=\"tier-2 element-3\" role=\"treeitem\"><a href=\"https://mail.python.org/mailman/listinfo/python-dev\" title=\"\">python-dev list</a></li>\\n    \\n        <li class=\"tier-2 element-4\" role=\"treeitem\"><a href=\"/dev/core-mentorship/\" title=\"\">Core Mentorship</a></li>\\n    \\n</ul>\\n\\n        \\n    </li>\\n    \\n</ul>\\n\\n\\n                    <a id=\"back-to-top-2\" class=\"jump-link\" href=\"#python-network\"><span aria-hidden=\"true\" class=\"icon-arrow-up\"><span>&#9650;</span></span> Back to Top</a>\\n                    \\n\\n                </div><!-- end .container -->\\n            </div> <!-- end .main-footer-links -->\\n\\n            <div class=\"site-base\">\\n                <div class=\"container\">\\n                    \\n                    <ul class=\"footer-links navigation menu do-not-print\" role=\"tree\">\\n                        <li class=\"tier-1 element-1\"><a href=\"/about/help/\">Help &amp; <span class=\"say-no-more\">General</span> Contact</a></li>\\n                        <li class=\"tier-1 element-2\"><a href=\"/community/diversity/\">Diversity <span class=\"say-no-more\">Initiatives</span></a></li>\\n                        <li class=\"tier-1 element-3\"><a href=\"https://github.com/python/pythondotorg/issues\">Submit Website Bug</a></li>\\n                        <li class=\"tier-1 element-4\">\\n                            <a href=\"https://status.python.org/\">Status <span class=\"python-status-indicator-default\" id=\"python-status-indicator\"></span></a>\\n                        </li>\\n                    </ul>\\n\\n                    <div class=\"copyright\">\\n                        <p><small>\\n                            <span class=\"pre\">Copyright &copy;2001-2018.</span>\\n                            &nbsp;<span class=\"pre\"><a href=\"/psf-landing/\">Python Software Foundation</a></span>\\n                            &nbsp;<span class=\"pre\"><a href=\"/about/legal/\">Legal Statements</a></span>\\n                            &nbsp;<span class=\"pre\"><a href=\"/privacy/\">Privacy Policy</a></span>\\n                            &nbsp;<span class=\"pre\"><a href=\"/psf/sponsorship/sponsors/\">Powered by Rackspace</a></span>\\n                        </small></p>\\n                    </div>\\n\\n                </div><!-- end .container -->\\n            </div><!-- end .site-base -->\\n\\n        </footer>\\n\\n    </div><!-- end #touchnav-wrapper -->\\n\\n    \\n    <script src=\"//ajax.googleapis.com/ajax/libs/jquery/1.8.2/jquery.min.js\"></script>\\n    <script>window.jQuery || document.write(\\'<script src=\"/static/js/libs/jquery-1.8.2.min.js\"><\\\\/script>\\')</script>\\n\\n    <script src=\"/static/js/libs/masonry.pkgd.min.js\"></script>\\n\\n    <script type=\"text/javascript\" src=\"/static/js/main-min.js\" charset=\"utf-8\"></script>\\n    \\n\\n    <!--[if lte IE 7]>\\n    <script type=\"text/javascript\" src=\"/static/js/plugins/IE8-min.js\" charset=\"utf-8\"></script>\\n    \\n    \\n    <![endif]-->\\n\\n    <!--[if lte IE 8]>\\n    <script type=\"text/javascript\" src=\"/static/js/plugins/getComputedStyle-min.js\" charset=\"utf-8\"></script>\\n    \\n    \\n    <![endif]-->\\n\\n    \\n\\n    \\n    \\n\\n</body>\\n</html>\\n'"
      ]
     },
     "execution_count": 9,
     "metadata": {},
     "output_type": "execute_result"
    }
   ],
   "source": [
    "r.text"
   ]
  },
  {
   "cell_type": "code",
   "execution_count": 10,
   "metadata": {},
   "outputs": [],
   "source": [
    "r = requests.get('http://initiumlab.com/blog/20170329-trump-and-ivanka/')"
   ]
  },
  {
   "cell_type": "code",
   "execution_count": 11,
   "metadata": {},
   "outputs": [
    {
     "data": {
      "text/plain": [
       "'<!doctype html>\\n<html>\\n  <head>\\n    \\n\\n<meta charset=\"UTF-8\"/>\\n<meta http-equiv=\"X-UA-Compatible\" content=\"IE=edge,chrome=1\" />\\n<meta name=\"viewport\" content=\"width=device-width, initial-scale=1, maximum-scale=1\"/>\\n<meta http-equiv=\"Cache-Control\" content=\"no-transform\" />\\n<meta http-equiv=\"Cache-Control\" content=\"no-siteapp\" />\\n\\n\\n\\n\\n\\n  <meta name=\"keywords\" content=\"data journalism,data analysis,data visualization,design,new media,technology,hackathon,Twitter,Trump,Ivanka,\" />\\n\\n\\n\\n\\n  <link rel=\"alternate\" href=\"../../feed.xml\" title=\"Initium Lab | Exploratory Arm of Initium Media\" type=\"application/atom+xml\" />\\n\\n\\n<link rel=\"shortcut icon\" type=\"image/x-icon\" href=\"../../images/favicon.ico?v=2.1.0\" />\\n<link rel=\"icon\" type=\"image/png\" href=\"../../images/favicon.png?v=2.1.0\" />\\n\\n<meta name=\"description\" content=\"美國新晉總統唐納德·特朗普（Donald Trump）以其極端言論在一眾政客裡獨領風騷。端Lab曾於2016年撰文分析特朗普與其競選對手希拉里·柯林頓（Hillary Clinton）面對媒體採訪時不同的言論風格，發現特朗普發言多用簡單句型，且善於用第二人稱敘事獲取觀眾共鳴。除去媒體採訪，推特發言亦是特朗普競選的宣傳的另一愨道。因此本文選取唐納德·特朗普（下簡稱特朗普）及其女兒伊萬卡·特朗普（下簡\">\\n<meta property=\"og:type\" content=\"article\">\\n<meta property=\"og:title\" content=\"特朗普父女推特解密\">\\n<meta property=\"og:url\" content=\"http://initiumlab.com/blog/20170329-trump-and-ivanka/index.html\">\\n<meta property=\"og:site_name\" content=\"Initium Lab | Exploratory Arm of Initium Media\">\\n<meta property=\"og:description\" content=\"美國新晉總統唐納德·特朗普（Donald Trump）以其極端言論在一眾政客裡獨領風騷。端Lab曾於2016年撰文分析特朗普與其競選對手希拉里·柯林頓（Hillary Clinton）面對媒體採訪時不同的言論風格，發現特朗普發言多用簡單句型，且善於用第二人稱敘事獲取觀眾共鳴。除去媒體採訪，推特發言亦是特朗普競選的宣傳的另一愨道。因此本文選取唐納德·特朗普（下簡稱特朗普）及其女兒伊萬卡·特朗普（下簡\">\\n<meta property=\"og:image\" content=\"http://initiumlab.com/blog/20170329-trump-and-ivanka/ivanka-tweets-by-time-and-device.svg\">\\n<meta property=\"og:updated_time\" content=\"2017-04-14T05:55:27.701Z\">\\n<meta name=\"twitter:card\" content=\"summary\">\\n<meta name=\"twitter:title\" content=\"特朗普父女推特解密\">\\n<meta name=\"twitter:description\" content=\"美國新晉總統唐納德·特朗普（Donald Trump）以其極端言論在一眾政客裡獨領風騷。端Lab曾於2016年撰文分析特朗普與其競選對手希拉里·柯林頓（Hillary Clinton）面對媒體採訪時不同的言論風格，發現特朗普發言多用簡單句型，且善於用第二人稱敘事獲取觀眾共鳴。除去媒體採訪，推特發言亦是特朗普競選的宣傳的另一愨道。因此本文選取唐納德·特朗普（下簡稱特朗普）及其女兒伊萬卡·特朗普（下簡\">\\n<meta name=\"twitter:image\" content=\"http://initiumlab.com/blog/20170329-trump-and-ivanka/ivanka-tweets-by-time-and-device.svg\">\\n<meta name=\"twitter:creator\" content=\"@initiumnews\">\\n\\n<link rel=\"stylesheet\" href=\"../../css/main.css?v=2.1.0\" type=\"text/css\">\\n\\n\\n\\n<script src=\"//cdnjs.cloudflare.com/ajax/libs/jquery/3.1.0/jquery.min.js\"></script>\\n<script src=\"../../vendors/libs.js?v=2.1.0\" type=\"text/javascript\"></script>\\n\\n<!-- Begin comScore Tag -->\\n<script>\\n  var _comscore = _comscore || [];\\n  _comscore.push({ c1: \"2\", c2: \"20515846\" });\\n  (function() { var s = document.createElement(\"script\"), el = document.getElementsByTagName(\"script\")[0];\\n    s.async = true;\\n    s.src = (document.location.protocol == \"https:\" ? \"https://sb\" : \"http://b\") + \".scorecardresearch.com/beacon.js\";\\n    el.parentNode.insertBefore(s, el); }\\n  )();\\n</script>\\n<noscript>\\n  <img src=\"http://b.scorecardresearch.com/p?c1=2&c2=20515846&cv=2.0&cj=1\" />\\n</noscript>\\n<!-- End comScore Tag -->\\n    <title> 特朗普父女推特解密 | Initium Lab | Exploratory Arm of Initium Media </title>\\n  </head>\\n\\n  <body itemscope itemtype=\"http://schema.org/WebPage\" lang=\"en\">\\n    <!--[if lte IE 9]>\\n  <div style=\\' clear: both; height: 59px; padding:0 0 0 15px; position: relative;margin:0 auto;\\'>\\n    <a href=\"http://windows.microsoft.com/en-US/internet-explorer/products/ie/home?ocid=ie6_countdown_bannercode\">\\n      <img src=\"http://7u2nvr.com1.z0.glb.clouddn.com/picouterie.jpg\" border=\"0\" height=\"42\" width=\"820\"\\n           alt=\"You are using an outdated browser. For a faster, safer browsing experience, upgrade for free today or use other browser ,like chrome firefox safari.\"\\n           style=\\'margin-left:auto;margin-right:auto;display: block;\\'/>\\n    </a>\\n  </div>\\n<![endif]-->\\n\\n    <aside class=\"sidebar animate\" itemscope itemtype=\"http://schema.org/WPSideBar\">\\n  \\n  <a href=\"../../\" class=\"sidebar__logo\">\\n    \\n    <img src=\"../../images/logo.svg\" alt=\"initiumlab logo\">\\n  </a>\\n  <div class=\"sidebar__content\">\\n    \\n    <nav class=\"sidebar__nav\">\\n      <ul>\\n        \\n          <li class=\"sidebar__nav--home\">\\n            <a href=\"../../\" >\\n              <span>首頁</span>\\n            </a>\\n          </li>\\n        \\n          <li class=\"sidebar__nav--blog\">\\n            <a href=\"../../blog\" class=\"active\">\\n              <span>文章</span>\\n            </a>\\n          </li>\\n        \\n          <li class=\"sidebar__nav--project\">\\n            <a href=\"../../projects\" >\\n              <span>專題</span>\\n            </a>\\n          </li>\\n        \\n          <li class=\"sidebar__nav--event\">\\n            <a href=\"../../events\" >\\n              <span>活動</span>\\n            </a>\\n          </li>\\n        \\n          <li class=\"sidebar__nav--career\">\\n            <a href=\"../../career\" >\\n              <span>職位</span>\\n            </a>\\n          </li>\\n        \\n          <li class=\"sidebar__nav--about\">\\n            <a href=\"../../about\" >\\n              <span>團隊</span>\\n            </a>\\n          </li>\\n        \\n      </ul>\\n    </nav>\\n    \\n    <section class=\"sidebar__social\">\\n      \\n        <a href=\"//www.facebook.com/initiumlab\" target=\"_blank\" data-social=\"facebook\">\\n          \\n\\n<svg class=\"icon icon--facebook\" viewBox=\"0 0 53 100\" xmlns=\"http://www.w3.org/2000/svg\">\\n  <use xlink:href=\"../../images/icons/svg-sprite.svg#facebook\"></use>\\n</svg>\\n        </a>\\n      \\n        <a href=\"//youtube.com/channel/UC6A8BFtKG3sRcExuOomA_tA\" target=\"_blank\" data-social=\"youtube\">\\n          \\n\\n<svg class=\"icon icon--youtube\" viewBox=\"0 0 141 100\" xmlns=\"http://www.w3.org/2000/svg\">\\n  <use xlink:href=\"../../images/icons/svg-sprite.svg#youtube\"></use>\\n</svg>\\n        </a>\\n      \\n        <a href=\"//www.linkedin.com/groups/7048631\" target=\"_blank\" data-social=\"linkedin\">\\n          \\n\\n<svg class=\"icon icon--linkedin\" viewBox=\"0 0 105 100\" xmlns=\"http://www.w3.org/2000/svg\">\\n  <use xlink:href=\"../../images/icons/svg-sprite.svg#linkedin\"></use>\\n</svg>\\n        </a>\\n      \\n      <a href=\"../../feed.xml\" target=\"_blank\" data-social=\"rss\">\\n        \\n\\n<svg class=\"icon icon--rss\" viewBox=\"0 0 100 100\" xmlns=\"http://www.w3.org/2000/svg\">\\n  <use xlink:href=\"../../images/icons/svg-sprite.svg#rss\"></use>\\n</svg>\\n      </a>\\n    </section>\\n    \\n    \\n      <section class=\"subscribe\">\\n  <button class=\"subscribe__btn subscribe__btn--popup\" type=\"button\">\\n    <span>訂閱</span>\\n  </button>\\n  <div class=\"subscribe__content\">\\n    <form class=\"subscribe__form\">\\n        <input type=\"email\" name=\"EMAIL\" placeholder=\"* 郵箱\" required>\\n        <input type=\"text\" name=\"FNAME\" placeholder=\"名字\">\\n        <input type=\"text\" name=\"LNAME\" placeholder=\"姓氏\">\\n        <button class=\"subscribe__btn subscribe__btn--submit animate\" type=\"submit\" disabled>提交</button>\\n        <div class=\"subscribe__msg\">\\n          <div class=\"subscribe__msg__content\">\\n            <section>\\n              \\n\\n<svg class=\"icon icon--spin\" viewBox=\"0 0 100 100\" xmlns=\"http://www.w3.org/2000/svg\">\\n  <use xlink:href=\"../../images/icons/svg-sprite.svg#spin\"></use>\\n</svg>\\n              \\n\\n<svg class=\"icon icon--success\" viewBox=\"0 0 124 101\" xmlns=\"http://www.w3.org/2000/svg\">\\n  <use xlink:href=\"../../images/icons/svg-sprite.svg#success\"></use>\\n</svg>\\n              \\n\\n<svg class=\"icon icon--error\" viewBox=\"0 0 100 100\" xmlns=\"http://www.w3.org/2000/svg\">\\n  <use xlink:href=\"../../images/icons/svg-sprite.svg#error\"></use>\\n</svg>\\n            </section>\\n            <section><p data-msg=\"\"></p></section>\\n          </div>\\n        </div>\\n    </form>\\n  </div>\\n  <script>\\n    ;(function() {\\n      var $popupBtn = $(\\'.subscribe__btn--popup\\');\\n      var $content = $(\\'.subscribe__content\\');\\n      var $form = $(\\'.subscribe__form\\');\\n      var $submitBtn = $(\\'.subscribe__btn--submit\\');\\n      var $msgBox = $(\\'.subscribe__msg\\');\\n      var $msg = $msgBox.find(\\'[data-msg]\\');\\n      var $icons = $msgBox.find(\\'.icon\\');\\n\\n      // Toggle Form\\n      $popupBtn.click(function() {\\n        $content.fadeIn();\\n\\n        $(window).click(function() {\\n          $content.fadeOut();\\n          $msgBox.fadeOut();\\n          $(window).off(\\'click\\');\\n        });\\n\\n        ga(\\'send\\', \\'event\\', \\'subscribe-button\\', \\'click\\');\\n      });\\n      $(\\'.subscribe__form, .subscribe__btn--popup\\').click(function(e) {\\n        e.stopPropagation();\\n      });\\n\\n      // Handle Form change\\n      $form\\n      .on(\\'input\\', function() {\\n        $submitBtn[0].disabled = !$form[0].checkValidity();\\n      })\\n      .on(\\'submit\\', function(e) {\\n        e.preventDefault();\\n\\n        // Init data\\n        var request_data = {};\\n        $.each($form.serializeArray(), function(index, item) {\\n          request_data[item.name] = item.value;\\n        });\\n\\n        // Post data\\n        $msg.attr(\\'data-msg\\', \\'\\');\\n        $icons.hide().filter(\\'.icon--spin\\').show();\\n        $msgBox.fadeIn();\\n\\n        $.ajax({\\n          url: \\'//initiumlab.us11.list-manage.com/subscribe/post-json?u=0af72d56ccd0f8ef2d17e12a2&id=64252e9209&c=?\\',\\n          data: request_data,\\n          dataType: \\'jsonp\\'\\n        })\\n        .done(function(data) {\\n          $icons.hide().filter(\\'.icon--success\\').show();\\n        })\\n        .always(function(data) {\\n          var msg = data.msg;\\n\\n          if (msg.match(/finished/i)) return;\\n\\n          $icons.hide().filter(\\'.icon--error\\').show();\\n          $msg.attr(\\'data-msg\\', msg);\\n        });\\n      });\\n    })()\\n  </script>\\n</section>\\n    \\n  </div>\\n</aside>\\n<script>\\n  ;(function() {\\n    var $w = $(window);\\n    var $sidebar = $(\\'.sidebar\\');\\n    var $sidebarContent = $(\\'.sidebar__content\\');\\n    var yPositionToHide = $w.height();\\n\\n    if ($w.width() < 990) return;\\n\\n    $w\\n    .on(\\'scroll\\', function() {\\n      if ($w.scrollTop() > yPositionToHide) {\\n        toggleSidebar(\\'hide\\');\\n      } else {\\n        toggleSidebar(\\'show\\');\\n      }\\n    })\\n    .on(\\'resize\\', function() {\\n      yPositionToHide = $w.height();\\n    });\\n\\n    $sidebar.on(\\'mouseover\\', function() {\\n      if ($sidebarContent.css(\\'display\\') === \\'none\\') {\\n        toggleSidebar(\\'show\\');\\n\\n        $sidebar.on(\\'mouseleave\\', function() {\\n          toggleSidebar(\\'hide\\');\\n          $sidebar.off(\\'mouseleave\\');\\n        });\\n      }\\n    });\\n\\n    // GA\\n    $(\\'[data-social]\\').each(function() {\\n      $(this).click(function() {\\n        ga(\\'send\\', \\'event\\', \\'social_button\\', \\'click\\', this.getAttribute(\\'data-social\\'));\\n      });\\n    });\\n\\n    function toggleSidebar(type) {\\n      var isShow = type === \\'show\\';\\n\\n      $sidebar[isShow ? \\'removeClass\\' : \\'addClass\\'](\\'sidebar--fixed\\');\\n      $sidebarContent[isShow ? \\'fadeIn\\' : \\'fadeOut\\']();\\n    }\\n  })()\\n</script>\\n    <header class=\"mobile-header\">\\n  <button type=\"button\" class=\"mobile-header__logo animate\">\\n    <img src=\"../../images/logo.svg\" alt=\"initiumlab logo\">\\n  </button>\\n</header>\\n<script>\\n  ;(function() {\\n    var $mobileHeader = $(\\'.mobile-header\\');\\n    var $mobileLogo = $(\\'.mobile-header__logo\\');\\n    var $mobileNav = $(\\'.sidebar\\');\\n\\n    $mobileLogo.click(function() {\\n      $(\\'body\\').toggleClass(\\'fixed\\');\\n      $mobileHeader.toggleClass(\\'mobile-header--nav-open\\');\\n      $mobileNav.toggleClass(\\'sidebar--nav-open\\');\\n    });\\n  })()\\n</script>\\n\\n    <main class=\"main \">\\n      <div class=\"main__container\">\\n        \\n  \\n  <article class=\"post post--normal \" itemscope itemtype=\"http://schema.org/Article\">\\n    <header>\\n      \\n      \\n      \\n        <h1 class=\"post__title\" itemprop=\"name headline\">\\n          \\n            \\n              特朗普父女推特解密\\n            \\n          \\n        </h1>\\n      \\n\\n      \\n      \\n\\n      \\n      <div class=\"post__meta\">\\n        <table>\\n          <tbody>\\n            <tr class=\"post__time\">\\n              <td>\\n\\n<svg class=\"icon icon--clock\" viewBox=\"0 0 100 100\" xmlns=\"http://www.w3.org/2000/svg\">\\n  <use xlink:href=\"../../images/icons/svg-sprite.svg#clock\"></use>\\n</svg></td>\\n              <td>\\n                <time itemprop=\"dateCreated\" datetime=\"2017-03-29T18:00:00+08:00\" content=\"2017-03-29\">\\n                  2017-03-29\\n                </time>\\n              </td>\\n            </tr>\\n\\n            <tr class=\"post__authors\">\\n              <td>\\n\\n<svg class=\"icon icon--pen\" viewBox=\"0 0 35 100\" xmlns=\"http://www.w3.org/2000/svg\">\\n  <use xlink:href=\"../../images/icons/svg-sprite.svg#pen\"></use>\\n</svg></td>\\n              <td>\\n                \\n                  <span>Li Yiming</span>\\n                \\n                  <span>Li Yuqiong</span>\\n                \\n              </td>\\n            </tr>\\n\\n            \\n              <tr class=\\'post__tags\\'>\\n                <td>\\n\\n<svg class=\"icon icon--tag\" viewBox=\"0 0 69 100\" xmlns=\"http://www.w3.org/2000/svg\">\\n  <use xlink:href=\"../../images/icons/svg-sprite.svg#tag\"></use>\\n</svg></td>\\n                <td>\\n                \\n                  <span class=\"tag\">\\n                    <a href=\"../../tags/Twitter/\">\\n                      Twitter\\n                      </a>\\n                  </span>\\n                \\n                  <span class=\"tag\">\\n                    <a href=\"../../tags/Trump/\">\\n                      Trump\\n                      </a>\\n                  </span>\\n                \\n                  <span class=\"tag\">\\n                    <a href=\"../../tags/Ivanka/\">\\n                      Ivanka\\n                      </a>\\n                  </span>\\n                \\n                </td>\\n              </tr>\\n            \\n          </tbody>\\n        </table>\\n      </div>\\n    </header>\\n\\n    \\n    <div class=\"post__body\" itemprop=\"articleBody\">\\n      <p>美國新晉總統唐納德·特朗普（Donald Trump）以其極端言論在一眾政客裡獨領風騷。<a href=\"http://initiumlab.com/\">端Lab</a>曾於2016年<a href=\"http://initiumlab.com/blog/20160704-trump-hillary-language/\">撰文分析</a>特朗普與其競選對手希拉里·柯林頓（Hillary Clinton）面對媒體採訪時不同的言論風格，發現特朗普發言多用簡單句型，且善於用第二人稱敘事獲取觀眾共鳴。</p>\\n<p>除去媒體採訪，推特發言亦是特朗普競選的宣傳的另一愨道。因此本文選取唐納德·特朗普（下簡稱特朗普）及其女兒伊萬卡·特朗普（下簡稱伊萬卡）的推特數據作為樣本，利用文本信息挖掘方法（text mining methods），來分析他們在社交網絡上展示的話語特點。</p>\\n<h2 id=\"話癆特朗普\"><a href=\"#話癆特朗普\" class=\"headerlink\" title=\"話癆特朗普\"></a>話癆特朗普</h2><p>從發推文總數量來看，特朗普遠勝其女伊萬卡。2009到2016年，特朗普發布推文總數量三萬餘條，平均每天十條。而其女伊萬卡發文總量為一萬一千餘條，平均每天三條。二人皆疑似推特深度用戶。</p>\\n<p>下圖顯示，特朗普推文数量從2011年起開始狂飆突進，並於2013年和2015年分別達到峰值。而伊萬卡的發文風格則更加穩健，只是在2016年時有所增加，可能是為特朗普競選造勢之故？</p>\\n<p><img src=\"trump-ivanka-number-of-tweets-by-time.svg\" alt=\"\"></p>\\n<h2 id=\"特朗普家族最喜愛的推特發佈平台\"><a href=\"#特朗普家族最喜愛的推特發佈平台\" class=\"headerlink\" title=\"特朗普家族最喜愛的推特發佈平台\"></a>特朗普家族最喜愛的推特發佈平台</h2><p>特朗普與伊萬卡身為上流社會人士，當然不能滿足於用單一平台發布推文。</p>\\n<p>下表展示了特朗普父女較常使用的推特客戶端。他們在這些客戶端上發布的推文條數大於100。可以看出特朗普鍾愛安卓和網頁客戶端，而伊萬卡口味更加多元，除去推特網頁客戶端之外，更勇於嘗試 Buffer， Instagram， Sprout，BlackBerry，UberSocial 等各種較新的平台。她似乎並不鍾愛安卓手機。</p>\\n<p>加入發文時間後，我們的分析發現，特朗普最初多使用网页推特发布消息，於2013年左右開始使用安卓手機系統客戶端發推特。2016左右，設備鳥槍換炮，用起了高大上的蘋果iOS系統客戶端。相比之下，伊萬卡發文的平台有較強階段性。2010年左右她與其父一樣是推特網頁版的忠實用戶，2011到2012年間還使用了其他設備和平台，如 Uber， BlackBerry等。2012年後她似乎開始喜愛上Instagram和iPhone平台。有意思的是，2015年她突然開始頻繁使用Buffer這款軟件，2016年則移情Sprout。這兩款均為社交網站管理平台，可以同時連結並管理Facebook、Twitter、Instagram等帳戶。從圖上來看，使用Buffer的時間段和Sprout的時間段並無交接，因此伊萬卡女士似乎更鍾意Sprout的用戶體驗。</p>\\n<p><img src=\"ivanka-tweets-by-time-and-device.svg\" alt=\"\"></p>\\n<h2 id=\"詞彙偏好\"><a href=\"#詞彙偏好\" class=\"headerlink\" title=\"詞彙偏好\"></a>詞彙偏好</h2><p>下圖列出不同詞彙在特朗普和伊萬卡的推特中分別出現的比例。可以發現，兩人共同姓氏「trump」，以及一些常用詞「tonight」，「world」，「win」， 「forward」在雙方微博中出現的比例均較高。</p>\\n<p>同時，和上文發現類似的是，伊萬卡常用詞更偏向時尚、商業和生活，例如「advice」，「shops」，「chic」，「founder」，「intern」 等等。而特朗普有更多和政治、政策以及競選相關的詞彙，如「senator」，「endorsement」，「broken」，「complete」等。最能體現這一區別的一個例子是，伊萬卡大量使用了「tips」這一詞彙，儼然一位人生導師。而特朗普則大量使用了「Obama」，和他總統競選人的身份相符。</p>\\n<p><img src=\"top-distinctive-words.svg\" alt=\"\"></p>\\n<h2 id=\"父女口癖變遷史\"><a href=\"#父女口癖變遷史\" class=\"headerlink\" title=\"父女口癖變遷史\"></a>父女口癖變遷史</h2><p>下圖列出09年到16年之間，Trump 的 tweets 中常用詞彙的變化。09年到12年間，「Apprentice」頻繁出現在 Trump 的 tweets 中。這緣於一部真人職場秀<a href=\"https://en.wikipedia.org/wiki/The_Apprentice_%28U.S._TV_series%29\" target=\"_blank\" rel=\"external\">The Apprentice</a>，求職者在節目中分成兩組比賽，並在每一集中從輸的隊伍中淘汰一名貢獻最小的成員。節目最後的優勝者，有機會去經營Trump旗下的一個公司。在這個節目中，Trump做了14季的Host；決定參選總統後，他辭去了這個職位。當Trump獲勝的時候，人們驚呼其在 Twitter 上強大的影響力。可是回過去看，Trump 在利用媒體方面的技能，確實勝過世界上的很多領導者 – 從「TV Show 億萬富豪」到「Twitter 治國總統」，似乎並不意外。</p>\\n<p><img src=\"top-8-trending-words-trump.svg\" alt=\"\"></p>\\n<p>上文提到，「Tips」是 Ivanka 的口頭禪之一。細看其中內容，除了大量轉推的經驗分享，大多還添加了特定的 Twitter 標籤，（hashtag）比如「#interntips」、「#healthtips」等等。而另一方面，「trump」的提及卻越來越少，在總統競選期間降到最低；同一時期「Tips」出現最爲頻繁。09年到14年間，Ivanka 的 tweets 中大量出現「trump」，大多與 Trump 家族的產業有關，比如 「@trumpgolf」、「#trumptower」、「@trumpwinery」、「#trumphotels」、…… 這些 Twitter 帳號和 hashtag 之間，大量互動和互聯，都吸引了不少粉絲。看罷數據，不得不感嘆， Ivanka 在運營 Twitter 方面的技能，與專業團隊無異。如果說15年前 Ivanka 的運作手法是「硬廣」，那麼從15年中旬開始，放棄「trump」、轉推「tips」、搖身一變人生導師，則更是技高一籌。</p>\\n<p><img src=\"top-3-trending-words-trump.svg\" alt=\"\"></p>\\n<h2 id=\"最易引發「轉發」和「喜歡」的詞彙\"><a href=\"#最易引發「轉發」和「喜歡」的詞彙\" class=\"headerlink\" title=\"最易引發「轉發」和「喜歡」的詞彙\"></a>最易引發「轉發」和「喜歡」的詞彙</h2><p>「轉發」和「喜歡」均為發布者和關注者的某種互動形式。因此，通過分析獲得更多「轉發」和「喜歡」的推特詞彙特點，既可以分析出發布者的心態，也可以分析出關注群體對特定內容的偏好。紐約時報2011年一項針對社交媒體的調查發現，用戶在社交媒體上分享信息主要有五種情況：分享娛樂性消息、自我包裝和認同、增強社交關係、進行對話，以及推廣新聞、產品信息等【注2】。</p>\\n<p>下圖展示了在特朗普和伊萬卡的推特數據裡，哪些詞彙容易引發更多轉發。特朗普的推特詞彙中，獲取轉發數最高的為「hamilton」，「praying」和「wikileaks」。而伊萬卡的則為「policy」，「family」，「theodore」。這些詞彙個人性較弱，更類似對特定消息的推廣，符合二人公眾人物的身分。</p>\\n<p>「Hamilton」的高出鏡率可能因為如下這條推特 -</p>\\n<blockquote>\\n<p>Donald J. Trump  ✔@realDonaldTrump<br>The Theater must always be a safe and special place.The cast of Hamilton was very rude last &gt; night to a very good man, Mike Pence. Apologize!<br>9:56 PM - 19 Nov 2016<br>43,592 43,592 Retweets   149,734 149,734 likes</p>\\n</blockquote>\\n<p>在這條發布與2016年11月19日，獲得四萬三千多條轉發的推文中，特朗普指責音樂劇 「Hamilton」的劇組對副總統 Mike Pence 進行騷擾。Mike Pence 之前觀賞了該音樂劇。表演結束後，劇組成員當眾向他表達了對新當選政府的不信任，和對未來的期待。這一舉動似乎激怒了特朗普，他在推特上發文要求劇組向副總統道歉。</p>\\n<p>詞彙「praying」的信息量較少。「wikileaks」可能與特朗普競選時多次強調該網站揭露的希拉里郵件醜聞有關。可以想像，含有類似內容的推特因為具有新聞性，較易引發交流，從而引起轉發和討論。</p>\\n<p>關於伊萬卡的推特分析，「theodore」是她新出生兒子的名字，這也和「family」獲得較高轉發量相吻合。另一方面，這可能反映出美國文化對家庭價值的重視。與上文類似，包含詞彙「policy」的推特，可能因為其新聞性和內容性而獲得較高轉發。</p>\\n<p><img src=\"top-10-words-for-retweet.svg\" alt=\"\"></p>\\n<h2 id=\"最易引發「喜歡」的詞彙\"><a href=\"#最易引發「喜歡」的詞彙\" class=\"headerlink\" title=\"最易引發「喜歡」的詞彙\"></a>最易引發「喜歡」的詞彙</h2><p>關於社交媒體上用戶「喜歡」某條推特，或者「點贊」的行為，來自社交媒體管理網站Buffer（伊萬卡之前最愛）分析認為，點贊的行為動機可分為四種：類似線下交流時點頭等打招呼的行為，對自己認同的某些價值再度肯定，表達同情，以及獲取現實回報（如餐廳打折等）。分析特朗普和伊萬卡獲取「點贊」數最多的推特詞彙可以發現，兩人的前三名大致與獲取轉發數較高的推特相同。唯一區別在於特朗普發布的「electoral」詞彙亦獲得較多喜歡。這可能是支持者表達鼓勵的行為反映。</p>\\n<p><img src=\"top-10-words-for-favourite.svg\" alt=\"\"></p>\\n<hr>\\n<p>註釋：</p>\\n<ul>\\n<li>本文所用原始數據及代碼見GitHub： <a href=\"https://github.com/kestrel614/HKODD17-Trump\" target=\"_blank\" rel=\"external\">https://github.com/kestrel614/HKODD17-Trump</a></li>\\n<li>本文使用主要文本分析工具是R，部分分析方法參考網站 <a href=\"http://tidytextmining.com/\" target=\"_blank\" rel=\"external\">http://tidytextmining.com/</a> 。</li>\\n<li>注【2】：<a href=\"http://text-ex-machina.co.uk/blog/new-york-times-study.html\" target=\"_blank\" rel=\"external\">http://text-ex-machina.co.uk/blog/new-york-times-study.html</a></li>\\n<li>注【3】：<a href=\"https://blog.bufferapp.com/psychology-of-facebook\" target=\"_blank\" rel=\"external\">https://blog.bufferapp.com/psychology-of-facebook</a></li>\\n</ul>\\n\\n    </div>\\n    \\n  </article>\\n\\n  <div class=\"share\">\\n  <div class=\"share__icons\">\\n    \\n\\n<svg class=\"icon icon--share\" viewBox=\"0 0 93 101\" xmlns=\"http://www.w3.org/2000/svg\">\\n  <use xlink:href=\"../../images/icons/svg-sprite.svg#share\"></use>\\n</svg>\\n    \\n      <button data-share=\"facebook\" type=\"button\">\\n        \\n\\n<svg class=\"icon icon--facebook\" viewBox=\"0 0 53 100\" xmlns=\"http://www.w3.org/2000/svg\">\\n  <use xlink:href=\"../../images/icons/svg-sprite.svg#facebook\"></use>\\n</svg>\\n        \\n      </button>\\n    \\n      <button data-share=\"twitter\" type=\"button\">\\n        \\n\\n<svg class=\"icon icon--twitter\" viewBox=\"0 0 127 100\" xmlns=\"http://www.w3.org/2000/svg\">\\n  <use xlink:href=\"../../images/icons/svg-sprite.svg#twitter\"></use>\\n</svg>\\n        \\n      </button>\\n    \\n      <button data-share=\"wechat\" type=\"button\">\\n        \\n\\n<svg class=\"icon icon--wechat\" viewBox=\"0 0 127 100\" xmlns=\"http://www.w3.org/2000/svg\">\\n  <use xlink:href=\"../../images/icons/svg-sprite.svg#wechat\"></use>\\n</svg>\\n        \\n          <span class=\"wechat_share_qrcode\"></span>\\n        \\n      </button>\\n    \\n      <button data-share=\"weibo\" type=\"button\">\\n        \\n\\n<svg class=\"icon icon--weibo\" viewBox=\"0 0 123 99\" xmlns=\"http://www.w3.org/2000/svg\">\\n  <use xlink:href=\"../../images/icons/svg-sprite.svg#weibo\"></use>\\n</svg>\\n        \\n      </button>\\n    \\n  </div>\\n\\n  \\n  <div id=\"fb-root\"></div>\\n  <script>(function(d, s, id) {\\n    var js, fjs = d.getElementsByTagName(s)[0];\\n    if (d.getElementById(id)) return;\\n    js = d.createElement(s); js.id = id;\\n    js.src = \"//connect.facebook.net/zh_HK/sdk.js#xfbml=1&version=v2.7\";\\n    fjs.parentNode.insertBefore(js, fjs);\\n  }(document, \\'script\\', \\'facebook-jssdk\\'));</script>\\n  <style>\\n    .fb-like {\\n      position: absolute;\\n      right: 0;\\n      bottom: 0;\\n    }\\n  </style>\\n  <div class=\"fb-like\" data-colorscheme=\"dark\" data-href=\"http://initiumlab.com/blog/20170329-trump-and-ivanka/\" data-layout=\"box_count\" data-action=\"like\" data-size=\"large\" data-show-faces=\"false\" data-share=\"false\"></div>\\n</div>\\n  <div class=\"sticky-tools\">\\n  \\n  <section class=\"sticky-tools__toc\">\\n    <button type=\"button\">\\n      \\n\\n<svg class=\"icon icon--list\" viewBox=\"0 0 100 100\" xmlns=\"http://www.w3.org/2000/svg\">\\n  <use xlink:href=\"../../images/icons/svg-sprite.svg#list\"></use>\\n</svg>\\n    </button>\\n    <div class=\"toc-wrapper\">\\n      <h3>目錄</h3>\\n      <ol class=\"toc\"><li class=\"toc-item toc-level-2\"><a class=\"toc-link\" href=\"#話癆特朗普\"><span class=\"toc-number\">1.</span> <span class=\"toc-text\">話癆特朗普</span></a></li><li class=\"toc-item toc-level-2\"><a class=\"toc-link\" href=\"#特朗普家族最喜愛的推特發佈平台\"><span class=\"toc-number\">2.</span> <span class=\"toc-text\">特朗普家族最喜愛的推特發佈平台</span></a></li><li class=\"toc-item toc-level-2\"><a class=\"toc-link\" href=\"#詞彙偏好\"><span class=\"toc-number\">3.</span> <span class=\"toc-text\">詞彙偏好</span></a></li><li class=\"toc-item toc-level-2\"><a class=\"toc-link\" href=\"#父女口癖變遷史\"><span class=\"toc-number\">4.</span> <span class=\"toc-text\">父女口癖變遷史</span></a></li><li class=\"toc-item toc-level-2\"><a class=\"toc-link\" href=\"#最易引發「轉發」和「喜歡」的詞彙\"><span class=\"toc-number\">5.</span> <span class=\"toc-text\">最易引發「轉發」和「喜歡」的詞彙</span></a></li><li class=\"toc-item toc-level-2\"><a class=\"toc-link\" href=\"#最易引發「喜歡」的詞彙\"><span class=\"toc-number\">6.</span> <span class=\"toc-text\">最易引發「喜歡」的詞彙</span></a></li></ol>\\n    </div>\\n  </section>\\n  \\n  <section class=\"sticky-tools__share\">\\n    <button type=\"button\">\\n      \\n\\n<svg class=\"icon icon--share\" viewBox=\"0 0 93 101\" xmlns=\"http://www.w3.org/2000/svg\">\\n  <use xlink:href=\"../../images/icons/svg-sprite.svg#share\"></use>\\n</svg>\\n    </button>\\n    <div class=\"sticky-tools__share__icons\">\\n      \\n        <button data-share=\"facebook\" type=\"button\">\\n          \\n\\n<svg class=\"icon icon--facebook\" viewBox=\"0 0 53 100\" xmlns=\"http://www.w3.org/2000/svg\">\\n  <use xlink:href=\"../../images/icons/svg-sprite.svg#facebook\"></use>\\n</svg>\\n          \\n        </button>\\n      \\n        <button data-share=\"twitter\" type=\"button\">\\n          \\n\\n<svg class=\"icon icon--twitter\" viewBox=\"0 0 127 100\" xmlns=\"http://www.w3.org/2000/svg\">\\n  <use xlink:href=\"../../images/icons/svg-sprite.svg#twitter\"></use>\\n</svg>\\n          \\n        </button>\\n      \\n        <button data-share=\"wechat\" type=\"button\">\\n          \\n\\n<svg class=\"icon icon--wechat\" viewBox=\"0 0 127 100\" xmlns=\"http://www.w3.org/2000/svg\">\\n  <use xlink:href=\"../../images/icons/svg-sprite.svg#wechat\"></use>\\n</svg>\\n          \\n            <span class=\"wechat_share_qrcode\"></span>\\n          \\n        </button>\\n      \\n        <button data-share=\"weibo\" type=\"button\">\\n          \\n\\n<svg class=\"icon icon--weibo\" viewBox=\"0 0 123 99\" xmlns=\"http://www.w3.org/2000/svg\">\\n  <use xlink:href=\"../../images/icons/svg-sprite.svg#weibo\"></use>\\n</svg>\\n          \\n        </button>\\n      \\n    </div>\\n  </section>\\n  <section class=\"sticky-tools__btt\">\\n    <button type=\"button\">\\n      \\n\\n<svg class=\"icon icon--chevron-top\" viewBox=\"0 0 159 100\" xmlns=\"http://www.w3.org/2000/svg\">\\n  <use xlink:href=\"../../images/icons/svg-sprite.svg#chevron-top\"></use>\\n</svg>\\n    </button>\\n  </section>\\n</div>\\n\\n<script>\\n;(function() {\\n  var $w = $(window);\\n\\n  ;(function() {\\n    var $tools = $(\\'.sticky-tools\\');\\n    var yPositionToShow = $w.height();\\n\\n    if ($w.width() < 990) return;\\n\\n    $w\\n    .on(\\'scroll\\', function() {\\n      if ($w.scrollTop() > yPositionToShow && !$(\\'footer\\').visible(true)) {\\n        $tools.fadeIn();\\n      } else {\\n        $tools.fadeOut();\\n      }\\n    })\\n    .on(\\'resize\\', function() {\\n      yPositionToShow = $w.height();\\n    });\\n  })()\\n  /**\\n   * Share\\n   *\\n   */\\n  var $shareBtn = $(\\'.sticky-tools__share > button\\');\\n  var $shareIcons = $(\\'.sticky-tools__share__icons\\');\\n  var handleShareFadeOut = function() {\\n    $shareIcons.fadeOut();\\n    $shareBtn.removeClass(\\'active\\');\\n  };\\n  $shareBtn.click(function() {\\n    $shareIcons.fadeToggle();\\n    $shareBtn.toggleClass(\\'active\\');\\n  });\\n\\n  /**\\n   * ToC\\n   *\\n   */\\n  var $toc = $(\\'.sticky-tools__toc\\');\\n  var $tocBtn = $toc.find(\\'button\\');\\n  var $tocWrapper = $(\\'.toc-wrapper\\');\\n\\n  if (!$tocWrapper.find(\\'.toc\\')[0]) {\\n    $toc.remove();\\n    return;\\n  }\\n\\n  var handleToCFadeOut = function() {\\n    $tocWrapper.fadeOut();\\n    $tocBtn.removeClass(\\'active\\');\\n    $(\\'body\\').removeClass(\\'fixed\\');\\n    $w.off(\\'click\\');\\n  };\\n  // toggle toc\\n  $tocBtn.click(function() {\\n    if ($tocWrapper.css(\\'display\\') === \\'none\\') {\\n      $tocWrapper.fadeIn();\\n      $tocBtn.addClass(\\'active\\');\\n      $(\\'body\\').addClass(\\'fixed\\');\\n      handleShareFadeOut();\\n\\n      $w.click(function() {\\n        handleToCFadeOut();\\n      });\\n    } else {\\n      handleToCFadeOut();\\n    }\\n  });\\n  $toc.click(function(e) {\\n    e.stopPropagation();\\n  });\\n  // click toc\\'s link\\n  $(\\'.toc-link\\').click(function(e) {\\n    e.preventDefault();\\n\\n    var hash = $(this).attr(\\'href\\');\\n    var target = $(\\'.headerlink[href=\"\\' + hash + \\'\"]\\')[0];\\n\\n    Jump(target, {\\n      offset: $(\\'.mobile-header\\').height() * -1\\n    });\\n    window.location.hash = hash;\\n    handleToCFadeOut();\\n  });\\n\\n  /**\\n   * Back to Top\\n   *\\n   */\\n  var backToTopBtn = $(\\'.sticky-tools__btt button\\');\\n  backToTopBtn.click(function() {\\n    backToTopBtn.addClass(\\'active\\');\\n\\n    Jump(\\'body\\', {\\n      callback: function() {\\n        backToTopBtn.removeClass(\\'active\\');\\n      }\\n    });\\n  });\\n})()\\n</script>\\n\\n\\n        \\n          <div class=\"comments\">\\n            \\n              <div id=\"disqus_thread\">\\n                <noscript>Please enable JavaScript to view the <a href=\"//disqus.com/?ref_noscript\">comments powered by Disqus.</a></noscript>\\n              </div>\\n            \\n          </div>\\n        \\n      </div>\\n    </main>\\n    <footer class=\"footer\">\\n  <section class=\"footer--sidebar\">\\n    <span>© 2016 InitiumLab.</span>\\n  </section>\\n  <section class=\"footer--main\">\\n    <table class=\"footer--main__content\">\\n      <tbody>\\n        <tr>\\n          <td>\\n\\n<svg class=\"icon icon--mail\" viewBox=\"0 0 134 100\" xmlns=\"http://www.w3.org/2000/svg\">\\n  <use xlink:href=\"../../images/icons/svg-sprite.svg#mail\"></use>\\n</svg></td>\\n          <td>\\n            <a href=\"mailto:editors@initiumlab.com\" target=\"_blank\">\\n              <span>editors@initiumlab.com</span>\\n            </a>\\n          </td>\\n\\n        </tr>\\n        <tr>\\n          <td>\\n\\n<svg class=\"icon icon--map2\" viewBox=\"0 0 100 100\" xmlns=\"http://www.w3.org/2000/svg\">\\n  <use xlink:href=\"../../images/icons/svg-sprite.svg#map2\"></use>\\n</svg></td>\\n          <td>\\n            <a href=\"//www.google.com/maps/place/22%C2%B017\\'30.3%22N+114%C2%B012\\'30.9%22E\" target=\"_blank\">\\n              <span>香港北角英皇道 663 號泓富產業千禧廣場 1907 室</span>\\n            </a>\\n          </td>\\n        </tr>\\n      </tbody>\\n    </div>\\n  </section>\\n </footer>\\n\\n\\n    \\n\\n    \\n      \\n  <script type=\"text/javascript\">\\n    var disqus_shortname = \\'initium1ab\\';\\n    var disqus_identifier = \\'blog/20170329-trump-and-ivanka/\\';\\n    var disqus_title = \\'特朗普父女推特解密\\';\\n    var disqus_url = \\'http://initiumlab.com/blog/20170329-trump-and-ivanka/\\';\\n\\n    function run_disqus_script(disqus_script){\\n      var dsq = document.createElement(\\'script\\');\\n      var head = document.getElementsByTagName(\\'head\\')[0];\\n      var body = document.getElementsByTagName(\\'body\\')[0];\\n\\n      dsq.type = \\'text/javascript\\';\\n      dsq.async = true;\\n      dsq.src = \\'//\\' + disqus_shortname + \\'.disqus.com/\\' + disqus_script;\\n\\n      (head || body).appendChild(dsq);\\n    }\\n\\n    run_disqus_script(\\'count.js\\');\\n    \\n      run_disqus_script(\\'embed.js\\');\\n    \\n  </script>\\n\\n    \\n\\n    \\n    <script src=\"//cdnjs.cloudflare.com/ajax/libs/fastclick/1.0.6/fastclick.min.js\"></script>\\n    <script>\\n      $(function() {\\n        FastClick.attach(document.body);\\n      });\\n    </script>\\n\\n    \\n    <script src=\"//cdnjs.cloudflare.com/ajax/libs/jquery.qrcode/1.0/jquery.qrcode.min.js\"></script>\\n    <script type=\"text/javascript\" src=\"../../js/share.js?v=2.1.0\"></script>\\n\\n\\n    \\n<script>\\n  (function(i,s,o,g,r,a,m){i[\\'GoogleAnalyticsObject\\']=r;i[r]=i[r]||function(){\\n            (i[r].q=i[r].q||[]).push(arguments)},i[r].l=1*new Date();a=s.createElement(o),\\n          m=s.getElementsByTagName(o)[0];a.async=1;a.src=g;m.parentNode.insertBefore(a,m)\\n  })(window,document,\\'script\\',\\'//www.google-analytics.com/analytics.js\\',\\'ga\\');\\n  ga(\\'create\\', \\'UA-66625644-1\\', \\'auto\\');\\n  ga(\\'send\\', \\'pageview\\');\\n</script>\\n\\n    \\n  </body>\\n</html>\\n'"
      ]
     },
     "execution_count": 11,
     "metadata": {},
     "output_type": "execute_result"
    }
   ],
   "source": [
    "r.text"
   ]
  },
  {
   "cell_type": "code",
   "execution_count": 13,
   "metadata": {},
   "outputs": [],
   "source": [
    "from bs4 import BeautifulSoup"
   ]
  },
  {
   "cell_type": "code",
   "execution_count": 16,
   "metadata": {},
   "outputs": [
    {
     "name": "stderr",
     "output_type": "stream",
     "text": [
      "/Users/pili/Desktop/week4-scraper/venv/lib/python3.6/site-packages/bs4/__init__.py:181: UserWarning: No parser was explicitly specified, so I'm using the best available HTML parser for this system (\"html5lib\"). This usually isn't a problem, but if you run this code on another system, or in a different virtual environment, it may use a different parser and behave differently.\n",
      "\n",
      "The code that caused this warning is on line 193 of the file /Library/Frameworks/Python.framework/Versions/3.6/lib/python3.6/runpy.py. To get rid of this warning, change code that looks like this:\n",
      "\n",
      " BeautifulSoup(YOUR_MARKUP})\n",
      "\n",
      "to this:\n",
      "\n",
      " BeautifulSoup(YOUR_MARKUP, \"html5lib\")\n",
      "\n",
      "  markup_type=markup_type))\n"
     ]
    }
   ],
   "source": [
    "mypage = BeautifulSoup(r.text)"
   ]
  },
  {
   "cell_type": "code",
   "execution_count": 17,
   "metadata": {},
   "outputs": [
    {
     "data": {
      "text/plain": [
       "<!DOCTYPE html>\n",
       "<html><head>\n",
       "    \n",
       "\n",
       "<meta charset=\"utf-8\"/>\n",
       "<meta content=\"IE=edge,chrome=1\" http-equiv=\"X-UA-Compatible\"/>\n",
       "<meta content=\"width=device-width, initial-scale=1, maximum-scale=1\" name=\"viewport\"/>\n",
       "<meta content=\"no-transform\" http-equiv=\"Cache-Control\"/>\n",
       "<meta content=\"no-siteapp\" http-equiv=\"Cache-Control\"/>\n",
       "\n",
       "\n",
       "\n",
       "\n",
       "\n",
       "  <meta content=\"data journalism,data analysis,data visualization,design,new media,technology,hackathon,Twitter,Trump,Ivanka,\" name=\"keywords\"/>\n",
       "\n",
       "\n",
       "\n",
       "\n",
       "  <link href=\"../../feed.xml\" rel=\"alternate\" title=\"Initium Lab | Exploratory Arm of Initium Media\" type=\"application/atom+xml\"/>\n",
       "\n",
       "\n",
       "<link href=\"../../images/favicon.ico?v=2.1.0\" rel=\"shortcut icon\" type=\"image/x-icon\"/>\n",
       "<link href=\"../../images/favicon.png?v=2.1.0\" rel=\"icon\" type=\"image/png\"/>\n",
       "\n",
       "<meta content=\"美國新晉總統唐納德·特朗普（Donald Trump）以其極端言論在一眾政客裡獨領風騷。端Lab曾於2016年撰文分析特朗普與其競選對手希拉里·柯林頓（Hillary Clinton）面對媒體採訪時不同的言論風格，發現特朗普發言多用簡單句型，且善於用第二人稱敘事獲取觀眾共鳴。除去媒體採訪，推特發言亦是特朗普競選的宣傳的另一愨道。因此本文選取唐納德·特朗普（下簡稱特朗普）及其女兒伊萬卡·特朗普（下簡\" name=\"description\"/>\n",
       "<meta content=\"article\" property=\"og:type\"/>\n",
       "<meta content=\"特朗普父女推特解密\" property=\"og:title\"/>\n",
       "<meta content=\"http://initiumlab.com/blog/20170329-trump-and-ivanka/index.html\" property=\"og:url\"/>\n",
       "<meta content=\"Initium Lab | Exploratory Arm of Initium Media\" property=\"og:site_name\"/>\n",
       "<meta content=\"美國新晉總統唐納德·特朗普（Donald Trump）以其極端言論在一眾政客裡獨領風騷。端Lab曾於2016年撰文分析特朗普與其競選對手希拉里·柯林頓（Hillary Clinton）面對媒體採訪時不同的言論風格，發現特朗普發言多用簡單句型，且善於用第二人稱敘事獲取觀眾共鳴。除去媒體採訪，推特發言亦是特朗普競選的宣傳的另一愨道。因此本文選取唐納德·特朗普（下簡稱特朗普）及其女兒伊萬卡·特朗普（下簡\" property=\"og:description\"/>\n",
       "<meta content=\"http://initiumlab.com/blog/20170329-trump-and-ivanka/ivanka-tweets-by-time-and-device.svg\" property=\"og:image\"/>\n",
       "<meta content=\"2017-04-14T05:55:27.701Z\" property=\"og:updated_time\"/>\n",
       "<meta content=\"summary\" name=\"twitter:card\"/>\n",
       "<meta content=\"特朗普父女推特解密\" name=\"twitter:title\"/>\n",
       "<meta content=\"美國新晉總統唐納德·特朗普（Donald Trump）以其極端言論在一眾政客裡獨領風騷。端Lab曾於2016年撰文分析特朗普與其競選對手希拉里·柯林頓（Hillary Clinton）面對媒體採訪時不同的言論風格，發現特朗普發言多用簡單句型，且善於用第二人稱敘事獲取觀眾共鳴。除去媒體採訪，推特發言亦是特朗普競選的宣傳的另一愨道。因此本文選取唐納德·特朗普（下簡稱特朗普）及其女兒伊萬卡·特朗普（下簡\" name=\"twitter:description\"/>\n",
       "<meta content=\"http://initiumlab.com/blog/20170329-trump-and-ivanka/ivanka-tweets-by-time-and-device.svg\" name=\"twitter:image\"/>\n",
       "<meta content=\"@initiumnews\" name=\"twitter:creator\"/>\n",
       "\n",
       "<link href=\"../../css/main.css?v=2.1.0\" rel=\"stylesheet\" type=\"text/css\"/>\n",
       "\n",
       "\n",
       "\n",
       "<script src=\"//cdnjs.cloudflare.com/ajax/libs/jquery/3.1.0/jquery.min.js\"></script>\n",
       "<script src=\"../../vendors/libs.js?v=2.1.0\" type=\"text/javascript\"></script>\n",
       "\n",
       "<!-- Begin comScore Tag -->\n",
       "<script>\n",
       "  var _comscore = _comscore || [];\n",
       "  _comscore.push({ c1: \"2\", c2: \"20515846\" });\n",
       "  (function() { var s = document.createElement(\"script\"), el = document.getElementsByTagName(\"script\")[0];\n",
       "    s.async = true;\n",
       "    s.src = (document.location.protocol == \"https:\" ? \"https://sb\" : \"http://b\") + \".scorecardresearch.com/beacon.js\";\n",
       "    el.parentNode.insertBefore(s, el); }\n",
       "  )();\n",
       "</script>\n",
       "<noscript>\n",
       "  </noscript></head><body itemscope=\"\" itemtype=\"http://schema.org/WebPage\" lang=\"en\"><img src=\"http://b.scorecardresearch.com/p?c1=2&amp;c2=20515846&amp;cv=2.0&amp;cj=1\"/>\n",
       "\n",
       "<!-- End comScore Tag -->\n",
       "    <title> 特朗普父女推特解密 | Initium Lab | Exploratory Arm of Initium Media </title>\n",
       "  \n",
       "\n",
       "  \n",
       "    <!--[if lte IE 9]>\n",
       "  <div style=' clear: both; height: 59px; padding:0 0 0 15px; position: relative;margin:0 auto;'>\n",
       "    <a href=\"http://windows.microsoft.com/en-US/internet-explorer/products/ie/home?ocid=ie6_countdown_bannercode\">\n",
       "      <img src=\"http://7u2nvr.com1.z0.glb.clouddn.com/picouterie.jpg\" border=\"0\" height=\"42\" width=\"820\"\n",
       "           alt=\"You are using an outdated browser. For a faster, safer browsing experience, upgrade for free today or use other browser ,like chrome firefox safari.\"\n",
       "           style='margin-left:auto;margin-right:auto;display: block;'/>\n",
       "    </a>\n",
       "  </div>\n",
       "<![endif]-->\n",
       "\n",
       "    <aside class=\"sidebar animate\" itemscope=\"\" itemtype=\"http://schema.org/WPSideBar\">\n",
       "  \n",
       "  <a class=\"sidebar__logo\" href=\"../../\">\n",
       "    \n",
       "    <img alt=\"initiumlab logo\" src=\"../../images/logo.svg\"/>\n",
       "  </a>\n",
       "  <div class=\"sidebar__content\">\n",
       "    \n",
       "    <nav class=\"sidebar__nav\">\n",
       "      <ul>\n",
       "        \n",
       "          <li class=\"sidebar__nav--home\">\n",
       "            <a href=\"../../\">\n",
       "              <span>首頁</span>\n",
       "            </a>\n",
       "          </li>\n",
       "        \n",
       "          <li class=\"sidebar__nav--blog\">\n",
       "            <a class=\"active\" href=\"../../blog\">\n",
       "              <span>文章</span>\n",
       "            </a>\n",
       "          </li>\n",
       "        \n",
       "          <li class=\"sidebar__nav--project\">\n",
       "            <a href=\"../../projects\">\n",
       "              <span>專題</span>\n",
       "            </a>\n",
       "          </li>\n",
       "        \n",
       "          <li class=\"sidebar__nav--event\">\n",
       "            <a href=\"../../events\">\n",
       "              <span>活動</span>\n",
       "            </a>\n",
       "          </li>\n",
       "        \n",
       "          <li class=\"sidebar__nav--career\">\n",
       "            <a href=\"../../career\">\n",
       "              <span>職位</span>\n",
       "            </a>\n",
       "          </li>\n",
       "        \n",
       "          <li class=\"sidebar__nav--about\">\n",
       "            <a href=\"../../about\">\n",
       "              <span>團隊</span>\n",
       "            </a>\n",
       "          </li>\n",
       "        \n",
       "      </ul>\n",
       "    </nav>\n",
       "    \n",
       "    <section class=\"sidebar__social\">\n",
       "      \n",
       "        <a data-social=\"facebook\" href=\"//www.facebook.com/initiumlab\" target=\"_blank\">\n",
       "          \n",
       "\n",
       "<svg class=\"icon icon--facebook\" viewBox=\"0 0 53 100\" xmlns=\"http://www.w3.org/2000/svg\">\n",
       "  <use xlink:href=\"../../images/icons/svg-sprite.svg#facebook\"></use>\n",
       "</svg>\n",
       "        </a>\n",
       "      \n",
       "        <a data-social=\"youtube\" href=\"//youtube.com/channel/UC6A8BFtKG3sRcExuOomA_tA\" target=\"_blank\">\n",
       "          \n",
       "\n",
       "<svg class=\"icon icon--youtube\" viewBox=\"0 0 141 100\" xmlns=\"http://www.w3.org/2000/svg\">\n",
       "  <use xlink:href=\"../../images/icons/svg-sprite.svg#youtube\"></use>\n",
       "</svg>\n",
       "        </a>\n",
       "      \n",
       "        <a data-social=\"linkedin\" href=\"//www.linkedin.com/groups/7048631\" target=\"_blank\">\n",
       "          \n",
       "\n",
       "<svg class=\"icon icon--linkedin\" viewBox=\"0 0 105 100\" xmlns=\"http://www.w3.org/2000/svg\">\n",
       "  <use xlink:href=\"../../images/icons/svg-sprite.svg#linkedin\"></use>\n",
       "</svg>\n",
       "        </a>\n",
       "      \n",
       "      <a data-social=\"rss\" href=\"../../feed.xml\" target=\"_blank\">\n",
       "        \n",
       "\n",
       "<svg class=\"icon icon--rss\" viewBox=\"0 0 100 100\" xmlns=\"http://www.w3.org/2000/svg\">\n",
       "  <use xlink:href=\"../../images/icons/svg-sprite.svg#rss\"></use>\n",
       "</svg>\n",
       "      </a>\n",
       "    </section>\n",
       "    \n",
       "    \n",
       "      <section class=\"subscribe\">\n",
       "  <button class=\"subscribe__btn subscribe__btn--popup\" type=\"button\">\n",
       "    <span>訂閱</span>\n",
       "  </button>\n",
       "  <div class=\"subscribe__content\">\n",
       "    <form class=\"subscribe__form\">\n",
       "        <input name=\"EMAIL\" placeholder=\"* 郵箱\" required=\"\" type=\"email\"/>\n",
       "        <input name=\"FNAME\" placeholder=\"名字\" type=\"text\"/>\n",
       "        <input name=\"LNAME\" placeholder=\"姓氏\" type=\"text\"/>\n",
       "        <button class=\"subscribe__btn subscribe__btn--submit animate\" disabled=\"\" type=\"submit\">提交</button>\n",
       "        <div class=\"subscribe__msg\">\n",
       "          <div class=\"subscribe__msg__content\">\n",
       "            <section>\n",
       "              \n",
       "\n",
       "<svg class=\"icon icon--spin\" viewBox=\"0 0 100 100\" xmlns=\"http://www.w3.org/2000/svg\">\n",
       "  <use xlink:href=\"../../images/icons/svg-sprite.svg#spin\"></use>\n",
       "</svg>\n",
       "              \n",
       "\n",
       "<svg class=\"icon icon--success\" viewBox=\"0 0 124 101\" xmlns=\"http://www.w3.org/2000/svg\">\n",
       "  <use xlink:href=\"../../images/icons/svg-sprite.svg#success\"></use>\n",
       "</svg>\n",
       "              \n",
       "\n",
       "<svg class=\"icon icon--error\" viewBox=\"0 0 100 100\" xmlns=\"http://www.w3.org/2000/svg\">\n",
       "  <use xlink:href=\"../../images/icons/svg-sprite.svg#error\"></use>\n",
       "</svg>\n",
       "            </section>\n",
       "            <section><p data-msg=\"\"></p></section>\n",
       "          </div>\n",
       "        </div>\n",
       "    </form>\n",
       "  </div>\n",
       "  <script>\n",
       "    ;(function() {\n",
       "      var $popupBtn = $('.subscribe__btn--popup');\n",
       "      var $content = $('.subscribe__content');\n",
       "      var $form = $('.subscribe__form');\n",
       "      var $submitBtn = $('.subscribe__btn--submit');\n",
       "      var $msgBox = $('.subscribe__msg');\n",
       "      var $msg = $msgBox.find('[data-msg]');\n",
       "      var $icons = $msgBox.find('.icon');\n",
       "\n",
       "      // Toggle Form\n",
       "      $popupBtn.click(function() {\n",
       "        $content.fadeIn();\n",
       "\n",
       "        $(window).click(function() {\n",
       "          $content.fadeOut();\n",
       "          $msgBox.fadeOut();\n",
       "          $(window).off('click');\n",
       "        });\n",
       "\n",
       "        ga('send', 'event', 'subscribe-button', 'click');\n",
       "      });\n",
       "      $('.subscribe__form, .subscribe__btn--popup').click(function(e) {\n",
       "        e.stopPropagation();\n",
       "      });\n",
       "\n",
       "      // Handle Form change\n",
       "      $form\n",
       "      .on('input', function() {\n",
       "        $submitBtn[0].disabled = !$form[0].checkValidity();\n",
       "      })\n",
       "      .on('submit', function(e) {\n",
       "        e.preventDefault();\n",
       "\n",
       "        // Init data\n",
       "        var request_data = {};\n",
       "        $.each($form.serializeArray(), function(index, item) {\n",
       "          request_data[item.name] = item.value;\n",
       "        });\n",
       "\n",
       "        // Post data\n",
       "        $msg.attr('data-msg', '');\n",
       "        $icons.hide().filter('.icon--spin').show();\n",
       "        $msgBox.fadeIn();\n",
       "\n",
       "        $.ajax({\n",
       "          url: '//initiumlab.us11.list-manage.com/subscribe/post-json?u=0af72d56ccd0f8ef2d17e12a2&id=64252e9209&c=?',\n",
       "          data: request_data,\n",
       "          dataType: 'jsonp'\n",
       "        })\n",
       "        .done(function(data) {\n",
       "          $icons.hide().filter('.icon--success').show();\n",
       "        })\n",
       "        .always(function(data) {\n",
       "          var msg = data.msg;\n",
       "\n",
       "          if (msg.match(/finished/i)) return;\n",
       "\n",
       "          $icons.hide().filter('.icon--error').show();\n",
       "          $msg.attr('data-msg', msg);\n",
       "        });\n",
       "      });\n",
       "    })()\n",
       "  </script>\n",
       "</section>\n",
       "    \n",
       "  </div>\n",
       "</aside>\n",
       "<script>\n",
       "  ;(function() {\n",
       "    var $w = $(window);\n",
       "    var $sidebar = $('.sidebar');\n",
       "    var $sidebarContent = $('.sidebar__content');\n",
       "    var yPositionToHide = $w.height();\n",
       "\n",
       "    if ($w.width() < 990) return;\n",
       "\n",
       "    $w\n",
       "    .on('scroll', function() {\n",
       "      if ($w.scrollTop() > yPositionToHide) {\n",
       "        toggleSidebar('hide');\n",
       "      } else {\n",
       "        toggleSidebar('show');\n",
       "      }\n",
       "    })\n",
       "    .on('resize', function() {\n",
       "      yPositionToHide = $w.height();\n",
       "    });\n",
       "\n",
       "    $sidebar.on('mouseover', function() {\n",
       "      if ($sidebarContent.css('display') === 'none') {\n",
       "        toggleSidebar('show');\n",
       "\n",
       "        $sidebar.on('mouseleave', function() {\n",
       "          toggleSidebar('hide');\n",
       "          $sidebar.off('mouseleave');\n",
       "        });\n",
       "      }\n",
       "    });\n",
       "\n",
       "    // GA\n",
       "    $('[data-social]').each(function() {\n",
       "      $(this).click(function() {\n",
       "        ga('send', 'event', 'social_button', 'click', this.getAttribute('data-social'));\n",
       "      });\n",
       "    });\n",
       "\n",
       "    function toggleSidebar(type) {\n",
       "      var isShow = type === 'show';\n",
       "\n",
       "      $sidebar[isShow ? 'removeClass' : 'addClass']('sidebar--fixed');\n",
       "      $sidebarContent[isShow ? 'fadeIn' : 'fadeOut']();\n",
       "    }\n",
       "  })()\n",
       "</script>\n",
       "    <header class=\"mobile-header\">\n",
       "  <button class=\"mobile-header__logo animate\" type=\"button\">\n",
       "    <img alt=\"initiumlab logo\" src=\"../../images/logo.svg\"/>\n",
       "  </button>\n",
       "</header>\n",
       "<script>\n",
       "  ;(function() {\n",
       "    var $mobileHeader = $('.mobile-header');\n",
       "    var $mobileLogo = $('.mobile-header__logo');\n",
       "    var $mobileNav = $('.sidebar');\n",
       "\n",
       "    $mobileLogo.click(function() {\n",
       "      $('body').toggleClass('fixed');\n",
       "      $mobileHeader.toggleClass('mobile-header--nav-open');\n",
       "      $mobileNav.toggleClass('sidebar--nav-open');\n",
       "    });\n",
       "  })()\n",
       "</script>\n",
       "\n",
       "    <main class=\"main \">\n",
       "      <div class=\"main__container\">\n",
       "        \n",
       "  \n",
       "  <article class=\"post post--normal \" itemscope=\"\" itemtype=\"http://schema.org/Article\">\n",
       "    <header>\n",
       "      \n",
       "      \n",
       "      \n",
       "        <h1 class=\"post__title\" itemprop=\"name headline\">\n",
       "          \n",
       "            \n",
       "              特朗普父女推特解密\n",
       "            \n",
       "          \n",
       "        </h1>\n",
       "      \n",
       "\n",
       "      \n",
       "      \n",
       "\n",
       "      \n",
       "      <div class=\"post__meta\">\n",
       "        <table>\n",
       "          <tbody>\n",
       "            <tr class=\"post__time\">\n",
       "              <td>\n",
       "\n",
       "<svg class=\"icon icon--clock\" viewBox=\"0 0 100 100\" xmlns=\"http://www.w3.org/2000/svg\">\n",
       "  <use xlink:href=\"../../images/icons/svg-sprite.svg#clock\"></use>\n",
       "</svg></td>\n",
       "              <td>\n",
       "                <time content=\"2017-03-29\" datetime=\"2017-03-29T18:00:00+08:00\" itemprop=\"dateCreated\">\n",
       "                  2017-03-29\n",
       "                </time>\n",
       "              </td>\n",
       "            </tr>\n",
       "\n",
       "            <tr class=\"post__authors\">\n",
       "              <td>\n",
       "\n",
       "<svg class=\"icon icon--pen\" viewBox=\"0 0 35 100\" xmlns=\"http://www.w3.org/2000/svg\">\n",
       "  <use xlink:href=\"../../images/icons/svg-sprite.svg#pen\"></use>\n",
       "</svg></td>\n",
       "              <td>\n",
       "                \n",
       "                  <span>Li Yiming</span>\n",
       "                \n",
       "                  <span>Li Yuqiong</span>\n",
       "                \n",
       "              </td>\n",
       "            </tr>\n",
       "\n",
       "            \n",
       "              <tr class=\"post__tags\">\n",
       "                <td>\n",
       "\n",
       "<svg class=\"icon icon--tag\" viewBox=\"0 0 69 100\" xmlns=\"http://www.w3.org/2000/svg\">\n",
       "  <use xlink:href=\"../../images/icons/svg-sprite.svg#tag\"></use>\n",
       "</svg></td>\n",
       "                <td>\n",
       "                \n",
       "                  <span class=\"tag\">\n",
       "                    <a href=\"../../tags/Twitter/\">\n",
       "                      Twitter\n",
       "                      </a>\n",
       "                  </span>\n",
       "                \n",
       "                  <span class=\"tag\">\n",
       "                    <a href=\"../../tags/Trump/\">\n",
       "                      Trump\n",
       "                      </a>\n",
       "                  </span>\n",
       "                \n",
       "                  <span class=\"tag\">\n",
       "                    <a href=\"../../tags/Ivanka/\">\n",
       "                      Ivanka\n",
       "                      </a>\n",
       "                  </span>\n",
       "                \n",
       "                </td>\n",
       "              </tr>\n",
       "            \n",
       "          </tbody>\n",
       "        </table>\n",
       "      </div>\n",
       "    </header>\n",
       "\n",
       "    \n",
       "    <div class=\"post__body\" itemprop=\"articleBody\">\n",
       "      <p>美國新晉總統唐納德·特朗普（Donald Trump）以其極端言論在一眾政客裡獨領風騷。<a href=\"http://initiumlab.com/\">端Lab</a>曾於2016年<a href=\"http://initiumlab.com/blog/20160704-trump-hillary-language/\">撰文分析</a>特朗普與其競選對手希拉里·柯林頓（Hillary Clinton）面對媒體採訪時不同的言論風格，發現特朗普發言多用簡單句型，且善於用第二人稱敘事獲取觀眾共鳴。</p>\n",
       "<p>除去媒體採訪，推特發言亦是特朗普競選的宣傳的另一愨道。因此本文選取唐納德·特朗普（下簡稱特朗普）及其女兒伊萬卡·特朗普（下簡稱伊萬卡）的推特數據作為樣本，利用文本信息挖掘方法（text mining methods），來分析他們在社交網絡上展示的話語特點。</p>\n",
       "<h2 id=\"話癆特朗普\"><a class=\"headerlink\" href=\"#話癆特朗普\" title=\"話癆特朗普\"></a>話癆特朗普</h2><p>從發推文總數量來看，特朗普遠勝其女伊萬卡。2009到2016年，特朗普發布推文總數量三萬餘條，平均每天十條。而其女伊萬卡發文總量為一萬一千餘條，平均每天三條。二人皆疑似推特深度用戶。</p>\n",
       "<p>下圖顯示，特朗普推文数量從2011年起開始狂飆突進，並於2013年和2015年分別達到峰值。而伊萬卡的發文風格則更加穩健，只是在2016年時有所增加，可能是為特朗普競選造勢之故？</p>\n",
       "<p><img alt=\"\" src=\"trump-ivanka-number-of-tweets-by-time.svg\"/></p>\n",
       "<h2 id=\"特朗普家族最喜愛的推特發佈平台\"><a class=\"headerlink\" href=\"#特朗普家族最喜愛的推特發佈平台\" title=\"特朗普家族最喜愛的推特發佈平台\"></a>特朗普家族最喜愛的推特發佈平台</h2><p>特朗普與伊萬卡身為上流社會人士，當然不能滿足於用單一平台發布推文。</p>\n",
       "<p>下表展示了特朗普父女較常使用的推特客戶端。他們在這些客戶端上發布的推文條數大於100。可以看出特朗普鍾愛安卓和網頁客戶端，而伊萬卡口味更加多元，除去推特網頁客戶端之外，更勇於嘗試 Buffer， Instagram， Sprout，BlackBerry，UberSocial 等各種較新的平台。她似乎並不鍾愛安卓手機。</p>\n",
       "<p>加入發文時間後，我們的分析發現，特朗普最初多使用网页推特发布消息，於2013年左右開始使用安卓手機系統客戶端發推特。2016左右，設備鳥槍換炮，用起了高大上的蘋果iOS系統客戶端。相比之下，伊萬卡發文的平台有較強階段性。2010年左右她與其父一樣是推特網頁版的忠實用戶，2011到2012年間還使用了其他設備和平台，如 Uber， BlackBerry等。2012年後她似乎開始喜愛上Instagram和iPhone平台。有意思的是，2015年她突然開始頻繁使用Buffer這款軟件，2016年則移情Sprout。這兩款均為社交網站管理平台，可以同時連結並管理Facebook、Twitter、Instagram等帳戶。從圖上來看，使用Buffer的時間段和Sprout的時間段並無交接，因此伊萬卡女士似乎更鍾意Sprout的用戶體驗。</p>\n",
       "<p><img alt=\"\" src=\"ivanka-tweets-by-time-and-device.svg\"/></p>\n",
       "<h2 id=\"詞彙偏好\"><a class=\"headerlink\" href=\"#詞彙偏好\" title=\"詞彙偏好\"></a>詞彙偏好</h2><p>下圖列出不同詞彙在特朗普和伊萬卡的推特中分別出現的比例。可以發現，兩人共同姓氏「trump」，以及一些常用詞「tonight」，「world」，「win」， 「forward」在雙方微博中出現的比例均較高。</p>\n",
       "<p>同時，和上文發現類似的是，伊萬卡常用詞更偏向時尚、商業和生活，例如「advice」，「shops」，「chic」，「founder」，「intern」 等等。而特朗普有更多和政治、政策以及競選相關的詞彙，如「senator」，「endorsement」，「broken」，「complete」等。最能體現這一區別的一個例子是，伊萬卡大量使用了「tips」這一詞彙，儼然一位人生導師。而特朗普則大量使用了「Obama」，和他總統競選人的身份相符。</p>\n",
       "<p><img alt=\"\" src=\"top-distinctive-words.svg\"/></p>\n",
       "<h2 id=\"父女口癖變遷史\"><a class=\"headerlink\" href=\"#父女口癖變遷史\" title=\"父女口癖變遷史\"></a>父女口癖變遷史</h2><p>下圖列出09年到16年之間，Trump 的 tweets 中常用詞彙的變化。09年到12年間，「Apprentice」頻繁出現在 Trump 的 tweets 中。這緣於一部真人職場秀<a href=\"https://en.wikipedia.org/wiki/The_Apprentice_%28U.S._TV_series%29\" rel=\"external\" target=\"_blank\">The Apprentice</a>，求職者在節目中分成兩組比賽，並在每一集中從輸的隊伍中淘汰一名貢獻最小的成員。節目最後的優勝者，有機會去經營Trump旗下的一個公司。在這個節目中，Trump做了14季的Host；決定參選總統後，他辭去了這個職位。當Trump獲勝的時候，人們驚呼其在 Twitter 上強大的影響力。可是回過去看，Trump 在利用媒體方面的技能，確實勝過世界上的很多領導者 – 從「TV Show 億萬富豪」到「Twitter 治國總統」，似乎並不意外。</p>\n",
       "<p><img alt=\"\" src=\"top-8-trending-words-trump.svg\"/></p>\n",
       "<p>上文提到，「Tips」是 Ivanka 的口頭禪之一。細看其中內容，除了大量轉推的經驗分享，大多還添加了特定的 Twitter 標籤，（hashtag）比如「#interntips」、「#healthtips」等等。而另一方面，「trump」的提及卻越來越少，在總統競選期間降到最低；同一時期「Tips」出現最爲頻繁。09年到14年間，Ivanka 的 tweets 中大量出現「trump」，大多與 Trump 家族的產業有關，比如 「@trumpgolf」、「#trumptower」、「@trumpwinery」、「#trumphotels」、…… 這些 Twitter 帳號和 hashtag 之間，大量互動和互聯，都吸引了不少粉絲。看罷數據，不得不感嘆， Ivanka 在運營 Twitter 方面的技能，與專業團隊無異。如果說15年前 Ivanka 的運作手法是「硬廣」，那麼從15年中旬開始，放棄「trump」、轉推「tips」、搖身一變人生導師，則更是技高一籌。</p>\n",
       "<p><img alt=\"\" src=\"top-3-trending-words-trump.svg\"/></p>\n",
       "<h2 id=\"最易引發「轉發」和「喜歡」的詞彙\"><a class=\"headerlink\" href=\"#最易引發「轉發」和「喜歡」的詞彙\" title=\"最易引發「轉發」和「喜歡」的詞彙\"></a>最易引發「轉發」和「喜歡」的詞彙</h2><p>「轉發」和「喜歡」均為發布者和關注者的某種互動形式。因此，通過分析獲得更多「轉發」和「喜歡」的推特詞彙特點，既可以分析出發布者的心態，也可以分析出關注群體對特定內容的偏好。紐約時報2011年一項針對社交媒體的調查發現，用戶在社交媒體上分享信息主要有五種情況：分享娛樂性消息、自我包裝和認同、增強社交關係、進行對話，以及推廣新聞、產品信息等【注2】。</p>\n",
       "<p>下圖展示了在特朗普和伊萬卡的推特數據裡，哪些詞彙容易引發更多轉發。特朗普的推特詞彙中，獲取轉發數最高的為「hamilton」，「praying」和「wikileaks」。而伊萬卡的則為「policy」，「family」，「theodore」。這些詞彙個人性較弱，更類似對特定消息的推廣，符合二人公眾人物的身分。</p>\n",
       "<p>「Hamilton」的高出鏡率可能因為如下這條推特 -</p>\n",
       "<blockquote>\n",
       "<p>Donald J. Trump  ✔@realDonaldTrump<br/>The Theater must always be a safe and special place.The cast of Hamilton was very rude last &gt; night to a very good man, Mike Pence. Apologize!<br/>9:56 PM - 19 Nov 2016<br/>43,592 43,592 Retweets   149,734 149,734 likes</p>\n",
       "</blockquote>\n",
       "<p>在這條發布與2016年11月19日，獲得四萬三千多條轉發的推文中，特朗普指責音樂劇 「Hamilton」的劇組對副總統 Mike Pence 進行騷擾。Mike Pence 之前觀賞了該音樂劇。表演結束後，劇組成員當眾向他表達了對新當選政府的不信任，和對未來的期待。這一舉動似乎激怒了特朗普，他在推特上發文要求劇組向副總統道歉。</p>\n",
       "<p>詞彙「praying」的信息量較少。「wikileaks」可能與特朗普競選時多次強調該網站揭露的希拉里郵件醜聞有關。可以想像，含有類似內容的推特因為具有新聞性，較易引發交流，從而引起轉發和討論。</p>\n",
       "<p>關於伊萬卡的推特分析，「theodore」是她新出生兒子的名字，這也和「family」獲得較高轉發量相吻合。另一方面，這可能反映出美國文化對家庭價值的重視。與上文類似，包含詞彙「policy」的推特，可能因為其新聞性和內容性而獲得較高轉發。</p>\n",
       "<p><img alt=\"\" src=\"top-10-words-for-retweet.svg\"/></p>\n",
       "<h2 id=\"最易引發「喜歡」的詞彙\"><a class=\"headerlink\" href=\"#最易引發「喜歡」的詞彙\" title=\"最易引發「喜歡」的詞彙\"></a>最易引發「喜歡」的詞彙</h2><p>關於社交媒體上用戶「喜歡」某條推特，或者「點贊」的行為，來自社交媒體管理網站Buffer（伊萬卡之前最愛）分析認為，點贊的行為動機可分為四種：類似線下交流時點頭等打招呼的行為，對自己認同的某些價值再度肯定，表達同情，以及獲取現實回報（如餐廳打折等）。分析特朗普和伊萬卡獲取「點贊」數最多的推特詞彙可以發現，兩人的前三名大致與獲取轉發數較高的推特相同。唯一區別在於特朗普發布的「electoral」詞彙亦獲得較多喜歡。這可能是支持者表達鼓勵的行為反映。</p>\n",
       "<p><img alt=\"\" src=\"top-10-words-for-favourite.svg\"/></p>\n",
       "<hr/>\n",
       "<p>註釋：</p>\n",
       "<ul>\n",
       "<li>本文所用原始數據及代碼見GitHub： <a href=\"https://github.com/kestrel614/HKODD17-Trump\" rel=\"external\" target=\"_blank\">https://github.com/kestrel614/HKODD17-Trump</a></li>\n",
       "<li>本文使用主要文本分析工具是R，部分分析方法參考網站 <a href=\"http://tidytextmining.com/\" rel=\"external\" target=\"_blank\">http://tidytextmining.com/</a> 。</li>\n",
       "<li>注【2】：<a href=\"http://text-ex-machina.co.uk/blog/new-york-times-study.html\" rel=\"external\" target=\"_blank\">http://text-ex-machina.co.uk/blog/new-york-times-study.html</a></li>\n",
       "<li>注【3】：<a href=\"https://blog.bufferapp.com/psychology-of-facebook\" rel=\"external\" target=\"_blank\">https://blog.bufferapp.com/psychology-of-facebook</a></li>\n",
       "</ul>\n",
       "\n",
       "    </div>\n",
       "    \n",
       "  </article>\n",
       "\n",
       "  <div class=\"share\">\n",
       "  <div class=\"share__icons\">\n",
       "    \n",
       "\n",
       "<svg class=\"icon icon--share\" viewBox=\"0 0 93 101\" xmlns=\"http://www.w3.org/2000/svg\">\n",
       "  <use xlink:href=\"../../images/icons/svg-sprite.svg#share\"></use>\n",
       "</svg>\n",
       "    \n",
       "      <button data-share=\"facebook\" type=\"button\">\n",
       "        \n",
       "\n",
       "<svg class=\"icon icon--facebook\" viewBox=\"0 0 53 100\" xmlns=\"http://www.w3.org/2000/svg\">\n",
       "  <use xlink:href=\"../../images/icons/svg-sprite.svg#facebook\"></use>\n",
       "</svg>\n",
       "        \n",
       "      </button>\n",
       "    \n",
       "      <button data-share=\"twitter\" type=\"button\">\n",
       "        \n",
       "\n",
       "<svg class=\"icon icon--twitter\" viewBox=\"0 0 127 100\" xmlns=\"http://www.w3.org/2000/svg\">\n",
       "  <use xlink:href=\"../../images/icons/svg-sprite.svg#twitter\"></use>\n",
       "</svg>\n",
       "        \n",
       "      </button>\n",
       "    \n",
       "      <button data-share=\"wechat\" type=\"button\">\n",
       "        \n",
       "\n",
       "<svg class=\"icon icon--wechat\" viewBox=\"0 0 127 100\" xmlns=\"http://www.w3.org/2000/svg\">\n",
       "  <use xlink:href=\"../../images/icons/svg-sprite.svg#wechat\"></use>\n",
       "</svg>\n",
       "        \n",
       "          <span class=\"wechat_share_qrcode\"></span>\n",
       "        \n",
       "      </button>\n",
       "    \n",
       "      <button data-share=\"weibo\" type=\"button\">\n",
       "        \n",
       "\n",
       "<svg class=\"icon icon--weibo\" viewBox=\"0 0 123 99\" xmlns=\"http://www.w3.org/2000/svg\">\n",
       "  <use xlink:href=\"../../images/icons/svg-sprite.svg#weibo\"></use>\n",
       "</svg>\n",
       "        \n",
       "      </button>\n",
       "    \n",
       "  </div>\n",
       "\n",
       "  \n",
       "  <div id=\"fb-root\"></div>\n",
       "  <script>(function(d, s, id) {\n",
       "    var js, fjs = d.getElementsByTagName(s)[0];\n",
       "    if (d.getElementById(id)) return;\n",
       "    js = d.createElement(s); js.id = id;\n",
       "    js.src = \"//connect.facebook.net/zh_HK/sdk.js#xfbml=1&version=v2.7\";\n",
       "    fjs.parentNode.insertBefore(js, fjs);\n",
       "  }(document, 'script', 'facebook-jssdk'));</script>\n",
       "  <style>\n",
       "    .fb-like {\n",
       "      position: absolute;\n",
       "      right: 0;\n",
       "      bottom: 0;\n",
       "    }\n",
       "  </style>\n",
       "  <div class=\"fb-like\" data-action=\"like\" data-colorscheme=\"dark\" data-href=\"http://initiumlab.com/blog/20170329-trump-and-ivanka/\" data-layout=\"box_count\" data-share=\"false\" data-show-faces=\"false\" data-size=\"large\"></div>\n",
       "</div>\n",
       "  <div class=\"sticky-tools\">\n",
       "  \n",
       "  <section class=\"sticky-tools__toc\">\n",
       "    <button type=\"button\">\n",
       "      \n",
       "\n",
       "<svg class=\"icon icon--list\" viewBox=\"0 0 100 100\" xmlns=\"http://www.w3.org/2000/svg\">\n",
       "  <use xlink:href=\"../../images/icons/svg-sprite.svg#list\"></use>\n",
       "</svg>\n",
       "    </button>\n",
       "    <div class=\"toc-wrapper\">\n",
       "      <h3>目錄</h3>\n",
       "      <ol class=\"toc\"><li class=\"toc-item toc-level-2\"><a class=\"toc-link\" href=\"#話癆特朗普\"><span class=\"toc-number\">1.</span> <span class=\"toc-text\">話癆特朗普</span></a></li><li class=\"toc-item toc-level-2\"><a class=\"toc-link\" href=\"#特朗普家族最喜愛的推特發佈平台\"><span class=\"toc-number\">2.</span> <span class=\"toc-text\">特朗普家族最喜愛的推特發佈平台</span></a></li><li class=\"toc-item toc-level-2\"><a class=\"toc-link\" href=\"#詞彙偏好\"><span class=\"toc-number\">3.</span> <span class=\"toc-text\">詞彙偏好</span></a></li><li class=\"toc-item toc-level-2\"><a class=\"toc-link\" href=\"#父女口癖變遷史\"><span class=\"toc-number\">4.</span> <span class=\"toc-text\">父女口癖變遷史</span></a></li><li class=\"toc-item toc-level-2\"><a class=\"toc-link\" href=\"#最易引發「轉發」和「喜歡」的詞彙\"><span class=\"toc-number\">5.</span> <span class=\"toc-text\">最易引發「轉發」和「喜歡」的詞彙</span></a></li><li class=\"toc-item toc-level-2\"><a class=\"toc-link\" href=\"#最易引發「喜歡」的詞彙\"><span class=\"toc-number\">6.</span> <span class=\"toc-text\">最易引發「喜歡」的詞彙</span></a></li></ol>\n",
       "    </div>\n",
       "  </section>\n",
       "  \n",
       "  <section class=\"sticky-tools__share\">\n",
       "    <button type=\"button\">\n",
       "      \n",
       "\n",
       "<svg class=\"icon icon--share\" viewBox=\"0 0 93 101\" xmlns=\"http://www.w3.org/2000/svg\">\n",
       "  <use xlink:href=\"../../images/icons/svg-sprite.svg#share\"></use>\n",
       "</svg>\n",
       "    </button>\n",
       "    <div class=\"sticky-tools__share__icons\">\n",
       "      \n",
       "        <button data-share=\"facebook\" type=\"button\">\n",
       "          \n",
       "\n",
       "<svg class=\"icon icon--facebook\" viewBox=\"0 0 53 100\" xmlns=\"http://www.w3.org/2000/svg\">\n",
       "  <use xlink:href=\"../../images/icons/svg-sprite.svg#facebook\"></use>\n",
       "</svg>\n",
       "          \n",
       "        </button>\n",
       "      \n",
       "        <button data-share=\"twitter\" type=\"button\">\n",
       "          \n",
       "\n",
       "<svg class=\"icon icon--twitter\" viewBox=\"0 0 127 100\" xmlns=\"http://www.w3.org/2000/svg\">\n",
       "  <use xlink:href=\"../../images/icons/svg-sprite.svg#twitter\"></use>\n",
       "</svg>\n",
       "          \n",
       "        </button>\n",
       "      \n",
       "        <button data-share=\"wechat\" type=\"button\">\n",
       "          \n",
       "\n",
       "<svg class=\"icon icon--wechat\" viewBox=\"0 0 127 100\" xmlns=\"http://www.w3.org/2000/svg\">\n",
       "  <use xlink:href=\"../../images/icons/svg-sprite.svg#wechat\"></use>\n",
       "</svg>\n",
       "          \n",
       "            <span class=\"wechat_share_qrcode\"></span>\n",
       "          \n",
       "        </button>\n",
       "      \n",
       "        <button data-share=\"weibo\" type=\"button\">\n",
       "          \n",
       "\n",
       "<svg class=\"icon icon--weibo\" viewBox=\"0 0 123 99\" xmlns=\"http://www.w3.org/2000/svg\">\n",
       "  <use xlink:href=\"../../images/icons/svg-sprite.svg#weibo\"></use>\n",
       "</svg>\n",
       "          \n",
       "        </button>\n",
       "      \n",
       "    </div>\n",
       "  </section>\n",
       "  <section class=\"sticky-tools__btt\">\n",
       "    <button type=\"button\">\n",
       "      \n",
       "\n",
       "<svg class=\"icon icon--chevron-top\" viewBox=\"0 0 159 100\" xmlns=\"http://www.w3.org/2000/svg\">\n",
       "  <use xlink:href=\"../../images/icons/svg-sprite.svg#chevron-top\"></use>\n",
       "</svg>\n",
       "    </button>\n",
       "  </section>\n",
       "</div>\n",
       "\n",
       "<script>\n",
       ";(function() {\n",
       "  var $w = $(window);\n",
       "\n",
       "  ;(function() {\n",
       "    var $tools = $('.sticky-tools');\n",
       "    var yPositionToShow = $w.height();\n",
       "\n",
       "    if ($w.width() < 990) return;\n",
       "\n",
       "    $w\n",
       "    .on('scroll', function() {\n",
       "      if ($w.scrollTop() > yPositionToShow && !$('footer').visible(true)) {\n",
       "        $tools.fadeIn();\n",
       "      } else {\n",
       "        $tools.fadeOut();\n",
       "      }\n",
       "    })\n",
       "    .on('resize', function() {\n",
       "      yPositionToShow = $w.height();\n",
       "    });\n",
       "  })()\n",
       "  /**\n",
       "   * Share\n",
       "   *\n",
       "   */\n",
       "  var $shareBtn = $('.sticky-tools__share > button');\n",
       "  var $shareIcons = $('.sticky-tools__share__icons');\n",
       "  var handleShareFadeOut = function() {\n",
       "    $shareIcons.fadeOut();\n",
       "    $shareBtn.removeClass('active');\n",
       "  };\n",
       "  $shareBtn.click(function() {\n",
       "    $shareIcons.fadeToggle();\n",
       "    $shareBtn.toggleClass('active');\n",
       "  });\n",
       "\n",
       "  /**\n",
       "   * ToC\n",
       "   *\n",
       "   */\n",
       "  var $toc = $('.sticky-tools__toc');\n",
       "  var $tocBtn = $toc.find('button');\n",
       "  var $tocWrapper = $('.toc-wrapper');\n",
       "\n",
       "  if (!$tocWrapper.find('.toc')[0]) {\n",
       "    $toc.remove();\n",
       "    return;\n",
       "  }\n",
       "\n",
       "  var handleToCFadeOut = function() {\n",
       "    $tocWrapper.fadeOut();\n",
       "    $tocBtn.removeClass('active');\n",
       "    $('body').removeClass('fixed');\n",
       "    $w.off('click');\n",
       "  };\n",
       "  // toggle toc\n",
       "  $tocBtn.click(function() {\n",
       "    if ($tocWrapper.css('display') === 'none') {\n",
       "      $tocWrapper.fadeIn();\n",
       "      $tocBtn.addClass('active');\n",
       "      $('body').addClass('fixed');\n",
       "      handleShareFadeOut();\n",
       "\n",
       "      $w.click(function() {\n",
       "        handleToCFadeOut();\n",
       "      });\n",
       "    } else {\n",
       "      handleToCFadeOut();\n",
       "    }\n",
       "  });\n",
       "  $toc.click(function(e) {\n",
       "    e.stopPropagation();\n",
       "  });\n",
       "  // click toc's link\n",
       "  $('.toc-link').click(function(e) {\n",
       "    e.preventDefault();\n",
       "\n",
       "    var hash = $(this).attr('href');\n",
       "    var target = $('.headerlink[href=\"' + hash + '\"]')[0];\n",
       "\n",
       "    Jump(target, {\n",
       "      offset: $('.mobile-header').height() * -1\n",
       "    });\n",
       "    window.location.hash = hash;\n",
       "    handleToCFadeOut();\n",
       "  });\n",
       "\n",
       "  /**\n",
       "   * Back to Top\n",
       "   *\n",
       "   */\n",
       "  var backToTopBtn = $('.sticky-tools__btt button');\n",
       "  backToTopBtn.click(function() {\n",
       "    backToTopBtn.addClass('active');\n",
       "\n",
       "    Jump('body', {\n",
       "      callback: function() {\n",
       "        backToTopBtn.removeClass('active');\n",
       "      }\n",
       "    });\n",
       "  });\n",
       "})()\n",
       "</script>\n",
       "\n",
       "\n",
       "        \n",
       "          <div class=\"comments\">\n",
       "            \n",
       "              <div id=\"disqus_thread\">\n",
       "                <noscript>Please enable JavaScript to view the <a href=\"//disqus.com/?ref_noscript\">comments powered by Disqus.</a></noscript>\n",
       "              </div>\n",
       "            \n",
       "          </div>\n",
       "        \n",
       "      </div>\n",
       "    </main>\n",
       "    <footer class=\"footer\">\n",
       "  <section class=\"footer--sidebar\">\n",
       "    <span>© 2016 InitiumLab.</span>\n",
       "  </section>\n",
       "  <section class=\"footer--main\">\n",
       "    <table class=\"footer--main__content\">\n",
       "      <tbody>\n",
       "        <tr>\n",
       "          <td>\n",
       "\n",
       "<svg class=\"icon icon--mail\" viewBox=\"0 0 134 100\" xmlns=\"http://www.w3.org/2000/svg\">\n",
       "  <use xlink:href=\"../../images/icons/svg-sprite.svg#mail\"></use>\n",
       "</svg></td>\n",
       "          <td>\n",
       "            <a href=\"mailto:editors@initiumlab.com\" target=\"_blank\">\n",
       "              <span>editors@initiumlab.com</span>\n",
       "            </a>\n",
       "          </td>\n",
       "\n",
       "        </tr>\n",
       "        <tr>\n",
       "          <td>\n",
       "\n",
       "<svg class=\"icon icon--map2\" viewBox=\"0 0 100 100\" xmlns=\"http://www.w3.org/2000/svg\">\n",
       "  <use xlink:href=\"../../images/icons/svg-sprite.svg#map2\"></use>\n",
       "</svg></td>\n",
       "          <td>\n",
       "            <a href=\"//www.google.com/maps/place/22%C2%B017'30.3%22N+114%C2%B012'30.9%22E\" target=\"_blank\">\n",
       "              <span>香港北角英皇道 663 號泓富產業千禧廣場 1907 室</span>\n",
       "            </a>\n",
       "          </td>\n",
       "        </tr>\n",
       "      </tbody>\n",
       "    \n",
       "  \n",
       " \n",
       "\n",
       "\n",
       "    \n",
       "\n",
       "    \n",
       "      \n",
       "  <script type=\"text/javascript\">\n",
       "    var disqus_shortname = 'initium1ab';\n",
       "    var disqus_identifier = 'blog/20170329-trump-and-ivanka/';\n",
       "    var disqus_title = '特朗普父女推特解密';\n",
       "    var disqus_url = 'http://initiumlab.com/blog/20170329-trump-and-ivanka/';\n",
       "\n",
       "    function run_disqus_script(disqus_script){\n",
       "      var dsq = document.createElement('script');\n",
       "      var head = document.getElementsByTagName('head')[0];\n",
       "      var body = document.getElementsByTagName('body')[0];\n",
       "\n",
       "      dsq.type = 'text/javascript';\n",
       "      dsq.async = true;\n",
       "      dsq.src = '//' + disqus_shortname + '.disqus.com/' + disqus_script;\n",
       "\n",
       "      (head || body).appendChild(dsq);\n",
       "    }\n",
       "\n",
       "    run_disqus_script('count.js');\n",
       "    \n",
       "      run_disqus_script('embed.js');\n",
       "    \n",
       "  </script>\n",
       "\n",
       "    \n",
       "\n",
       "    \n",
       "    <script src=\"//cdnjs.cloudflare.com/ajax/libs/fastclick/1.0.6/fastclick.min.js\"></script>\n",
       "    <script>\n",
       "      $(function() {\n",
       "        FastClick.attach(document.body);\n",
       "      });\n",
       "    </script>\n",
       "\n",
       "    \n",
       "    <script src=\"//cdnjs.cloudflare.com/ajax/libs/jquery.qrcode/1.0/jquery.qrcode.min.js\"></script>\n",
       "    <script src=\"../../js/share.js?v=2.1.0\" type=\"text/javascript\"></script>\n",
       "\n",
       "\n",
       "    \n",
       "<script>\n",
       "  (function(i,s,o,g,r,a,m){i['GoogleAnalyticsObject']=r;i[r]=i[r]||function(){\n",
       "            (i[r].q=i[r].q||[]).push(arguments)},i[r].l=1*new Date();a=s.createElement(o),\n",
       "          m=s.getElementsByTagName(o)[0];a.async=1;a.src=g;m.parentNode.insertBefore(a,m)\n",
       "  })(window,document,'script','//www.google-analytics.com/analytics.js','ga');\n",
       "  ga('create', 'UA-66625644-1', 'auto');\n",
       "  ga('send', 'pageview');\n",
       "</script>\n",
       "\n",
       "    \n",
       "  \n",
       "\n",
       "</table></section></footer></body></html>"
      ]
     },
     "execution_count": 17,
     "metadata": {},
     "output_type": "execute_result"
    }
   ],
   "source": [
    "mypage"
   ]
  },
  {
   "cell_type": "code",
   "execution_count": 18,
   "metadata": {},
   "outputs": [
    {
     "data": {
      "text/plain": [
       "bs4.BeautifulSoup"
      ]
     },
     "execution_count": 18,
     "metadata": {},
     "output_type": "execute_result"
    }
   ],
   "source": [
    "type(mypage)"
   ]
  },
  {
   "cell_type": "code",
   "execution_count": 19,
   "metadata": {},
   "outputs": [],
   "source": [
    "a = 1\n",
    "b = 'hello'"
   ]
  },
  {
   "cell_type": "code",
   "execution_count": 20,
   "metadata": {},
   "outputs": [
    {
     "data": {
      "text/plain": [
       "int"
      ]
     },
     "execution_count": 20,
     "metadata": {},
     "output_type": "execute_result"
    }
   ],
   "source": [
    "type(a)"
   ]
  },
  {
   "cell_type": "code",
   "execution_count": 21,
   "metadata": {},
   "outputs": [
    {
     "data": {
      "text/plain": [
       "str"
      ]
     },
     "execution_count": 21,
     "metadata": {},
     "output_type": "execute_result"
    }
   ],
   "source": [
    "type(b)"
   ]
  },
  {
   "cell_type": "code",
   "execution_count": 23,
   "metadata": {},
   "outputs": [],
   "source": [
    "myh1 = mypage.find('h1')"
   ]
  },
  {
   "cell_type": "code",
   "execution_count": 31,
   "metadata": {},
   "outputs": [],
   "source": [
    "mytitle = myh1.text"
   ]
  },
  {
   "cell_type": "code",
   "execution_count": 36,
   "metadata": {},
   "outputs": [
    {
     "name": "stdout",
     "output_type": "stream",
     "text": [
      "Help on method_descriptor:\n",
      "\n",
      "strip(...)\n",
      "    S.strip([chars]) -> str\n",
      "    \n",
      "    Return a copy of the string S with leading and trailing\n",
      "    whitespace removed.\n",
      "    If chars is given and not None, remove characters in chars instead.\n",
      "\n"
     ]
    }
   ],
   "source": [
    "help(str.strip)"
   ]
  },
  {
   "cell_type": "code",
   "execution_count": 38,
   "metadata": {},
   "outputs": [
    {
     "data": {
      "text/plain": [
       "'特朗普父女推特解密'"
      ]
     },
     "execution_count": 38,
     "metadata": {},
     "output_type": "execute_result"
    }
   ],
   "source": [
    "mytitle.strip()"
   ]
  },
  {
   "cell_type": "code",
   "execution_count": 43,
   "metadata": {},
   "outputs": [],
   "source": [
    "mydate = mypage.find('time').text.strip()"
   ]
  },
  {
   "cell_type": "code",
   "execution_count": 44,
   "metadata": {},
   "outputs": [
    {
     "data": {
      "text/plain": [
       "'2017-03-29'"
      ]
     },
     "execution_count": 44,
     "metadata": {},
     "output_type": "execute_result"
    }
   ],
   "source": [
    "mydate"
   ]
  },
  {
   "cell_type": "code",
   "execution_count": 45,
   "metadata": {},
   "outputs": [],
   "source": [
    "myauthor = mypage.find('span')"
   ]
  },
  {
   "cell_type": "code",
   "execution_count": 46,
   "metadata": {},
   "outputs": [
    {
     "data": {
      "text/plain": [
       "<span>首頁</span>"
      ]
     },
     "execution_count": 46,
     "metadata": {},
     "output_type": "execute_result"
    }
   ],
   "source": [
    "myauthor"
   ]
  },
  {
   "cell_type": "code",
   "execution_count": 48,
   "metadata": {},
   "outputs": [],
   "source": [
    "myspans = mypage.find_all('span')"
   ]
  },
  {
   "cell_type": "code",
   "execution_count": 51,
   "metadata": {},
   "outputs": [
    {
     "data": {
      "text/plain": [
       "<span>文章</span>"
      ]
     },
     "execution_count": 51,
     "metadata": {},
     "output_type": "execute_result"
    }
   ],
   "source": [
    "myspans[1]"
   ]
  },
  {
   "cell_type": "code",
   "execution_count": 52,
   "metadata": {},
   "outputs": [
    {
     "data": {
      "text/plain": [
       "<span>Li Yiming</span>"
      ]
     },
     "execution_count": 52,
     "metadata": {},
     "output_type": "execute_result"
    }
   ],
   "source": [
    "myspans[7]"
   ]
  },
  {
   "cell_type": "code",
   "execution_count": 53,
   "metadata": {},
   "outputs": [
    {
     "data": {
      "text/plain": [
       "<span>Li Yuqiong</span>"
      ]
     },
     "execution_count": 53,
     "metadata": {},
     "output_type": "execute_result"
    }
   ],
   "source": [
    "myspans[8]"
   ]
  },
  {
   "cell_type": "code",
   "execution_count": 55,
   "metadata": {},
   "outputs": [
    {
     "data": {
      "text/plain": [
       "<span class=\"tag\">\n",
       "                    <a href=\"../../tags/Twitter/\">\n",
       "                      Twitter\n",
       "                      </a>\n",
       "                  </span>"
      ]
     },
     "execution_count": 55,
     "metadata": {},
     "output_type": "execute_result"
    }
   ],
   "source": [
    "myspans[9]"
   ]
  },
  {
   "cell_type": "code",
   "execution_count": 58,
   "metadata": {},
   "outputs": [
    {
     "data": {
      "text/plain": [
       "5"
      ]
     },
     "execution_count": 58,
     "metadata": {},
     "output_type": "execute_result"
    }
   ],
   "source": [
    "len(mypage.find_all('tr'))"
   ]
  },
  {
   "cell_type": "code",
   "execution_count": 65,
   "metadata": {},
   "outputs": [],
   "source": [
    "mytr = mypage.find('tr', attrs={'class': 'post__authors'})"
   ]
  },
  {
   "cell_type": "code",
   "execution_count": 66,
   "metadata": {},
   "outputs": [
    {
     "data": {
      "text/plain": [
       "<tr class=\"post__authors\">\n",
       "              <td>\n",
       "\n",
       "<svg class=\"icon icon--pen\" viewBox=\"0 0 35 100\" xmlns=\"http://www.w3.org/2000/svg\">\n",
       "  <use xlink:href=\"../../images/icons/svg-sprite.svg#pen\"></use>\n",
       "</svg></td>\n",
       "              <td>\n",
       "                \n",
       "                  <span>Li Yiming</span>\n",
       "                \n",
       "                  <span>Li Yuqiong</span>\n",
       "                \n",
       "              </td>\n",
       "            </tr>"
      ]
     },
     "execution_count": 66,
     "metadata": {},
     "output_type": "execute_result"
    }
   ],
   "source": [
    "mytr"
   ]
  },
  {
   "cell_type": "code",
   "execution_count": 67,
   "metadata": {},
   "outputs": [
    {
     "data": {
      "text/plain": [
       "[<span>Li Yiming</span>, <span>Li Yuqiong</span>]"
      ]
     },
     "execution_count": 67,
     "metadata": {},
     "output_type": "execute_result"
    }
   ],
   "source": [
    "mytr.find_all('span')"
   ]
  },
  {
   "cell_type": "code",
   "execution_count": 72,
   "metadata": {},
   "outputs": [
    {
     "name": "stderr",
     "output_type": "stream",
     "text": [
      "/Users/pili/Desktop/week4-scraper/venv/lib/python3.6/site-packages/bs4/__init__.py:181: UserWarning: No parser was explicitly specified, so I'm using the best available HTML parser for this system (\"html5lib\"). This usually isn't a problem, but if you run this code on another system, or in a different virtual environment, it may use a different parser and behave differently.\n",
      "\n",
      "The code that caused this warning is on line 193 of the file /Library/Frameworks/Python.framework/Versions/3.6/lib/python3.6/runpy.py. To get rid of this warning, change code that looks like this:\n",
      "\n",
      " BeautifulSoup(YOUR_MARKUP})\n",
      "\n",
      "to this:\n",
      "\n",
      " BeautifulSoup(YOUR_MARKUP, \"html5lib\")\n",
      "\n",
      "  markup_type=markup_type))\n"
     ]
    }
   ],
   "source": [
    "r = requests.get('http://initiumlab.com/blog/20170329-trump-and-ivanka/')\n",
    "mypage = BeautifulSoup(r.text)\n",
    "mytitle = mypage.find('h1').text.strip()\n",
    "mydate = mypage.find('time').text.strip()\n",
    "mytr = mypage.find('tr', attrs={'class': 'post__authors'})\n",
    "authors = []\n",
    "for myspan in mytr.find_all('span'):\n",
    "    authors.append(myspan.text)\n",
    "article = {\n",
    "    'title': mytitle,\n",
    "    'authors': authors,\n",
    "    'date': mydate\n",
    "}"
   ]
  },
  {
   "cell_type": "code",
   "execution_count": 73,
   "metadata": {},
   "outputs": [
    {
     "data": {
      "text/plain": [
       "{'authors': ['Li Yiming', 'Li Yuqiong'],\n",
       " 'date': '2017-03-29',\n",
       " 'title': '特朗普父女推特解密'}"
      ]
     },
     "execution_count": 73,
     "metadata": {},
     "output_type": "execute_result"
    }
   ],
   "source": [
    "article"
   ]
  },
  {
   "cell_type": "code",
   "execution_count": 74,
   "metadata": {},
   "outputs": [],
   "source": [
    "def scrape_one_page(url):\n",
    "    r = requests.get(url)\n",
    "    mypage = BeautifulSoup(r.text)\n",
    "    mytitle = mypage.find('h1').text.strip()\n",
    "    mydate = mypage.find('time').text.strip()\n",
    "    mytr = mypage.find('tr', attrs={'class': 'post__authors'})\n",
    "    authors = []\n",
    "    for myspan in mytr.find_all('span'):\n",
    "        authors.append(myspan.text)\n",
    "    article = {\n",
    "        'title': mytitle,\n",
    "        'authors': authors,\n",
    "        'date': mydate\n",
    "    }\n",
    "    return article"
   ]
  },
  {
   "cell_type": "code",
   "execution_count": 75,
   "metadata": {},
   "outputs": [
    {
     "name": "stderr",
     "output_type": "stream",
     "text": [
      "/Users/pili/Desktop/week4-scraper/venv/lib/python3.6/site-packages/bs4/__init__.py:181: UserWarning: No parser was explicitly specified, so I'm using the best available HTML parser for this system (\"html5lib\"). This usually isn't a problem, but if you run this code on another system, or in a different virtual environment, it may use a different parser and behave differently.\n",
      "\n",
      "The code that caused this warning is on line 193 of the file /Library/Frameworks/Python.framework/Versions/3.6/lib/python3.6/runpy.py. To get rid of this warning, change code that looks like this:\n",
      "\n",
      " BeautifulSoup(YOUR_MARKUP})\n",
      "\n",
      "to this:\n",
      "\n",
      " BeautifulSoup(YOUR_MARKUP, \"html5lib\")\n",
      "\n",
      "  markup_type=markup_type))\n"
     ]
    },
    {
     "data": {
      "text/plain": [
       "{'authors': ['Li Yiming', 'Li Yuqiong'],\n",
       " 'date': '2017-03-29',\n",
       " 'title': '特朗普父女推特解密'}"
      ]
     },
     "execution_count": 75,
     "metadata": {},
     "output_type": "execute_result"
    }
   ],
   "source": [
    "scrape_one_page('http://initiumlab.com/blog/20170329-trump-and-ivanka/')"
   ]
  },
  {
   "cell_type": "code",
   "execution_count": 76,
   "metadata": {},
   "outputs": [
    {
     "name": "stderr",
     "output_type": "stream",
     "text": [
      "/Users/pili/Desktop/week4-scraper/venv/lib/python3.6/site-packages/bs4/__init__.py:181: UserWarning: No parser was explicitly specified, so I'm using the best available HTML parser for this system (\"html5lib\"). This usually isn't a problem, but if you run this code on another system, or in a different virtual environment, it may use a different parser and behave differently.\n",
      "\n",
      "The code that caused this warning is on line 193 of the file /Library/Frameworks/Python.framework/Versions/3.6/lib/python3.6/runpy.py. To get rid of this warning, change code that looks like this:\n",
      "\n",
      " BeautifulSoup(YOUR_MARKUP})\n",
      "\n",
      "to this:\n",
      "\n",
      " BeautifulSoup(YOUR_MARKUP, \"html5lib\")\n",
      "\n",
      "  markup_type=markup_type))\n"
     ]
    },
    {
     "data": {
      "text/plain": [
       "{'authors': ['Ren Xinya'], 'date': '2017-04-07', 'title': '「消失的檔案」：香港開放數據大檢討'}"
      ]
     },
     "execution_count": 76,
     "metadata": {},
     "output_type": "execute_result"
    }
   ],
   "source": [
    "scrape_one_page('http://initiumlab.com/blog/20170407-open-data-hk/')"
   ]
  },
  {
   "cell_type": "code",
   "execution_count": 77,
   "metadata": {},
   "outputs": [],
   "source": [
    "urls = [\n",
    "    'http://initiumlab.com/blog/20170407-open-data-hk/',\n",
    "    'http://initiumlab.com/blog/20170401-data-news/',\n",
    "    'http://initiumlab.com/blog/20170329-trump-and-ivanka/'\n",
    "]"
   ]
  },
  {
   "cell_type": "code",
   "execution_count": 79,
   "metadata": {},
   "outputs": [
    {
     "name": "stderr",
     "output_type": "stream",
     "text": [
      "/Users/pili/Desktop/week4-scraper/venv/lib/python3.6/site-packages/bs4/__init__.py:181: UserWarning: No parser was explicitly specified, so I'm using the best available HTML parser for this system (\"html5lib\"). This usually isn't a problem, but if you run this code on another system, or in a different virtual environment, it may use a different parser and behave differently.\n",
      "\n",
      "The code that caused this warning is on line 193 of the file /Library/Frameworks/Python.framework/Versions/3.6/lib/python3.6/runpy.py. To get rid of this warning, change code that looks like this:\n",
      "\n",
      " BeautifulSoup(YOUR_MARKUP})\n",
      "\n",
      "to this:\n",
      "\n",
      " BeautifulSoup(YOUR_MARKUP, \"html5lib\")\n",
      "\n",
      "  markup_type=markup_type))\n"
     ]
    }
   ],
   "source": [
    "articles = []\n",
    "for url in urls:\n",
    "    article = scrape_one_page(url)\n",
    "    articles.append(article)"
   ]
  },
  {
   "cell_type": "code",
   "execution_count": 80,
   "metadata": {},
   "outputs": [
    {
     "data": {
      "text/plain": [
       "[{'authors': ['Ren Xinya'],\n",
       "  'date': '2017-04-07',\n",
       "  'title': '「消失的檔案」：香港開放數據大檢討'},\n",
       " {'authors': ['Chia ni Liu'],\n",
       "  'date': '2017-04-01',\n",
       "  'title': '數據新聞的精選 Feed 列表'},\n",
       " {'authors': ['Li Yiming', 'Li Yuqiong'],\n",
       "  'date': '2017-03-29',\n",
       "  'title': '特朗普父女推特解密'}]"
      ]
     },
     "execution_count": 80,
     "metadata": {},
     "output_type": "execute_result"
    }
   ],
   "source": [
    "articles"
   ]
  },
  {
   "cell_type": "code",
   "execution_count": 82,
   "metadata": {},
   "outputs": [
    {
     "name": "stdout",
     "output_type": "stream",
     "text": [
      "Help on built-in function writer in module _csv:\n",
      "\n",
      "writer(...)\n",
      "    csv_writer = csv.writer(fileobj [, dialect='excel']\n",
      "                                [optional keyword args])\n",
      "        for row in sequence:\n",
      "            csv_writer.writerow(row)\n",
      "    \n",
      "        [or]\n",
      "    \n",
      "        csv_writer = csv.writer(fileobj [, dialect='excel']\n",
      "                                [optional keyword args])\n",
      "        csv_writer.writerows(rows)\n",
      "    \n",
      "    The \"fileobj\" argument can be any object that supports the file API.\n",
      "\n"
     ]
    }
   ],
   "source": [
    "help(csv.writer)"
   ]
  },
  {
   "cell_type": "code",
   "execution_count": 88,
   "metadata": {},
   "outputs": [],
   "source": [
    "#with open('articles.csv', 'wb') as csvfile:\n",
    "#    spamwriter = csv.writer(csvfile, delimiter=' ',\n",
    "#                            quotechar='|', quoting=csv.QUOTE_MINIMAL)\n",
    "#    spamw`riter.writerow(['1', '2', 'hello'])\n"
   ]
  },
  {
   "cell_type": "code",
   "execution_count": 89,
   "metadata": {},
   "outputs": [
    {
     "data": {
      "text/plain": [
       "[{'authors': ['Ren Xinya'],\n",
       "  'date': '2017-04-07',\n",
       "  'title': '「消失的檔案」：香港開放數據大檢討'},\n",
       " {'authors': ['Chia ni Liu'],\n",
       "  'date': '2017-04-01',\n",
       "  'title': '數據新聞的精選 Feed 列表'},\n",
       " {'authors': ['Li Yiming', 'Li Yuqiong'],\n",
       "  'date': '2017-03-29',\n",
       "  'title': '特朗普父女推特解密'}]"
      ]
     },
     "execution_count": 89,
     "metadata": {},
     "output_type": "execute_result"
    }
   ],
   "source": [
    "articles"
   ]
  },
  {
   "cell_type": "code",
   "execution_count": 90,
   "metadata": {},
   "outputs": [],
   "source": [
    "import csv\n",
    "with open('eggs.csv', 'w', newline='') as csvfile:\n",
    "    spamwriter = csv.writer(csvfile, delimiter=',',\n",
    "                            quotechar='\"', quoting=csv.QUOTE_MINIMAL)\n",
    "    #spamwriter.writerow(['Spam', '1', '2', '3'])\n",
    "    for article in articles:\n",
    "        spamwriter.writerow([\n",
    "            article['authors'],\n",
    "            article['date'],\n",
    "            article['title']\n",
    "        ])"
   ]
  },
  {
   "cell_type": "code",
   "execution_count": null,
   "metadata": {},
   "outputs": [],
   "source": []
  }
 ],
 "metadata": {
  "kernelspec": {
   "display_name": "Python 3",
   "language": "python",
   "name": "python3"
  },
  "language_info": {
   "codemirror_mode": {
    "name": "ipython",
    "version": 3
   },
   "file_extension": ".py",
   "mimetype": "text/x-python",
   "name": "python",
   "nbconvert_exporter": "python",
   "pygments_lexer": "ipython3",
   "version": "3.6.4"
  }
 },
 "nbformat": 4,
 "nbformat_minor": 2
}
