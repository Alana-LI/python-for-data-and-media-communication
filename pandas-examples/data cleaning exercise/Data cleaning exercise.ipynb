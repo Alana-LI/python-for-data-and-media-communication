{
 "cells": [
  {
   "cell_type": "code",
   "execution_count": 1,
   "metadata": {},
   "outputs": [],
   "source": [
    "import pandas\n",
    "df = pandas.read_csv('error_sample.csv')"
   ]
  },
  {
   "cell_type": "markdown",
   "metadata": {},
   "source": [
    "## Error 1 : Header error\n",
    "Solution: rename function"
   ]
  },
  {
   "cell_type": "code",
   "execution_count": 2,
   "metadata": {},
   "outputs": [
    {
     "data": {
      "text/html": [
       "<div>\n",
       "<style scoped>\n",
       "    .dataframe tbody tr th:only-of-type {\n",
       "        vertical-align: middle;\n",
       "    }\n",
       "\n",
       "    .dataframe tbody tr th {\n",
       "        vertical-align: top;\n",
       "    }\n",
       "\n",
       "    .dataframe thead th {\n",
       "        text-align: right;\n",
       "    }\n",
       "</style>\n",
       "<table border=\"1\" class=\"dataframe\">\n",
       "  <thead>\n",
       "    <tr style=\"text-align: right;\">\n",
       "      <th></th>\n",
       "      <th>name</th>\n",
       "      <th>price</th>\n",
       "      <th>likes</th>\n",
       "      <th>country</th>\n",
       "      <th>type</th>\n",
       "      <th>location</th>\n",
       "      <th>review</th>\n",
       "      <th>bookmark</th>\n",
       "      <th>discount_info</th>\n",
       "    </tr>\n",
       "  </thead>\n",
       "  <tbody>\n",
       "    <tr>\n",
       "      <th>0</th>\n",
       "      <td>LAB EAT Restaurant &amp; Bar</td>\n",
       "      <td>尖沙咀金巴利道87-89號僑豐大厦地下1-2號舖</td>\n",
       "      <td>$201-400</td>\n",
       "      <td>西式</td>\n",
       "      <td>海鮮</td>\n",
       "      <td>436.0</td>\n",
       "      <td>(565 食評)</td>\n",
       "      <td>50744</td>\n",
       "      <td>網上訂座可享75折優惠</td>\n",
       "    </tr>\n",
       "    <tr>\n",
       "      <th>1</th>\n",
       "      <td>Shine</td>\n",
       "      <td>尖沙咀北京道12A號太子集團中心6樓</td>\n",
       "      <td>$201-400</td>\n",
       "      <td>西式</td>\n",
       "      <td>酒</td>\n",
       "      <td>693.0</td>\n",
       "      <td>(777 食評)</td>\n",
       "      <td>21136</td>\n",
       "      <td>送 25里數 / 30積分</td>\n",
       "    </tr>\n",
       "    <tr>\n",
       "      <th>2</th>\n",
       "      <td>Yadllie Plate</td>\n",
       "      <td>旺角西洋菜街1號兆萬中心11樓</td>\n",
       "      <td>$101-200</td>\n",
       "      <td>韩国菜</td>\n",
       "      <td>NaN</td>\n",
       "      <td>487.0</td>\n",
       "      <td>(630 食評)</td>\n",
       "      <td>27681</td>\n",
       "      <td>早鳥及消夜時段訂座 可享全單八折優惠</td>\n",
       "    </tr>\n",
       "    <tr>\n",
       "      <th>3</th>\n",
       "      <td>漁獲浜燒 Toretore Hamayaki</td>\n",
       "      <td>銅鑼灣軒尼詩道525號澳門逸園中心18樓</td>\n",
       "      <td>$201-400</td>\n",
       "      <td>日本菜</td>\n",
       "      <td>日本菜</td>\n",
       "      <td>503.0</td>\n",
       "      <td>(524 食評)</td>\n",
       "      <td>19647</td>\n",
       "      <td>送 25里數 / 30積分</td>\n",
       "    </tr>\n",
       "    <tr>\n",
       "      <th>4</th>\n",
       "      <td>心之食堂 Love Cafe</td>\n",
       "      <td>銅鑼灣耀華街3號百樂中心12樓1203室</td>\n",
       "      <td>$201-400</td>\n",
       "      <td>日本菜</td>\n",
       "      <td>NaN</td>\n",
       "      <td>490.0</td>\n",
       "      <td>(545 食評)</td>\n",
       "      <td>6580</td>\n",
       "      <td>全單85折</td>\n",
       "    </tr>\n",
       "  </tbody>\n",
       "</table>\n",
       "</div>"
      ],
      "text/plain": [
       "                       name                     price     likes country type  \\\n",
       "0  LAB EAT Restaurant & Bar  尖沙咀金巴利道87-89號僑豐大厦地下1-2號舖  $201-400      西式   海鮮   \n",
       "1                     Shine        尖沙咀北京道12A號太子集團中心6樓  $201-400      西式    酒   \n",
       "2             Yadllie Plate           旺角西洋菜街1號兆萬中心11樓  $101-200     韩国菜  NaN   \n",
       "3    漁獲浜燒 Toretore Hamayaki      銅鑼灣軒尼詩道525號澳門逸園中心18樓  $201-400     日本菜  日本菜   \n",
       "4            心之食堂 Love Cafe      銅鑼灣耀華街3號百樂中心12樓1203室  $201-400     日本菜  NaN   \n",
       "\n",
       "   location    review  bookmark       discount_info  \n",
       "0     436.0  (565 食評)     50744         網上訂座可享75折優惠  \n",
       "1     693.0  (777 食評)     21136       送 25里數 / 30積分  \n",
       "2     487.0  (630 食評)     27681  早鳥及消夜時段訂座 可享全單八折優惠  \n",
       "3     503.0  (524 食評)     19647       送 25里數 / 30積分  \n",
       "4     490.0  (545 食評)      6580               全單85折  "
      ]
     },
     "execution_count": 2,
     "metadata": {},
     "output_type": "execute_result"
    }
   ],
   "source": [
    "df.head()"
   ]
  },
  {
   "cell_type": "code",
   "execution_count": 3,
   "metadata": {},
   "outputs": [
    {
     "data": {
      "text/html": [
       "<div>\n",
       "<style scoped>\n",
       "    .dataframe tbody tr th:only-of-type {\n",
       "        vertical-align: middle;\n",
       "    }\n",
       "\n",
       "    .dataframe tbody tr th {\n",
       "        vertical-align: top;\n",
       "    }\n",
       "\n",
       "    .dataframe thead th {\n",
       "        text-align: right;\n",
       "    }\n",
       "</style>\n",
       "<table border=\"1\" class=\"dataframe\">\n",
       "  <thead>\n",
       "    <tr style=\"text-align: right;\">\n",
       "      <th></th>\n",
       "      <th>name</th>\n",
       "      <th>location</th>\n",
       "      <th>prices</th>\n",
       "      <th>country</th>\n",
       "      <th>type</th>\n",
       "      <th>likes</th>\n",
       "      <th>review</th>\n",
       "      <th>bookmark</th>\n",
       "      <th>discount_info</th>\n",
       "    </tr>\n",
       "  </thead>\n",
       "  <tbody>\n",
       "    <tr>\n",
       "      <th>0</th>\n",
       "      <td>LAB EAT Restaurant &amp; Bar</td>\n",
       "      <td>尖沙咀金巴利道87-89號僑豐大厦地下1-2號舖</td>\n",
       "      <td>$201-400</td>\n",
       "      <td>西式</td>\n",
       "      <td>海鮮</td>\n",
       "      <td>436.0</td>\n",
       "      <td>(565 食評)</td>\n",
       "      <td>50744</td>\n",
       "      <td>網上訂座可享75折優惠</td>\n",
       "    </tr>\n",
       "    <tr>\n",
       "      <th>1</th>\n",
       "      <td>Shine</td>\n",
       "      <td>尖沙咀北京道12A號太子集團中心6樓</td>\n",
       "      <td>$201-400</td>\n",
       "      <td>西式</td>\n",
       "      <td>酒</td>\n",
       "      <td>693.0</td>\n",
       "      <td>(777 食評)</td>\n",
       "      <td>21136</td>\n",
       "      <td>送 25里數 / 30積分</td>\n",
       "    </tr>\n",
       "    <tr>\n",
       "      <th>2</th>\n",
       "      <td>Yadllie Plate</td>\n",
       "      <td>旺角西洋菜街1號兆萬中心11樓</td>\n",
       "      <td>$101-200</td>\n",
       "      <td>韩国菜</td>\n",
       "      <td>NaN</td>\n",
       "      <td>487.0</td>\n",
       "      <td>(630 食評)</td>\n",
       "      <td>27681</td>\n",
       "      <td>早鳥及消夜時段訂座 可享全單八折優惠</td>\n",
       "    </tr>\n",
       "    <tr>\n",
       "      <th>3</th>\n",
       "      <td>漁獲浜燒 Toretore Hamayaki</td>\n",
       "      <td>銅鑼灣軒尼詩道525號澳門逸園中心18樓</td>\n",
       "      <td>$201-400</td>\n",
       "      <td>日本菜</td>\n",
       "      <td>日本菜</td>\n",
       "      <td>503.0</td>\n",
       "      <td>(524 食評)</td>\n",
       "      <td>19647</td>\n",
       "      <td>送 25里數 / 30積分</td>\n",
       "    </tr>\n",
       "    <tr>\n",
       "      <th>4</th>\n",
       "      <td>心之食堂 Love Cafe</td>\n",
       "      <td>銅鑼灣耀華街3號百樂中心12樓1203室</td>\n",
       "      <td>$201-400</td>\n",
       "      <td>日本菜</td>\n",
       "      <td>NaN</td>\n",
       "      <td>490.0</td>\n",
       "      <td>(545 食評)</td>\n",
       "      <td>6580</td>\n",
       "      <td>全單85折</td>\n",
       "    </tr>\n",
       "  </tbody>\n",
       "</table>\n",
       "</div>"
      ],
      "text/plain": [
       "                       name                  location    prices country type  \\\n",
       "0  LAB EAT Restaurant & Bar  尖沙咀金巴利道87-89號僑豐大厦地下1-2號舖  $201-400      西式   海鮮   \n",
       "1                     Shine        尖沙咀北京道12A號太子集團中心6樓  $201-400      西式    酒   \n",
       "2             Yadllie Plate           旺角西洋菜街1號兆萬中心11樓  $101-200     韩国菜  NaN   \n",
       "3    漁獲浜燒 Toretore Hamayaki      銅鑼灣軒尼詩道525號澳門逸園中心18樓  $201-400     日本菜  日本菜   \n",
       "4            心之食堂 Love Cafe      銅鑼灣耀華街3號百樂中心12樓1203室  $201-400     日本菜  NaN   \n",
       "\n",
       "   likes    review  bookmark       discount_info  \n",
       "0  436.0  (565 食評)     50744         網上訂座可享75折優惠  \n",
       "1  693.0  (777 食評)     21136       送 25里數 / 30積分  \n",
       "2  487.0  (630 食評)     27681  早鳥及消夜時段訂座 可享全單八折優惠  \n",
       "3  503.0  (524 食評)     19647       送 25里數 / 30積分  \n",
       "4  490.0  (545 食評)      6580               全單85折  "
      ]
     },
     "execution_count": 3,
     "metadata": {},
     "output_type": "execute_result"
    }
   ],
   "source": [
    "df.rename(columns={'price':'location','likes':'prices','location':'likes'}, inplace=True)\n",
    "df.head()"
   ]
  },
  {
   "cell_type": "markdown",
   "metadata": {},
   "source": [
    "## Error 2 : Data format error\n",
    "solution: replace function"
   ]
  },
  {
   "cell_type": "code",
   "execution_count": 4,
   "metadata": {},
   "outputs": [
    {
     "data": {
      "text/plain": [
       "$101-200    464\n",
       "$201-400    309\n",
       "$51-100     106\n",
       "$401-800     46\n",
       "$50以下         4\n",
       "$101.00       3\n",
       "Name: prices, dtype: int64"
      ]
     },
     "execution_count": 4,
     "metadata": {},
     "output_type": "execute_result"
    }
   ],
   "source": [
    "df['prices'].value_counts()"
   ]
  },
  {
   "cell_type": "code",
   "execution_count": 5,
   "metadata": {},
   "outputs": [
    {
     "data": {
      "text/plain": [
       "$101-200    467\n",
       "$201-400    309\n",
       "$51-100     106\n",
       "$401-800     46\n",
       "$50以下         4\n",
       "Name: prices, dtype: int64"
      ]
     },
     "execution_count": 5,
     "metadata": {},
     "output_type": "execute_result"
    }
   ],
   "source": [
    "df['prices'].replace({'$101.00':'$101-200'}).value_counts()"
   ]
  },
  {
   "cell_type": "markdown",
   "metadata": {},
   "source": [
    "## Error 3 : Format/Unity error\n",
    "Solution: mapping & apply"
   ]
  },
  {
   "cell_type": "code",
   "execution_count": 6,
   "metadata": {},
   "outputs": [
    {
     "data": {
      "text/plain": [
       "西式          203\n",
       "日本菜         148\n",
       "多國菜          86\n",
       "意大利菜         79\n",
       "港式           63\n",
       "粵菜 (廣東)      45\n",
       "泰國菜          44\n",
       "韓國菜          36\n",
       "法國菜          30\n",
       "西班牙菜         29\n",
       "美國菜          24\n",
       "台灣菜          21\n",
       "川菜 (四川)      21\n",
       "英國菜          16\n",
       "越南菜          16\n",
       "印度菜          12\n",
       "德國菜           9\n",
       "意大利           8\n",
       "京菜 (官府菜)      7\n",
       "比利時菜          7\n",
       "澳洲菜           6\n",
       "葡國菜           4\n",
       "韩国菜           3\n",
       "京川滬           3\n",
       "俄國菜           2\n",
       "滬菜 (上海)       2\n",
       "荷蘭菜           1\n",
       "蒙古菜           1\n",
       "湘菜 (湖南)       1\n",
       "秘魯菜           1\n",
       "印尼菜           1\n",
       "潮州菜           1\n",
       "土耳其菜          1\n",
       "新加坡菜          1\n",
       "Name: country, dtype: int64"
      ]
     },
     "execution_count": 6,
     "metadata": {},
     "output_type": "execute_result"
    }
   ],
   "source": [
    "df['country'].value_counts()"
   ]
  },
  {
   "cell_type": "code",
   "execution_count": 7,
   "metadata": {},
   "outputs": [
    {
     "data": {
      "text/plain": [
       "西式          203\n",
       "日本菜         148\n",
       "意大利菜         87\n",
       "多國菜          86\n",
       "港式           63\n",
       "粵菜 (廣東)      45\n",
       "泰國菜          44\n",
       "韓國菜          39\n",
       "法國菜          30\n",
       "西班牙菜         29\n",
       "美國菜          24\n",
       "台灣菜          21\n",
       "川菜 (四川)      21\n",
       "英國菜          16\n",
       "越南菜          16\n",
       "印度菜          12\n",
       "德國菜           9\n",
       "京菜 (官府菜)      7\n",
       "比利時菜          7\n",
       "澳洲菜           6\n",
       "葡國菜           4\n",
       "京川滬           3\n",
       "俄國菜           2\n",
       "滬菜 (上海)       2\n",
       "土耳其菜          1\n",
       "潮州菜           1\n",
       "新加坡菜          1\n",
       "荷蘭菜           1\n",
       "蒙古菜           1\n",
       "湘菜 (湖南)       1\n",
       "秘魯菜           1\n",
       "印尼菜           1\n",
       "Name: country, dtype: int64"
      ]
     },
     "execution_count": 7,
     "metadata": {},
     "output_type": "execute_result"
    }
   ],
   "source": [
    "mapping={\n",
    "    '意大利':'意大利菜',\n",
    "    '韩国菜':'韓國菜'\n",
    "}\n",
    "def cleaning(e):\n",
    "    return mapping.get(e,e)\n",
    "df['country'].apply(cleaning).value_counts()"
   ]
  },
  {
   "cell_type": "markdown",
   "metadata": {},
   "source": [
    "## Data range error\n",
    "Solution: check out the real value in the source and replace"
   ]
  },
  {
   "cell_type": "code",
   "execution_count": 8,
   "metadata": {},
   "outputs": [
    {
     "data": {
      "text/plain": [
       "count       932.000000\n",
       "mean       8172.702790\n",
       "std       10224.924791\n",
       "min           5.000000\n",
       "25%        2824.000000\n",
       "50%        5612.000000\n",
       "75%       10894.750000\n",
       "max      221502.000000\n",
       "Name: bookmark, dtype: float64"
      ]
     },
     "execution_count": 8,
     "metadata": {},
     "output_type": "execute_result"
    }
   ],
   "source": [
    "df['bookmark'].describe()"
   ]
  },
  {
   "cell_type": "code",
   "execution_count": 9,
   "metadata": {},
   "outputs": [
    {
     "data": {
      "text/html": [
       "<div>\n",
       "<style scoped>\n",
       "    .dataframe tbody tr th:only-of-type {\n",
       "        vertical-align: middle;\n",
       "    }\n",
       "\n",
       "    .dataframe tbody tr th {\n",
       "        vertical-align: top;\n",
       "    }\n",
       "\n",
       "    .dataframe thead th {\n",
       "        text-align: right;\n",
       "    }\n",
       "</style>\n",
       "<table border=\"1\" class=\"dataframe\">\n",
       "  <thead>\n",
       "    <tr style=\"text-align: right;\">\n",
       "      <th></th>\n",
       "      <th>name</th>\n",
       "      <th>location</th>\n",
       "      <th>prices</th>\n",
       "      <th>country</th>\n",
       "      <th>type</th>\n",
       "      <th>likes</th>\n",
       "      <th>review</th>\n",
       "      <th>bookmark</th>\n",
       "      <th>discount_info</th>\n",
       "    </tr>\n",
       "  </thead>\n",
       "  <tbody>\n",
       "    <tr>\n",
       "      <th>922</th>\n",
       "      <td>Shoreditch</td>\n",
       "      <td>西環堅尼地城吉席街18號地舖</td>\n",
       "      <td>$201-400</td>\n",
       "      <td>英國菜</td>\n",
       "      <td>扒房</td>\n",
       "      <td>36.0</td>\n",
       "      <td>(58 食評)</td>\n",
       "      <td>5</td>\n",
       "      <td>訂座可半價享用Love Lobster</td>\n",
       "    </tr>\n",
       "  </tbody>\n",
       "</table>\n",
       "</div>"
      ],
      "text/plain": [
       "           name        location    prices country type  likes   review  \\\n",
       "922  Shoreditch  西環堅尼地城吉席街18號地舖  $201-400     英國菜   扒房   36.0  (58 食評)   \n",
       "\n",
       "     bookmark        discount_info  \n",
       "922         5  訂座可半價享用Love Lobster  "
      ]
     },
     "execution_count": 9,
     "metadata": {},
     "output_type": "execute_result"
    }
   ],
   "source": [
    "df[df['bookmark'] == 5]"
   ]
  },
  {
   "cell_type": "code",
   "execution_count": 10,
   "metadata": {},
   "outputs": [
    {
     "data": {
      "text/html": [
       "<div>\n",
       "<style scoped>\n",
       "    .dataframe tbody tr th:only-of-type {\n",
       "        vertical-align: middle;\n",
       "    }\n",
       "\n",
       "    .dataframe tbody tr th {\n",
       "        vertical-align: top;\n",
       "    }\n",
       "\n",
       "    .dataframe thead th {\n",
       "        text-align: right;\n",
       "    }\n",
       "</style>\n",
       "<table border=\"1\" class=\"dataframe\">\n",
       "  <thead>\n",
       "    <tr style=\"text-align: right;\">\n",
       "      <th></th>\n",
       "      <th>name</th>\n",
       "      <th>location</th>\n",
       "      <th>prices</th>\n",
       "      <th>country</th>\n",
       "      <th>type</th>\n",
       "      <th>likes</th>\n",
       "      <th>review</th>\n",
       "      <th>bookmark</th>\n",
       "      <th>discount_info</th>\n",
       "    </tr>\n",
       "  </thead>\n",
       "  <tbody>\n",
       "    <tr>\n",
       "      <th>40</th>\n",
       "      <td>慢煮工業 Under Vacuum The Steak</td>\n",
       "      <td>太子太子道西91號地舖</td>\n",
       "      <td>$51-100</td>\n",
       "      <td>西式</td>\n",
       "      <td>三文治</td>\n",
       "      <td>258.0</td>\n",
       "      <td>(388 食評)</td>\n",
       "      <td>221502</td>\n",
       "      <td>送 25里數 / 30積分</td>\n",
       "    </tr>\n",
       "  </tbody>\n",
       "</table>\n",
       "</div>"
      ],
      "text/plain": [
       "                           name     location   prices country type  likes  \\\n",
       "40  慢煮工業 Under Vacuum The Steak  太子太子道西91號地舖  $51-100      西式  三文治  258.0   \n",
       "\n",
       "      review  bookmark  discount_info  \n",
       "40  (388 食評)    221502  送 25里數 / 30積分  "
      ]
     },
     "execution_count": 10,
     "metadata": {},
     "output_type": "execute_result"
    }
   ],
   "source": [
    "df[df['bookmark'] == 221502]"
   ]
  },
  {
   "cell_type": "markdown",
   "metadata": {},
   "source": [
    "## None type error\n",
    "Solution: replace the value with fillna() function"
   ]
  },
  {
   "cell_type": "code",
   "execution_count": 11,
   "metadata": {},
   "outputs": [
    {
     "data": {
      "text/plain": [
       "0         海鮮\n",
       "1          酒\n",
       "2        NaN\n",
       "3        日本菜\n",
       "4        NaN\n",
       "5         扒房\n",
       "6      甜品/糖水\n",
       "7        NaN\n",
       "8     樓上cafe\n",
       "9       韓式炸雞\n",
       "10       NaN\n",
       "11        烤肉\n",
       "12     壽司/刺身\n",
       "13     甜品/糖水\n",
       "14       NaN\n",
       "15       爐端燒\n",
       "16     甜品/糖水\n",
       "17       NaN\n",
       "18       NaN\n",
       "19     甜品/糖水\n",
       "Name: type, dtype: object"
      ]
     },
     "execution_count": 11,
     "metadata": {},
     "output_type": "execute_result"
    }
   ],
   "source": [
    "df['type'].head(20)"
   ]
  },
  {
   "cell_type": "code",
   "execution_count": 12,
   "metadata": {},
   "outputs": [],
   "source": [
    "df['type'] = df['type'].fillna('')"
   ]
  },
  {
   "cell_type": "code",
   "execution_count": 13,
   "metadata": {},
   "outputs": [
    {
     "data": {
      "text/plain": [
       "0         海鮮\n",
       "1          酒\n",
       "2           \n",
       "3        日本菜\n",
       "4           \n",
       "5         扒房\n",
       "6      甜品/糖水\n",
       "7           \n",
       "8     樓上cafe\n",
       "9       韓式炸雞\n",
       "10          \n",
       "11        烤肉\n",
       "12     壽司/刺身\n",
       "13     甜品/糖水\n",
       "14          \n",
       "15       爐端燒\n",
       "16     甜品/糖水\n",
       "17          \n",
       "18          \n",
       "19     甜品/糖水\n",
       "Name: type, dtype: object"
      ]
     },
     "execution_count": 13,
     "metadata": {},
     "output_type": "execute_result"
    }
   ],
   "source": [
    "df['type'].head(20)"
   ]
  },
  {
   "cell_type": "code",
   "execution_count": null,
   "metadata": {},
   "outputs": [],
   "source": []
  }
 ],
 "metadata": {
  "kernelspec": {
   "display_name": "Python 3",
   "language": "python",
   "name": "python3"
  },
  "language_info": {
   "codemirror_mode": {
    "name": "ipython",
    "version": 3
   },
   "file_extension": ".py",
   "mimetype": "text/x-python",
   "name": "python",
   "nbconvert_exporter": "python",
   "pygments_lexer": "ipython3",
   "version": "3.6.3"
  }
 },
 "nbformat": 4,
 "nbformat_minor": 2
}
