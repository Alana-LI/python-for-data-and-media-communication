{
 "cells": [
  {
   "cell_type": "code",
   "execution_count": 1,
   "metadata": {},
   "outputs": [],
   "source": [
    "import pandas as pd\n",
    "df = pd.read_csv('error_sample.csv')"
   ]
  },
  {
   "cell_type": "markdown",
   "metadata": {},
   "source": [
    "## Error 1 : Header error\n",
    "Solution: rename function"
   ]
  },
  {
   "cell_type": "code",
   "execution_count": 2,
   "metadata": {},
   "outputs": [
    {
     "data": {
      "text/html": [
       "<div>\n",
       "<style scoped>\n",
       "    .dataframe tbody tr th:only-of-type {\n",
       "        vertical-align: middle;\n",
       "    }\n",
       "\n",
       "    .dataframe tbody tr th {\n",
       "        vertical-align: top;\n",
       "    }\n",
       "\n",
       "    .dataframe thead th {\n",
       "        text-align: right;\n",
       "    }\n",
       "</style>\n",
       "<table border=\"1\" class=\"dataframe\">\n",
       "  <thead>\n",
       "    <tr style=\"text-align: right;\">\n",
       "      <th></th>\n",
       "      <th>name</th>\n",
       "      <th>price</th>\n",
       "      <th>likes</th>\n",
       "      <th>country</th>\n",
       "      <th>type</th>\n",
       "      <th>location</th>\n",
       "      <th>review</th>\n",
       "      <th>bookmark</th>\n",
       "      <th>discount_info</th>\n",
       "    </tr>\n",
       "  </thead>\n",
       "  <tbody>\n",
       "    <tr>\n",
       "      <th>0</th>\n",
       "      <td>LAB EAT Restaurant &amp; Bar</td>\n",
       "      <td>尖沙咀金巴利道87-89號僑豐大厦地下1-2號舖</td>\n",
       "      <td>$201-400</td>\n",
       "      <td>西式</td>\n",
       "      <td>海鮮</td>\n",
       "      <td>436</td>\n",
       "      <td>(565 食評)</td>\n",
       "      <td>50744</td>\n",
       "      <td>網上訂座可享75折優惠</td>\n",
       "    </tr>\n",
       "    <tr>\n",
       "      <th>1</th>\n",
       "      <td>Shine</td>\n",
       "      <td>尖沙咀北京道12A號太子集團中心6樓</td>\n",
       "      <td>$201-400</td>\n",
       "      <td>西式</td>\n",
       "      <td>酒</td>\n",
       "      <td>693</td>\n",
       "      <td>(777 食評)</td>\n",
       "      <td>21136</td>\n",
       "      <td>送 25里數 / 30積分</td>\n",
       "    </tr>\n",
       "    <tr>\n",
       "      <th>2</th>\n",
       "      <td>Yadllie Plate</td>\n",
       "      <td>旺角西洋菜街1號兆萬中心11樓</td>\n",
       "      <td>$101-200</td>\n",
       "      <td>韩国菜</td>\n",
       "      <td>NaN</td>\n",
       "      <td>487</td>\n",
       "      <td>(630 食評)</td>\n",
       "      <td>27681</td>\n",
       "      <td>早鳥及消夜時段訂座 可享全單八折優惠</td>\n",
       "    </tr>\n",
       "    <tr>\n",
       "      <th>3</th>\n",
       "      <td>漁獲浜燒 Toretore Hamayaki</td>\n",
       "      <td>銅鑼灣軒尼詩道525號澳門逸園中心18樓</td>\n",
       "      <td>$201-400</td>\n",
       "      <td>日本菜</td>\n",
       "      <td>日本菜</td>\n",
       "      <td>503</td>\n",
       "      <td>(524 食評)</td>\n",
       "      <td>19647</td>\n",
       "      <td>送 25里數 / 30積分</td>\n",
       "    </tr>\n",
       "    <tr>\n",
       "      <th>4</th>\n",
       "      <td>心之食堂 Love Cafe</td>\n",
       "      <td>銅鑼灣耀華街3號百樂中心12樓1203室</td>\n",
       "      <td>$201-400</td>\n",
       "      <td>日本菜</td>\n",
       "      <td>NaN</td>\n",
       "      <td>490</td>\n",
       "      <td>(545 食評)</td>\n",
       "      <td>6580</td>\n",
       "      <td>全單85折</td>\n",
       "    </tr>\n",
       "  </tbody>\n",
       "</table>\n",
       "</div>"
      ],
      "text/plain": [
       "                       name                     price     likes country type  \\\n",
       "0  LAB EAT Restaurant & Bar  尖沙咀金巴利道87-89號僑豐大厦地下1-2號舖  $201-400      西式   海鮮   \n",
       "1                     Shine        尖沙咀北京道12A號太子集團中心6樓  $201-400      西式    酒   \n",
       "2             Yadllie Plate           旺角西洋菜街1號兆萬中心11樓  $101-200     韩国菜  NaN   \n",
       "3    漁獲浜燒 Toretore Hamayaki      銅鑼灣軒尼詩道525號澳門逸園中心18樓  $201-400     日本菜  日本菜   \n",
       "4            心之食堂 Love Cafe      銅鑼灣耀華街3號百樂中心12樓1203室  $201-400     日本菜  NaN   \n",
       "\n",
       "  location    review  bookmark       discount_info  \n",
       "0      436  (565 食評)     50744         網上訂座可享75折優惠  \n",
       "1      693  (777 食評)     21136       送 25里數 / 30積分  \n",
       "2      487  (630 食評)     27681  早鳥及消夜時段訂座 可享全單八折優惠  \n",
       "3      503  (524 食評)     19647       送 25里數 / 30積分  \n",
       "4      490  (545 食評)      6580               全單85折  "
      ]
     },
     "execution_count": 2,
     "metadata": {},
     "output_type": "execute_result"
    }
   ],
   "source": [
    "df.head()"
   ]
  },
  {
   "cell_type": "code",
   "execution_count": 3,
   "metadata": {},
   "outputs": [
    {
     "data": {
      "text/html": [
       "<div>\n",
       "<style scoped>\n",
       "    .dataframe tbody tr th:only-of-type {\n",
       "        vertical-align: middle;\n",
       "    }\n",
       "\n",
       "    .dataframe tbody tr th {\n",
       "        vertical-align: top;\n",
       "    }\n",
       "\n",
       "    .dataframe thead th {\n",
       "        text-align: right;\n",
       "    }\n",
       "</style>\n",
       "<table border=\"1\" class=\"dataframe\">\n",
       "  <thead>\n",
       "    <tr style=\"text-align: right;\">\n",
       "      <th></th>\n",
       "      <th>name</th>\n",
       "      <th>location</th>\n",
       "      <th>prices</th>\n",
       "      <th>country</th>\n",
       "      <th>type</th>\n",
       "      <th>likes</th>\n",
       "      <th>review</th>\n",
       "      <th>bookmark</th>\n",
       "      <th>discount_info</th>\n",
       "    </tr>\n",
       "  </thead>\n",
       "  <tbody>\n",
       "    <tr>\n",
       "      <th>0</th>\n",
       "      <td>LAB EAT Restaurant &amp; Bar</td>\n",
       "      <td>尖沙咀金巴利道87-89號僑豐大厦地下1-2號舖</td>\n",
       "      <td>$201-400</td>\n",
       "      <td>西式</td>\n",
       "      <td>海鮮</td>\n",
       "      <td>436</td>\n",
       "      <td>(565 食評)</td>\n",
       "      <td>50744</td>\n",
       "      <td>網上訂座可享75折優惠</td>\n",
       "    </tr>\n",
       "    <tr>\n",
       "      <th>1</th>\n",
       "      <td>Shine</td>\n",
       "      <td>尖沙咀北京道12A號太子集團中心6樓</td>\n",
       "      <td>$201-400</td>\n",
       "      <td>西式</td>\n",
       "      <td>酒</td>\n",
       "      <td>693</td>\n",
       "      <td>(777 食評)</td>\n",
       "      <td>21136</td>\n",
       "      <td>送 25里數 / 30積分</td>\n",
       "    </tr>\n",
       "    <tr>\n",
       "      <th>2</th>\n",
       "      <td>Yadllie Plate</td>\n",
       "      <td>旺角西洋菜街1號兆萬中心11樓</td>\n",
       "      <td>$101-200</td>\n",
       "      <td>韩国菜</td>\n",
       "      <td>NaN</td>\n",
       "      <td>487</td>\n",
       "      <td>(630 食評)</td>\n",
       "      <td>27681</td>\n",
       "      <td>早鳥及消夜時段訂座 可享全單八折優惠</td>\n",
       "    </tr>\n",
       "    <tr>\n",
       "      <th>3</th>\n",
       "      <td>漁獲浜燒 Toretore Hamayaki</td>\n",
       "      <td>銅鑼灣軒尼詩道525號澳門逸園中心18樓</td>\n",
       "      <td>$201-400</td>\n",
       "      <td>日本菜</td>\n",
       "      <td>日本菜</td>\n",
       "      <td>503</td>\n",
       "      <td>(524 食評)</td>\n",
       "      <td>19647</td>\n",
       "      <td>送 25里數 / 30積分</td>\n",
       "    </tr>\n",
       "    <tr>\n",
       "      <th>4</th>\n",
       "      <td>心之食堂 Love Cafe</td>\n",
       "      <td>銅鑼灣耀華街3號百樂中心12樓1203室</td>\n",
       "      <td>$201-400</td>\n",
       "      <td>日本菜</td>\n",
       "      <td>NaN</td>\n",
       "      <td>490</td>\n",
       "      <td>(545 食評)</td>\n",
       "      <td>6580</td>\n",
       "      <td>全單85折</td>\n",
       "    </tr>\n",
       "  </tbody>\n",
       "</table>\n",
       "</div>"
      ],
      "text/plain": [
       "                       name                  location    prices country type  \\\n",
       "0  LAB EAT Restaurant & Bar  尖沙咀金巴利道87-89號僑豐大厦地下1-2號舖  $201-400      西式   海鮮   \n",
       "1                     Shine        尖沙咀北京道12A號太子集團中心6樓  $201-400      西式    酒   \n",
       "2             Yadllie Plate           旺角西洋菜街1號兆萬中心11樓  $101-200     韩国菜  NaN   \n",
       "3    漁獲浜燒 Toretore Hamayaki      銅鑼灣軒尼詩道525號澳門逸園中心18樓  $201-400     日本菜  日本菜   \n",
       "4            心之食堂 Love Cafe      銅鑼灣耀華街3號百樂中心12樓1203室  $201-400     日本菜  NaN   \n",
       "\n",
       "  likes    review  bookmark       discount_info  \n",
       "0   436  (565 食評)     50744         網上訂座可享75折優惠  \n",
       "1   693  (777 食評)     21136       送 25里數 / 30積分  \n",
       "2   487  (630 食評)     27681  早鳥及消夜時段訂座 可享全單八折優惠  \n",
       "3   503  (524 食評)     19647       送 25里數 / 30積分  \n",
       "4   490  (545 食評)      6580               全單85折  "
      ]
     },
     "execution_count": 3,
     "metadata": {},
     "output_type": "execute_result"
    }
   ],
   "source": [
    "df.rename(columns={'price':'location','likes':'prices','location':'likes'}, inplace=True)\n",
    "df.head()"
   ]
  },
  {
   "cell_type": "markdown",
   "metadata": {},
   "source": [
    "## Error 2: Duplicates error\n",
    "\n",
    "solution: drop duplicates"
   ]
  },
  {
   "cell_type": "code",
   "execution_count": 4,
   "metadata": {},
   "outputs": [
    {
     "data": {
      "text/plain": [
       "932"
      ]
     },
     "execution_count": 4,
     "metadata": {},
     "output_type": "execute_result"
    }
   ],
   "source": [
    "len(df)"
   ]
  },
  {
   "cell_type": "code",
   "execution_count": 5,
   "metadata": {},
   "outputs": [],
   "source": [
    "df = df.drop_duplicates()"
   ]
  },
  {
   "cell_type": "code",
   "execution_count": 6,
   "metadata": {},
   "outputs": [
    {
     "data": {
      "text/plain": [
       "519"
      ]
     },
     "execution_count": 6,
     "metadata": {},
     "output_type": "execute_result"
    }
   ],
   "source": [
    "len(df)"
   ]
  },
  {
   "cell_type": "markdown",
   "metadata": {},
   "source": [
    "## Error 2 : Data format error\n",
    "solution: replace function"
   ]
  },
  {
   "cell_type": "code",
   "execution_count": 7,
   "metadata": {},
   "outputs": [
    {
     "data": {
      "text/plain": [
       "$101-200    247\n",
       "$201-400    181\n",
       "$51-100      57\n",
       "$401-800     28\n",
       "$50以下         3\n",
       "$101.00       3\n",
       "Name: prices, dtype: int64"
      ]
     },
     "execution_count": 7,
     "metadata": {},
     "output_type": "execute_result"
    }
   ],
   "source": [
    "df['prices'].value_counts()"
   ]
  },
  {
   "cell_type": "code",
   "execution_count": 8,
   "metadata": {},
   "outputs": [
    {
     "data": {
      "text/plain": [
       "$101-200    250\n",
       "$201-400    181\n",
       "$51-100      57\n",
       "$401-800     28\n",
       "$50以下         3\n",
       "Name: prices, dtype: int64"
      ]
     },
     "execution_count": 8,
     "metadata": {},
     "output_type": "execute_result"
    }
   ],
   "source": [
    "df['prices'].replace({'$101.00':'$101-200'}).value_counts()"
   ]
  },
  {
   "cell_type": "markdown",
   "metadata": {},
   "source": [
    "## Error 3 : Format/Unity error\n",
    "Solution: mapping & apply"
   ]
  },
  {
   "cell_type": "code",
   "execution_count": 9,
   "metadata": {},
   "outputs": [
    {
     "data": {
      "text/plain": [
       "西式          102\n",
       "日本菜          87\n",
       "意大利菜         45\n",
       "多國菜          43\n",
       "港式           37\n",
       "泰國菜          28\n",
       "粵菜 (廣東)      27\n",
       "韓國菜          25\n",
       "法國菜          18\n",
       "美國菜          16\n",
       "西班牙菜         11\n",
       "川菜 (四川)      10\n",
       "台灣菜           9\n",
       "意大利           8\n",
       "越南菜           8\n",
       "德國菜           7\n",
       "印度菜           7\n",
       "英國菜           6\n",
       "比利時菜          4\n",
       "京菜 (官府菜)      3\n",
       "韩国菜           3\n",
       "京川滬           2\n",
       "澳洲菜           2\n",
       "潮州菜           1\n",
       "俄國菜           1\n",
       "荷蘭菜           1\n",
       "土耳其菜          1\n",
       "蒙古菜           1\n",
       "滬菜 (上海)       1\n",
       "秘魯菜           1\n",
       "印尼菜           1\n",
       "湘菜 (湖南)       1\n",
       "新加坡菜          1\n",
       "葡國菜           1\n",
       "Name: country, dtype: int64"
      ]
     },
     "execution_count": 9,
     "metadata": {},
     "output_type": "execute_result"
    }
   ],
   "source": [
    "df['country'].value_counts()"
   ]
  },
  {
   "cell_type": "code",
   "execution_count": 10,
   "metadata": {},
   "outputs": [
    {
     "data": {
      "text/plain": [
       "西式          102\n",
       "日本菜          87\n",
       "意大利菜         53\n",
       "多國菜          43\n",
       "港式           37\n",
       "韓國菜          28\n",
       "泰國菜          28\n",
       "粵菜 (廣東)      27\n",
       "法國菜          18\n",
       "美國菜          16\n",
       "西班牙菜         11\n",
       "川菜 (四川)      10\n",
       "台灣菜           9\n",
       "越南菜           8\n",
       "印度菜           7\n",
       "德國菜           7\n",
       "英國菜           6\n",
       "比利時菜          4\n",
       "京菜 (官府菜)      3\n",
       "澳洲菜           2\n",
       "京川滬           2\n",
       "秘魯菜           1\n",
       "蒙古菜           1\n",
       "印尼菜           1\n",
       "湘菜 (湖南)       1\n",
       "新加坡菜          1\n",
       "土耳其菜          1\n",
       "滬菜 (上海)       1\n",
       "荷蘭菜           1\n",
       "俄國菜           1\n",
       "潮州菜           1\n",
       "葡國菜           1\n",
       "Name: country, dtype: int64"
      ]
     },
     "execution_count": 10,
     "metadata": {},
     "output_type": "execute_result"
    }
   ],
   "source": [
    "mapping={\n",
    "    '意大利':'意大利菜',\n",
    "    '韩国菜':'韓國菜'\n",
    "}\n",
    "def cleaning(e):\n",
    "    return mapping.get(e,e)\n",
    "df['country'].apply(cleaning).value_counts()"
   ]
  },
  {
   "cell_type": "markdown",
   "metadata": {},
   "source": [
    "## Error 4 : Data range error\n",
    "Solution: check out the real value in the source and replace"
   ]
  },
  {
   "cell_type": "code",
   "execution_count": 11,
   "metadata": {},
   "outputs": [
    {
     "data": {
      "text/plain": [
       "count       519.000000\n",
       "mean       7859.811175\n",
       "std       11858.187864\n",
       "min           5.000000\n",
       "25%        2626.000000\n",
       "50%        5113.000000\n",
       "75%       10634.500000\n",
       "max      221502.000000\n",
       "Name: bookmark, dtype: float64"
      ]
     },
     "execution_count": 11,
     "metadata": {},
     "output_type": "execute_result"
    }
   ],
   "source": [
    "df['bookmark'].describe()"
   ]
  },
  {
   "cell_type": "code",
   "execution_count": 12,
   "metadata": {},
   "outputs": [
    {
     "data": {
      "text/html": [
       "<div>\n",
       "<style scoped>\n",
       "    .dataframe tbody tr th:only-of-type {\n",
       "        vertical-align: middle;\n",
       "    }\n",
       "\n",
       "    .dataframe tbody tr th {\n",
       "        vertical-align: top;\n",
       "    }\n",
       "\n",
       "    .dataframe thead th {\n",
       "        text-align: right;\n",
       "    }\n",
       "</style>\n",
       "<table border=\"1\" class=\"dataframe\">\n",
       "  <thead>\n",
       "    <tr style=\"text-align: right;\">\n",
       "      <th></th>\n",
       "      <th>name</th>\n",
       "      <th>location</th>\n",
       "      <th>prices</th>\n",
       "      <th>country</th>\n",
       "      <th>type</th>\n",
       "      <th>likes</th>\n",
       "      <th>review</th>\n",
       "      <th>bookmark</th>\n",
       "      <th>discount_info</th>\n",
       "    </tr>\n",
       "  </thead>\n",
       "  <tbody>\n",
       "    <tr>\n",
       "      <th>922</th>\n",
       "      <td>Shoreditch</td>\n",
       "      <td>西環堅尼地城吉席街18號地舖</td>\n",
       "      <td>$201-400</td>\n",
       "      <td>英國菜</td>\n",
       "      <td>扒房</td>\n",
       "      <td>36</td>\n",
       "      <td>(58 食評)</td>\n",
       "      <td>5</td>\n",
       "      <td>訂座可半價享用Love Lobster</td>\n",
       "    </tr>\n",
       "  </tbody>\n",
       "</table>\n",
       "</div>"
      ],
      "text/plain": [
       "           name        location    prices country type likes   review  \\\n",
       "922  Shoreditch  西環堅尼地城吉席街18號地舖  $201-400     英國菜   扒房    36  (58 食評)   \n",
       "\n",
       "     bookmark        discount_info  \n",
       "922         5  訂座可半價享用Love Lobster  "
      ]
     },
     "execution_count": 12,
     "metadata": {},
     "output_type": "execute_result"
    }
   ],
   "source": [
    "df[df['bookmark'] == 5]"
   ]
  },
  {
   "cell_type": "code",
   "execution_count": 13,
   "metadata": {},
   "outputs": [
    {
     "data": {
      "text/html": [
       "<div>\n",
       "<style scoped>\n",
       "    .dataframe tbody tr th:only-of-type {\n",
       "        vertical-align: middle;\n",
       "    }\n",
       "\n",
       "    .dataframe tbody tr th {\n",
       "        vertical-align: top;\n",
       "    }\n",
       "\n",
       "    .dataframe thead th {\n",
       "        text-align: right;\n",
       "    }\n",
       "</style>\n",
       "<table border=\"1\" class=\"dataframe\">\n",
       "  <thead>\n",
       "    <tr style=\"text-align: right;\">\n",
       "      <th></th>\n",
       "      <th>name</th>\n",
       "      <th>location</th>\n",
       "      <th>prices</th>\n",
       "      <th>country</th>\n",
       "      <th>type</th>\n",
       "      <th>likes</th>\n",
       "      <th>review</th>\n",
       "      <th>bookmark</th>\n",
       "      <th>discount_info</th>\n",
       "    </tr>\n",
       "  </thead>\n",
       "  <tbody>\n",
       "    <tr>\n",
       "      <th>40</th>\n",
       "      <td>慢煮工業 Under Vacuum The Steak</td>\n",
       "      <td>太子太子道西91號地舖</td>\n",
       "      <td>$51-100</td>\n",
       "      <td>西式</td>\n",
       "      <td>三文治</td>\n",
       "      <td>258</td>\n",
       "      <td>(388 食評)</td>\n",
       "      <td>221502</td>\n",
       "      <td>送 25里數 / 30積分</td>\n",
       "    </tr>\n",
       "  </tbody>\n",
       "</table>\n",
       "</div>"
      ],
      "text/plain": [
       "                           name     location   prices country type likes  \\\n",
       "40  慢煮工業 Under Vacuum The Steak  太子太子道西91號地舖  $51-100      西式  三文治   258   \n",
       "\n",
       "      review  bookmark  discount_info  \n",
       "40  (388 食評)    221502  送 25里數 / 30積分  "
      ]
     },
     "execution_count": 13,
     "metadata": {},
     "output_type": "execute_result"
    }
   ],
   "source": [
    "df[df['bookmark'] == 221502]"
   ]
  },
  {
   "cell_type": "markdown",
   "metadata": {},
   "source": [
    "## Error 5 : None type error\n",
    "Solution: replace the value with fillna() function"
   ]
  },
  {
   "cell_type": "code",
   "execution_count": 14,
   "metadata": {},
   "outputs": [
    {
     "data": {
      "text/plain": [
       "0         海鮮\n",
       "1          酒\n",
       "2        NaN\n",
       "3        日本菜\n",
       "4        NaN\n",
       "5         扒房\n",
       "6      甜品/糖水\n",
       "7        NaN\n",
       "8     樓上cafe\n",
       "9       韓式炸雞\n",
       "10       NaN\n",
       "11        烤肉\n",
       "12     壽司/刺身\n",
       "13     甜品/糖水\n",
       "14       NaN\n",
       "15       爐端燒\n",
       "16     甜品/糖水\n",
       "17       NaN\n",
       "18       NaN\n",
       "19     甜品/糖水\n",
       "Name: type, dtype: object"
      ]
     },
     "execution_count": 14,
     "metadata": {},
     "output_type": "execute_result"
    }
   ],
   "source": [
    "df['type'].head(20)"
   ]
  },
  {
   "cell_type": "code",
   "execution_count": 15,
   "metadata": {},
   "outputs": [],
   "source": [
    "df['type'] = df['type'].fillna('')"
   ]
  },
  {
   "cell_type": "code",
   "execution_count": 16,
   "metadata": {},
   "outputs": [
    {
     "data": {
      "text/plain": [
       "0         海鮮\n",
       "1          酒\n",
       "2           \n",
       "3        日本菜\n",
       "4           \n",
       "5         扒房\n",
       "6      甜品/糖水\n",
       "7           \n",
       "8     樓上cafe\n",
       "9       韓式炸雞\n",
       "10          \n",
       "11        烤肉\n",
       "12     壽司/刺身\n",
       "13     甜品/糖水\n",
       "14          \n",
       "15       爐端燒\n",
       "16     甜品/糖水\n",
       "17          \n",
       "18          \n",
       "19     甜品/糖水\n",
       "Name: type, dtype: object"
      ]
     },
     "execution_count": 16,
     "metadata": {},
     "output_type": "execute_result"
    }
   ],
   "source": [
    "df['type'].head(20)"
   ]
  },
  {
   "cell_type": "markdown",
   "metadata": {},
   "source": [
    "## Error 6 : Type error\n",
    "solution: type() to checkout; convert type; replace error  "
   ]
  },
  {
   "cell_type": "code",
   "execution_count": 17,
   "metadata": {},
   "outputs": [
    {
     "data": {
      "text/plain": [
       "<matplotlib.axes._subplots.AxesSubplot at 0x118ad42e8>"
      ]
     },
     "execution_count": 17,
     "metadata": {},
     "output_type": "execute_result"
    },
    {
     "data": {
      "image/png": "[encoded data removed]",
      "text/plain": [
       "<Figure size 432x288 with 1 Axes>"
      ]
     },
     "metadata": {
      "needs_background": "light"
     },
     "output_type": "display_data"
    }
   ],
   "source": [
    "%matplotlib inline\n",
    "df['likes'].hist(bins=20)\n",
    "#type(df[likes]0) to check out whether the type is wrong"
   ]
  },
  {
   "cell_type": "code",
   "execution_count": 18,
   "metadata": {},
   "outputs": [
    {
     "ename": "ValueError",
     "evalue": "Unable to parse string \"372个\" at position 62",
     "output_type": "error",
     "traceback": [
      "\u001b[0;31m---------------------------------------------------------------------------\u001b[0m",
      "\u001b[0;31mValueError\u001b[0m                                Traceback (most recent call last)",
      "\u001b[0;32mpandas/_libs/src/inference.pyx\u001b[0m in \u001b[0;36mpandas._libs.lib.maybe_convert_numeric\u001b[0;34m()\u001b[0m\n",
      "\u001b[0;31mValueError\u001b[0m: Unable to parse string \"372个\"",
      "\nDuring handling of the above exception, another exception occurred:\n",
      "\u001b[0;31mValueError\u001b[0m                                Traceback (most recent call last)",
      "\u001b[0;32m<ipython-input-18-1c75aa0961a5>\u001b[0m in \u001b[0;36m<module>\u001b[0;34m\u001b[0m\n\u001b[0;32m----> 1\u001b[0;31m \u001b[0mpd\u001b[0m\u001b[0;34m.\u001b[0m\u001b[0mto_numeric\u001b[0m\u001b[0;34m(\u001b[0m\u001b[0mdf\u001b[0m\u001b[0;34m[\u001b[0m\u001b[0;34m'likes'\u001b[0m\u001b[0;34m]\u001b[0m\u001b[0;34m)\u001b[0m\u001b[0;34m\u001b[0m\u001b[0m\n\u001b[0m",
      "\u001b[0;32m~/Desktop/Chicoxyc/venv/lib/python3.6/site-packages/pandas/core/tools/numeric.py\u001b[0m in \u001b[0;36mto_numeric\u001b[0;34m(arg, errors, downcast)\u001b[0m\n\u001b[1;32m    131\u001b[0m             \u001b[0mcoerce_numeric\u001b[0m \u001b[0;34m=\u001b[0m \u001b[0;32mFalse\u001b[0m \u001b[0;32mif\u001b[0m \u001b[0merrors\u001b[0m \u001b[0;32min\u001b[0m \u001b[0;34m(\u001b[0m\u001b[0;34m'ignore'\u001b[0m\u001b[0;34m,\u001b[0m \u001b[0;34m'raise'\u001b[0m\u001b[0;34m)\u001b[0m \u001b[0;32melse\u001b[0m \u001b[0;32mTrue\u001b[0m\u001b[0;34m\u001b[0m\u001b[0m\n\u001b[1;32m    132\u001b[0m             values = lib.maybe_convert_numeric(values, set(),\n\u001b[0;32m--> 133\u001b[0;31m                                                coerce_numeric=coerce_numeric)\n\u001b[0m\u001b[1;32m    134\u001b[0m \u001b[0;34m\u001b[0m\u001b[0m\n\u001b[1;32m    135\u001b[0m     \u001b[0;32mexcept\u001b[0m \u001b[0mException\u001b[0m\u001b[0;34m:\u001b[0m\u001b[0;34m\u001b[0m\u001b[0m\n",
      "\u001b[0;32mpandas/_libs/src/inference.pyx\u001b[0m in \u001b[0;36mpandas._libs.lib.maybe_convert_numeric\u001b[0;34m()\u001b[0m\n",
      "\u001b[0;31mValueError\u001b[0m: Unable to parse string \"372个\" at position 62"
     ]
    }
   ],
   "source": [
    "pd.to_numeric(df['likes']) #convert series string to nunmber "
   ]
  },
  {
   "cell_type": "code",
   "execution_count": 19,
   "metadata": {},
   "outputs": [
    {
     "data": {
      "text/html": [
       "<div>\n",
       "<style scoped>\n",
       "    .dataframe tbody tr th:only-of-type {\n",
       "        vertical-align: middle;\n",
       "    }\n",
       "\n",
       "    .dataframe tbody tr th {\n",
       "        vertical-align: top;\n",
       "    }\n",
       "\n",
       "    .dataframe thead th {\n",
       "        text-align: right;\n",
       "    }\n",
       "</style>\n",
       "<table border=\"1\" class=\"dataframe\">\n",
       "  <thead>\n",
       "    <tr style=\"text-align: right;\">\n",
       "      <th></th>\n",
       "      <th>name</th>\n",
       "      <th>location</th>\n",
       "      <th>prices</th>\n",
       "      <th>country</th>\n",
       "      <th>type</th>\n",
       "      <th>likes</th>\n",
       "      <th>review</th>\n",
       "      <th>bookmark</th>\n",
       "      <th>discount_info</th>\n",
       "    </tr>\n",
       "  </thead>\n",
       "  <tbody>\n",
       "    <tr>\n",
       "      <th>62</th>\n",
       "      <td>泰聚 Thai Gather Restaurant &amp; Bar</td>\n",
       "      <td>太子花園街239號嘉慶苑地下</td>\n",
       "      <td>$101-200</td>\n",
       "      <td>泰國菜</td>\n",
       "      <td>咖喱</td>\n",
       "      <td>372个</td>\n",
       "      <td>(259 食評)</td>\n",
       "      <td>5434</td>\n",
       "      <td>15% Off</td>\n",
       "    </tr>\n",
       "    <tr>\n",
       "      <th>272</th>\n",
       "      <td>Cubus 28</td>\n",
       "      <td>銅鑼灣開平道1號Cubus 28樓</td>\n",
       "      <td>$101-200</td>\n",
       "      <td>粵菜 (廣東)</td>\n",
       "      <td>酒吧</td>\n",
       "      <td>NaN</td>\n",
       "      <td>NaN</td>\n",
       "      <td>29</td>\n",
       "      <td>全單85折</td>\n",
       "    </tr>\n",
       "  </tbody>\n",
       "</table>\n",
       "</div>"
      ],
      "text/plain": [
       "                                name           location    prices  country  \\\n",
       "62   泰聚 Thai Gather Restaurant & Bar     太子花園街239號嘉慶苑地下  $101-200      泰國菜   \n",
       "272                         Cubus 28  銅鑼灣開平道1號Cubus 28樓  $101-200  粵菜 (廣東)   \n",
       "\n",
       "    type likes    review  bookmark discount_info  \n",
       "62    咖喱  372个  (259 食評)      5434       15% Off  \n",
       "272   酒吧   NaN       NaN        29         全單85折  "
      ]
     },
     "execution_count": 19,
     "metadata": {},
     "output_type": "execute_result"
    }
   ],
   "source": [
    "df[pd.to_numeric(df.likes, errors='coerce').isnull()] #filter out the error value"
   ]
  },
  {
   "cell_type": "code",
   "execution_count": 20,
   "metadata": {},
   "outputs": [],
   "source": [
    "df['likes'] = df['likes'].replace({'372个':'372','NaN':'0'})"
   ]
  },
  {
   "cell_type": "code",
   "execution_count": 21,
   "metadata": {},
   "outputs": [],
   "source": [
    "df['likes'] = pd.to_numeric(df['likes'])"
   ]
  },
  {
   "cell_type": "code",
   "execution_count": 22,
   "metadata": {},
   "outputs": [
    {
     "data": {
      "text/plain": [
       "<matplotlib.axes._subplots.AxesSubplot at 0x12984a5f8>"
      ]
     },
     "execution_count": 22,
     "metadata": {},
     "output_type": "execute_result"
    },
    {
     "data": {
      "image/png": "[encoded data removed]",
      "text/plain": [
       "<Figure size 432x288 with 1 Axes>"
      ]
     },
     "metadata": {
      "needs_background": "light"
     },
     "output_type": "display_data"
    }
   ],
   "source": [
    "%matplotlib inline\n",
    "df['likes'].hist(bins=20)"
   ]
  },
  {
   "cell_type": "code",
   "execution_count": null,
   "metadata": {},
   "outputs": [],
   "source": []
  }
 ],
 "metadata": {
  "kernelspec": {
   "display_name": "Python 3",
   "language": "python",
   "name": "python3"
  },
  "language_info": {
   "codemirror_mode": {
    "name": "ipython",
    "version": 3
   },
   "file_extension": ".py",
   "mimetype": "text/x-python",
   "name": "python",
   "nbconvert_exporter": "python",
   "pygments_lexer": "ipython3",
   "version": "3.6.3"
  }
 },
 "nbformat": 4,
 "nbformat_minor": 2
}
