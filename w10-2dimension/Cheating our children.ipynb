{
 "cells": [
  {
   "cell_type": "markdown",
   "metadata": {},
   "source": [
    "Data downloaded from:\n",
    "* www.jenster.com/nottingham.xlsx\n",
    "* www.jenster.com/index.xlsx\n",
    "\n",
    "Those data are part of a workshop called \"descriptive analysis\" conducted by Jenifer on GICJ2017 in South Africa"
   ]
  },
  {
   "cell_type": "markdown",
   "metadata": {},
   "source": [
    "## Cheating our children"
   ]
  },
  {
   "cell_type": "markdown",
   "metadata": {},
   "source": [
    "Read the related news here:\n",
    "\n",
    "* http://www.ajc.com/news/cheating-our-children/scores/"
   ]
  },
  {
   "cell_type": "code",
   "execution_count": 1,
   "metadata": {},
   "outputs": [],
   "source": [
    "import pandas as pd\n",
    "from matplotlib import pyplot as plt\n",
    "import seaborn as sns\n",
    "import numpy as np"
   ]
  },
  {
   "cell_type": "code",
   "execution_count": 2,
   "metadata": {},
   "outputs": [],
   "source": [
    "df = pd.read_excel('nottingham.xlsx')"
   ]
  },
  {
   "cell_type": "code",
   "execution_count": 3,
   "metadata": {},
   "outputs": [
    {
     "data": {
      "text/html": [
       "<div>\n",
       "<style scoped>\n",
       "    .dataframe tbody tr th:only-of-type {\n",
       "        vertical-align: middle;\n",
       "    }\n",
       "\n",
       "    .dataframe tbody tr th {\n",
       "        vertical-align: top;\n",
       "    }\n",
       "\n",
       "    .dataframe thead th {\n",
       "        text-align: right;\n",
       "    }\n",
       "</style>\n",
       "<table border=\"1\" class=\"dataframe\">\n",
       "  <thead>\n",
       "    <tr style=\"text-align: right;\">\n",
       "      <th></th>\n",
       "      <th>RecType</th>\n",
       "      <th>Schoolme</th>\n",
       "      <th>Address1</th>\n",
       "      <th>Address2</th>\n",
       "      <th>Address3</th>\n",
       "      <th>Town</th>\n",
       "      <th>PostCode</th>\n",
       "      <th>TelNum</th>\n",
       "      <th>SchoolType</th>\n",
       "      <th>TotPup</th>\n",
       "      <th>TotElig</th>\n",
       "      <th>AVG_ENG_MATH_SCORE_07</th>\n",
       "      <th>AVG_ENG_MATH_SCORE_08</th>\n",
       "      <th>AVG_ENG_MATH_SCORE_09</th>\n",
       "      <th>AVG_ENG_MATH_SCORE_10</th>\n",
       "      <th>P_ABSENT_PERSIST</th>\n",
       "    </tr>\n",
       "  </thead>\n",
       "  <tbody>\n",
       "    <tr>\n",
       "      <th>0</th>\n",
       "      <td>1</td>\n",
       "      <td>Claremont Primary and Nursery School</td>\n",
       "      <td>Claremont Road</td>\n",
       "      <td>Off Huckll Road</td>\n",
       "      <td></td>\n",
       "      <td>Nottingham</td>\n",
       "      <td>NG5 1BH</td>\n",
       "      <td>0115 9156870</td>\n",
       "      <td>CY</td>\n",
       "      <td>337</td>\n",
       "      <td>49.0</td>\n",
       "      <td>25.1</td>\n",
       "      <td>26.0</td>\n",
       "      <td>26.2</td>\n",
       "      <td>26.4</td>\n",
       "      <td>11.3</td>\n",
       "    </tr>\n",
       "    <tr>\n",
       "      <th>1</th>\n",
       "      <td>1</td>\n",
       "      <td>Windmill Primary &amp; Nursery School</td>\n",
       "      <td>Sneinton Boulevard</td>\n",
       "      <td></td>\n",
       "      <td></td>\n",
       "      <td>Nottingham</td>\n",
       "      <td>NG2 4FZ</td>\n",
       "      <td>0115 9150195</td>\n",
       "      <td>CY</td>\n",
       "      <td>442</td>\n",
       "      <td>86.0</td>\n",
       "      <td>24.9</td>\n",
       "      <td>25.2</td>\n",
       "      <td>23.9</td>\n",
       "      <td>24.7</td>\n",
       "      <td>8.6</td>\n",
       "    </tr>\n",
       "    <tr>\n",
       "      <th>2</th>\n",
       "      <td>1</td>\n",
       "      <td>Stanstead Nursery and Primary School</td>\n",
       "      <td>Stanstead Avenue</td>\n",
       "      <td>Rise Park</td>\n",
       "      <td>Stanstead Avenue</td>\n",
       "      <td>Nottingham</td>\n",
       "      <td>NG5 5BL</td>\n",
       "      <td>0115 9156300</td>\n",
       "      <td>CY</td>\n",
       "      <td>198</td>\n",
       "      <td>24.0</td>\n",
       "      <td>28.0</td>\n",
       "      <td>25.5</td>\n",
       "      <td>27.1</td>\n",
       "      <td>24.7</td>\n",
       "      <td>7.7</td>\n",
       "    </tr>\n",
       "    <tr>\n",
       "      <th>3</th>\n",
       "      <td>1</td>\n",
       "      <td>Nottingham Academy</td>\n",
       "      <td>Sneinton Boulevard</td>\n",
       "      <td></td>\n",
       "      <td>Sneinton</td>\n",
       "      <td>Nottingham</td>\n",
       "      <td>NG2 4GL</td>\n",
       "      <td>0115 9103200</td>\n",
       "      <td>AC</td>\n",
       "      <td>2170</td>\n",
       "      <td>68.0</td>\n",
       "      <td>NaN</td>\n",
       "      <td>NaN</td>\n",
       "      <td>NaN</td>\n",
       "      <td>NaN</td>\n",
       "      <td>7.6</td>\n",
       "    </tr>\n",
       "    <tr>\n",
       "      <th>4</th>\n",
       "      <td>1</td>\n",
       "      <td>Southwark Primary School</td>\n",
       "      <td>Bulwell Lane</td>\n",
       "      <td>Old Basford</td>\n",
       "      <td></td>\n",
       "      <td>Nottingham</td>\n",
       "      <td>NG6 0BS</td>\n",
       "      <td>0115 9150466</td>\n",
       "      <td>CY</td>\n",
       "      <td>531</td>\n",
       "      <td>69.0</td>\n",
       "      <td>27.1</td>\n",
       "      <td>26.6</td>\n",
       "      <td>27.4</td>\n",
       "      <td>26.8</td>\n",
       "      <td>7.3</td>\n",
       "    </tr>\n",
       "  </tbody>\n",
       "</table>\n",
       "</div>"
      ],
      "text/plain": [
       "   RecType                              Schoolme            Address1  \\\n",
       "0        1  Claremont Primary and Nursery School      Claremont Road   \n",
       "1        1     Windmill Primary & Nursery School  Sneinton Boulevard   \n",
       "2        1  Stanstead Nursery and Primary School    Stanstead Avenue   \n",
       "3        1                    Nottingham Academy  Sneinton Boulevard   \n",
       "4        1              Southwark Primary School        Bulwell Lane   \n",
       "\n",
       "          Address2          Address3        Town PostCode        TelNum  \\\n",
       "0  Off Huckll Road                    Nottingham  NG5 1BH  0115 9156870   \n",
       "1                                     Nottingham  NG2 4FZ  0115 9150195   \n",
       "2        Rise Park  Stanstead Avenue  Nottingham  NG5 5BL  0115 9156300   \n",
       "3                           Sneinton  Nottingham  NG2 4GL  0115 9103200   \n",
       "4      Old Basford                    Nottingham  NG6 0BS  0115 9150466   \n",
       "\n",
       "  SchoolType  TotPup  TotElig  AVG_ENG_MATH_SCORE_07  AVG_ENG_MATH_SCORE_08  \\\n",
       "0         CY     337     49.0                   25.1                   26.0   \n",
       "1         CY     442     86.0                   24.9                   25.2   \n",
       "2         CY     198     24.0                   28.0                   25.5   \n",
       "3         AC    2170     68.0                    NaN                    NaN   \n",
       "4         CY     531     69.0                   27.1                   26.6   \n",
       "\n",
       "   AVG_ENG_MATH_SCORE_09  AVG_ENG_MATH_SCORE_10  P_ABSENT_PERSIST  \n",
       "0                   26.2                   26.4              11.3  \n",
       "1                   23.9                   24.7               8.6  \n",
       "2                   27.1                   24.7               7.7  \n",
       "3                    NaN                    NaN               7.6  \n",
       "4                   27.4                   26.8               7.3  "
      ]
     },
     "execution_count": 3,
     "metadata": {},
     "output_type": "execute_result"
    }
   ],
   "source": [
    "df.head()"
   ]
  },
  {
   "cell_type": "code",
   "execution_count": 4,
   "metadata": {},
   "outputs": [
    {
     "data": {
      "text/html": [
       "<div>\n",
       "<style scoped>\n",
       "    .dataframe tbody tr th:only-of-type {\n",
       "        vertical-align: middle;\n",
       "    }\n",
       "\n",
       "    .dataframe tbody tr th {\n",
       "        vertical-align: top;\n",
       "    }\n",
       "\n",
       "    .dataframe thead th {\n",
       "        text-align: right;\n",
       "    }\n",
       "</style>\n",
       "<table border=\"1\" class=\"dataframe\">\n",
       "  <thead>\n",
       "    <tr style=\"text-align: right;\">\n",
       "      <th></th>\n",
       "      <th>RecType</th>\n",
       "      <th>TotPup</th>\n",
       "      <th>TotElig</th>\n",
       "      <th>AVG_ENG_MATH_SCORE_07</th>\n",
       "      <th>AVG_ENG_MATH_SCORE_08</th>\n",
       "      <th>AVG_ENG_MATH_SCORE_09</th>\n",
       "      <th>AVG_ENG_MATH_SCORE_10</th>\n",
       "      <th>P_ABSENT_PERSIST</th>\n",
       "    </tr>\n",
       "  </thead>\n",
       "  <tbody>\n",
       "    <tr>\n",
       "      <th>count</th>\n",
       "      <td>207.000000</td>\n",
       "      <td>207.000000</td>\n",
       "      <td>205.000000</td>\n",
       "      <td>179.000000</td>\n",
       "      <td>182.000000</td>\n",
       "      <td>187.000000</td>\n",
       "      <td>139.000000</td>\n",
       "      <td>193.000000</td>\n",
       "    </tr>\n",
       "    <tr>\n",
       "      <th>mean</th>\n",
       "      <td>1.057971</td>\n",
       "      <td>257.705314</td>\n",
       "      <td>37.097561</td>\n",
       "      <td>27.497207</td>\n",
       "      <td>27.518681</td>\n",
       "      <td>27.566845</td>\n",
       "      <td>27.720863</td>\n",
       "      <td>2.067876</td>\n",
       "    </tr>\n",
       "    <tr>\n",
       "      <th>std</th>\n",
       "      <td>0.234255</td>\n",
       "      <td>175.026559</td>\n",
       "      <td>18.858613</td>\n",
       "      <td>2.031865</td>\n",
       "      <td>1.667029</td>\n",
       "      <td>1.641424</td>\n",
       "      <td>1.727295</td>\n",
       "      <td>1.982187</td>\n",
       "    </tr>\n",
       "    <tr>\n",
       "      <th>min</th>\n",
       "      <td>1.000000</td>\n",
       "      <td>0.000000</td>\n",
       "      <td>2.000000</td>\n",
       "      <td>15.000000</td>\n",
       "      <td>22.900000</td>\n",
       "      <td>23.500000</td>\n",
       "      <td>23.300000</td>\n",
       "      <td>0.000000</td>\n",
       "    </tr>\n",
       "    <tr>\n",
       "      <th>25%</th>\n",
       "      <td>1.000000</td>\n",
       "      <td>179.000000</td>\n",
       "      <td>25.000000</td>\n",
       "      <td>26.200000</td>\n",
       "      <td>26.300000</td>\n",
       "      <td>26.400000</td>\n",
       "      <td>26.450000</td>\n",
       "      <td>0.600000</td>\n",
       "    </tr>\n",
       "    <tr>\n",
       "      <th>50%</th>\n",
       "      <td>1.000000</td>\n",
       "      <td>230.000000</td>\n",
       "      <td>34.000000</td>\n",
       "      <td>27.800000</td>\n",
       "      <td>27.400000</td>\n",
       "      <td>27.600000</td>\n",
       "      <td>27.800000</td>\n",
       "      <td>1.500000</td>\n",
       "    </tr>\n",
       "    <tr>\n",
       "      <th>75%</th>\n",
       "      <td>1.000000</td>\n",
       "      <td>319.000000</td>\n",
       "      <td>50.000000</td>\n",
       "      <td>28.850000</td>\n",
       "      <td>28.800000</td>\n",
       "      <td>28.750000</td>\n",
       "      <td>28.950000</td>\n",
       "      <td>2.900000</td>\n",
       "    </tr>\n",
       "    <tr>\n",
       "      <th>max</th>\n",
       "      <td>2.000000</td>\n",
       "      <td>2170.000000</td>\n",
       "      <td>119.000000</td>\n",
       "      <td>31.900000</td>\n",
       "      <td>31.200000</td>\n",
       "      <td>31.600000</td>\n",
       "      <td>32.300000</td>\n",
       "      <td>11.300000</td>\n",
       "    </tr>\n",
       "  </tbody>\n",
       "</table>\n",
       "</div>"
      ],
      "text/plain": [
       "          RecType       TotPup     TotElig  AVG_ENG_MATH_SCORE_07  \\\n",
       "count  207.000000   207.000000  205.000000             179.000000   \n",
       "mean     1.057971   257.705314   37.097561              27.497207   \n",
       "std      0.234255   175.026559   18.858613               2.031865   \n",
       "min      1.000000     0.000000    2.000000              15.000000   \n",
       "25%      1.000000   179.000000   25.000000              26.200000   \n",
       "50%      1.000000   230.000000   34.000000              27.800000   \n",
       "75%      1.000000   319.000000   50.000000              28.850000   \n",
       "max      2.000000  2170.000000  119.000000              31.900000   \n",
       "\n",
       "       AVG_ENG_MATH_SCORE_08  AVG_ENG_MATH_SCORE_09  AVG_ENG_MATH_SCORE_10  \\\n",
       "count             182.000000             187.000000             139.000000   \n",
       "mean               27.518681              27.566845              27.720863   \n",
       "std                 1.667029               1.641424               1.727295   \n",
       "min                22.900000              23.500000              23.300000   \n",
       "25%                26.300000              26.400000              26.450000   \n",
       "50%                27.400000              27.600000              27.800000   \n",
       "75%                28.800000              28.750000              28.950000   \n",
       "max                31.200000              31.600000              32.300000   \n",
       "\n",
       "       P_ABSENT_PERSIST  \n",
       "count        193.000000  \n",
       "mean           2.067876  \n",
       "std            1.982187  \n",
       "min            0.000000  \n",
       "25%            0.600000  \n",
       "50%            1.500000  \n",
       "75%            2.900000  \n",
       "max           11.300000  "
      ]
     },
     "execution_count": 4,
     "metadata": {},
     "output_type": "execute_result"
    }
   ],
   "source": [
    "df.describe()"
   ]
  },
  {
   "cell_type": "markdown",
   "metadata": {},
   "source": [
    "The columns:\n",
    "\n",
    "* `AVG_ENG_MATH_SCORE_xx` The average score for the particular class of year xx. For a class, this metric is the higher the better\n",
    "* `P_ABSENT_PERSIST` the absent ratio transformed somehow, the higher the worse.\n",
    "\n",
    "This is multi dimensional data. We are interested in the relationship between those dimensions/ variables."
   ]
  },
  {
   "cell_type": "code",
   "execution_count": 5,
   "metadata": {},
   "outputs": [
    {
     "data": {
      "text/plain": [
       "207"
      ]
     },
     "execution_count": 5,
     "metadata": {},
     "output_type": "execute_result"
    }
   ],
   "source": [
    "len(df)"
   ]
  },
  {
   "cell_type": "code",
   "execution_count": 6,
   "metadata": {},
   "outputs": [
    {
     "data": {
      "text/plain": [
       "<matplotlib.axes._subplots.AxesSubplot at 0x11722e780>"
      ]
     },
     "execution_count": 6,
     "metadata": {},
     "output_type": "execute_result"
    },
    {
     "data": {
      "image/png": "[encoded data removed]",
      "text/plain": [
       "<matplotlib.figure.Figure at 0x11722ae48>"
      ]
     },
     "metadata": {},
     "output_type": "display_data"
    }
   ],
   "source": [
    "df['P_ABSENT_PERSIST'].hist(bins=20)"
   ]
  },
  {
   "cell_type": "markdown",
   "metadata": {},
   "source": [
    "**Question**:\n",
    "\n",
    "* What do you conclude from this histogram?\n",
    "* What would you do next to mine the news?"
   ]
  },
  {
   "cell_type": "code",
   "execution_count": 7,
   "metadata": {},
   "outputs": [
    {
     "data": {
      "text/plain": [
       "<matplotlib.axes._subplots.AxesSubplot at 0x1172eb710>"
      ]
     },
     "execution_count": 7,
     "metadata": {},
     "output_type": "execute_result"
    },
    {
     "data": {
      "image/png": "[encoded data removed]",
      "text/plain": [
       "<matplotlib.figure.Figure at 0x117281208>"
      ]
     },
     "metadata": {},
     "output_type": "display_data"
    }
   ],
   "source": [
    "df['AVG_ENG_MATH_SCORE_07'].hist(bins=20)"
   ]
  },
  {
   "cell_type": "code",
   "execution_count": 8,
   "metadata": {},
   "outputs": [
    {
     "data": {
      "text/plain": [
       "Text(0.5,1,'AVG_ENG_MATH_SCORE_10')"
      ]
     },
     "execution_count": 8,
     "metadata": {},
     "output_type": "execute_result"
    },
    {
     "data": {
      "image/png": "[encoded data removed]",
      "text/plain": [
       "<matplotlib.figure.Figure at 0x117356b38>"
      ]
     },
     "metadata": {},
     "output_type": "display_data"
    }
   ],
   "source": [
    "plt.subplot(2, 2, 1)\n",
    "df['AVG_ENG_MATH_SCORE_07'].hist(bins=10)\n",
    "plt.title('AVG_ENG_MATH_SCORE_07')\n",
    "\n",
    "plt.subplot(2, 2, 2)\n",
    "df['AVG_ENG_MATH_SCORE_08'].hist(bins=10)\n",
    "plt.title('AVG_ENG_MATH_SCORE_08')\n",
    "\n",
    "\n",
    "plt.subplot(2, 2, 3)\n",
    "df['AVG_ENG_MATH_SCORE_09'].hist(bins=10)\n",
    "plt.title('AVG_ENG_MATH_SCORE_09')\n",
    "\n",
    "\n",
    "plt.subplot(2, 2, 4)\n",
    "df['AVG_ENG_MATH_SCORE_10'].hist(bins=10)\n",
    "plt.title('AVG_ENG_MATH_SCORE_10')"
   ]
  },
  {
   "cell_type": "markdown",
   "metadata": {},
   "source": [
    "## The relationship between absence and score"
   ]
  },
  {
   "cell_type": "code",
   "execution_count": 9,
   "metadata": {},
   "outputs": [
    {
     "data": {
      "text/plain": [
       "<matplotlib.axes._subplots.AxesSubplot at 0x1173312b0>"
      ]
     },
     "execution_count": 9,
     "metadata": {},
     "output_type": "execute_result"
    },
    {
     "data": {
      "image/png": "[encoded data removed]",
      "text/plain": [
       "<matplotlib.figure.Figure at 0x11722bc88>"
      ]
     },
     "metadata": {},
     "output_type": "display_data"
    }
   ],
   "source": [
    "df.plot('P_ABSENT_PERSIST', 'AVG_ENG_MATH_SCORE_09', kind='scatter')"
   ]
  },
  {
   "cell_type": "markdown",
   "metadata": {},
   "source": [
    "The higher the absence ratio, the lower the test score in general. Two questions:\n",
    "\n",
    "* Is this relationship strong enough?\n",
    "* What are the outliers?"
   ]
  },
  {
   "cell_type": "code",
   "execution_count": 10,
   "metadata": {},
   "outputs": [
    {
     "name": "stdout",
     "output_type": "stream",
     "text": [
      "Help on method corr in module pandas.core.series:\n",
      "\n",
      "corr(other, method='pearson', min_periods=None) method of pandas.core.series.Series instance\n",
      "    Compute correlation with `other` Series, excluding missing values\n",
      "    \n",
      "    Parameters\n",
      "    ----------\n",
      "    other : Series\n",
      "    method : {'pearson', 'kendall', 'spearman'}\n",
      "        * pearson : standard correlation coefficient\n",
      "        * kendall : Kendall Tau correlation coefficient\n",
      "        * spearman : Spearman rank correlation\n",
      "    min_periods : int, optional\n",
      "        Minimum number of observations needed to have a valid result\n",
      "    \n",
      "    \n",
      "    Returns\n",
      "    -------\n",
      "    correlation : float\n",
      "\n"
     ]
    }
   ],
   "source": [
    "help(df['P_ABSENT_PERSIST'].corr)"
   ]
  },
  {
   "cell_type": "code",
   "execution_count": 11,
   "metadata": {},
   "outputs": [
    {
     "data": {
      "text/plain": [
       "-0.5205965225654683"
      ]
     },
     "execution_count": 11,
     "metadata": {},
     "output_type": "execute_result"
    }
   ],
   "source": [
    "df['P_ABSENT_PERSIST'].corr(df['AVG_ENG_MATH_SCORE_09'], method='pearson')"
   ]
  },
  {
   "cell_type": "markdown",
   "metadata": {},
   "source": [
    "**Note**:\n",
    "\n",
    "* Pearson correlation is between [-1, 1]\n",
    "* Values around 0 means no correlation/ weak correlation\n",
    "* Values near 1 and -1 can be interpreted as strong (linear) correlation"
   ]
  },
  {
   "cell_type": "markdown",
   "metadata": {},
   "source": [
    "Pearson correlation does not work very well with non-linear correlation or when the variables are not (jointly) normally distributed. It is also senstive to outliers. Spearman's rank correlation can help here. "
   ]
  },
  {
   "cell_type": "code",
   "execution_count": 12,
   "metadata": {},
   "outputs": [
    {
     "data": {
      "text/plain": [
       "0     42.0\n",
       "1      3.0\n",
       "2     77.0\n",
       "3      NaN\n",
       "4     90.0\n",
       "5     13.0\n",
       "6     32.5\n",
       "7      NaN\n",
       "8    129.5\n",
       "9     52.0\n",
       "Name: AVG_ENG_MATH_SCORE_09, dtype: float64"
      ]
     },
     "execution_count": 12,
     "metadata": {},
     "output_type": "execute_result"
    }
   ],
   "source": [
    "df['AVG_ENG_MATH_SCORE_09'].rank()[:10]"
   ]
  },
  {
   "cell_type": "code",
   "execution_count": 13,
   "metadata": {},
   "outputs": [
    {
     "data": {
      "text/plain": [
       "-0.5810765727681304"
      ]
     },
     "execution_count": 13,
     "metadata": {},
     "output_type": "execute_result"
    }
   ],
   "source": [
    "df['P_ABSENT_PERSIST'].corr(df['AVG_ENG_MATH_SCORE_09'], method='spearman')"
   ]
  },
  {
   "cell_type": "code",
   "execution_count": 14,
   "metadata": {},
   "outputs": [
    {
     "data": {
      "text/plain": [
       "-0.5810765727681304"
      ]
     },
     "execution_count": 14,
     "metadata": {},
     "output_type": "execute_result"
    }
   ],
   "source": [
    "df['P_ABSENT_PERSIST'].rank().corr(df['AVG_ENG_MATH_SCORE_09'].rank(), method='spearman')"
   ]
  },
  {
   "cell_type": "markdown",
   "metadata": {},
   "source": [
    "**Quiz**:\n",
    "\n",
    "* Why the above two works the same?"
   ]
  },
  {
   "cell_type": "code",
   "execution_count": 15,
   "metadata": {},
   "outputs": [
    {
     "data": {
      "text/plain": [
       "187"
      ]
     },
     "execution_count": 15,
     "metadata": {},
     "output_type": "execute_result"
    }
   ],
   "source": [
    "sum(df['AVG_ENG_MATH_SCORE_09'].rank() == df['AVG_ENG_MATH_SCORE_09'].rank().rank())"
   ]
  },
  {
   "cell_type": "code",
   "execution_count": 16,
   "metadata": {},
   "outputs": [
    {
     "data": {
      "text/plain": [
       "207"
      ]
     },
     "execution_count": 16,
     "metadata": {},
     "output_type": "execute_result"
    }
   ],
   "source": [
    "len(df['AVG_ENG_MATH_SCORE_09'].rank())"
   ]
  },
  {
   "cell_type": "markdown",
   "metadata": {},
   "source": [
    "### The correlation for all grades"
   ]
  },
  {
   "cell_type": "code",
   "execution_count": 17,
   "metadata": {},
   "outputs": [
    {
     "data": {
      "text/plain": [
       "-0.4977757689875953"
      ]
     },
     "execution_count": 17,
     "metadata": {},
     "output_type": "execute_result"
    }
   ],
   "source": [
    "df['P_ABSENT_PERSIST'].corr(df['AVG_ENG_MATH_SCORE_10'], method='spearman')"
   ]
  },
  {
   "cell_type": "code",
   "execution_count": 18,
   "metadata": {},
   "outputs": [
    {
     "data": {
      "text/plain": [
       "-0.5810765727681304"
      ]
     },
     "execution_count": 18,
     "metadata": {},
     "output_type": "execute_result"
    }
   ],
   "source": [
    "df['P_ABSENT_PERSIST'].corr(df['AVG_ENG_MATH_SCORE_09'], method='spearman')"
   ]
  },
  {
   "cell_type": "code",
   "execution_count": 19,
   "metadata": {},
   "outputs": [
    {
     "data": {
      "text/plain": [
       "-0.6002183459864541"
      ]
     },
     "execution_count": 19,
     "metadata": {},
     "output_type": "execute_result"
    }
   ],
   "source": [
    "df['P_ABSENT_PERSIST'].corr(df['AVG_ENG_MATH_SCORE_08'], method='spearman')"
   ]
  },
  {
   "cell_type": "code",
   "execution_count": 20,
   "metadata": {},
   "outputs": [
    {
     "data": {
      "text/plain": [
       "-0.5038740642509405"
      ]
     },
     "execution_count": 20,
     "metadata": {},
     "output_type": "execute_result"
    }
   ],
   "source": [
    "df['P_ABSENT_PERSIST'].corr(df['AVG_ENG_MATH_SCORE_07'], method='spearman')"
   ]
  },
  {
   "cell_type": "markdown",
   "metadata": {},
   "source": [
    "## Better visualisation"
   ]
  },
  {
   "cell_type": "code",
   "execution_count": 21,
   "metadata": {},
   "outputs": [
    {
     "data": {
      "text/plain": [
       "<matplotlib.axes._subplots.AxesSubplot at 0x1175f2f28>"
      ]
     },
     "execution_count": 21,
     "metadata": {},
     "output_type": "execute_result"
    },
    {
     "data": {
      "image/png": "[encoded data removed]",
      "text/plain": [
       "<matplotlib.figure.Figure at 0x117560da0>"
      ]
     },
     "metadata": {},
     "output_type": "display_data"
    }
   ],
   "source": [
    "df.plot('P_ABSENT_PERSIST', 'AVG_ENG_MATH_SCORE_09', kind='scatter')"
   ]
  },
  {
   "cell_type": "code",
   "execution_count": 22,
   "metadata": {},
   "outputs": [
    {
     "data": {
      "text/plain": [
       "<matplotlib.axes._subplots.AxesSubplot at 0x117687860>"
      ]
     },
     "execution_count": 22,
     "metadata": {},
     "output_type": "execute_result"
    },
    {
     "data": {
      "image/png": "[encoded data removed]",
      "text/plain": [
       "<matplotlib.figure.Figure at 0x1176ce160>"
      ]
     },
     "metadata": {},
     "output_type": "display_data"
    }
   ],
   "source": [
    "sns.regplot(df['P_ABSENT_PERSIST'], df['AVG_ENG_MATH_SCORE_09'])"
   ]
  },
  {
   "cell_type": "code",
   "execution_count": 23,
   "metadata": {},
   "outputs": [],
   "source": [
    "#help(np.polyfit)"
   ]
  },
  {
   "cell_type": "code",
   "execution_count": 24,
   "metadata": {},
   "outputs": [
    {
     "data": {
      "text/plain": [
       "array([ 0.12795693, 24.6566782 ])"
      ]
     },
     "execution_count": 24,
     "metadata": {},
     "output_type": "execute_result"
    }
   ],
   "source": [
    "np.polyfit(df['P_ABSENT_PERSIST'].fillna(0), df['AVG_ENG_MATH_SCORE_09'].fillna(0), 1)"
   ]
  },
  {
   "cell_type": "markdown",
   "metadata": {},
   "source": [
    "**Quiz**: What does it look like if we plot above line? The return value of `polyfit` is Polynomial coefficients, highest power first."
   ]
  },
  {
   "cell_type": "markdown",
   "metadata": {},
   "source": [
    "**NOTE:** Try the codes without `filena` and observe the error. Now it is time to do some cleaning."
   ]
  },
  {
   "cell_type": "code",
   "execution_count": 25,
   "metadata": {},
   "outputs": [],
   "source": [
    "na_selector = df['P_ABSENT_PERSIST'].isna()\n",
    "na_selector |= df['AVG_ENG_MATH_SCORE_07'].isna()\n",
    "na_selector |= df['AVG_ENG_MATH_SCORE_08'].isna()\n",
    "na_selector |= df['AVG_ENG_MATH_SCORE_09'].isna()\n",
    "na_selector |= df['AVG_ENG_MATH_SCORE_10'].isna()"
   ]
  },
  {
   "cell_type": "code",
   "execution_count": 26,
   "metadata": {},
   "outputs": [
    {
     "data": {
      "text/plain": [
       "80"
      ]
     },
     "execution_count": 26,
     "metadata": {},
     "output_type": "execute_result"
    }
   ],
   "source": [
    "len(df[na_selector])"
   ]
  },
  {
   "cell_type": "code",
   "execution_count": 27,
   "metadata": {},
   "outputs": [
    {
     "data": {
      "text/plain": [
       "207"
      ]
     },
     "execution_count": 27,
     "metadata": {},
     "output_type": "execute_result"
    }
   ],
   "source": [
    "len(df)"
   ]
  },
  {
   "cell_type": "code",
   "execution_count": 28,
   "metadata": {},
   "outputs": [
    {
     "data": {
      "text/plain": [
       "127"
      ]
     },
     "execution_count": 28,
     "metadata": {},
     "output_type": "execute_result"
    }
   ],
   "source": [
    "len(df[~na_selector])"
   ]
  },
  {
   "cell_type": "code",
   "execution_count": 29,
   "metadata": {},
   "outputs": [],
   "source": [
    "df_cleaned = df[~na_selector]"
   ]
  },
  {
   "cell_type": "code",
   "execution_count": 30,
   "metadata": {},
   "outputs": [
    {
     "data": {
      "text/plain": [
       "array([-0.44654826, 28.54239409])"
      ]
     },
     "execution_count": 30,
     "metadata": {},
     "output_type": "execute_result"
    }
   ],
   "source": [
    "np.polyfit(df_cleaned['P_ABSENT_PERSIST'].fillna(0), \n",
    "           df_cleaned['AVG_ENG_MATH_SCORE_09'].fillna(0), \n",
    "           1)"
   ]
  },
  {
   "cell_type": "markdown",
   "metadata": {},
   "source": [
    "The prediction: y_hat = 28.54239409 + (-0.44654826) * x"
   ]
  },
  {
   "cell_type": "code",
   "execution_count": 31,
   "metadata": {},
   "outputs": [],
   "source": [
    "absent = df_cleaned['P_ABSENT_PERSIST']\n",
    "score_grade09 = df_cleaned['AVG_ENG_MATH_SCORE_09']"
   ]
  },
  {
   "cell_type": "code",
   "execution_count": 32,
   "metadata": {},
   "outputs": [],
   "source": [
    "estimated_score_grade09 =  28.54239409 + (-0.44654826) * absent"
   ]
  },
  {
   "cell_type": "code",
   "execution_count": 33,
   "metadata": {},
   "outputs": [
    {
     "data": {
      "text/plain": [
       "<matplotlib.axes._subplots.AxesSubplot at 0x1176f2780>"
      ]
     },
     "execution_count": 33,
     "metadata": {},
     "output_type": "execute_result"
    },
    {
     "data": {
      "image/png": "[encoded data removed]",
      "text/plain": [
       "<matplotlib.figure.Figure at 0x1176ce6a0>"
      ]
     },
     "metadata": {},
     "output_type": "display_data"
    }
   ],
   "source": [
    "(score_grade09 - estimated_score_grade09).hist()"
   ]
  },
  {
   "cell_type": "code",
   "execution_count": 34,
   "metadata": {},
   "outputs": [
    {
     "data": {
      "text/html": [
       "<div>\n",
       "<style scoped>\n",
       "    .dataframe tbody tr th:only-of-type {\n",
       "        vertical-align: middle;\n",
       "    }\n",
       "\n",
       "    .dataframe tbody tr th {\n",
       "        vertical-align: top;\n",
       "    }\n",
       "\n",
       "    .dataframe thead th {\n",
       "        text-align: right;\n",
       "    }\n",
       "</style>\n",
       "<table border=\"1\" class=\"dataframe\">\n",
       "  <thead>\n",
       "    <tr style=\"text-align: right;\">\n",
       "      <th></th>\n",
       "      <th>RecType</th>\n",
       "      <th>Schoolme</th>\n",
       "      <th>Address1</th>\n",
       "      <th>Address2</th>\n",
       "      <th>Address3</th>\n",
       "      <th>Town</th>\n",
       "      <th>PostCode</th>\n",
       "      <th>TelNum</th>\n",
       "      <th>SchoolType</th>\n",
       "      <th>TotPup</th>\n",
       "      <th>TotElig</th>\n",
       "      <th>AVG_ENG_MATH_SCORE_07</th>\n",
       "      <th>AVG_ENG_MATH_SCORE_08</th>\n",
       "      <th>AVG_ENG_MATH_SCORE_09</th>\n",
       "      <th>AVG_ENG_MATH_SCORE_10</th>\n",
       "      <th>P_ABSENT_PERSIST</th>\n",
       "    </tr>\n",
       "  </thead>\n",
       "  <tbody>\n",
       "    <tr>\n",
       "      <th>62</th>\n",
       "      <td>1</td>\n",
       "      <td>English Martyrs' Catholic Primary</td>\n",
       "      <td>Bracken Road</td>\n",
       "      <td>Long Eaton</td>\n",
       "      <td></td>\n",
       "      <td>Nottingham</td>\n",
       "      <td>NG10 4DA</td>\n",
       "      <td>0115 9733209</td>\n",
       "      <td>VA</td>\n",
       "      <td>238</td>\n",
       "      <td>26.0</td>\n",
       "      <td>30.7</td>\n",
       "      <td>31.2</td>\n",
       "      <td>31.2</td>\n",
       "      <td>30.6</td>\n",
       "      <td>2.4</td>\n",
       "    </tr>\n",
       "    <tr>\n",
       "      <th>182</th>\n",
       "      <td>1</td>\n",
       "      <td>Orston Primary School</td>\n",
       "      <td>Church Street</td>\n",
       "      <td>Orston</td>\n",
       "      <td></td>\n",
       "      <td>Nottingham</td>\n",
       "      <td>NG13 9NS</td>\n",
       "      <td>01949 850618</td>\n",
       "      <td>CY</td>\n",
       "      <td>123</td>\n",
       "      <td>13.0</td>\n",
       "      <td>31.4</td>\n",
       "      <td>28.0</td>\n",
       "      <td>31.6</td>\n",
       "      <td>30.9</td>\n",
       "      <td>0.0</td>\n",
       "    </tr>\n",
       "  </tbody>\n",
       "</table>\n",
       "</div>"
      ],
      "text/plain": [
       "     RecType                           Schoolme       Address1    Address2  \\\n",
       "62         1  English Martyrs' Catholic Primary   Bracken Road  Long Eaton   \n",
       "182        1              Orston Primary School  Church Street      Orston   \n",
       "\n",
       "    Address3        Town  PostCode        TelNum SchoolType  TotPup  TotElig  \\\n",
       "62            Nottingham  NG10 4DA  0115 9733209         VA     238     26.0   \n",
       "182           Nottingham  NG13 9NS  01949 850618         CY     123     13.0   \n",
       "\n",
       "     AVG_ENG_MATH_SCORE_07  AVG_ENG_MATH_SCORE_08  AVG_ENG_MATH_SCORE_09  \\\n",
       "62                    30.7                   31.2                   31.2   \n",
       "182                   31.4                   28.0                   31.6   \n",
       "\n",
       "     AVG_ENG_MATH_SCORE_10  P_ABSENT_PERSIST  \n",
       "62                    30.6               2.4  \n",
       "182                   30.9               0.0  "
      ]
     },
     "execution_count": 34,
     "metadata": {},
     "output_type": "execute_result"
    }
   ],
   "source": [
    "df_cleaned[(score_grade09 - estimated_score_grade09) > 3]"
   ]
  },
  {
   "cell_type": "code",
   "execution_count": 35,
   "metadata": {},
   "outputs": [
    {
     "data": {
      "text/html": [
       "<div>\n",
       "<style scoped>\n",
       "    .dataframe tbody tr th:only-of-type {\n",
       "        vertical-align: middle;\n",
       "    }\n",
       "\n",
       "    .dataframe tbody tr th {\n",
       "        vertical-align: top;\n",
       "    }\n",
       "\n",
       "    .dataframe thead th {\n",
       "        text-align: right;\n",
       "    }\n",
       "</style>\n",
       "<table border=\"1\" class=\"dataframe\">\n",
       "  <thead>\n",
       "    <tr style=\"text-align: right;\">\n",
       "      <th></th>\n",
       "      <th>RecType</th>\n",
       "      <th>Schoolme</th>\n",
       "      <th>Address1</th>\n",
       "      <th>Address2</th>\n",
       "      <th>Address3</th>\n",
       "      <th>Town</th>\n",
       "      <th>PostCode</th>\n",
       "      <th>TelNum</th>\n",
       "      <th>SchoolType</th>\n",
       "      <th>TotPup</th>\n",
       "      <th>TotElig</th>\n",
       "      <th>AVG_ENG_MATH_SCORE_07</th>\n",
       "      <th>AVG_ENG_MATH_SCORE_08</th>\n",
       "      <th>AVG_ENG_MATH_SCORE_09</th>\n",
       "      <th>AVG_ENG_MATH_SCORE_10</th>\n",
       "      <th>P_ABSENT_PERSIST</th>\n",
       "    </tr>\n",
       "  </thead>\n",
       "  <tbody>\n",
       "    <tr>\n",
       "      <th>0</th>\n",
       "      <td>1</td>\n",
       "      <td>Claremont Primary and Nursery School</td>\n",
       "      <td>Claremont Road</td>\n",
       "      <td>Off Huckll Road</td>\n",
       "      <td></td>\n",
       "      <td>Nottingham</td>\n",
       "      <td>NG5 1BH</td>\n",
       "      <td>0115 9156870</td>\n",
       "      <td>CY</td>\n",
       "      <td>337</td>\n",
       "      <td>49.0</td>\n",
       "      <td>25.1</td>\n",
       "      <td>26.0</td>\n",
       "      <td>26.2</td>\n",
       "      <td>26.4</td>\n",
       "      <td>11.3</td>\n",
       "    </tr>\n",
       "    <tr>\n",
       "      <th>62</th>\n",
       "      <td>1</td>\n",
       "      <td>English Martyrs' Catholic Primary</td>\n",
       "      <td>Bracken Road</td>\n",
       "      <td>Long Eaton</td>\n",
       "      <td></td>\n",
       "      <td>Nottingham</td>\n",
       "      <td>NG10 4DA</td>\n",
       "      <td>0115 9733209</td>\n",
       "      <td>VA</td>\n",
       "      <td>238</td>\n",
       "      <td>26.0</td>\n",
       "      <td>30.7</td>\n",
       "      <td>31.2</td>\n",
       "      <td>31.2</td>\n",
       "      <td>30.6</td>\n",
       "      <td>2.4</td>\n",
       "    </tr>\n",
       "    <tr>\n",
       "      <th>94</th>\n",
       "      <td>1</td>\n",
       "      <td>Bleasby CofE Primary School</td>\n",
       "      <td>Station Road</td>\n",
       "      <td>Bleasby</td>\n",
       "      <td></td>\n",
       "      <td>Nottingham</td>\n",
       "      <td>NG14 7GD</td>\n",
       "      <td>01636 830203</td>\n",
       "      <td>VC</td>\n",
       "      <td>166</td>\n",
       "      <td>23.0</td>\n",
       "      <td>30.6</td>\n",
       "      <td>29.4</td>\n",
       "      <td>30.4</td>\n",
       "      <td>30.0</td>\n",
       "      <td>1.5</td>\n",
       "    </tr>\n",
       "    <tr>\n",
       "      <th>182</th>\n",
       "      <td>1</td>\n",
       "      <td>Orston Primary School</td>\n",
       "      <td>Church Street</td>\n",
       "      <td>Orston</td>\n",
       "      <td></td>\n",
       "      <td>Nottingham</td>\n",
       "      <td>NG13 9NS</td>\n",
       "      <td>01949 850618</td>\n",
       "      <td>CY</td>\n",
       "      <td>123</td>\n",
       "      <td>13.0</td>\n",
       "      <td>31.4</td>\n",
       "      <td>28.0</td>\n",
       "      <td>31.6</td>\n",
       "      <td>30.9</td>\n",
       "      <td>0.0</td>\n",
       "    </tr>\n",
       "  </tbody>\n",
       "</table>\n",
       "</div>"
      ],
      "text/plain": [
       "     RecType                              Schoolme        Address1  \\\n",
       "0          1  Claremont Primary and Nursery School  Claremont Road   \n",
       "62         1     English Martyrs' Catholic Primary    Bracken Road   \n",
       "94         1           Bleasby CofE Primary School    Station Road   \n",
       "182        1                 Orston Primary School   Church Street   \n",
       "\n",
       "            Address2 Address3        Town  PostCode        TelNum SchoolType  \\\n",
       "0    Off Huckll Road           Nottingham   NG5 1BH  0115 9156870         CY   \n",
       "62        Long Eaton           Nottingham  NG10 4DA  0115 9733209         VA   \n",
       "94           Bleasby           Nottingham  NG14 7GD  01636 830203         VC   \n",
       "182           Orston           Nottingham  NG13 9NS  01949 850618         CY   \n",
       "\n",
       "     TotPup  TotElig  AVG_ENG_MATH_SCORE_07  AVG_ENG_MATH_SCORE_08  \\\n",
       "0       337     49.0                   25.1                   26.0   \n",
       "62      238     26.0                   30.7                   31.2   \n",
       "94      166     23.0                   30.6                   29.4   \n",
       "182     123     13.0                   31.4                   28.0   \n",
       "\n",
       "     AVG_ENG_MATH_SCORE_09  AVG_ENG_MATH_SCORE_10  P_ABSENT_PERSIST  \n",
       "0                     26.2                   26.4              11.3  \n",
       "62                    31.2                   30.6               2.4  \n",
       "94                    30.4                   30.0               1.5  \n",
       "182                   31.6                   30.9               0.0  "
      ]
     },
     "execution_count": 35,
     "metadata": {},
     "output_type": "execute_result"
    }
   ],
   "source": [
    "df_cleaned[(score_grade09 - estimated_score_grade09) > 2.5]"
   ]
  },
  {
   "cell_type": "code",
   "execution_count": 36,
   "metadata": {},
   "outputs": [],
   "source": [
    "s = (score_grade09 - estimated_score_grade09)"
   ]
  },
  {
   "cell_type": "markdown",
   "metadata": {},
   "source": [
    "Get the threshold value for 95% percentile"
   ]
  },
  {
   "cell_type": "code",
   "execution_count": 37,
   "metadata": {},
   "outputs": [
    {
     "data": {
      "text/plain": [
       "2.3561028962000004"
      ]
     },
     "execution_count": 37,
     "metadata": {},
     "output_type": "execute_result"
    }
   ],
   "source": [
    "s.quantile(0.95)"
   ]
  },
  {
   "cell_type": "code",
   "execution_count": 38,
   "metadata": {},
   "outputs": [
    {
     "data": {
      "text/plain": [
       "<matplotlib.axes._subplots.AxesSubplot at 0x118a15a90>"
      ]
     },
     "execution_count": 38,
     "metadata": {},
     "output_type": "execute_result"
    },
    {
     "data": {
      "image/png": "[encoded data removed]",
      "text/plain": [
       "<matplotlib.figure.Figure at 0x118970cf8>"
      ]
     },
     "metadata": {},
     "output_type": "display_data"
    }
   ],
   "source": [
    "df_cleaned[s > s.quantile(0.95)].plot(\n",
    "    x='P_ABSENT_PERSIST', \n",
    "    y='AVG_ENG_MATH_SCORE_09', \n",
    "    kind='scatter')"
   ]
  },
  {
   "cell_type": "code",
   "execution_count": 39,
   "metadata": {},
   "outputs": [
    {
     "data": {
      "text/plain": [
       "<matplotlib.axes._subplots.AxesSubplot at 0x1189803c8>"
      ]
     },
     "execution_count": 39,
     "metadata": {},
     "output_type": "execute_result"
    },
    {
     "data": {
      "image/png": "[encoded data removed]",
      "text/plain": [
       "<matplotlib.figure.Figure at 0x117499e80>"
      ]
     },
     "metadata": {},
     "output_type": "display_data"
    }
   ],
   "source": [
    "ax = sns.regplot(df_cleaned['P_ABSENT_PERSIST'], df_cleaned['AVG_ENG_MATH_SCORE_09'])\n",
    "df_cleaned[s > s.quantile(0.95)].plot(\n",
    "    x='P_ABSENT_PERSIST', \n",
    "    y='AVG_ENG_MATH_SCORE_09', \n",
    "    kind='scatter',\n",
    "    color='red',\n",
    "    ax=ax)"
   ]
  },
  {
   "cell_type": "markdown",
   "metadata": {},
   "source": [
    "We can adjust the quantile to include/ exclude suspecious schools."
   ]
  },
  {
   "cell_type": "code",
   "execution_count": 40,
   "metadata": {},
   "outputs": [
    {
     "data": {
      "text/plain": [
       "<matplotlib.axes._subplots.AxesSubplot at 0x118af70f0>"
      ]
     },
     "execution_count": 40,
     "metadata": {},
     "output_type": "execute_result"
    },
    {
     "data": {
      "image/png": "[encoded data removed]",
      "text/plain": [
       "<matplotlib.figure.Figure at 0x118b912e8>"
      ]
     },
     "metadata": {},
     "output_type": "display_data"
    }
   ],
   "source": [
    "ax = sns.regplot(\n",
    "    df_cleaned['P_ABSENT_PERSIST'], \n",
    "    df_cleaned['AVG_ENG_MATH_SCORE_09'],\n",
    ")\n",
    "df_cleaned[s > s.quantile(0.90)].plot(\n",
    "    x='P_ABSENT_PERSIST', \n",
    "    y='AVG_ENG_MATH_SCORE_09', \n",
    "    kind='scatter',\n",
    "    color='red',\n",
    "    ax=ax)"
   ]
  },
  {
   "cell_type": "markdown",
   "metadata": {},
   "source": [
    "### A more primitive/ finer controlled way of plotting using matplotlib\n",
    "\n",
    "Two common tricks for better visuals:\n",
    "\n",
    "* Add jitter to further scatter the data points\n",
    "* Use transparency to help identify density"
   ]
  },
  {
   "cell_type": "code",
   "execution_count": 41,
   "metadata": {},
   "outputs": [
    {
     "data": {
      "text/plain": [
       "<matplotlib.collections.PathCollection at 0x118c9f208>"
      ]
     },
     "execution_count": 41,
     "metadata": {},
     "output_type": "execute_result"
    },
    {
     "data": {
      "image/png": "[encoded data removed]",
      "text/plain": [
       "<matplotlib.figure.Figure at 0x118a709e8>"
      ]
     },
     "metadata": {},
     "output_type": "display_data"
    }
   ],
   "source": [
    "plt.figure(figsize=(10, 5))\n",
    "plt.scatter(\n",
    "    df_cleaned['P_ABSENT_PERSIST'], \n",
    "    df_cleaned['AVG_ENG_MATH_SCORE_09'],\n",
    "    s=80, alpha=0.5)"
   ]
  },
  {
   "cell_type": "code",
   "execution_count": 42,
   "metadata": {},
   "outputs": [
    {
     "data": {
      "text/plain": [
       "<matplotlib.collections.PathCollection at 0x118e1f198>"
      ]
     },
     "execution_count": 42,
     "metadata": {},
     "output_type": "execute_result"
    },
    {
     "data": {
      "image/png": "[encoded data removed]",
      "text/plain": [
       "<matplotlib.figure.Figure at 0x118c48588>"
      ]
     },
     "metadata": {},
     "output_type": "display_data"
    }
   ],
   "source": [
    "plt.figure(figsize=(10, 5))\n",
    "plt.scatter(\n",
    "    df_cleaned['P_ABSENT_PERSIST'] + np.random.normal(0, 0.1, len(df_cleaned)), \n",
    "    df_cleaned['AVG_ENG_MATH_SCORE_09'] + np.random.normal(0, 1, len(df_cleaned)),\n",
    "    s=80, alpha=0.5)"
   ]
  },
  {
   "cell_type": "code",
   "execution_count": 43,
   "metadata": {},
   "outputs": [],
   "source": [
    "coeffs = np.polyfit(df_cleaned['P_ABSENT_PERSIST'].fillna(0), \n",
    "           df_cleaned['AVG_ENG_MATH_SCORE_09'].fillna(0), \n",
    "           1)"
   ]
  },
  {
   "cell_type": "code",
   "execution_count": 44,
   "metadata": {},
   "outputs": [
    {
     "data": {
      "text/plain": [
       "array([-0.44654826, 28.54239409])"
      ]
     },
     "execution_count": 44,
     "metadata": {},
     "output_type": "execute_result"
    }
   ],
   "source": [
    "coeffs"
   ]
  },
  {
   "cell_type": "code",
   "execution_count": 45,
   "metadata": {},
   "outputs": [],
   "source": [
    "trendline_x = np.linspace(df_cleaned['P_ABSENT_PERSIST'].min(), df_cleaned['P_ABSENT_PERSIST'].max())\n",
    "trendline_y = coeffs[0] * trendline_x + coeffs[1]"
   ]
  },
  {
   "cell_type": "code",
   "execution_count": 46,
   "metadata": {},
   "outputs": [
    {
     "data": {
      "text/plain": [
       "<matplotlib.collections.PathCollection at 0x118f387f0>"
      ]
     },
     "execution_count": 46,
     "metadata": {},
     "output_type": "execute_result"
    },
    {
     "data": {
      "image/png": "[encoded data removed]",
      "text/plain": [
       "<matplotlib.figure.Figure at 0x118e3d898>"
      ]
     },
     "metadata": {},
     "output_type": "display_data"
    }
   ],
   "source": [
    "plt.figure(figsize=(10, 5))\n",
    "\n",
    "plt.scatter(\n",
    "    df_cleaned['P_ABSENT_PERSIST'] + np.random.normal(0, 0.1, len(df_cleaned)), \n",
    "    df_cleaned['AVG_ENG_MATH_SCORE_09'] + np.random.normal(0, 1, len(df_cleaned)),\n",
    "    s=80, alpha=0.5)\n",
    "\n",
    "plt.plot(trendline_x, trendline_y, linewidth=5)\n",
    "\n",
    "plt.scatter(\n",
    "    df_cleaned[s > s.quantile(0.90)]['P_ABSENT_PERSIST'],\n",
    "    df_cleaned[s > s.quantile(0.90)]['AVG_ENG_MATH_SCORE_09'],\n",
    "    color='red'\n",
    ")"
   ]
  },
  {
   "cell_type": "markdown",
   "metadata": {},
   "source": [
    "Jitter is good to present data but you need to track how the data is jittered in order to aligh multiple plots. The complete version is followed."
   ]
  },
  {
   "cell_type": "code",
   "execution_count": 47,
   "metadata": {},
   "outputs": [
    {
     "data": {
      "image/png": "[encoded data removed]",
      "text/plain": [
       "<matplotlib.figure.Figure at 0x118f5b588>"
      ]
     },
     "metadata": {},
     "output_type": "display_data"
    }
   ],
   "source": [
    "plt.figure(figsize=(10, 5))\n",
    "\n",
    "# Plot main bubbles\n",
    "\n",
    "x = df_cleaned['P_ABSENT_PERSIST']\n",
    "x_jitter = x + np.random.normal(0, 0.05, len(df_cleaned))\n",
    "y = df_cleaned['AVG_ENG_MATH_SCORE_09'] \n",
    "y_jitter = y + np.random.normal(0, 0.1, len(df_cleaned))\n",
    "\n",
    "plt.scatter(\n",
    "    x_jitter, \n",
    "    y_jitter,\n",
    "    s=80, alpha=0.5)\n",
    "\n",
    "# Fit the curve (a line) and plot trendline\n",
    "\n",
    "coeffs = np.polyfit(x, y, 1)\n",
    "\n",
    "trendline_x = np.linspace(x.min(), x.max())\n",
    "trendline_y = coeffs[0] * trendline_x + coeffs[1]\n",
    "\n",
    "plt.plot(trendline_x, trendline_y, linewidth=5)\n",
    "\n",
    "# Identify suspecious schools, highlight and label texts\n",
    "\n",
    "estimated_y = coeffs[0] * x + coeffs[1]\n",
    "s = y - estimated_y\n",
    "\n",
    "suspecious_x = x_jitter[s > s.quantile(0.90)].values\n",
    "suspecious_y = y_jitter[s > s.quantile(0.90)].values\n",
    "suspecious_t = df_cleaned[s > s.quantile(0.90)]['Schoolme'].values\n",
    "plt.scatter(\n",
    "    suspecious_x,\n",
    "    suspecious_y,\n",
    "    color='red'\n",
    ")\n",
    "for i in range(len(suspecious_t)):\n",
    "    plt.text(suspecious_x[i], suspecious_y[i], suspecious_t[i])"
   ]
  },
  {
   "cell_type": "code",
   "execution_count": 48,
   "metadata": {},
   "outputs": [],
   "source": [
    "#suspecious_x"
   ]
  },
  {
   "cell_type": "markdown",
   "metadata": {},
   "source": [
    "## Conclude the story points\n",
    "\n",
    "* English and math testing score is plausibly negatively correlated with absence.\n",
    "* The Spearman rank correlation for grade 10, 9, 8, 7 are -0.4977757689875953, -0.5810765727681304, -0.6002183459864541, -0.5038740642509405\n",
    "   * The correlation is much stronger for Grade 9 and 8\n",
    "* There are some outliers who have a high absence ratio but achieve high scores at the same time. After journalists conduct the field invetigation, they find those schools conduct extensive \"tutorial schools\" for testing score purpose"
   ]
  },
  {
   "cell_type": "code",
   "execution_count": null,
   "metadata": {},
   "outputs": [],
   "source": []
  }
 ],
 "metadata": {
  "kernelspec": {
   "display_name": "Python 3",
   "language": "python",
   "name": "python3"
  },
  "language_info": {
   "codemirror_mode": {
    "name": "ipython",
    "version": 3
   },
   "file_extension": ".py",
   "mimetype": "text/x-python",
   "name": "python",
   "nbconvert_exporter": "python",
   "pygments_lexer": "ipython3",
   "version": "3.6.3"
  }
 },
 "nbformat": 4,
 "nbformat_minor": 2
}
