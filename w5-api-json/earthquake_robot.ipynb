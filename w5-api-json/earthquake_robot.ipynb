{
 "cells": [
  {
   "cell_type": "code",
   "execution_count": null,
   "metadata": {},
   "outputs": [],
   "source": [
    "import requests\n",
    "import csv\n",
    "import time\n",
    "from datetime import datetime\n",
    "\n",
    "import twitter\n",
    "api = twitter.Api() #pass your api key \n",
    "\n",
    "api_url = 'https://earthquake.usgs.gov/fdsnws/event/1/'\n",
    "api_method = 'query?'\n",
    "api_format = 'format=geojson'\n",
    "api_starttime = '2018-08-01'\n",
    "api_endtime = '2018-08-21' \n",
    "# api_minlatitude = '15'    #test data, America region\n",
    "# api_minlongitude = '-120'\n",
    "# api_maxlatitude = '50'\n",
    "# api_maxlongitude = '-70'\n",
    "api_minlatitude = '21.821'  #taiwan\n",
    "api_minlongitude = '119.971'\n",
    "api_maxlatitude = '25.384'\n",
    "api_maxlongitude = '122.014'\n",
    "url ='{0}{1}{2}&starttime={3}&minlatitude={4}&maxlatitude={5}&minlongitude={6}&maxlongitude={7}'.format(api_url,api_method,api_format,api_starttime,api_minlatitude,api_maxlatitude,api_minlongitude,api_maxlongitude)"
   ]
  },
  {
   "cell_type": "code",
   "execution_count": null,
   "metadata": {},
   "outputs": [],
   "source": [
    "def timestamp_to_utc_strtime(timestamp):\n",
    "        #将 13 位整数的毫秒时间戳转化成 utc 时间 (字符串格式，含毫秒)param timestamp: 13 位整数的毫秒时间戳 (1456402864242):return: 返回字符串格式 {str}'2016-02-25 12:21:04.242000'  \n",
    "    utc_str_time = datetime.utcfromtimestamp(timestamp / 1000.0).strftime('%Y-%m-%d %H:%M:%S.%f')\n",
    "    return utc_str_time\n",
    "\n",
    "def request(url):\n",
    "    response = requests.get(url)\n",
    "    return response.json()\n",
    "\n",
    "lasttime = ''\n",
    "\n",
    "while True:\n",
    "    r = request(url)\n",
    "    for i in range(0,len(r['features'])):\n",
    "        timestamp_to_utc_strtime(r['features'][i]['properties']['time'])[:19]\n",
    "        if timestamp_to_utc_strtime(r['features'][0]['properties']['time'])[:19] >lasttime:\n",
    "            print('A %d magnitude earthquake occurred on %s, at %s, Latest earthquakes %s'%(r['features'][0]['properties']['mag'],r['features'][0]['properties']['place'],timestamp_to_utc_strtime(r['features'][0]['properties']['time'])[:19],'https://earthquake.usgs.gov/earthquakes/eventpage/ci38252496#executive'))         \n",
    "            \n",
    "            api.PostUpdate('A %d magnitude earthquake occurred on %s, at %s, Latest earthquakes %s'%(r['features'][0]['properties']['mag'],r['features'][0]['properties']['place'],timestamp_to_utc_strtime(r['features'][0]['properties']['time'])[:19],'https://earthquake.usgs.gov/earthquakes/eventpage/ci38252496#executive'), \n",
    "                           media=None,\n",
    "                           media_additional_owners=None, \n",
    "                           media_category=None, \n",
    "                           in_reply_to_status_id=None, \n",
    "                           auto_populate_reply_metadata=False, \n",
    "                           exclude_reply_user_ids=None, \n",
    "                           latitude=None, \n",
    "                           longitude=None, \n",
    "                           place_id=None, \n",
    "                           display_coordinates=False, \n",
    "                           trim_user=False, \n",
    "                           verify_status_length=True, \n",
    "                           attachment_url=None)         \n",
    "            \n",
    "            \n",
    "            with open('taiwan_earthquake_0828.csv','w',newline='') as f:\n",
    "                writer = csv.writer(f)\n",
    "                header = ['Place','Mag','Time']\n",
    "                writer.writerow(header)\n",
    "                for i in range(0,len(r['features'])):\n",
    "                    p = r['features'][i]['properties']\n",
    "                    writer.writerow([p['place'],p['mag'],timestamp_to_utc_strtime(r['features'][i]['properties']['time'])])\n",
    "                f.close() \n",
    "        \n",
    "            lasttime = timestamp_to_utc_strtime(r['features'][0]['properties']['time'])[:19] \n",
    "        else:\n",
    "            continue"
   ]
  },
  {
   "cell_type": "code",
   "execution_count": null,
   "metadata": {},
   "outputs": [],
   "source": []
  }
 ],
 "metadata": {
  "kernelspec": {
   "display_name": "Python 3",
   "language": "python",
   "name": "python3"
  },
  "language_info": {
   "codemirror_mode": {
    "name": "ipython",
    "version": 3
   },
   "file_extension": ".py",
   "mimetype": "text/x-python",
   "name": "python",
   "nbconvert_exporter": "python",
   "pygments_lexer": "ipython3",
   "version": "3.6.3"
  }
 },
 "nbformat": 4,
 "nbformat_minor": 2
}
