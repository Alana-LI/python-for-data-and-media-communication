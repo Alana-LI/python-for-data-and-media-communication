{
 "cells": [
  {
   "cell_type": "markdown",
   "metadata": {},
   "source": [
    "# jd.com\n",
    "\n",
    "Demo:\n",
    "\n",
    "- How to precisely locate and scroll to the position (x, y) of an element\n",
    "- In the case of jd.com, the page is refreshed after first scrolling. That is why you need to scroll twice.\n",
    "\n",
    "Further notes:\n",
    "\n",
    "- The code does not work if jd.com changes to three scrolls some day. (Or maybe on your screen it requires three scrolls to reach the bottom).\n",
    "- It is a better practice to test `next_button` after scroll in a while loop until the location is not changed and the variable itself is valid. This is more generic. The two scroll already works on my system so this demo is omitted."
   ]
  },
  {
   "cell_type": "code",
   "execution_count": 1,
   "metadata": {},
   "outputs": [
    {
     "name": "stdout",
     "output_type": "stream",
     "text": [
      "2018-11-03 21:08:46.159674\n"
     ]
    }
   ],
   "source": [
    "import datetime\n",
    "print(datetime.datetime.now())"
   ]
  },
  {
   "cell_type": "code",
   "execution_count": 2,
   "metadata": {},
   "outputs": [],
   "source": [
    "from selenium import webdriver\n",
    "import time\n",
    "url = \"https://www.jd.com/index.html\"\n",
    "browser = webdriver.Chrome()\n",
    "browser.get(url)\n",
    "browser.find_element_by_id(\"key\").send_keys(\"手机\\n\")"
   ]
  },
  {
   "cell_type": "code",
   "execution_count": 3,
   "metadata": {},
   "outputs": [],
   "source": [
    "time.sleep(1)"
   ]
  },
  {
   "cell_type": "code",
   "execution_count": 4,
   "metadata": {},
   "outputs": [],
   "source": [
    "next_button = browser.find_element_by_class_name('pn-next')"
   ]
  },
  {
   "cell_type": "code",
   "execution_count": 5,
   "metadata": {},
   "outputs": [
    {
     "data": {
      "text/plain": [
       "{'x': 768, 'y': 5406}"
      ]
     },
     "execution_count": 5,
     "metadata": {},
     "output_type": "execute_result"
    }
   ],
   "source": [
    "next_button.location"
   ]
  },
  {
   "cell_type": "code",
   "execution_count": 6,
   "metadata": {},
   "outputs": [],
   "source": [
    "loc = next_button.location"
   ]
  },
  {
   "cell_type": "code",
   "execution_count": 7,
   "metadata": {},
   "outputs": [],
   "source": [
    "browser.execute_script(\"window.scrollTo({x}, {y});\".format(**loc))"
   ]
  },
  {
   "cell_type": "code",
   "execution_count": 8,
   "metadata": {},
   "outputs": [],
   "source": [
    "next_button.click()"
   ]
  },
  {
   "cell_type": "markdown",
   "metadata": {},
   "source": [
    "You can run the following block repeatedly to see if pages are changed."
   ]
  },
  {
   "cell_type": "code",
   "execution_count": 13,
   "metadata": {},
   "outputs": [
    {
     "name": "stdout",
     "output_type": "stream",
     "text": [
      "id: 0.6288411281820627-9\n",
      "location: {'x': 768, 'y': 5406}\n",
      "scroll to the button location\n",
      "After the first scrolling event, the page is refreshed and the button is re-rendered. We need to find the button and scroll again\n",
      "id: 0.6288411281820627-10\n",
      "location: {'x': 768, 'y': 10106}\n",
      "scroll to the button location\n"
     ]
    }
   ],
   "source": [
    "next_button = browser.find_element_by_class_name('pn-next')\n",
    "print('id:', next_button.id)\n",
    "loc = next_button.location\n",
    "print('location:', loc)\n",
    "print('scroll to the button location')\n",
    "browser.execute_script(\"window.scrollTo({x}, {y});\".format(**loc))\n",
    "time.sleep(1)\n",
    "print('After the first scrolling event, the page is refreshed and the button is re-rendered. We need to find the button and scroll again')\n",
    "next_button = browser.find_element_by_class_name('pn-next')\n",
    "print('id:', next_button.id)\n",
    "loc = next_button.location\n",
    "print('location:', loc)\n",
    "print('scroll to the button location')\n",
    "browser.execute_script(\"window.scrollTo({x}, {y});\".format(**loc))\n",
    "time.sleep(1)\n",
    "next_button.click()"
   ]
  },
  {
   "cell_type": "code",
   "execution_count": null,
   "metadata": {},
   "outputs": [],
   "source": []
  }
 ],
 "metadata": {
  "kernelspec": {
   "display_name": "Python 3",
   "language": "python",
   "name": "python3"
  },
  "language_info": {
   "codemirror_mode": {
    "name": "ipython",
    "version": 3
   },
   "file_extension": ".py",
   "mimetype": "text/x-python",
   "name": "python",
   "nbconvert_exporter": "python",
   "pygments_lexer": "ipython3",
   "version": "3.6.4"
  }
 },
 "nbformat": 4,
 "nbformat_minor": 2
}
