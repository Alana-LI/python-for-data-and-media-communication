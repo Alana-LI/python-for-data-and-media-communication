{
 "cells": [
  {
   "cell_type": "markdown",
   "metadata": {},
   "source": [
    "# booking.com\n",
    "\n",
    "Related issue: [#62](https://github.com/hupili/python-for-data-and-media-communication-gitbook/issues/62)"
   ]
  },
  {
   "cell_type": "code",
   "execution_count": 1,
   "metadata": {},
   "outputs": [],
   "source": [
    "from selenium import webdriver\n",
    "\n",
    "browser = webdriver.Chrome()\n",
    "browser.get('https://www.booking.com/searchresults.zh-cn.html?aid=378266&label=booking-name-IquAp*EbiLS6jPVl_he8yQS267778093594%3Apl%3Ata%3Ap1%3Ap2%3Aac%3Aap1t1%3Aneg%3Afi%3Atikwd-65526620%3Alp9061634%3Ali%3Adec%3Adm&sid=75a6a10fd83d509dc44f2bc75e94dc31&checkin_month=9&checkin_monthday=12&checkin_year=2019&checkout_month=9&checkout_monthday=13&checkout_year=2019&city=-240905&class_interval=1&dest_id=-240905&dest_type=city&from_sf=1&group_adults=2&group_children=0&label_click=undef&no_rooms=1&raw_dest_type=city&room1=A%2CA&sb_price_type=total&shw_aparth=1&slp_r_match=0&src=searchresults&srpvid=342a6023a36e0036&ss=%E5%A4%A7%E9%98%AA&ssb=empty&ssne=%E5%A4%A7%E9%98%AA&ssne_untouched=%E5%A4%A7%E9%98%AA&nflt=di%3D7322%3Bpri%3D2%3B&rsf=pri-2&lsf=pri%7C2%7C136')\n",
    "\n",
    "# hotels = []\n",
    "# for session in browser.find_elements_by_css_selector('#hotellist_inner.hotellist sr_double_search'):\n",
    "#     n = session.find_element_by_css_selector('span.sr-hotel__name')\n",
    "#     hotel['name'] = n.text\n",
    "#     hotel['score'] = session.find_element_by_css_selector('div.bui-review-score__badge').text\n",
    "#     hotels.append(hotel)\n",
    "#     hotels"
   ]
  },
  {
   "cell_type": "code",
   "execution_count": 2,
   "metadata": {},
   "outputs": [],
   "source": [
    "a = browser.find_element_by_css_selector('#hotellist_inner')"
   ]
  },
  {
   "cell_type": "code",
   "execution_count": 3,
   "metadata": {},
   "outputs": [
    {
     "data": {
      "text/plain": [
       "'在新窗口中打开\\nPicnic Hostel Osaka（大阪野餐旅舍）\\n在新窗口中打开\\n1星级\\n这家住宿参与了我们的主推住宿项目。主推住宿提供优质的服务和较高的性价比，为客人创造良好的体验。该住宿可能向Booking.com支付的佣金比例稍高。\\n大阪【南部地区】 – 显示在地图上 (离中心地区3.9 km)\\n人气 4位客人正在浏览\\n热卖 超抢手！ 过去的24小时内已有10人预订\\n9.2\\n好极了\\n811条住客点评\\n在新窗口中打开\\n性价比 9.2\\n在新窗口中打开\\n住客至爱\\n96%住客点评显示该住宿满足甚至超出期望值\\n双床间\\n最多人数: 2\\n超抢手 - 仅剩2间空房！\\n预订无忧：计划有变可取消，锁定好价趁现在！\\nHK$ 519\\n免费取消\\n无需预付\\n查看我们最后几间空房\\n在新窗口中打开\\n在新窗口中打开\\n公寓 Grandi Nipponbashi Park Hotel（格兰迪日本桥公园公寓）\\n在新窗口中打开\\n3星级\\n这家住宿参与了我们的主推住宿项目。主推住宿提供优质的服务和较高的性价比，为客人创造良好的体验。该住宿可能向Booking.com支付的佣金比例稍高。\\n中央区, 大阪【南部地区】 – 显示在地图上 (离中心地区4.8 km)\\n人气 3位客人正在浏览\\n热卖 超抢手！ 过去的24小时内已有16人预订\\n8.5\\n非常好\\n239条住客点评\\n在新窗口中打开\\n在新窗口中打开\\n89%住客点评显示该住宿满足甚至超出期望值\\n公寓\\n最多人数: 2\\n– 25 平方米\\n超抢手 - 仅剩7间！\\n预订无忧：计划有变可取消，锁定好价趁现在！\\nHK$ 582\\n免费取消\\n查看所有4间可订公寓\\n在新窗口中打开\\n度假屋 Konjaku-So Dotonbori Penthouse Stay（今昔土盾阁楼公寓）\\n抱歉，所选日期内该住宿在我们网站上暂无空房\\n在新窗口中打开\\n4星级\\n这家住宿参与了我们的主推住宿项目。主推住宿提供优质的服务和较高的性价比，为客人创造良好的体验。该住宿可能向Booking.com支付的佣金比例稍高。\\n中央区, 大阪【道顿堀】 – 显示在地图上\\n9.2\\n好极了\\n10条住客点评\\n在新窗口中打开\\n在新窗口中打开\\n来晚了！\\n你搜索的日期很抢手哦！这家住宿在我们网站已无空房。快看看以下其他住宿吧！\\n在新窗口中打开\\nKawarayamachi Crystal Hotel（瓦屋町水晶酒店）\\n在新窗口中打开\\n4星级酒店\\n这家住宿参与了我们的主推住宿项目。主推住宿提供优质的服务和较高的性价比，为客人创造良好的体验。该住宿可能向Booking.com支付的佣金比例稍高。\\n中央区, 大阪【南部地区】 – 显示在地图上 (离中心地区4.2 km)\\n人气 6位客人正在浏览\\n热卖 超抢手！ 过去的24小时内已有15人预订\\n8.7\\n很棒\\n286条住客点评\\n在新窗口中打开\\n在新窗口中打开\\n双人间\\n最多人数: 2\\n仅剩5间客房！\\nHK$ 882 HK$ 588\\n查看我们最后几间空房\\n在新窗口中打开\\n度假屋可能就是你的理想住宿哦！\\n理想住宿让你畅享美好假期！\\n显示度假屋\\n在新窗口中打开\\n公寓 Namba~Tsutenkaku Guest house Sunnyhouse（难波～通天阁 民宿Sunnyhouse）\\n在新窗口中打开\\n这家住宿参与了我们的主推住宿项目。主推住宿提供优质的服务和较高的性价比，为客人创造良好的体验。该住宿可能向Booking.com支付的佣金比例稍高。\\n大阪【南部地区】 – 显示在地图上 (离中心地区5 km)\\n人气 2位客人正在浏览\\n热卖 过去12小时内已有2人预订\\n9.2\\n好极了\\n13条住客点评\\n在新窗口中打开\\n性价比 9.4\\n在新窗口中打开\\n住客至爱\\n公寓\\n最多人数: 3\\n– 25 平方米\\n仅剩1间！\\n预订无忧：计划有变可取消，锁定好价趁现在！\\nHK$ 657\\n免费取消\\n无需预付\\n选择公寓\\n在新窗口中打开\\n公寓 Motomachi Hotel Apartment（元町酒店公寓 ）\\n在新窗口中打开\\n这家住宿参与了我们的主推住宿项目。主推住宿提供优质的服务和较高的性价比，为客人创造良好的体验。该住宿可能向Booking.com支付的佣金比例稍高。\\n大阪【难波】 – 显示在地图上 (离中心地区4.8 km)\\n人气 3位客人正在浏览\\n热卖 过去6小时内已有2人预订\\n8.1\\n非常好\\n21条住客点评\\n在新窗口中打开\\n在新窗口中打开\\n公寓\\n最多人数: 4\\n– 35 平方米 – 比大阪的多数客房宽敞\\n仅剩1间！\\n预订无忧：计划有变可取消，锁定好价趁现在！\\nHK$ 747\\n免费取消\\n查看所有4间可订公寓\\n在新窗口中打开\\n公寓 Shin Nippombashi（新日本桥公寓）\\n在新窗口中打开\\n1星级\\n中央区, 大阪【南部地区】 – 显示在地图上 (离中心地区4.5 km)\\n热卖\\n9.0\\n好极了\\n68条住客点评\\n在新窗口中打开\\n性价比 9.0\\n在新窗口中打开\\n96%住客点评显示该住宿满足甚至超出期望值\\n公寓\\n最多人数: 4\\n– 30 平方米 – 比大阪的多数客房宽敞\\n仅剩1间！\\n预订无忧：计划有变可取消，锁定好价趁现在！\\nHK$ 807\\n免费取消\\n无需预付\\n查看所有3间可订公寓\\n还没找到你想要的？\\n登录帐号，搜索结果更懂你\\nSign in\\n在新窗口中打开\\nAPA Hotel Namba-Shinsaibashi（APA难波心斋桥酒店）\\n在新窗口中打开\\n3星级酒店\\n这家住宿参与了我们的主推住宿项目。主推住宿提供优质的服务和较高的性价比，为客人创造良好的体验。该住宿可能向Booking.com支付的佣金比例稍高。\\n中央区, 大阪【道顿堀】 – 显示在地图上 (离中心地区3.9 km)\\n人气 11位客人正在浏览\\n热卖 超抢手！ 过去的24小时内已有25人预订\\n7.8\\n好\\n1,738条住客点评\\n在新窗口中打开\\n在新窗口中打开\\n今日超值好价\\n双人间\\n最多人数: 2\\n超抢手！\\n预订无忧：计划有变可取消，锁定好价趁现在！\\nHK$ 1,383 HK$ 830\\n免费取消\\n查看我们最后几间空房\\n在新窗口中打开\\n在新窗口中打开\\nHotel Shin-Imamiya（新今宫旅舍）\\n在新窗口中打开\\n2星级\\n这家住宿参与了我们的主推住宿项目。主推住宿提供优质的服务和较高的性价比，为客人创造良好的体验。该住宿可能向Booking.com支付的佣金比例稍高。\\n大阪【南部地区】 – 显示在地图上 (离中心地区6 km)\\n人气 17位客人正在浏览\\n热卖 超抢手！ 过去的24小时内已有57人预订\\n7.1\\n好\\n3,204条住客点评\\n在新窗口中打开\\n在新窗口中打开\\n双床间\\n最多人数: 2\\n超抢手！\\n预订无忧：计划有变可取消，锁定好价趁现在！\\nHK$ 552\\n免费取消\\n无需预付\\n查看我们最后几间空房\\n在新窗口中打开\\n在新窗口中打开\\nDoutonbori Crystal Hotel\\n在新窗口中打开\\n4星级酒店\\n这家住宿参与了我们的主推住宿项目。主推住宿提供优质的服务和较高的性价比，为客人创造良好的体验。该住宿可能向Booking.com支付的佣金比例稍高。\\n中央区, 大阪【道顿堀】 – 显示在地图上 (离中心地区4.1 km)\\n人气 2位客人正在浏览\\n热卖 过去6小时内已有10人预订\\n9.5\\n优异的\\n5条住客点评\\n在新窗口中打开\\n性价比 9.0\\n在新窗口中打开\\n住客至爱\\n双床间\\n最多人数: 2\\n超抢手 - 仅剩3间空房！\\n预订无忧：计划有变可取消，锁定好价趁现在！\\nHK$ 1,113 HK$ 871\\n免费取消\\n无需预付\\n查看我们最后几间空房\\n在新窗口中打开\\n在新窗口中打开\\n公寓 HG Cozy Hotel No.38（HG舒适38号公寓）\\n在新窗口中打开\\n2星级\\n这家住宿参与了我们的主推住宿项目。主推住宿提供优质的服务和较高的性价比，为客人创造良好的体验。该住宿可能向Booking.com支付的佣金比例稍高。\\n大阪【南部地区】 – 显示在地图上 (离中心地区5 km) – 靠近地铁站\\n7.9\\n好\\n22条住客点评\\n在新窗口中打开\\n在新窗口中打开\\n81%住客点评显示该住宿满足甚至超出期望值\\n公寓\\n最多人数: 3\\n– 27 平方米\\n仅剩1间！\\n预订无忧：计划有变可取消，锁定好价趁现在！\\nHK$ 864 HK$ 615\\n免费取消\\n无需预付\\n查看所有5间可订公寓\\n在新窗口中打开\\n公寓式酒店 HOTEL LAND MARK NAMBA101（难波101地标公寓式酒店）\\n在新窗口中打开\\n2星级\\n这家住宿参与了我们的主推住宿项目。主推住宿提供优质的服务和较高的性价比，为客人创造良好的体验。该住宿可能向Booking.com支付的佣金比例稍高。\\n大阪【难波】 – 显示在地图上 (离中心地区5 km) – 靠近地铁站\\n9.9\\n优异的\\n6条住客点评\\n在新窗口中打开\\n性价比 9.6\\n在新窗口中打开\\n住客至爱\\n公寓\\n最多人数: 2\\n– 21 平方米\\n超抢手！\\n预订无忧：计划有变可取消，锁定好价趁现在！\\nHK$ 989 HK$ 761\\n免费取消\\n选择公寓\\n在新窗口中打开\\nFloral Hotel Shinsaibasi（花筑·心斋桥酒店）\\n在新窗口中打开\\n3星级酒店\\n这家住宿参与了我们的主推住宿项目。主推住宿提供优质的服务和较高的性价比，为客人创造良好的体验。该住宿可能向Booking.com支付的佣金比例稍高。\\n中央区, 大阪【南部地区】 – 显示在地图上 (离中心地区4 km) – 靠近地铁站\\n人气 4位客人正在浏览\\n热卖 过去6小时内已有10人预订\\n7.6\\n好\\n57条住客点评\\n在新窗口中打开\\n在新窗口中打开\\n双人间\\n最多人数: 2\\n超抢手！\\n预订无忧：计划有变可取消，锁定好价趁现在！\\nHK$ 726\\n免费取消\\n查看我们最后几间空房\\n在新窗口中打开\\n在新窗口中打开\\nAPA Hotel Namba-Eki Higashi（难波站东APA酒店）\\n在新窗口中打开\\n3星级酒店\\n这家住宿参与了我们的主推住宿项目。主推住宿提供优质的服务和较高的性价比，为客人创造良好的体验。该住宿可能向Booking.com支付的佣金比例稍高。\\n中央区, 大阪【难波】 – 显示在地图上 (离中心地区4.5 km)\\n人气 16位客人正在浏览\\n热卖 超抢手！ 过去的24小时内已有69人预订\\n8.2\\n非常好\\n5,332条住客点评\\n在新窗口中打开\\n在新窗口中打开\\n双人间\\n最多人数: 2\\n预订无忧：计划有变可取消，锁定好价趁现在！\\nHK$ 1,245 HK$ 761\\n免费取消\\n无需预付\\n查看我们最后几间空房\\n在新窗口中打开\\n在新窗口中打开\\nSarasa Hotel Shinsaibashi（心斋桥印花布酒店）\\n在新窗口中打开\\n3星级酒店\\n这家住宿参与了我们的主推住宿项目。主推住宿提供优质的服务和较高的性价比，为客人创造良好的体验。该住宿可能向Booking.com支付的佣金比例稍高。\\n中央区, 大阪【心斋桥】 – 显示在地图上 (离中心地区3.5 km) – 靠近地铁站\\n人气 6位客人正在浏览\\n热卖 超抢手！ 过去的24小时内已有43人预订\\n8.7\\n很棒\\n2,043条住客点评\\n在新窗口中打开\\n在新窗口中打开\\n双人间\\n最多人数: 2\\n预订无忧：计划有变可取消，锁定好价趁现在！\\nHK$ 1,037 HK$ 653\\n包括早餐\\n免费取消\\n无需预付\\n查看我们最后几间空房\\n在新窗口中打开\\n在新窗口中打开\\n公寓 HG Cozy Hotel No.16（HG舒适16号酒店）\\n在新窗口中打开\\n2星级\\n这家住宿参与了我们的主推住宿项目。主推住宿提供优质的服务和较高的性价比，为客人创造良好的体验。该住宿可能向Booking.com支付的佣金比例稍高。\\n中央区, 大阪【南部地区】 – 显示在地图上 (离中心地区3.9 km) – 靠近地铁站\\n7.4\\n好\\n29条住客点评\\n在新窗口中打开\\n在新窗口中打开\\n公寓 × 5\\n最多人数: 5\\n– 35 平方米 – 比大阪的多数客房宽敞\\n仅剩1间！\\n预订无忧：计划有变可取消，锁定好价趁现在！\\nHK$ 830 HK$ 615\\n免费取消\\n无需预付\\n查看所有3间可订公寓'"
      ]
     },
     "execution_count": 3,
     "metadata": {},
     "output_type": "execute_result"
    }
   ],
   "source": [
    "a.text"
   ]
  },
  {
   "cell_type": "code",
   "execution_count": 53,
   "metadata": {},
   "outputs": [
    {
     "ename": "NoSuchElementException",
     "evalue": "Message: no such element: Unable to locate element: {\"method\":\"css selector\",\"selector\":\".sr_item sr_item_new sr_item_default sr_property_block  sr_flex_layout                 \"}\n  (Session info: chrome=70.0.3538.77)\n  (Driver info: chromedriver=2.41.578706 (5f725d1b4f0a4acbf5259df887244095596231db),platform=Mac OS X 10.14.0 x86_64)\n",
     "output_type": "error",
     "traceback": [
      "\u001b[0;31m---------------------------------------------------------------------------\u001b[0m",
      "\u001b[0;31mNoSuchElementException\u001b[0m                    Traceback (most recent call last)",
      "\u001b[0;32m<ipython-input-53-2736bcba2695>\u001b[0m in \u001b[0;36m<module>\u001b[0;34m\u001b[0m\n\u001b[0;32m----> 1\u001b[0;31m \u001b[0ma\u001b[0m\u001b[0;34m.\u001b[0m\u001b[0mfind_element_by_css_selector\u001b[0m\u001b[0;34m(\u001b[0m\u001b[0;34m'.sr_item sr_item_new sr_item_default sr_property_block  sr_flex_layout                 '\u001b[0m\u001b[0;34m)\u001b[0m\u001b[0;34m\u001b[0m\u001b[0m\n\u001b[0m",
      "\u001b[0;32m~/Desktop/Chicoxyc/venv/lib/python3.6/site-packages/selenium/webdriver/remote/webelement.py\u001b[0m in \u001b[0;36mfind_element_by_css_selector\u001b[0;34m(self, css_selector)\u001b[0m\n\u001b[1;32m    428\u001b[0m             \u001b[0melement\u001b[0m \u001b[0;34m=\u001b[0m \u001b[0melement\u001b[0m\u001b[0;34m.\u001b[0m\u001b[0mfind_element_by_css_selector\u001b[0m\u001b[0;34m(\u001b[0m\u001b[0;34m'#foo'\u001b[0m\u001b[0;34m)\u001b[0m\u001b[0;34m\u001b[0m\u001b[0m\n\u001b[1;32m    429\u001b[0m         \"\"\"\n\u001b[0;32m--> 430\u001b[0;31m         \u001b[0;32mreturn\u001b[0m \u001b[0mself\u001b[0m\u001b[0;34m.\u001b[0m\u001b[0mfind_element\u001b[0m\u001b[0;34m(\u001b[0m\u001b[0mby\u001b[0m\u001b[0;34m=\u001b[0m\u001b[0mBy\u001b[0m\u001b[0;34m.\u001b[0m\u001b[0mCSS_SELECTOR\u001b[0m\u001b[0;34m,\u001b[0m \u001b[0mvalue\u001b[0m\u001b[0;34m=\u001b[0m\u001b[0mcss_selector\u001b[0m\u001b[0;34m)\u001b[0m\u001b[0;34m\u001b[0m\u001b[0m\n\u001b[0m\u001b[1;32m    431\u001b[0m \u001b[0;34m\u001b[0m\u001b[0m\n\u001b[1;32m    432\u001b[0m     \u001b[0;32mdef\u001b[0m \u001b[0mfind_elements_by_css_selector\u001b[0m\u001b[0;34m(\u001b[0m\u001b[0mself\u001b[0m\u001b[0;34m,\u001b[0m \u001b[0mcss_selector\u001b[0m\u001b[0;34m)\u001b[0m\u001b[0;34m:\u001b[0m\u001b[0;34m\u001b[0m\u001b[0m\n",
      "\u001b[0;32m~/Desktop/Chicoxyc/venv/lib/python3.6/site-packages/selenium/webdriver/remote/webelement.py\u001b[0m in \u001b[0;36mfind_element\u001b[0;34m(self, by, value)\u001b[0m\n\u001b[1;32m    652\u001b[0m \u001b[0;34m\u001b[0m\u001b[0m\n\u001b[1;32m    653\u001b[0m         return self._execute(Command.FIND_CHILD_ELEMENT,\n\u001b[0;32m--> 654\u001b[0;31m                              {\"using\": by, \"value\": value})['value']\n\u001b[0m\u001b[1;32m    655\u001b[0m \u001b[0;34m\u001b[0m\u001b[0m\n\u001b[1;32m    656\u001b[0m     \u001b[0;32mdef\u001b[0m \u001b[0mfind_elements\u001b[0m\u001b[0;34m(\u001b[0m\u001b[0mself\u001b[0m\u001b[0;34m,\u001b[0m \u001b[0mby\u001b[0m\u001b[0;34m=\u001b[0m\u001b[0mBy\u001b[0m\u001b[0;34m.\u001b[0m\u001b[0mID\u001b[0m\u001b[0;34m,\u001b[0m \u001b[0mvalue\u001b[0m\u001b[0;34m=\u001b[0m\u001b[0;32mNone\u001b[0m\u001b[0;34m)\u001b[0m\u001b[0;34m:\u001b[0m\u001b[0;34m\u001b[0m\u001b[0m\n",
      "\u001b[0;32m~/Desktop/Chicoxyc/venv/lib/python3.6/site-packages/selenium/webdriver/remote/webelement.py\u001b[0m in \u001b[0;36m_execute\u001b[0;34m(self, command, params)\u001b[0m\n\u001b[1;32m    626\u001b[0m             \u001b[0mparams\u001b[0m \u001b[0;34m=\u001b[0m \u001b[0;34m{\u001b[0m\u001b[0;34m}\u001b[0m\u001b[0;34m\u001b[0m\u001b[0m\n\u001b[1;32m    627\u001b[0m         \u001b[0mparams\u001b[0m\u001b[0;34m[\u001b[0m\u001b[0;34m'id'\u001b[0m\u001b[0;34m]\u001b[0m \u001b[0;34m=\u001b[0m \u001b[0mself\u001b[0m\u001b[0;34m.\u001b[0m\u001b[0m_id\u001b[0m\u001b[0;34m\u001b[0m\u001b[0m\n\u001b[0;32m--> 628\u001b[0;31m         \u001b[0;32mreturn\u001b[0m \u001b[0mself\u001b[0m\u001b[0;34m.\u001b[0m\u001b[0m_parent\u001b[0m\u001b[0;34m.\u001b[0m\u001b[0mexecute\u001b[0m\u001b[0;34m(\u001b[0m\u001b[0mcommand\u001b[0m\u001b[0;34m,\u001b[0m \u001b[0mparams\u001b[0m\u001b[0;34m)\u001b[0m\u001b[0;34m\u001b[0m\u001b[0m\n\u001b[0m\u001b[1;32m    629\u001b[0m \u001b[0;34m\u001b[0m\u001b[0m\n\u001b[1;32m    630\u001b[0m     \u001b[0;32mdef\u001b[0m \u001b[0mfind_element\u001b[0m\u001b[0;34m(\u001b[0m\u001b[0mself\u001b[0m\u001b[0;34m,\u001b[0m \u001b[0mby\u001b[0m\u001b[0;34m=\u001b[0m\u001b[0mBy\u001b[0m\u001b[0;34m.\u001b[0m\u001b[0mID\u001b[0m\u001b[0;34m,\u001b[0m \u001b[0mvalue\u001b[0m\u001b[0;34m=\u001b[0m\u001b[0;32mNone\u001b[0m\u001b[0;34m)\u001b[0m\u001b[0;34m:\u001b[0m\u001b[0;34m\u001b[0m\u001b[0m\n",
      "\u001b[0;32m~/Desktop/Chicoxyc/venv/lib/python3.6/site-packages/selenium/webdriver/remote/webdriver.py\u001b[0m in \u001b[0;36mexecute\u001b[0;34m(self, driver_command, params)\u001b[0m\n\u001b[1;32m    318\u001b[0m         \u001b[0mresponse\u001b[0m \u001b[0;34m=\u001b[0m \u001b[0mself\u001b[0m\u001b[0;34m.\u001b[0m\u001b[0mcommand_executor\u001b[0m\u001b[0;34m.\u001b[0m\u001b[0mexecute\u001b[0m\u001b[0;34m(\u001b[0m\u001b[0mdriver_command\u001b[0m\u001b[0;34m,\u001b[0m \u001b[0mparams\u001b[0m\u001b[0;34m)\u001b[0m\u001b[0;34m\u001b[0m\u001b[0m\n\u001b[1;32m    319\u001b[0m         \u001b[0;32mif\u001b[0m \u001b[0mresponse\u001b[0m\u001b[0;34m:\u001b[0m\u001b[0;34m\u001b[0m\u001b[0m\n\u001b[0;32m--> 320\u001b[0;31m             \u001b[0mself\u001b[0m\u001b[0;34m.\u001b[0m\u001b[0merror_handler\u001b[0m\u001b[0;34m.\u001b[0m\u001b[0mcheck_response\u001b[0m\u001b[0;34m(\u001b[0m\u001b[0mresponse\u001b[0m\u001b[0;34m)\u001b[0m\u001b[0;34m\u001b[0m\u001b[0m\n\u001b[0m\u001b[1;32m    321\u001b[0m             response['value'] = self._unwrap_value(\n\u001b[1;32m    322\u001b[0m                 response.get('value', None))\n",
      "\u001b[0;32m~/Desktop/Chicoxyc/venv/lib/python3.6/site-packages/selenium/webdriver/remote/errorhandler.py\u001b[0m in \u001b[0;36mcheck_response\u001b[0;34m(self, response)\u001b[0m\n\u001b[1;32m    240\u001b[0m                 \u001b[0malert_text\u001b[0m \u001b[0;34m=\u001b[0m \u001b[0mvalue\u001b[0m\u001b[0;34m[\u001b[0m\u001b[0;34m'alert'\u001b[0m\u001b[0;34m]\u001b[0m\u001b[0;34m.\u001b[0m\u001b[0mget\u001b[0m\u001b[0;34m(\u001b[0m\u001b[0;34m'text'\u001b[0m\u001b[0;34m)\u001b[0m\u001b[0;34m\u001b[0m\u001b[0m\n\u001b[1;32m    241\u001b[0m             \u001b[0;32mraise\u001b[0m \u001b[0mexception_class\u001b[0m\u001b[0;34m(\u001b[0m\u001b[0mmessage\u001b[0m\u001b[0;34m,\u001b[0m \u001b[0mscreen\u001b[0m\u001b[0;34m,\u001b[0m \u001b[0mstacktrace\u001b[0m\u001b[0;34m,\u001b[0m \u001b[0malert_text\u001b[0m\u001b[0;34m)\u001b[0m\u001b[0;34m\u001b[0m\u001b[0m\n\u001b[0;32m--> 242\u001b[0;31m         \u001b[0;32mraise\u001b[0m \u001b[0mexception_class\u001b[0m\u001b[0;34m(\u001b[0m\u001b[0mmessage\u001b[0m\u001b[0;34m,\u001b[0m \u001b[0mscreen\u001b[0m\u001b[0;34m,\u001b[0m \u001b[0mstacktrace\u001b[0m\u001b[0;34m)\u001b[0m\u001b[0;34m\u001b[0m\u001b[0m\n\u001b[0m\u001b[1;32m    243\u001b[0m \u001b[0;34m\u001b[0m\u001b[0m\n\u001b[1;32m    244\u001b[0m     \u001b[0;32mdef\u001b[0m \u001b[0m_value_or_default\u001b[0m\u001b[0;34m(\u001b[0m\u001b[0mself\u001b[0m\u001b[0;34m,\u001b[0m \u001b[0mobj\u001b[0m\u001b[0;34m,\u001b[0m \u001b[0mkey\u001b[0m\u001b[0;34m,\u001b[0m \u001b[0mdefault\u001b[0m\u001b[0;34m)\u001b[0m\u001b[0;34m:\u001b[0m\u001b[0;34m\u001b[0m\u001b[0m\n",
      "\u001b[0;31mNoSuchElementException\u001b[0m: Message: no such element: Unable to locate element: {\"method\":\"css selector\",\"selector\":\".sr_item sr_item_new sr_item_default sr_property_block  sr_flex_layout                 \"}\n  (Session info: chrome=70.0.3538.77)\n  (Driver info: chromedriver=2.41.578706 (5f725d1b4f0a4acbf5259df887244095596231db),platform=Mac OS X 10.14.0 x86_64)\n"
     ]
    }
   ],
   "source": [
    "a.find_element_by_css_selector('.sr_item sr_item_new sr_item_default sr_property_block  sr_flex_layout                 ')"
   ]
  },
  {
   "cell_type": "code",
   "execution_count": 4,
   "metadata": {},
   "outputs": [
    {
     "data": {
      "text/plain": [
       "[<selenium.webdriver.remote.webelement.WebElement (session=\"5668cea7612c9ece724d2da5e3ef9bd1\", element=\"0.7721484563450738-2\")>,\n",
       " <selenium.webdriver.remote.webelement.WebElement (session=\"5668cea7612c9ece724d2da5e3ef9bd1\", element=\"0.7721484563450738-3\")>,\n",
       " <selenium.webdriver.remote.webelement.WebElement (session=\"5668cea7612c9ece724d2da5e3ef9bd1\", element=\"0.7721484563450738-4\")>,\n",
       " <selenium.webdriver.remote.webelement.WebElement (session=\"5668cea7612c9ece724d2da5e3ef9bd1\", element=\"0.7721484563450738-5\")>,\n",
       " <selenium.webdriver.remote.webelement.WebElement (session=\"5668cea7612c9ece724d2da5e3ef9bd1\", element=\"0.7721484563450738-6\")>,\n",
       " <selenium.webdriver.remote.webelement.WebElement (session=\"5668cea7612c9ece724d2da5e3ef9bd1\", element=\"0.7721484563450738-7\")>,\n",
       " <selenium.webdriver.remote.webelement.WebElement (session=\"5668cea7612c9ece724d2da5e3ef9bd1\", element=\"0.7721484563450738-8\")>,\n",
       " <selenium.webdriver.remote.webelement.WebElement (session=\"5668cea7612c9ece724d2da5e3ef9bd1\", element=\"0.7721484563450738-9\")>,\n",
       " <selenium.webdriver.remote.webelement.WebElement (session=\"5668cea7612c9ece724d2da5e3ef9bd1\", element=\"0.7721484563450738-10\")>,\n",
       " <selenium.webdriver.remote.webelement.WebElement (session=\"5668cea7612c9ece724d2da5e3ef9bd1\", element=\"0.7721484563450738-11\")>,\n",
       " <selenium.webdriver.remote.webelement.WebElement (session=\"5668cea7612c9ece724d2da5e3ef9bd1\", element=\"0.7721484563450738-12\")>,\n",
       " <selenium.webdriver.remote.webelement.WebElement (session=\"5668cea7612c9ece724d2da5e3ef9bd1\", element=\"0.7721484563450738-13\")>,\n",
       " <selenium.webdriver.remote.webelement.WebElement (session=\"5668cea7612c9ece724d2da5e3ef9bd1\", element=\"0.7721484563450738-14\")>,\n",
       " <selenium.webdriver.remote.webelement.WebElement (session=\"5668cea7612c9ece724d2da5e3ef9bd1\", element=\"0.7721484563450738-15\")>,\n",
       " <selenium.webdriver.remote.webelement.WebElement (session=\"5668cea7612c9ece724d2da5e3ef9bd1\", element=\"0.7721484563450738-16\")>]"
      ]
     },
     "execution_count": 4,
     "metadata": {},
     "output_type": "execute_result"
    }
   ],
   "source": [
    "a.find_elements_by_xpath(\"./div[@class='sr_item sr_item_new sr_item_default sr_property_block  sr_flex_layout                 ']\")"
   ]
  },
  {
   "cell_type": "code",
   "execution_count": 5,
   "metadata": {},
   "outputs": [
    {
     "data": {
      "text/plain": [
       "[<selenium.webdriver.remote.webelement.WebElement (session=\"5668cea7612c9ece724d2da5e3ef9bd1\", element=\"0.7721484563450738-2\")>,\n",
       " <selenium.webdriver.remote.webelement.WebElement (session=\"5668cea7612c9ece724d2da5e3ef9bd1\", element=\"0.7721484563450738-3\")>,\n",
       " <selenium.webdriver.remote.webelement.WebElement (session=\"5668cea7612c9ece724d2da5e3ef9bd1\", element=\"0.7721484563450738-17\")>,\n",
       " <selenium.webdriver.remote.webelement.WebElement (session=\"5668cea7612c9ece724d2da5e3ef9bd1\", element=\"0.7721484563450738-4\")>,\n",
       " <selenium.webdriver.remote.webelement.WebElement (session=\"5668cea7612c9ece724d2da5e3ef9bd1\", element=\"0.7721484563450738-5\")>,\n",
       " <selenium.webdriver.remote.webelement.WebElement (session=\"5668cea7612c9ece724d2da5e3ef9bd1\", element=\"0.7721484563450738-6\")>,\n",
       " <selenium.webdriver.remote.webelement.WebElement (session=\"5668cea7612c9ece724d2da5e3ef9bd1\", element=\"0.7721484563450738-7\")>,\n",
       " <selenium.webdriver.remote.webelement.WebElement (session=\"5668cea7612c9ece724d2da5e3ef9bd1\", element=\"0.7721484563450738-8\")>,\n",
       " <selenium.webdriver.remote.webelement.WebElement (session=\"5668cea7612c9ece724d2da5e3ef9bd1\", element=\"0.7721484563450738-9\")>,\n",
       " <selenium.webdriver.remote.webelement.WebElement (session=\"5668cea7612c9ece724d2da5e3ef9bd1\", element=\"0.7721484563450738-10\")>,\n",
       " <selenium.webdriver.remote.webelement.WebElement (session=\"5668cea7612c9ece724d2da5e3ef9bd1\", element=\"0.7721484563450738-11\")>,\n",
       " <selenium.webdriver.remote.webelement.WebElement (session=\"5668cea7612c9ece724d2da5e3ef9bd1\", element=\"0.7721484563450738-12\")>,\n",
       " <selenium.webdriver.remote.webelement.WebElement (session=\"5668cea7612c9ece724d2da5e3ef9bd1\", element=\"0.7721484563450738-13\")>,\n",
       " <selenium.webdriver.remote.webelement.WebElement (session=\"5668cea7612c9ece724d2da5e3ef9bd1\", element=\"0.7721484563450738-14\")>,\n",
       " <selenium.webdriver.remote.webelement.WebElement (session=\"5668cea7612c9ece724d2da5e3ef9bd1\", element=\"0.7721484563450738-15\")>,\n",
       " <selenium.webdriver.remote.webelement.WebElement (session=\"5668cea7612c9ece724d2da5e3ef9bd1\", element=\"0.7721484563450738-16\")>]"
      ]
     },
     "execution_count": 5,
     "metadata": {},
     "output_type": "execute_result"
    }
   ],
   "source": [
    "a.find_elements_by_css_selector('.sr_flex_layout.sr_item')"
   ]
  },
  {
   "cell_type": "markdown",
   "metadata": {},
   "source": [
    "--------\n",
    "\n",
    "Following are the new input cells\n",
    "\n",
    "---------"
   ]
  },
  {
   "cell_type": "code",
   "execution_count": 6,
   "metadata": {},
   "outputs": [
    {
     "data": {
      "text/plain": [
       "<selenium.webdriver.remote.webelement.WebElement (session=\"5668cea7612c9ece724d2da5e3ef9bd1\", element=\"0.7721484563450738-2\")>"
      ]
     },
     "execution_count": 6,
     "metadata": {},
     "output_type": "execute_result"
    }
   ],
   "source": [
    "a.find_element_by_css_selector('.sr_item.sr_item_new.sr_item_default.sr_property_block.sr_flex_layout')"
   ]
  },
  {
   "cell_type": "code",
   "execution_count": 8,
   "metadata": {},
   "outputs": [],
   "source": [
    "hotels = a.find_elements_by_css_selector('.sr_item.sr_item_new.sr_item_default.sr_property_block.sr_flex_layout')"
   ]
  },
  {
   "cell_type": "code",
   "execution_count": 9,
   "metadata": {},
   "outputs": [
    {
     "data": {
      "text/plain": [
       "[<selenium.webdriver.remote.webelement.WebElement (session=\"5668cea7612c9ece724d2da5e3ef9bd1\", element=\"0.7721484563450738-2\")>,\n",
       " <selenium.webdriver.remote.webelement.WebElement (session=\"5668cea7612c9ece724d2da5e3ef9bd1\", element=\"0.7721484563450738-3\")>,\n",
       " <selenium.webdriver.remote.webelement.WebElement (session=\"5668cea7612c9ece724d2da5e3ef9bd1\", element=\"0.7721484563450738-17\")>,\n",
       " <selenium.webdriver.remote.webelement.WebElement (session=\"5668cea7612c9ece724d2da5e3ef9bd1\", element=\"0.7721484563450738-4\")>,\n",
       " <selenium.webdriver.remote.webelement.WebElement (session=\"5668cea7612c9ece724d2da5e3ef9bd1\", element=\"0.7721484563450738-5\")>,\n",
       " <selenium.webdriver.remote.webelement.WebElement (session=\"5668cea7612c9ece724d2da5e3ef9bd1\", element=\"0.7721484563450738-6\")>,\n",
       " <selenium.webdriver.remote.webelement.WebElement (session=\"5668cea7612c9ece724d2da5e3ef9bd1\", element=\"0.7721484563450738-7\")>,\n",
       " <selenium.webdriver.remote.webelement.WebElement (session=\"5668cea7612c9ece724d2da5e3ef9bd1\", element=\"0.7721484563450738-8\")>,\n",
       " <selenium.webdriver.remote.webelement.WebElement (session=\"5668cea7612c9ece724d2da5e3ef9bd1\", element=\"0.7721484563450738-9\")>,\n",
       " <selenium.webdriver.remote.webelement.WebElement (session=\"5668cea7612c9ece724d2da5e3ef9bd1\", element=\"0.7721484563450738-10\")>,\n",
       " <selenium.webdriver.remote.webelement.WebElement (session=\"5668cea7612c9ece724d2da5e3ef9bd1\", element=\"0.7721484563450738-11\")>,\n",
       " <selenium.webdriver.remote.webelement.WebElement (session=\"5668cea7612c9ece724d2da5e3ef9bd1\", element=\"0.7721484563450738-12\")>,\n",
       " <selenium.webdriver.remote.webelement.WebElement (session=\"5668cea7612c9ece724d2da5e3ef9bd1\", element=\"0.7721484563450738-13\")>,\n",
       " <selenium.webdriver.remote.webelement.WebElement (session=\"5668cea7612c9ece724d2da5e3ef9bd1\", element=\"0.7721484563450738-14\")>,\n",
       " <selenium.webdriver.remote.webelement.WebElement (session=\"5668cea7612c9ece724d2da5e3ef9bd1\", element=\"0.7721484563450738-15\")>,\n",
       " <selenium.webdriver.remote.webelement.WebElement (session=\"5668cea7612c9ece724d2da5e3ef9bd1\", element=\"0.7721484563450738-16\")>]"
      ]
     },
     "execution_count": 9,
     "metadata": {},
     "output_type": "execute_result"
    }
   ],
   "source": [
    "hotels"
   ]
  },
  {
   "cell_type": "code",
   "execution_count": 11,
   "metadata": {},
   "outputs": [],
   "source": [
    "h = hotels[0]"
   ]
  },
  {
   "cell_type": "code",
   "execution_count": 13,
   "metadata": {},
   "outputs": [
    {
     "data": {
      "text/plain": [
       "'在新窗口中打开\\nPicnic Hostel Osaka（大阪野餐旅舍）\\n在新窗口中打开\\n1星级\\n这家住宿参与了我们的主推住宿项目。主推住宿提供优质的服务和较高的性价比，为客人创造良好的体验。该住宿可能向Booking.com支付的佣金比例稍高。\\n大阪【南部地区】 – 显示在地图上 (离中心地区3.9 km)\\n人气 4位客人正在浏览\\n热卖 超抢手！ 过去的24小时内已有10人预订\\n9.2\\n好极了\\n811条住客点评\\n在新窗口中打开\\n性价比 9.2\\n在新窗口中打开\\n住客至爱\\n96%住客点评显示该住宿满足甚至超出期望值\\n双床间\\n最多人数: 2\\n超抢手 - 仅剩2间空房！\\n预订无忧：计划有变可取消，锁定好价趁现在！\\nHK$ 519\\n免费取消\\n无需预付\\n查看我们最后几间空房\\n在新窗口中打开'"
      ]
     },
     "execution_count": 13,
     "metadata": {},
     "output_type": "execute_result"
    }
   ],
   "source": [
    "h.text"
   ]
  },
  {
   "cell_type": "code",
   "execution_count": 16,
   "metadata": {},
   "outputs": [
    {
     "data": {
      "text/plain": [
       "'Picnic Hostel Osaka（大阪野餐旅舍）'"
      ]
     },
     "execution_count": 16,
     "metadata": {},
     "output_type": "execute_result"
    }
   ],
   "source": [
    "h.find_element_by_css_selector('.sr-hotel__name').text"
   ]
  },
  {
   "cell_type": "code",
   "execution_count": 17,
   "metadata": {},
   "outputs": [
    {
     "data": {
      "text/plain": [
       "'HK$ 519'"
      ]
     },
     "execution_count": 17,
     "metadata": {},
     "output_type": "execute_result"
    }
   ],
   "source": [
    "h.find_element_by_css_selector('.price.availprice.no_rack_rate').text"
   ]
  },
  {
   "cell_type": "code",
   "execution_count": 18,
   "metadata": {},
   "outputs": [
    {
     "data": {
      "text/plain": [
       "'9.2'"
      ]
     },
     "execution_count": 18,
     "metadata": {},
     "output_type": "execute_result"
    }
   ],
   "source": [
    "h.find_element_by_css_selector('div.bui-review-score__badge').text"
   ]
  },
  {
   "cell_type": "code",
   "execution_count": null,
   "metadata": {},
   "outputs": [],
   "source": []
  }
 ],
 "metadata": {
  "kernelspec": {
   "display_name": "Python 3",
   "language": "python",
   "name": "python3"
  },
  "language_info": {
   "codemirror_mode": {
    "name": "ipython",
    "version": 3
   },
   "file_extension": ".py",
   "mimetype": "text/x-python",
   "name": "python",
   "nbconvert_exporter": "python",
   "pygments_lexer": "ipython3",
   "version": "3.6.4"
  }
 },
 "nbformat": 4,
 "nbformat_minor": 2
}
