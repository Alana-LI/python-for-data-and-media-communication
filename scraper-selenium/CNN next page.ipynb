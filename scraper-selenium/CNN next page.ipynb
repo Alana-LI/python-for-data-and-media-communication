{
 "cells": [
  {
   "cell_type": "markdown",
   "metadata": {},
   "source": [
    "Key take-aways:\n",
    "\n",
    "- CSS Selector needs to be precise some time. Being too broad may risk matching something else:\n",
    "- In the case of CNN, `.iefix a` matches too many links. Scrolling works because those elements are overlaying each other. Scrolling to anyone works. Clicking does not work because the `select_element_x` methods returned a \"random\" one which is not the right button.\n",
    "- The best practice is to use `select_elements_x` method (notice **s**) first to verify if the matching is precise. If it is, use the non-\"s\" version to find the element. If it is not, check if the elements come in specific order. If so, one can use list navigation to locate the precise one."
   ]
  },
  {
   "cell_type": "code",
   "execution_count": 1,
   "metadata": {},
   "outputs": [],
   "source": [
    "from selenium import webdriver\n",
    "import time\n",
    "browser = webdriver.Chrome()\n",
    "url = 'https://money.cnn.com/search/index.html?sortBy=date&primaryType=mixed&search=Search&query=trade%20war'\n",
    "browser.get(url)"
   ]
  },
  {
   "cell_type": "markdown",
   "metadata": {},
   "source": [
    "Following cell can be executed repeatedly to change page."
   ]
  },
  {
   "cell_type": "code",
   "execution_count": 7,
   "metadata": {},
   "outputs": [
    {
     "name": "stdout",
     "output_type": "stream",
     "text": [
      "{'x': 698, 'y': 1449}\n"
     ]
    }
   ],
   "source": [
    "next_button = browser.find_element_by_css_selector('#mixedpagination ul.pagingLinks li.ends.next span a')\n",
    "# Following line matches too many elements, most of which are not our targets.\n",
    "# next_button = browser.find_element_by_css_selector('.iefix a')\n",
    "print(next_button.location)\n",
    "loc = next_button.location\n",
    "browser.execute_script(\"window.scrollTo({x}, {y});\".format(**loc))\n",
    "next_button.click()"
   ]
  },
  {
   "cell_type": "markdown",
   "metadata": {},
   "source": [
    "## validation of CSS selector"
   ]
  },
  {
   "cell_type": "code",
   "execution_count": 8,
   "metadata": {},
   "outputs": [
    {
     "data": {
      "text/plain": [
       "[<selenium.webdriver.remote.webelement.WebElement (session=\"1c7f4904ea6ce4b3323e30545492c602\", element=\"0.0444719901103825-5\")>]"
      ]
     },
     "execution_count": 8,
     "metadata": {},
     "output_type": "execute_result"
    }
   ],
   "source": [
    "browser.find_elements_by_css_selector('#mixedpagination ul.pagingLinks li.ends.next span a')"
   ]
  },
  {
   "cell_type": "code",
   "execution_count": 9,
   "metadata": {},
   "outputs": [
    {
     "data": {
      "text/plain": [
       "[<selenium.webdriver.remote.webelement.WebElement (session=\"1c7f4904ea6ce4b3323e30545492c602\", element=\"0.0444719901103825-5\")>,\n",
       " <selenium.webdriver.remote.webelement.WebElement (session=\"1c7f4904ea6ce4b3323e30545492c602\", element=\"0.0444719901103825-6\")>,\n",
       " <selenium.webdriver.remote.webelement.WebElement (session=\"1c7f4904ea6ce4b3323e30545492c602\", element=\"0.0444719901103825-7\")>]"
      ]
     },
     "execution_count": 9,
     "metadata": {},
     "output_type": "execute_result"
    }
   ],
   "source": [
    "browser.find_elements_by_css_selector('li.ends.next span a')"
   ]
  },
  {
   "cell_type": "code",
   "execution_count": 10,
   "metadata": {},
   "outputs": [
    {
     "data": {
      "text/plain": [
       "[<selenium.webdriver.remote.webelement.WebElement (session=\"1c7f4904ea6ce4b3323e30545492c602\", element=\"0.0444719901103825-8\")>,\n",
       " <selenium.webdriver.remote.webelement.WebElement (session=\"1c7f4904ea6ce4b3323e30545492c602\", element=\"0.0444719901103825-9\")>,\n",
       " <selenium.webdriver.remote.webelement.WebElement (session=\"1c7f4904ea6ce4b3323e30545492c602\", element=\"0.0444719901103825-10\")>,\n",
       " <selenium.webdriver.remote.webelement.WebElement (session=\"1c7f4904ea6ce4b3323e30545492c602\", element=\"0.0444719901103825-11\")>,\n",
       " <selenium.webdriver.remote.webelement.WebElement (session=\"1c7f4904ea6ce4b3323e30545492c602\", element=\"0.0444719901103825-12\")>,\n",
       " <selenium.webdriver.remote.webelement.WebElement (session=\"1c7f4904ea6ce4b3323e30545492c602\", element=\"0.0444719901103825-13\")>,\n",
       " <selenium.webdriver.remote.webelement.WebElement (session=\"1c7f4904ea6ce4b3323e30545492c602\", element=\"0.0444719901103825-14\")>,\n",
       " <selenium.webdriver.remote.webelement.WebElement (session=\"1c7f4904ea6ce4b3323e30545492c602\", element=\"0.0444719901103825-15\")>,\n",
       " <selenium.webdriver.remote.webelement.WebElement (session=\"1c7f4904ea6ce4b3323e30545492c602\", element=\"0.0444719901103825-16\")>,\n",
       " <selenium.webdriver.remote.webelement.WebElement (session=\"1c7f4904ea6ce4b3323e30545492c602\", element=\"0.0444719901103825-17\")>,\n",
       " <selenium.webdriver.remote.webelement.WebElement (session=\"1c7f4904ea6ce4b3323e30545492c602\", element=\"0.0444719901103825-18\")>,\n",
       " <selenium.webdriver.remote.webelement.WebElement (session=\"1c7f4904ea6ce4b3323e30545492c602\", element=\"0.0444719901103825-5\")>,\n",
       " <selenium.webdriver.remote.webelement.WebElement (session=\"1c7f4904ea6ce4b3323e30545492c602\", element=\"0.0444719901103825-19\")>,\n",
       " <selenium.webdriver.remote.webelement.WebElement (session=\"1c7f4904ea6ce4b3323e30545492c602\", element=\"0.0444719901103825-20\")>,\n",
       " <selenium.webdriver.remote.webelement.WebElement (session=\"1c7f4904ea6ce4b3323e30545492c602\", element=\"0.0444719901103825-21\")>,\n",
       " <selenium.webdriver.remote.webelement.WebElement (session=\"1c7f4904ea6ce4b3323e30545492c602\", element=\"0.0444719901103825-22\")>,\n",
       " <selenium.webdriver.remote.webelement.WebElement (session=\"1c7f4904ea6ce4b3323e30545492c602\", element=\"0.0444719901103825-23\")>,\n",
       " <selenium.webdriver.remote.webelement.WebElement (session=\"1c7f4904ea6ce4b3323e30545492c602\", element=\"0.0444719901103825-24\")>,\n",
       " <selenium.webdriver.remote.webelement.WebElement (session=\"1c7f4904ea6ce4b3323e30545492c602\", element=\"0.0444719901103825-25\")>,\n",
       " <selenium.webdriver.remote.webelement.WebElement (session=\"1c7f4904ea6ce4b3323e30545492c602\", element=\"0.0444719901103825-26\")>,\n",
       " <selenium.webdriver.remote.webelement.WebElement (session=\"1c7f4904ea6ce4b3323e30545492c602\", element=\"0.0444719901103825-27\")>,\n",
       " <selenium.webdriver.remote.webelement.WebElement (session=\"1c7f4904ea6ce4b3323e30545492c602\", element=\"0.0444719901103825-28\")>,\n",
       " <selenium.webdriver.remote.webelement.WebElement (session=\"1c7f4904ea6ce4b3323e30545492c602\", element=\"0.0444719901103825-29\")>,\n",
       " <selenium.webdriver.remote.webelement.WebElement (session=\"1c7f4904ea6ce4b3323e30545492c602\", element=\"0.0444719901103825-6\")>,\n",
       " <selenium.webdriver.remote.webelement.WebElement (session=\"1c7f4904ea6ce4b3323e30545492c602\", element=\"0.0444719901103825-30\")>,\n",
       " <selenium.webdriver.remote.webelement.WebElement (session=\"1c7f4904ea6ce4b3323e30545492c602\", element=\"0.0444719901103825-31\")>,\n",
       " <selenium.webdriver.remote.webelement.WebElement (session=\"1c7f4904ea6ce4b3323e30545492c602\", element=\"0.0444719901103825-32\")>,\n",
       " <selenium.webdriver.remote.webelement.WebElement (session=\"1c7f4904ea6ce4b3323e30545492c602\", element=\"0.0444719901103825-33\")>,\n",
       " <selenium.webdriver.remote.webelement.WebElement (session=\"1c7f4904ea6ce4b3323e30545492c602\", element=\"0.0444719901103825-34\")>,\n",
       " <selenium.webdriver.remote.webelement.WebElement (session=\"1c7f4904ea6ce4b3323e30545492c602\", element=\"0.0444719901103825-35\")>,\n",
       " <selenium.webdriver.remote.webelement.WebElement (session=\"1c7f4904ea6ce4b3323e30545492c602\", element=\"0.0444719901103825-36\")>,\n",
       " <selenium.webdriver.remote.webelement.WebElement (session=\"1c7f4904ea6ce4b3323e30545492c602\", element=\"0.0444719901103825-37\")>,\n",
       " <selenium.webdriver.remote.webelement.WebElement (session=\"1c7f4904ea6ce4b3323e30545492c602\", element=\"0.0444719901103825-38\")>,\n",
       " <selenium.webdriver.remote.webelement.WebElement (session=\"1c7f4904ea6ce4b3323e30545492c602\", element=\"0.0444719901103825-39\")>,\n",
       " <selenium.webdriver.remote.webelement.WebElement (session=\"1c7f4904ea6ce4b3323e30545492c602\", element=\"0.0444719901103825-40\")>,\n",
       " <selenium.webdriver.remote.webelement.WebElement (session=\"1c7f4904ea6ce4b3323e30545492c602\", element=\"0.0444719901103825-7\")>]"
      ]
     },
     "execution_count": 10,
     "metadata": {},
     "output_type": "execute_result"
    }
   ],
   "source": [
    "browser.find_elements_by_css_selector('.iefix a')"
   ]
  },
  {
   "cell_type": "code",
   "execution_count": 11,
   "metadata": {},
   "outputs": [
    {
     "data": {
      "text/plain": [
       "<selenium.webdriver.remote.webelement.WebElement (session=\"1c7f4904ea6ce4b3323e30545492c602\", element=\"0.0444719901103825-5\")>"
      ]
     },
     "execution_count": 11,
     "metadata": {},
     "output_type": "execute_result"
    }
   ],
   "source": [
    "browser.find_element_by_partial_link_text('Next')"
   ]
  },
  {
   "cell_type": "code",
   "execution_count": null,
   "metadata": {},
   "outputs": [],
   "source": []
  }
 ],
 "metadata": {
  "kernelspec": {
   "display_name": "Python 3",
   "language": "python",
   "name": "python3"
  },
  "language_info": {
   "codemirror_mode": {
    "name": "ipython",
    "version": 3
   },
   "file_extension": ".py",
   "mimetype": "text/x-python",
   "name": "python",
   "nbconvert_exporter": "python",
   "pygments_lexer": "ipython3",
   "version": "3.6.4"
  }
 },
 "nbformat": 4,
 "nbformat_minor": 2
}
